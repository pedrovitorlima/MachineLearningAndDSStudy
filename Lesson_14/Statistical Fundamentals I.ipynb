{
 "cells": [
  {
   "cell_type": "markdown",
   "metadata": {},
   "source": [
    "# Sampling"
   ]
  },
  {
   "cell_type": "markdown",
   "metadata": {
    "colab_type": "text",
    "id": "H7B-hJbN8efL"
   },
   "source": [
    "## Introduction\n"
   ]
  },
  {
   "cell_type": "markdown",
   "metadata": {
    "colab_type": "text",
    "id": "UFfso72l8iVo"
   },
   "source": [
    "In previous lessons, we learned to perform basic data analysis and data visualization. We learned about some fundamental statistical metrics like the mean or the median, and we plotted histograms, bar graphs or line plots.\n",
    "\n",
    "In this step's lessons, we'll build on that knowledge, and we'll learn how to do better data analysis. First, **we'll go much deeper into the theory** behind what we've already learned. Second, we'll learn new and **more powerful statistical techniques** and metrics like **standard deviation, z-scores, confidence intervals, probability estimation, and hypothesis testing** (including A/B testing).\n",
    "\n",
    "In this first lesson, we begin with discussing the details around getting data for analysis, and continue with trying to understand the intricacies around how data is structured and measured. We'll then move on with learning techniques to organize and visualize relatively large amounts of data, which will make the process of finding patterns considerably less difficult.\n",
    "\n",
    "Below is a diagram describing the workflow we'll be focusing on throughout this first lesson.\n",
    "\n",
    "<img width=\"800\" src=\"https://drive.google.com/uc?export=view&id=1gT_1Xs3Ts6A7p3y_wLetQrhOqN0GHmXG\"> \n",
    "\n",
    "**In this first lesson, our focus will be on the details around getting data for analysis.** As usual, we'll work with a real world data set. Before we dive into the technical details and start playing with the data, we begin with getting a sense about what statistics is.\n",
    "\n",
    "At this stage in our learning journey, a one-sentence definition of statistics would probably sound dull and be difficult to grasp. We'll avoid defining statistics that way, and **we'll discuss instead what sort of problems can be solved with statistics**. Understanding what challenges we can overcome using statistics should give us a good sense about what statistics is."
   ]
  },
  {
   "cell_type": "markdown",
   "metadata": {
    "colab_type": "text",
    "id": "YvNVkUHc8rP7"
   },
   "source": [
    "## Solving Problems with Statistics\n",
    "\n",
    "\n",
    "Imagine you're managing a small tech company with 8 employees. At the end of the year, you piece together some data about your employees, with the intention of understanding better the state of your company. The data you collected is straightforward, and you can quickly make a few conclusions just by using a bit of arithmetics and logic.\n",
    "\n",
    "<img width=\"500\" src=\"https://drive.google.com/uc?export=view&id=1I9BNcNBVPXMsT9TFGzsuST2LOHGFkMfA\"> \n",
    "\n",
    "But years have gone by, and your business has grown into a successful company with 231 employees. You still want to get insights from data, but now you have so much of it that analyzing it has become difficult and inconvenient. As you continue to scale your company, analyzing data slowly gears toward becoming an impossible task.\n",
    "\n",
    "\n",
    "<img width=\"500\" src=\"https://drive.google.com/uc?export=view&id=1mN_CeAwRXW9l8z_PPegKsUKHBJAmyiXJ\"> \n",
    "\n",
    "This is an example of a problem we can solve with statistics. Using statistical techniques, we can organize, summarize, and visualize large amounts of data to find patterns that otherwise would remain hidden.\n",
    "\n",
    "<img width=\"600\" src=\"https://drive.google.com/uc?export=view&id=18k6rpBnDQHZd3bQeltcnHv6cxlD2GtdR\"> \n",
    "\n",
    "\n",
    "More years have gone by, and **now you run an international company with over 50000** employees. You've recently made a company-wide change which resulted in making the work of your employees more demanding. **Now you want to determine whether the employees have been impacted negatively in any significant way**. If this is true, then the change may backfire in the long run, and it'd be a good decision to revert the process while it's still possible.\n",
    "\n",
    "You reach out to your data analyst and ask for her opinion. She says that she can do a survey to collect data, and answer your question. Surveying over 50000 employees would be time-consuming and expensive, so you're being told that 100 people or so will be enough to survey to get an answer to your question.\n",
    "\n",
    "One week later, the analysis shows that people generally report they are less satisfied with their work compared to the last year (when the change hadn't been yet implemented). Also, the inability to balance work and personal life is the main reported cause of dissatisfaction. Your analyst also tells you that the decrease in satisfaction is significant, meaning that it's very unlikely to simply have happened by chance. Something must have caused the decrease, and that something is probably the major change you've done recently.\n",
    "\n",
    "This sort of scenario is very common in practice. As a data analyst, you'll often need to use a small set of data to answer questions about a much larger set of data.\n",
    "\n",
    "<img width=\"400\" src=\"https://drive.google.com/uc?export=view&id=1-AIOVwx7TvSvZQ70iCdRtD9RVzKWN1GP\"> \n",
    "\n",
    "We'll learn ourselves throughout the statistics lessons how to use a small set of data to answer questions about a much larger set of data.\n",
    "\n",
    "Now we begin with discussing the details around collecting data, which is what the data analyst in our story did when she surveyed employees."
   ]
  },
  {
   "cell_type": "markdown",
   "metadata": {
    "colab_type": "text",
    "id": "o5LNC9URAKpt"
   },
   "source": [
    "## Populations and Samples\n",
    "\n"
   ]
  },
  {
   "cell_type": "markdown",
   "metadata": {
    "colab_type": "text",
    "id": "SYr0ASwBDHJk"
   },
   "source": [
    "The data analyst in our previous example tried to answer whether people in the company are less satisfied at work compared to the previous year. Her question was about all the people inside the company. Yet she only selected a small group to answer the question.\n",
    "\n",
    "In statistics, the set of all individuals relevant to a particular statistical question is called a **population.** For our analyst's question, all the people inside the company were relevant. So the population in this case consisted from all the people in the company.\n",
    "\n",
    "A smaller group selected from a population is called a **sample**. When we select a smaller group from a population we do **sampling**. In our example, the data analyst took a sample of approximately 100 people from a population of over 50000 people.\n",
    "\n",
    "<img width=\"400\" src=\"https://drive.google.com/uc?export=view&id=1e-KaAL-hlxSW1l2kWq5NNSiJ6AtrfE2E\"> \n",
    "\n",
    "Whether a set of data is a sample or a population depends on the question we're trying to answer. For our analyst's question, the population consisted of all the company members. But if we change the question, the same group of individuals can become a sample.\n",
    "\n",
    "For instance, if we tried to find out whether people at international companies are satisfied at work, then our group formed by over 50000 employees would become a sample. There are a lot of international companies out there, and ours is just one of them. The population (the set of all individuals relevant to this question) is made up of all the people working in all the international companies.\n",
    "\n",
    "<img width=\"400\" src=\"https://drive.google.com/uc?export=view&id=1Su93y1eQdbhighuUNtTlFw3dLsZ0cOKK\"> \n",
    "\n",
    "\n",
    "Populations do not necessarily consist of people. Behavioral scientists, for instance, often try to answer questions about populations of monkeys, rats or other lab animals. In a similar way, other people try to answer questions about countries, companies, vegetables, soils, pieces of equipment produced in a factory, etc.\n",
    "\n",
    "The individual elements of a population or a sample go under many names. You'll often see the elements of a population referred to as individuals, units, events, observations. These are all used interchangeably and refer to the same thing: the individual parts of a population. When we use the term \"population individuals\", the population is not necessarily composed of people. \"Individuals\" here is a general term that could refer to people, needles, frogs, stars, etc.\n",
    "\n",
    "In the case of a sample, you'll often see this terminology used interchangeably: sample unit, sample point, sample individual, or sample observation.\n",
    "\n",
    "\n",
    "<img width=\"400\" src=\"https://drive.google.com/uc?export=view&id=1SA18SfF65UNwMfrsBjboMkh92OgJ9uSw\"> \n",
    "\n",
    "**Exercise**\n",
    "\n",
    "<left><img width=\"100\" src=\"https://drive.google.com/uc?export=view&id=1E8tR7B9YYUXsU_rddJAyq0FrM0MSelxZ\"></left>\n",
    "\n",
    "\n",
    "- Now it's our turn to play the data analyst. **We collected data about the salary of all the individuals in the company working in IT roles**. Based on this data, we want to answer a series of questions. Depending on the question, our data is either a sample or a population. Identify which is the case, and assign to the corresponding variable the string **'population'** or **'sample'**. Here are the questions we need to answer:\n",
    "\n",
    "  - What's the average salary of the individuals in our company working in IT roles? (Assign either **'population'** or **'sample'** to the variable **question1**.)\n",
    "  - What's the proportion of individuals in the IT department having salaries under 60000 (Assign either **'population'** or **'sample'** to the variable **question2.**)\n",
    "  - What's the minimum salary in the entire company? (Assign either **'population'** or **'sample'** to the variable **question3.**)\n",
    "  - What's the minimum salary in the IT department of our company? (Assign either **'population'** or **'sample'** to the variable **question4.**)\n",
    "  - What's the proportion of salaries under 20000 in the entire company? (Assign either **'population'** or **'sample'** to the variable **question5.**)"
   ]
  },
  {
   "cell_type": "code",
   "execution_count": 2,
   "metadata": {
    "colab": {},
    "colab_type": "code",
    "id": "vkDmG3miDeRX"
   },
   "outputs": [],
   "source": [
    "question1 = 'sample'\n",
    "question2 = 'sample'\n",
    "question3 = 'population'\n",
    "question4 = 'sample'\n",
    "question5 = 'population'"
   ]
  },
  {
   "cell_type": "markdown",
   "metadata": {
    "colab_type": "text",
    "id": "QAtKJLhtIJCG"
   },
   "source": [
    "## Sampling Error"
   ]
  },
  {
   "cell_type": "markdown",
   "metadata": {
    "colab_type": "text",
    "id": "HxjyFHDyNuaQ"
   },
   "source": [
    "For every statistical question we want to answer, we should try to use the population. In practice, that's not always possible because the populations of interest usually vary from large to extremely large. Also, getting data is generally not an easy task, so small populations often pose problems too.\n",
    "\n",
    "These problems can be solved by sampling from the population that interests us. Although not as good as working with the entire population, working with a sample is the next best thing we can do.\n",
    "\n",
    "When we sample, the data we get might be more or less similar to the data in the population. For instance, let's say we know that the average salary in our company is 34500 dollars, and the proportion of women is 60%. We take two samples and find these results:\n",
    "\n",
    "<img width=\"500\" src=\"https://drive.google.com/uc?export=view&id=1mQSKBS8sB53KnaM4HYW8Og22HNv5e3El\">\n",
    "\n",
    "\n",
    "As you can see, the metrics of the two samples are different than the metrics of the population. A sample is by definition an incomplete set of data for the question we're trying to answer. For this reason, there's almost always some difference between the metrics of a population and the metrics of a sample. This difference can be seen as an error, and because it's the result of sampling, it's called **sampling error**.\n",
    "\n",
    "A metric specific to a population is called a **parameter**, while one specific to a sample is called a **statistic**. In our example above, the average salary of all the employees is a parameter because it's a metric that describes the entire population. The average salaries from our two samples are examples of statistics because they only describe the samples.\n",
    "\n",
    "Another way to think of the concept of the sampling error is as the difference between a parameter and a statistic:\n",
    "\n",
    "$$\n",
    "\\text{sampling error} = parameters - statistics\n",
    "$$\n",
    "\n",
    "At this point in the lesson, we'll move from the tech company example to working with a real world data set. Our first challenge will be to measure sampling error using this data set.\n",
    "\n",
    "The data set is about basketball players in WNBA (Women's National Basketball Association), and contains general information about players, along with their metrics for the season 2016-2017. The data set was put together by Thomas De Jonghe, and can be downloaded from [Kaggle](https://www.kaggle.com/jinxbe/wnba-player-stats-2017), where you can also find useful documentation for the data set.\n",
    "\n",
    "\n",
    "**Exercise**\n",
    "\n",
    "<left><img width=\"100\" src=\"https://drive.google.com/uc?export=view&id=1E8tR7B9YYUXsU_rddJAyq0FrM0MSelxZ\"></left>\n",
    "\n",
    "- Get familiar with the data set.\n",
    "  - Print the first five rows using **DataFrame.head()** and the last five rows with **DataFrame.tail()**.\n",
    "  - Find the number of rows and columns using **DataFrame.shape**.\n",
    "  - Learn about each column from the [documentation](https://www.kaggle.com/jinxbe/wnba-player-stats-2017). You can also find useful documentation in this [glossary](https://www.basketball-reference.com/about/glossary.html) and on WNBA's [official page](http://www.wnba.com/stats/player-stats/).\n",
    "\n",
    "- Take one measure of the sampling error.\n",
    "  - Use the **Games Played** column to find the **maximum** number of **games played** by a player in the season 2016-2017. The data set contains all the players that had at least one game, so it's a population relative to our question. Find this parameter, and assign the result to a variable named **parameter.**\n",
    "  - Using the **Series.sample()** method, sample randomly 30 players from the population, and assign the result to a variable named **sample.**\n",
    "  - When calling **Series.sample()**, use the the argument **random_state = 1**. This makes your results reproducible and helps us with the answer checking (we'll discuss more about this later).\n",
    "  - Find the maximum number of games using the **sample**, and assign the result to a variable named **statistic**.\n",
    "  - Measure the **sampling error**, and assign the result to a variable named **sampling_error.**\n"
   ]
  },
  {
   "cell_type": "code",
   "execution_count": 3,
   "metadata": {
    "colab": {},
    "colab_type": "code",
    "id": "PLl4FkjHN82d"
   },
   "outputs": [
    {
     "data": {
      "text/plain": [
       "17"
      ]
     },
     "execution_count": 3,
     "metadata": {},
     "output_type": "execute_result"
    }
   ],
   "source": [
    "# put your code here\n",
    "import pandas as pd\n",
    "\n",
    "# see all columns\n",
    "pd.set_option('display.max_columns', 500)\n",
    "\n",
    "# read the dataset\n",
    "wnba = pd.read_csv('wnba.csv')\n",
    "#wnba.head(5)\n",
    "#wnba.tail(5)\n",
    "\n",
    "#wnba.shape\n",
    "\n",
    "parameter = wnba[\"Games Played\"].idxmax()\n",
    "sample = wnba[\"Games Played\"].sample(30, random_state=1)\n",
    "statistic = sample.idxmax()\n",
    "\n",
    "sampling_error = parameter - statistic\n",
    "sampling_error"
   ]
  },
  {
   "cell_type": "markdown",
   "metadata": {
    "colab_type": "text",
    "id": "-T8Ja8OuYroR"
   },
   "source": [
    "## Simple Random Sampling"
   ]
  },
  {
   "cell_type": "markdown",
   "metadata": {
    "colab_type": "text",
    "id": "8mjE3DY8ZSvO"
   },
   "source": [
    "When we sample we want to minimize the sampling error as much as possible. We want our sample to mirror the population as closely as possible.\n",
    "\n",
    "If we sampled to measure the mean height of adults in the US, we'd like our sample statistic (sample mean height) to get as close as possible to the population's parameter (population mean height). For this to happen, we need the individuals in our sample to form a group that is similar in structure with the group forming the population.\n",
    "\n",
    "The US adult population is diverse, made of people of various heights. If we sampled 100 individuals from various basketball teams, then we'd almost certainly get a sample whose structure is significantly different than that of the population. As a consequence, we should expect a large sampling error (a large discrepancy between our sample's statistic (sample mean height) and the population's parameter (population mean height)).\n",
    "\n",
    "In statistical terms, we want our samples to be **representative** of their corresponding populations. If a sample is representative, then the sampling error is low. The more representative a sample is, the smaller the sampling error. The less representative a sample is, the greater the sampling error.\n",
    "\n",
    "<img width=\"400\" src=\"https://drive.google.com/uc?export=view&id=17nu2_nVUaiF-W8uyEas6kjPfVJDXtImL\">\n",
    "\n",
    "\n",
    "To make our samples representative, we can try to give every individual in the population an equal chance to be selected in our samples. We want a very tall individual to have the same chance as being selected as an individual having a medium or short height. To give every individual an equal chance of being picked, we need to sample **randomly.**\n",
    "\n",
    "One way to perform random sampling is to generate random numbers and use them to select a few sample units from the population. In statistics, this sampling method is called **simple random sampling**, and it's often abbreviated as **SRS**.\n",
    "\n",
    "\n",
    "<img width=\"500\" src=\"https://drive.google.com/uc?export=view&id=1HpBZT_9nh8R-A5lRvQ0vif2SSOytZ31X\">\n",
    "\n",
    "\n",
    "In our previous exercise, we used **Series.sample()** to sample. This method performs simple random sampling by generating an array of random numbers, and then using those numbers to select values from a **Series** at the indices corresponding to those random numbers. The method can be also extended for DataFrame [objects](http://pandas.pydata.org/pandas-docs/stable/generated/pandas.DataFrame.sample.html?highlight=sample#pandas.DataFrame.sample), where random rows or columns can be sampled.\n",
    "\n",
    "When we use the **random_state** parameter, like we did in the previous exercise with **Series.sample(30, random_state = 1)**, we make the generation of random numbers predictable. This is because **Series.sample()** uses a [pseudorandom number generator](https://en.wikipedia.org/wiki/Pseudorandom_number_generator) under the hood. A pseudorandom number generator uses an initial value to generate a sequence of numbers that has properties similar to those of a sequence that is truly random. With **random_state** we specify that initial value used by the pseudorandom number generator.\n",
    "\n",
    "If we want to generate a sequence of five numbers using a pseudorandom generator, and begin from an initial value of 1, we'll get the same five numbers no matter how many times we run the code. If we ran **wnba['Games Played'].sample(5, random_state = 1)** we'd get the same sample every time we run the code.\n",
    "\n",
    "Pseudorandom number generators are of great use in scientific research where [reproducible](https://en.wikipedia.org/wiki/Reproducibility) work is necessary. In our case, pseudorandom number generators allow us to work with the same samples as you do in the exercises, which allows in turn for a meaningful answer checking.\n",
    "\n",
    "\n",
    "\n",
    "**Exercise**\n",
    "\n",
    "<left><img width=\"100\" src=\"https://drive.google.com/uc?export=view&id=1E8tR7B9YYUXsU_rddJAyq0FrM0MSelxZ\"></left>\n",
    "\n",
    "Let's visualize the discrepancy between a **parameter** and its corresponding **statistics** in the case of **simple random sampling**.\n",
    "\n",
    "- Using simple random sampling, take **100 samples** from our WNBA dataset, and for each sample measure the average points scored by a player during the 2016-2017 season. For each of the 100 iterations of a for loop:\n",
    "  - Sample 10 values from the **PTS** column.\n",
    "  - Compute the **mean** of this sample made of 10 values from the **PTS** column, and append the result to a list.\n",
    "  - To make your results reproducible, vary the **random_state** parameter of the **sample()** method with values between 0 and 99. For the first iteration of the for loop, **random_state** should equal 0, for the second iteration should equal 1, for the third should equal 2, and so on.\n",
    "- Display the discrepancy between the parameter of interest (the **mean** of the **PTS** column) and the statistics obtained in the previous step.\n",
    "  - Using **plt.scatter()**, display all the 100 sample means using a scatter plot. For the x-axis, use integers from 1 to 100 to designate the sample number. Use the y-axis for the sample means.\n",
    "  - Using **plt.axhline()**, draw a horizontal line that represents the average number of points in the population."
   ]
  },
  {
   "cell_type": "code",
   "execution_count": 17,
   "metadata": {
    "colab": {},
    "colab_type": "code",
    "id": "kdo4-YAfg9bH"
   },
   "outputs": [
    {
     "data": {
      "image/png": "[encoded data removed]",
      "text/plain": [
       "<Figure size 432x288 with 1 Axes>"
      ]
     },
     "metadata": {
      "needs_background": "light"
     },
     "output_type": "display_data"
    }
   ],
   "source": [
    "# put your code here\n",
    "import matplotlib.pyplot as plt\n",
    "\n",
    "means = []\n",
    "for i in range(0,100):\n",
    "    means.append(wnba[\"PTS\"].sample(10, random_state=i).mean())\n",
    "real_mean = wnba[\"PTS\"].mean()\n",
    "\n",
    "plt.scatter(range(0,100), means)\n",
    "plt.axhline(real_mean)\n",
    "plt.show()"
   ]
  },
  {
   "cell_type": "markdown",
   "metadata": {
    "colab_type": "text",
    "id": "FZYVe9G_eygo"
   },
   "source": [
    "## The Importance of Sample Size"
   ]
  },
  {
   "cell_type": "markdown",
   "metadata": {
    "colab_type": "text",
    "id": "2SPlkEXWhHfC"
   },
   "source": [
    "From the scatter plot in the last screen, we can notice that the sample means vary a lot around the population mean. With a minimum sample mean of 115 points, a maximum of 301.4, and a population mean of roughly 201.8, we can tell that the sampling error is quite large for some of the cases.\n",
    "\n",
    "\n",
    "<center><img width=\"400\" src=\"https://drive.google.com/uc?export=view&id=1ocEuzFUJ16saCCA6L8u1ACh3C--8wom6\"></center>\n",
    "\n",
    "\n",
    "Because sample means vary a lot around the population mean, there's a good chance we get a sample that is not representative of the population:\n",
    "\n",
    "<center><img width=\"400\" src=\"https://drive.google.com/uc?export=view&id=1_oaVyrm9xbXqCeDjmDDYykgnMI-YtmtA\"></center>\n",
    "\n",
    "This problem can be solved by increasing the sample size. As we increase the sample size, the sample means vary less around the population mean, and the chances of getting an unrepresentative sample decrease.\n",
    "\n",
    "In our last exercise we took 100 samples, and each had a sample size of 10 units. This is what happens when we repeat the procedure, but increase the size of the samples:\n",
    "\n",
    "\n",
    "<center><img width=\"600\" src=\"https://drive.google.com/uc?export=view&id=16qgq9xJscpVHG2yKBv6bW9m9ELNDGYBg\"></center>\n",
    "\n",
    "\n",
    "We can easily see how sample means tend to vary less and less around the population mean as we increase the sample size. From this observation we can make two conclusions:\n",
    "\n",
    "- **Simple random sampling** is not a reliable sampling method when the sample size is small. Because sample means vary a lot around the population mean, there's a good chance we'll get an unrepresentative sample.\n",
    "- When we do simple random sampling, we should try to get a sample that is as large as possible. A large sample decreases the variability of the sampling process, which in turn decreases the chances that we'll get an unrepresentative sample.\n",
    "\n",
    "<center><img width=\"500\" src=\"https://drive.google.com/uc?export=view&id=1Q9J3hcG_fSsKIxhD8Gs3sZx7BXJ7xq1n\"></center>\n"
   ]
  },
  {
   "cell_type": "markdown",
   "metadata": {
    "colab_type": "text",
    "id": "a5-GVtFzhT5G"
   },
   "source": [
    "## Stratified Sampling\n"
   ]
  },
  {
   "cell_type": "markdown",
   "metadata": {
    "colab_type": "text",
    "id": "8t_lI7pLj_6g"
   },
   "source": [
    "Because simple random sampling is entirely random, it can leave out certain population individuals that are of great interest to some of the questions we may have.\n",
    "\n",
    "For example, players in basketball play in different positions on the court. The metrics of a player (number of points, number of assists, etc.) depend on their position, and we might want to analyze the patterns for each individual position. If we perform simple random sampling, there's a chance that some categories won't be included in our sample. In other words, it's not guaranteed that we'll have a representative sample that has observations for every position we want to analyze.\n",
    "\n",
    "There are five unique positions in our data set:\n",
    "\n",
    "```python\n",
    ">> wnba['Pos'].unique()\n",
    "array(['F', 'G/F', 'G', 'C', 'F/C'], dtype=object)\n",
    "```\n",
    "\n",
    "Let's decipher quickly each abbreviation:\n",
    "\n",
    "| Abbreviation | Full name      |\n",
    "|--------------|----------------|\n",
    "| F            | Forward        |\n",
    "| G            | Guard          |\n",
    "| C            | Center         |\n",
    "| G/F          | Guard/Forward  |\n",
    "| F/C          | Forward/Center |\n",
    "\n",
    "\n",
    "The downside of simple random sampling is that it can leave out individuals playing in a certain position on the field. Visually, and on a smaller scale, this is what could happen:\n",
    "\n",
    "\n",
    "<center><img width=\"500\" src=\"https://drive.google.com/uc?export=view&id=1U4PL7w8sJfk1b-PNcRbBu4bQh8kYNwrZ\"></center>\n",
    "\n",
    "\n",
    "To ensure we end up with a sample that has observations for all the categories of interest, we can change the sampling method. We can organize our data set into different groups, and then do simple random sampling for every group. We can group our data set by player position, and then sample randomly from each group.\n",
    "\n",
    "Visually, and on a smaller scale, we need to do this:\n",
    "\n",
    "<center><img width=\"600\" src=\"https://drive.google.com/uc?export=view&id=1mImCHKEUeoL7AzB8G3rRmCg3gs22RZ00\"></center>\n",
    "\n",
    "\n",
    "This sampling method is called **stratified sampling**, and each stratified group is also known as a **stratum.**\n",
    "\n",
    "\n",
    "**Exercise**\n",
    "\n",
    "<left><img width=\"100\" src=\"https://drive.google.com/uc?export=view&id=1E8tR7B9YYUXsU_rddJAyq0FrM0MSelxZ\"></left>\n",
    "\n",
    "\n",
    "Perform stratified sampling: stratify the data set by player position, and then do simple random sampling on every stratum. At the end, use the sample to find which position has the greatest number of points per game.\n",
    "\n",
    "- Create a new column which describes the **number of points** a player scored **per game** during the season. The number of total points a player scored the entire season is stored in the **PTS** column, and the number of games played in the **Games Played** column. Give the new column name to **Pts_per_game**.\n",
    "- Stratify the **wnba** data set by player position. The **Pos** column describes a player's position on the field. Assign each stratum to a different variable.\n",
    "```python\n",
    "stratum_G = wnba[wnba.Pos == 'G']\n",
    "```\n",
    "- Loop through the strata, and for each stratum:\n",
    "  - Sample 10 observations using simple random sampling (set **random_state = 0**).\n",
    "  - Find the mean points per game using the sample. Use the new column you've created earlier (**Pts_per_game**).\n",
    "  - Find a way to store the mean along with its corresponding position. **You can use a dictionary.**\n",
    "- Find the position that has the greatest number of points per game, and assign its name to a variable named **position_most_points.**\n",
    "  - To find the dictionary key that has the greatest dictionary value, you can use this [technique](https://stackoverflow.com/questions/268272/getting-key-with-maximum-value-in-dictionary#280156)."
   ]
  },
  {
   "cell_type": "code",
   "execution_count": 5,
   "metadata": {
    "colab": {},
    "colab_type": "code",
    "id": "7MGXk55Vm82i"
   },
   "outputs": [
    {
     "data": {
      "text/plain": [
       "'C'"
      ]
     },
     "execution_count": 5,
     "metadata": {},
     "output_type": "execute_result"
    }
   ],
   "source": [
    "import operator\n",
    "# put your code here\n",
    "Pts_per_game = wnba[\"Pts_per_game\"] = wnba[\"PTS\"]/wnba[\"Games Played\"]\n",
    "wnba[\"Pos\"].unique()\n",
    "\n",
    "stratum_F = wnba[wnba.Pos == 'F']\n",
    "stratum_G_F = wnba[wnba.Pos == 'G/F']\n",
    "stratum_G = wnba[wnba.Pos == 'G']\n",
    "stratum_C = wnba[wnba.Pos == 'C']\n",
    "stratum_F_C = wnba[wnba.Pos == 'F/C']\n",
    "\n",
    "stratum_list = [stratum_F, stratum_G_F, stratum_G, stratum_C, stratum_F_C]\n",
    "stratum_mean = {}\n",
    "for stratum_item in stratum_list:\n",
    "    #print(stratum_item[\"Pos\"].tolist()[0])\n",
    "    stratum_mean[stratum_item[\"Pos\"].tolist()[0]] = stratum_item.sample(10, random_state=0)[\"Pts_per_game\"].mean()\n",
    "\n",
    "position_most_points = max(stratum_mean.items(), key=operator.itemgetter(1))[0]\n",
    "position_most_points\n",
    "#plt.scatter(stratum_mean.keys(), stratum_mean.values())"
   ]
  },
  {
   "cell_type": "markdown",
   "metadata": {
    "colab_type": "text",
    "id": "DSkpFfBxnEva"
   },
   "source": [
    "## Proportional Stratified Sampling"
   ]
  },
  {
   "cell_type": "markdown",
   "metadata": {
    "colab_type": "text",
    "id": "3Xlcik59o1ih"
   },
   "source": [
    "Earlier in this lesson we performed simple random sampling 100 times on the original data set, and for each sample we computed the mean number of total points a player scores in a season. The problem is that the number of total points is influenced by the number of games played, which ranges from 2 to 32:\n",
    "\n",
    "```python\n",
    ">> wnba['Games Played'].min()\n",
    "2\n",
    "\n",
    ">> wnba['Games Played'].max()\n",
    "32\n",
    "```\n",
    "\n",
    "Approximately 72.7% of the players had more than 23 games for the 2016-2017 season, which means that the mean of the total points is probably influenced by this category of players who played a lot of games. Let's take a look at the other percentages too:\n",
    "\n",
    "```python\n",
    ">> wnba['Games Played'].value_counts(bins = 3, normalize = True) * 100\n",
    "(22.0, 32.0]     72.727273\n",
    "(12.0, 22.0]     18.181818\n",
    "(1.969, 12.0]     9.090909\n",
    " \n",
    "Name: Games Played, dtype: float64\n",
    " ```\n",
    " \n",
    "As a side note on the output above, (1.969, 12.0], (12.0, 22.0] and (22.0, 32.0] are number intervals. The ( character indicates that the beginning of the interval is not included, and the ] indicates that the endpoint is included. For example, (22.0, 32.0] means that 22.0 isn't included, while 32.0 is, and the interval contains this array of numbers: [23, 24, 25, 26, 27, 28, 29, 30, 31, 32].\n",
    "\n",
    "Getting back to our discussion, when we compute the mean of the total points using the population (the entire data set), the mean will probably be signficantly influenced by those 72.7% players who played more than 23 games. However, when we sample randomly, we can end up with a sample where the proportions are different than in the population.\n",
    "\n",
    "For instance, we might end up with a sample where only 2% of the players played more than 23 games. This will result in a sample mean which underestimates the population mean. Or we could have a sample where more than 95% of the players had 23 games in the 2016-2017 season. This will result in overestimating the population mean. This scenario of under or over estimation is common for small samples.\n",
    "\n",
    "<center><img width=\"400\" src=\"https://drive.google.com/uc?export=view&id=14m8dpqQZ3kbGHeJDWXiIvrl3Rf5xzYr6\"></center>\n",
    "\n",
    "One solution to this problem is to use stratified sampling while being mindful of the proportions in the population. We can stratify our data set by the number of games played, and then sample randomly from each stratum a proportional number of observations.\n",
    "\n",
    "\n",
    "<center><img width=\"600\" src=\"https://drive.google.com/uc?export=view&id=1J8vHUBN1EEEzvoQB_KS6TpUOdIUNG_JZ\"></center>\n",
    "\n",
    "In the diagram above, we can see that from a population of 20 individuals:\n",
    "\n",
    "- 14 individuals played more than 22 games.\n",
    "- 4 individuals played between 13 and 22 games.\n",
    "- 2 individuals played below 13 games.\n",
    "\n",
    "Transforming these figures to percentages, 70% of the individuals played more than 22 games, 20% played between 13 and 22 games, and 10% played below 13 games. Because we sampled proportionally, the same percentages (70%, 20%, 10%) are preserved in the sample (even though the absolute values are different): 70% played more than 22 games, 20% played between 13 and 22 games, and 10% played below 13 games.\n"
   ]
  },
  {
   "cell_type": "code",
   "execution_count": 6,
   "metadata": {
    "colab": {
     "base_uri": "https://localhost:8080/",
     "height": 364
    },
    "colab_type": "code",
    "executionInfo": {
     "elapsed": 1041,
     "status": "ok",
     "timestamp": 1540915588353,
     "user": {
      "displayName": "Ivanovitch Silva",
      "photoUrl": "https://lh4.googleusercontent.com/-baHwkIBEacY/AAAAAAAAAAI/AAAAAAAAFo0/aWRaXNQgy7Q/s64/photo.jpg",
      "userId": "06428777505436195303"
     },
     "user_tz": 180
    },
    "id": "nrwplt0hpOvV",
    "outputId": "1a48c4c0-6f63-4ea7-ff3c-539cca8b9430"
   },
   "outputs": [
    {
     "data": {
      "text/plain": [
       "<matplotlib.lines.Line2D at 0x7f21cf238c50>"
      ]
     },
     "execution_count": 6,
     "metadata": {},
     "output_type": "execute_result"
    },
    {
     "data": {
      "image/png": "[encoded data removed]",
      "text/plain": [
       "<Figure size 432x288 with 1 Axes>"
      ]
     },
     "metadata": {
      "needs_background": "light"
     },
     "output_type": "display_data"
    }
   ],
   "source": [
    "under_12 = wnba[wnba['Games Played'] <= 12]\n",
    "btw_13_22 = wnba[(wnba['Games Played'] > 12) & (wnba['Games Played'] <= 22)]\n",
    "over_23 = wnba[wnba['Games Played'] > 22]\n",
    "\n",
    "proportional_sampling_means = []\n",
    "\n",
    "for i in range(100):\n",
    "    sample_under_12 = under_12['PTS'].sample(1, random_state = i)\n",
    "    sample_btw_13_22 = btw_13_22['PTS'].sample(2, random_state = i)\n",
    "    sample_over_23 = over_23['PTS'].sample(7, random_state = i)\n",
    "    \n",
    "    final_sample = pd.concat([sample_under_12, sample_btw_13_22, sample_over_23])\n",
    "    proportional_sampling_means.append(final_sample.mean())\n",
    "    \n",
    "plt.scatter(range(1,101), proportional_sampling_means)\n",
    "plt.axhline(wnba['PTS'].mean(),color=\"red\")"
   ]
  },
  {
   "cell_type": "markdown",
   "metadata": {
    "colab_type": "text",
    "id": "JGBV1tijpRu2"
   },
   "source": [
    "## Choosing the Right Strata\n",
    "\n"
   ]
  },
  {
   "cell_type": "markdown",
   "metadata": {
    "colab_type": "text",
    "id": "DMtws2JeqZMf"
   },
   "source": [
    "You might not have been very impressed by what we've just got with sampling proportionally. The variability of the sampling was quite large, and many sample means were unrepresentative, being far from the population mean. In fact, this sampling method doesn't seem to perform better than simple random sampling:\n",
    "\n",
    "<center><img width=\"600\" src=\"https://drive.google.com/uc?export=view&id=1uoEz0OppoAB-I7-IK9r4A4SfQizf4UHZ\"></center>\n",
    "\n",
    "The poor performance is caused by a bad choice of strata. We stratified the data by the number of games played, but this isn't a good approach. A player is considered as having played one game even if she only played for one or two minutes. But others play 30 or 40 minutes, and they're still considered as having played one game.\n",
    "\n",
    "It makes more sense to stratify the data by number of minutes played, rather than by number of games played. The minutes played are a much better indicator of how much a player scored in a season than the number of games played.\n",
    "\n",
    "Our data set contains the total amount of minutes a player had for the entire season. If we make strata based on minutes played, and then sample proportionally using stratified sampling, we get something visibly better than simple random sampling (especially in terms of variability):\n",
    "\n",
    "<center><img width=\"800\" src=\"https://drive.google.com/uc?export=view&id=1dBdLH2qGGGdu4mph-2GzCVfuBoizO_Tq\"></center>\n",
    "\n",
    "\n",
    "We increased the sample size to 12 so that we can do a better proportional sampling for the strata organized by minutes played.\n",
    "\n",
    "Here are a few guidelines for choosing good strata:\n",
    "\n",
    "**1. Minimize the variability within each stratum.**\n",
    "\n",
    "For instance, avoid having in the same stratum a player that has scored 10 points and a player that has scored 500. If the variability is high, it might be a sign that you either need a more granular stratification (need more strata), or you need to change the criterion of stratification (an example of criterion is minutes played).\n",
    "\n",
    "**2. Maximize the variability between strata.**\n",
    "\n",
    "Good strata are different from one another. If you have strata that are similar to one another with respect to what you want to measure, you might need a more granular stratification, or to change the stratification criterion. In the previous screen, stratifying the data by games played resulted in strata that weren't too different from each other with respect to the distribution of the total points. We managed to increase the variability between strata by changing the criterion of stratification to minutes played.\n",
    "\n",
    "**3. The stratification criterion should be strongly correlated with the property you're trying to measure.**\n",
    "\n",
    "For instance, the column describing minutes played (the criterion) should be strongly correlated with the number of total points (property we want to measure). We've covered briefly the concept of correlation in the pandas lessons, and we'll cover it again later in these statistics lessons, so don't worry if the concept of correlation doesn't make much sense to you now.\n",
    "\n",
    "We've left the code editor open for you to try to experiment with the different sampling methods we've learned so far. One thing you can try is to replicate the last graph above. You can then play with sample sizes, and try to get insights into how variability and sampling error change."
   ]
  },
  {
   "cell_type": "code",
   "execution_count": 7,
   "metadata": {
    "colab": {
     "base_uri": "https://localhost:8080/",
     "height": 85
    },
    "colab_type": "code",
    "executionInfo": {
     "elapsed": 610,
     "status": "ok",
     "timestamp": 1540782374313,
     "user": {
      "displayName": "Ivanovitch Silva",
      "photoUrl": "https://lh4.googleusercontent.com/-baHwkIBEacY/AAAAAAAAAAI/AAAAAAAAFo0/aWRaXNQgy7Q/s64/photo.jpg",
      "userId": "06428777505436195303"
     },
     "user_tz": 180
    },
    "id": "SK0f8teoxLIu",
    "outputId": "73032327-7d98-417e-8866-c64d2fab2ff2"
   },
   "outputs": [
    {
     "data": {
      "text/plain": [
       "(347.333, 682.667]    0.349650\n",
       "(10.993, 347.333]     0.335664\n",
       "(682.667, 1018.0]     0.314685\n",
       "Name: MIN, dtype: float64"
      ]
     },
     "execution_count": 7,
     "metadata": {},
     "output_type": "execute_result"
    }
   ],
   "source": [
    "wnba['MIN'].value_counts(bins = 3, normalize = True)"
   ]
  },
  {
   "cell_type": "markdown",
   "metadata": {
    "colab_type": "text",
    "id": "J9c_GCA3yTrQ"
   },
   "source": [
    "## Cluster Sampling"
   ]
  },
  {
   "cell_type": "markdown",
   "metadata": {
    "colab_type": "text",
    "id": "TgIYF03qyp-R"
   },
   "source": [
    "The data set we've been working with was scraped from the [WNBA's website](http://www.wnba.com/stats/player-stats/#?Season=2017&SeasonType=Regular%20Season&PerMode=Totals). The website centralizes data on basketball games and players in WNBA. Let's suppose for a moment that there weren't such a site, and the data would be scattered instead across each individual team's website. There are twelve unique teams in our data set, which means we'd have to scrape twelve different websites, each requiring its own scraping script.\n",
    "\n",
    "This scenario is quite common in the data science workflow: you want to answer some questions about a population, but the data is scattered in such a way that data collection is either time-consuming, either close to impossible. For instance, let's say you want to analyze how people review and rate movies as a function of movie budget. There are a lot of websites out there that can help with data collection, but how can you go about so that you can spend one day or two on getting the data you need, rather than one month or two?\n",
    "\n",
    "One way is to list all the data sources you can find, and then randomly pick only a few of them to collect data from. Then you can sample individually each of the sources you've randomly picked. This sampling method is called **cluster sampling**, and each of the individual data sources is called a **cluster**.\n",
    "\n",
    "<center><img width=\"400\" src=\"https://drive.google.com/uc?export=view&id=1hS05bjdUFpy9xoLEqDeaoeFyb-Z9zGkZ\"></center>\n",
    "\n",
    "In our case, we'd first list all the possible data sources. Assuming that all the teams in our data set have a website where we can take data from, we end up with this list of clusters (each team's website is considered a cluster) :\n",
    "\n",
    "\n",
    "```python\n",
    ">> wnba['Team'].unique()\n",
    "array(['DAL', 'LA', 'CON', 'SAN', 'MIN', 'SEA', 'PHO', 'CHI', 'WAS', 'NY',\n",
    "       'ATL', 'IND'], dtype=object)\n",
    " ```\n",
    " \n",
    " Then we need to find a way to pick randomly a few clusters from our listing. There are many ways to do that, but the important thing to keep in mind is that we should avoid picking a cluster twice. Here's one way to sample four clusters randomly:\n",
    "\n",
    "```python\n",
    " >> pd.Series(wnba['Team'].unique()).sample(4, random_state = 0)\n",
    "6     PHO\n",
    "11    IND\n",
    "4     MIN\n",
    "10    ATL\n",
    "dtype: object\n",
    "```\n",
    "\n",
    "Once we picked the clusters, we move to collecting the data. We can collect all the data from each cluster, but we can also perform sampling on each. It's actually possible to use different sampling methods for different clusters. For instance, we can use stratified sampling on the first two clusters, and simple random sampling on the other two.\n",
    "\n",
    "**Exercise**\n",
    "\n",
    "<left><img width=\"100\" src=\"https://drive.google.com/uc?export=view&id=1E8tR7B9YYUXsU_rddJAyq0FrM0MSelxZ\"></left>\n",
    "\n",
    "Let's simulate a cluster sampling on our data set.\n",
    "\n",
    "- Pick four team clusters randomly using the technique we've learned (use **random_state = 0**).\n",
    "- Collect the data from each cluster without sampling the clusters. Create a new DataFrame object that stores the data collected from all clusters.\n",
    "- Use the data collected to estimate the mean for the following player attributes:\n",
    "  - Height;\n",
    "  - Age;\n",
    "  - BMI;\n",
    "  - Total points.\n",
    "- Finally, measure the sampling error of your estimates, and assign the errors to the following variables: **sampling_error_height**, **sampling_error_age**, **sampling_error_BMI**, **sampling_error_points**.\n",
    " \n",
    " "
   ]
  },
  {
   "cell_type": "code",
   "execution_count": 16,
   "metadata": {
    "colab": {},
    "colab_type": "code",
    "id": "QFjmf1F-Bt52"
   },
   "outputs": [
    {
     "name": "stdout",
     "output_type": "stream",
     "text": [
      "1.401337792642142\n"
     ]
    }
   ],
   "source": [
    "# pick four team clusters\n",
    "clusters = pd.Series(wnba['Team'].unique()).sample(4, random_state = 0)\n",
    "\n",
    "# create a new dataframe\n",
    "sample = pd.DataFrame()\n",
    "\n",
    "# generate the sample with clusters data\n",
    "for cluster in clusters:\n",
    "    data_collected = wnba[wnba['Team'] == cluster]\n",
    "    sample = sample.append(data_collected)\n",
    "    \n",
    "# put your code here\n",
    "\n",
    "sample\n",
    "\n",
    "sampling_error_height = sample[\"Height\"].mean() - wnba[\"Height\"].mean()\n",
    "sampling_error_age = sample[\"Age\"].mean() - wnba[\"Age\"].mean()\n",
    "sampling_error_bmi = sample[\"BMI\"].mean() - wnba[\"BMI\"].mean()\n",
    "sampling_error_total_points = (sample[\"Pts_per_game\"]*sample[\"Games Played\"]).mean() - (wnba[\"Pts_per_game\"]*wnba[\"Games Played\"]).mean()\n",
    "\n",
    "\n",
    "print(sampling_error_age)"
   ]
  },
  {
   "cell_type": "markdown",
   "metadata": {
    "colab_type": "text",
    "id": "e7Lrgp0Bzymv"
   },
   "source": [
    "## Sampling in Data Science Practice"
   ]
  },
  {
   "cell_type": "markdown",
   "metadata": {
    "colab_type": "text",
    "id": "VYf3VXpW0CmE"
   },
   "source": [
    "So far, we've explored a few scenarios where sampling can be useful. There are more situations, however, where a data scientist can use sampling, and we discuss a few in this section.\n",
    "\n",
    "Let's say you work for an e-commerce company that has a table in a database with more than 10 million rows of online transactions. The marketing team asks you to analyze the data and find categories of customers with a low buying rate, so that they can target their marketing campaigns at the right people. Instead of working with more than 10 million rows at each step of your analysis, you can save a lot of code running time by sampling several hundred rows, and perform your analysis on the sample. You can do a simple random sampling, but if you're interested in some categories beforehand, it might be a good idea to use stratified sampling.\n",
    "\n",
    "Let's consider a different situation. It could be that you need to collect data from an API that either has usage limit, or is not free. In this case, you are more or less forced to sample. Knowing how and what to sample can be of great use.\n",
    "\n",
    "Another common use case of sampling is when the data is scattered across different locations (different websites, different databases, different companies, etc.). As we've discussed in the previous screen, cluster sampling would be a great choice in such a scenario.\n",
    "\n",
    "Sampling is a vast topic in statistics, and there are other sampling methods besides what we've discussed.\n",
    "\n",
    "https://en.wikipedia.org/wiki/Sampling_(statistics)#Sampling_methods"
   ]
  },
  {
   "cell_type": "markdown",
   "metadata": {
    "colab_type": "text",
    "id": "riX6SMYT0LuN"
   },
   "source": [
    "## Descriptive and Inferential Statistics"
   ]
  },
  {
   "cell_type": "markdown",
   "metadata": {
    "colab_type": "text",
    "id": "RA-V3x6e0mBH"
   },
   "source": [
    "Practical statistical analysis revolves entirely around the distinction between a population and a sample. When we're doing statistics in practice, our goal is either to describe a sample or a population, or to use a sample to draw conclusions about the population it belongs (or a mix of these two goals).\n",
    "\n",
    "When we describe a sample or a population (by measuring averages, proportions, and other metrics; by visualizing properties of the data through graphs; etc.), we do descriptive statistics.\n",
    "\n",
    "When we try to use a sample to draw conclusions about a population, we do inferential statistics (we infer information from the sample about the population).\n",
    "\n",
    "<center><img width=\"400\" src=\"https://drive.google.com/uc?export=view&id=1UavGgVsCaegcbBe5Dn0zq2o7vPf-lOQ7\"></center>\n"
   ]
  },
  {
   "cell_type": "markdown",
   "metadata": {
    "colab_type": "text",
    "id": "ooRn1i8E0pto"
   },
   "source": [
    "## Next steps\n"
   ]
  },
  {
   "cell_type": "markdown",
   "metadata": {
    "colab_type": "text",
    "id": "GoltkoZ31FWC"
   },
   "source": [
    "Throughout this mission, we discussed the details around collecting data for our analysis, and completed the first part of the workflow we'll cover in this course.\n",
    "\n",
    "<center><img width=\"800\" src=\"https://drive.google.com/uc?export=view&id=1VHgybLpQdxMkbZ7HZCYPl1uAnS5UErF7\"></center>\n",
    "\n",
    "Next in our statistics journey, we'll learn what variables are in statistics, how data sets are structured as collection of variables, and how each variable is measured."
   ]
  },
  {
   "cell_type": "markdown",
   "metadata": {
    "colab_type": "text",
    "id": "lg-cbfruqnNj"
   },
   "source": [
    "# Variables in Statistics"
   ]
  },
  {
   "cell_type": "markdown",
   "metadata": {
    "colab_type": "text",
    "id": "WhNb6S11uQeU"
   },
   "source": [
    "## Introduction"
   ]
  },
  {
   "cell_type": "markdown",
   "metadata": {
    "colab_type": "text",
    "id": "KCQE2Z_Tq-1h"
   },
   "source": [
    "Previously, we discussed the details around **collecting data** for our analysis. In this lesson, we'll focus on understanding the structural parts of a data set, and how they're measured.\n",
    "\n",
    "Whether a **sample** or a **population**, a data set is generally an attempt to describe correctly a relatively small part of the world. The data set we worked with in the previous lesson describes basketball players and their performance in the season 2016-2017.\n",
    "\n",
    "Other data sets might attempt to describe the stock market, patient symptoms, stars from galaxies other than ours, movie ratings, customer purchases, and all sorts of other things.\n",
    "\n",
    "The things we want to describe usually have a myriad of properties. A human, for instance, besides the property of being a human, can also have properties like height, weight, age, name, hair color, gender, nationality, whether they're married or not, whether they have a job or not, etc.\n",
    "\n",
    "In practice, we limit ourselves to the properties relevant to the questions we want to answer, and to the properties that we can actually measure. Let's consider three rows at random from the basketball data set we've previously worked with:\n",
    "\n",
    "|  _    | Name | Team              | Pos | Height | Weight | BMI  | Birth_Place | Birthdate |\n",
    "|------|-------------------|-----|--------|--------|------|-------------|-----------|-------------------|\n",
    "| 39   | Crystal Langhorne | SEA | F/C    | 188    | 84.0 | 23.766410   | US        | October 27, 1986  |\n",
    "| 52   | Érika de Souza    | SAN | C      | 196    | 86.0 | 22.386506   | BR        | September 3, 1982 |\n",
    "| 102  | Nia Coffey        | SAN | F      | 185    | 77.0 | 22.498174   | US        | May 21, 1995      |\n",
    "\n",
    "Each row describes an individual having a series of properties: name, team, position on the field, height, etc. For most properties, the values vary from row to row. All players have a height, for example, but the height values vary from player to player.\n",
    "\n",
    "The properties with varying values we call **variables**. The height property in our data set is an example of a variable. In fact, all the properties described in our data set are variables.\n",
    "\n",
    "A row in our data set describes the actual values that each variable takes for a given individual.\n",
    "\n",
    "Notice that this particular meaning of the \"variable\" concept is restricted to the domain of statistics. A variable in statistics is not the same as a [variable in programming](https://goo.gl/sHnwCW), or [other domains](https://en.wikipedia.org/wiki/Variable)."
   ]
  },
  {
   "cell_type": "markdown",
   "metadata": {
    "colab_type": "text",
    "id": "o0RXZIRGrECE"
   },
   "source": [
    "## Quantitative and Qualitative Variables"
   ]
  },
  {
   "cell_type": "markdown",
   "metadata": {
    "colab_type": "text",
    "id": "s5yN9HhFueK-"
   },
   "source": [
    "**Variables** in statistics can describe either **quantities**, or **qualities**.\n",
    "\n",
    "For instance, the **Height** variable in our data set describes how tall each player is. The **Age** variable describes how much time has passed since each player was born. The **MIN** variable describes how many minutes each player played in the **2016-2017** WNBA season.\n",
    "\n",
    "Generally, a variable that describes how much there is of something describes a **quantity**, and, for this reason, it's called a **quantitative variable**.\n",
    "\n",
    "Usually, quantitative variables describe a quantity using real numbers, but there are also cases when words are used instead. Height, for example, can be described using real numbers, like in our data set, but it can also be described using labels like \"tall\" or \"short\".\n",
    "\n",
    "A few variables in our data set clearly don't describe quantities. The Name variable, for instance, describes the name of each player. The Team variable describe what team each player belongs to. The College variable describes what college each player goes or went at.\n",
    "\n",
    "The Name, Team, and College variables describe for each individual a quality, that is, a property that is not quantitative. **Variables that describe qualities are called qualitative variables or categorical variables**. Generally, qualitative variables describe what or how something is.\n",
    "\n",
    "Usually, qualitative variables describe qualities using words, but numbers can also be used. For instance, the number of a player's shirt or the number of a racing car are described using numbers. The numbers don't bear any quantitative meaning though, they are just names, not quantities.\n",
    "\n",
    "In the diagram below we do a head-to-head comparison between qualitative and quantitative variables:\n",
    "\n",
    "<center><img width=\"400\" src=\"https://drive.google.com/uc?export=view&id=1Duvm0gm9C7-9FMhLgBFUaDVpWjArGOGU\"></center>\n",
    "\n",
    "\n",
    "**Exercise**\n",
    "\n",
    "<left><img width=\"100\" src=\"https://drive.google.com/uc?export=view&id=1E8tR7B9YYUXsU_rddJAyq0FrM0MSelxZ\"></left>\n",
    "\n",
    "We've selected a few variables from our data set. For each of the variables selected, indicate whether it's quantitative or qualitative.\n",
    "\n",
    "- We've already created a dictionary named **variables**. Each variable name is given as dictionary key.\n",
    "- If a variable is quantitative, then complete the value of the corresponding key with the string **'quantitative'**. If the variable is qualitative, the use the string **'qualitative'**.\n",
    "You can find useful documentation about each variable [here](https://www.basketball-reference.com/about/glossary.html) and [here](https://www.kaggle.com/jinxbe/wnba-player-stats-2017)."
   ]
  },
  {
   "cell_type": "code",
   "execution_count": 18,
   "metadata": {
    "colab": {},
    "colab_type": "code",
    "id": "Kwuc633NugoP"
   },
   "outputs": [],
   "source": [
    "# put your code here\n",
    "\n",
    "import pandas as pd\n",
    "wnba = pd.read_csv('wnba.csv')\n",
    "\n",
    "variables = {'Name': 'qualitative', 'Team': 'qualitative', 'Pos': 'qualitative', 'Height': 'quantitative', 'BMI': 'quantitative',\n",
    "             'Birth_Place': 'qualitative', 'Birthdate': 'qualitative', 'Age': 'quantitative', 'College': 'qualitative', 'Experience': 'qualitative',\n",
    "             'Games Played': '', 'MIN': 'quantitative', 'FGM': 'quantitative', 'FGA': 'quantitative',\n",
    "             '3PA': 'quantitative', 'FTM': 'quantitative', 'FTA': 'quantitative', 'FT%': 'quantitative', 'OREB': 'quantitative', 'DREB': 'quantitative',\n",
    "             'REB': 'quantitative', 'AST': 'quantitative', 'PTS': 'quantitative'}"
   ]
  },
  {
   "cell_type": "markdown",
   "metadata": {
    "colab_type": "text",
    "id": "dYk69sskygT0"
   },
   "source": [
    "## Scales of Measurement"
   ]
  },
  {
   "cell_type": "markdown",
   "metadata": {
    "colab_type": "text",
    "id": "ymDKycTwypj1"
   },
   "source": [
    "The amount of information a variable provides depends on its nature (whether it's quantitative or qualitative), and on the way it's measured.\n",
    "\n",
    "For instance, if we analyze the **Team** variable for any two individuals:\n",
    "\n",
    "- We can tell whether or not the two individuals are different from each other with respect to the team they play.\n",
    "- But if there's a difference:\n",
    "  - We can't tell the size of the difference.\n",
    "  - We can't tell the direction of the difference - we can't say that team A is greater or less than team B.\n",
    "\n",
    "On the other side, if we analyze the **Height** variable:\n",
    "\n",
    "  - We can tell whether or not two individuals are different.\n",
    "  - If there's a difference:\n",
    "    - We can tell the size of the difference. If player A has 190 cm and player B has 192 cm, then the difference between the two is 2 cm.\n",
    "    - We can tell the direction of the different from each perspective: player A has 2 cm less than player B, and player B has 2 cm more than player A.\n",
    "\n",
    "<center><img width=\"400\" src=\"https://drive.google.com/uc?export=view&id=1XlE_R1ATxwVcNlpBdhY309WVs-UT4hR2\"></center>\n",
    "\n",
    "The **Team** and **Height** variables provide different amounts of information because they have a different nature (one is qualitative, the other quantitative), and because they are measured differently.\n",
    "\n",
    "The system of rules that define how each variable is measured is called **scale of measurement** or, less often, **level of measurement**.\n",
    "\n",
    "In the next sections, we'll learn about a system of measurement made up of four different scales of measurement: **nominal**, **ordinal**, **interval**, and **ratio**. As we'll see, the characteristics of each scale pivot around three main questions:\n",
    "\n",
    "- Can we tell whether two individuals are different?\n",
    "- Can we tell the direction of the difference?\n",
    "- Can we tell the size of the difference?"
   ]
  },
  {
   "cell_type": "markdown",
   "metadata": {
    "colab_type": "text",
    "id": "h2y_oqNjzDoU"
   },
   "source": [
    "## The Nominal Scale"
   ]
  },
  {
   "cell_type": "markdown",
   "metadata": {
    "colab_type": "text",
    "id": "Au62CHLJ8DWu"
   },
   "source": [
    "In the previous section, we've discussed about the **Team** variable, and said that by examining its values we can tell whether two individuals are different or not, but we can't indicate the size and the direction of the difference.\n",
    "\n",
    "The **Team** variable is an example of a variable measured on a **nominal scale**. For any variable measured on a **nominal scale**:\n",
    "\n",
    "- We can tell whether two individuals are different or not (with respect to that variable).\n",
    "- We can't say anything about the direction and the size of the difference.\n",
    "- We know that it can only describe qualities.\n",
    "\n",
    "\n",
    "<center><img width=\"300\" src=\"https://drive.google.com/uc?export=view&id=1Lz5QrJVMjWk081hvkvN4YW5wRrG5cNsM\"></center>\n",
    "\n",
    "When a qualitative variable is described with numbers, the principles of the nominal scale still hold. We can tell whether there's a difference or not between individuals, but we still can't say anything about the size and the direction of the difference.\n",
    "\n",
    "If basketball player A has the number 5 on her shirt, and player B has 8, we can tell they're different with respect to shirt numbers, but it doesn't make any sense to subtract the two values and quantify the difference as a 3. Nor it makes sense to say that B is greater than A. The numbers on the shirts are just identifiers here, they don't quantify anything.\n",
    "\n",
    "**Exercise**\n",
    "\n",
    "<left><img width=\"100\" src=\"https://drive.google.com/uc?export=view&id=1E8tR7B9YYUXsU_rddJAyq0FrM0MSelxZ\"></left>\n",
    "\n",
    "Inspect the data set, and find the variables measured on a **nominal scale**. In the cell below:\n",
    "\n",
    "- Add the variables measured on a **nominal scale** to a list named **nominal_scale**, and sort the elements in the list alphabetically (the sorting helps us with answer checking).\n",
    "- Notice that we've added a new variable named **Height_labels**. Instead of showing the height in centimeters, the new variable shows labels like \"short\", \"medium\", or \"tall\". By considering the principles that characterizes the **nominal scale**, think whether the new **Height_labels** variable should be included in your **nominal_scale list**.\n",
    "\n"
   ]
  },
  {
   "cell_type": "code",
   "execution_count": null,
   "metadata": {
    "colab": {},
    "colab_type": "code",
    "id": "egJdQbt79AfD"
   },
   "outputs": [],
   "source": [
    "# put your code here\n",
    "\n",
    "wnba[\"Height_labels\"] = pd.cut(wnba.Height,\n",
    "                               bins=[0,170,180,250],\n",
    "                               labels=[\"short\",\"medium\",\"tall\"])"
   ]
  },
  {
   "cell_type": "markdown",
   "metadata": {
    "colab_type": "text",
    "id": "aeg78rIz05pZ"
   },
   "source": [
    "## The Ordinal Scale"
   ]
  },
  {
   "cell_type": "markdown",
   "metadata": {
    "colab_type": "text",
    "id": "50tEm_9b065P"
   },
   "source": [
    "In our last exercise, we've seen that the new **Height_labels** variable was showing labels like **\"short\"**, **\"medium\"**, or **\"tall\"**. By examining the values of this new variable, we can tell whether two individuals are different or not. But, unlike in the case of a **nominal scale**, we can also tell the direction of the difference. Someone who is assigned the label **\"tall\"** has a bigger height than someone assigned the label **\"short\"**.\n",
    "\n",
    "However, we still can't determine the size of the difference. This is an example of a variable measured on an **ordinal scale**.\n",
    "\n",
    "<left><img width=\"400\" src=\"https://drive.google.com/uc?export=view&id=1KPFLxZyLDDFyJWcg70BvqFksXZJPlClM\"></left>\n",
    "\n",
    "Generally, for any variable measured on an **ordinal scale**, we can tell whether individuals are different or not, we can also tell the direction of the difference, but we still can't determine the size of the difference.\n",
    "\n",
    "Variables measured on an **ordinal scale** can only be quantitative. Quantitative variables, however, can be measured on other scales too, as we'll see next in this sections.\n",
    "\n",
    "\n",
    "<left><img width=\"400\" src=\"https://drive.google.com/uc?export=view&id=1AOgzCcDKK9nbcHzwQgueSK94-2xXYUw3\"></left>\n",
    "\n",
    "\n",
    "Common examples of variables measured on ordinal scales include ranks: ranks of athletes, of horses in a race, of people in various competitions, etc.\n",
    "\n",
    "For example, let's say we only know that athlete A finished second in a marathon, and athlete B finished third in the same race. We can immediately tell their performance is different, we know that athlete A finished faster, but we don't know how much faster. The difference between the two could be half a second, 12 minutes, half an hour, etc.\n",
    "\n",
    "Other common examples include measurements of subjective evaluations that are generally difficult or near to impossible to quantify with precision. For instance, when answering a survey about how much they like a new product, people may have to choose a label between \"It's a disaster, I hate it\", \"I don't like it\", \"I like it a bit\", \"I really like it\", \"I simply love it\".\n",
    "\n",
    "The values of the variables measured on an ordinal scale can be both words and numbers. When the values are numbers, they are usually ranks. And we still can't use the numbers to compute the size of the difference. We can't say how much faster an athlete was than another by simplify judging from their ranks.\n",
    "\n",
    "Whether a variable is quantitative or qualitative is independent of the way the variable is measured. The **Height** variable, for instance, is quantitative no matter how we measure it. The fact that we use words like \"short\" or \"tall\" doesn't change its underlying nature. The **Height** variable still describes a magnitude, but in a different way.\n",
    "\n",
    "\n",
    "**Exercise**\n",
    "\n",
    "<left><img width=\"100\" src=\"https://drive.google.com/uc?export=view&id=1E8tR7B9YYUXsU_rddJAyq0FrM0MSelxZ\"></left>\n",
    "\n",
    "\n",
    "- Consider the following sentences, and evaluate their **truth** value. If the sentence is **true**, than assign **True** to the corresponding variable (programming variable) in the cell below, otherwise assign **False**. Make sure you assign boolean values as answers, not strings.\n",
    "  - Using the **Height_labels** variable only, we can tell whether player Kiah Stokes is taller than Riquna Williams. Assign your answer to a variable named **question1**.\n",
    "  - We can measure the height difference between Kiah Stokes and Riquna Williams using the **Height_labels** variable. Assign your answer to **question2.**\n",
    "  - The **Height_labels** and the **College** variables are both measured on an **ordinal scale.** Assign your answer to question3.\n",
    "  - The **Games Played** variable is not measured on an **ordinal scale**. Assign your answer to **question4.**\n",
    "  - The **Experience** variable is measured on an **ordinal scale.** Assign your answer to **question5.**\n",
    "  - The **Height_labels** variable is **qualitative** because is measured using words. Assign your answer to **question6.**\n",
    "  "
   ]
  },
  {
   "cell_type": "code",
   "execution_count": null,
   "metadata": {
    "colab": {},
    "colab_type": "code",
    "id": "6IWf7JoJ1e7u"
   },
   "outputs": [],
   "source": [
    "# put your code here"
   ]
  },
  {
   "cell_type": "markdown",
   "metadata": {
    "colab_type": "text",
    "id": "lVoAN8-C5mTr"
   },
   "source": [
    " ## The Interval and Ratio Scales"
   ]
  },
  {
   "cell_type": "markdown",
   "metadata": {
    "colab_type": "text",
    "id": "xYvgUn4Z5q5c"
   },
   "source": [
    "We've seen in the case of the **Height** variable that the values have direction when measured on an ordinal scale. The downside is that we don't know the size of each interval between values, and because of this we can't determine the size of the difference.\n",
    "\n",
    "\n",
    "  \n",
    "<left><img width=\"400\" src=\"https://drive.google.com/uc?export=view&id=1Pul90AlbOWlCVpZrks_c04nUoWHOcRp_\"></left>\n",
    "\n",
    "\n",
    "An alternative here is to measure the **Height** variable using real numbers, which will result in having well-defined intervals, which in turn will allow us to determine the size of the difference between any two values.\n",
    "\n",
    "<left><img width=\"400\" src=\"https://drive.google.com/uc?export=view&id=1IeXgLSXJnBQlU67Bh0fi1DVWTFIGCzxZ\"></left>\n",
    "\n",
    "\n",
    "A variable measured on a scale that preserves the order between values, and have well-defined intervals using real numbers, is an example of a variable measured either on an interval scale, or on a ratio scale.\n",
    "\n",
    "In practice, variables measured on interval or ratio scales are very common, if not the most common. Examples include:\n",
    "\n",
    "- Height measured with a numerical unit of measurement (like inches or centimeters).\n",
    "- Weight measured with a numerical unit of measurement (multiples and submultiples of grams, for instance).\n",
    "- Time measured with a numerical unit of measurement (multiples and submultiple of seconds, for example).\n",
    "- The price of various products measured with a numerical unit of measurement (like dollars, pounds, etc.).\n",
    "\n",
    "<left><img width=\"600\" src=\"https://drive.google.com/uc?export=view&id=1truS5aQEGqtBakwltwE4vzeSvJDFyrUN\"></left>"
   ]
  },
  {
   "cell_type": "markdown",
   "metadata": {
    "colab_type": "text",
    "id": "R6adQZAI6dex"
   },
   "source": [
    "## The Difference Between Ratio and Interval Scales"
   ]
  },
  {
   "cell_type": "markdown",
   "metadata": {
    "colab_type": "text",
    "id": "hjt38SKs8DEw"
   },
   "source": [
    "What sets apart **ratio scales** from **interval scales** is the nature of the zero point.\n",
    "\n",
    "On a **ratio scale**, the zero point means no quantity. For example, the **Weight** variable is measured on a **ratio scale**, which means that 0 grams indicate the absence of weight.\n",
    "\n",
    "On an **interval scale**, however, the zero point doesn't indicate the absence of a quantity. It actually indicates the presence of a quantity.\n",
    "\n",
    "To exemplify this case using our data set, we've used the **Weight** variable (measured on a ratio scale), and created a new variable that is measured on an **interval scale**. The new variable describes by how many kilograms the weight of a player is different than the average weight of the players in our data set. Here's a random sample that includes values from the new variable named **Weight_deviation**\n",
    "\n",
    "| _   | Name                | Weight | Weight_deviation |\n",
    "|-----|---------------------|--------|------------------|\n",
    "| 35  | Clarissa dos Santos | 89.0   | 10.021127        |\n",
    "| 3   | Alex Montgomery     | 84.0   | 5.021127         |\n",
    "| 111 | Renee Montgomery    | 63.0   | -15.978873       |\n",
    "| 85  | Layshia Clarendon   | 64.0   | -14.978873       |\n",
    "| 128 | Sugar Rodgers       | 75.0   | -3.978873        |\n",
    "\n",
    "\n",
    "If a player had a value of 0 for our **Weight_deviation** variable (which is measured on an **interval scale**), that wouldn't mean the player has no weight. Rather, it'd mean that her weight is exactly the same as the mean. The mean of the Weight variable is roughly 78.98 kg, which means that the zero point in the **Weight_deviation** variable is equivalent to 78.98 kg.\n",
    "\n",
    "On the other side, a value of 0 for the Weight variable, which is measured on a **ratio scale**, indicates the absolute absence of weight.\n",
    "\n",
    "Another important difference between the two scales is given by the way we can measure the size of the differences.\n",
    "\n",
    "On a ratio scale, we can quantify the difference in two ways. One way is to measure a distance between any two points by simply subtracting one from another. The other way is to measure the difference in terms of ratios.\n",
    "\n",
    "For example, by doing a simple subtraction using the data in table above, we can tell that the difference (the distance) in weight between Clarissa dos Santos and Alex Montgomery is 5 kg. In terms of ratios, however, Clarissa dos Santos is roughly 1.06 (the result of 89 kg divided by 84 kg) heavier than Alex Montgomery. To give a straightforward example, if player A had 90 kg and player B had 45 kg, we could say that player A is two times (90 kg divided by 45 kg) heavier than player B.\n",
    "\n",
    "On an interval scale, however, we can measure meaningfully the difference between any two points only by finding the distance between them (by subtracting one point from another). If we look at the weight deviation variable, we can say there's a difference of 5 kg between Clarissa dos Santos and Alex Montgomery. However, if we took ratios, we'd have to say that Clarissa dos Santos is two times heavier than Alex Montgomery, which is not true.\n",
    "\n",
    "<left><img width=\"400\" src=\"https://drive.google.com/uc?export=view&id=1FrCJUkkWntx4hSO6WWNA7Us9_kH0KiKQ\"></left>\n",
    "\n",
    "\n",
    "\n",
    "**Exercise**\n",
    "\n",
    "<left><img width=\"100\" src=\"https://drive.google.com/uc?export=view&id=1E8tR7B9YYUXsU_rddJAyq0FrM0MSelxZ\"></left>\n",
    "\n",
    "Examine the various variables of the data set, and find the ones that are measured on an **interval** or **ratio scale**.\n",
    "\n",
    "- For the variables measured on a **interval scale**, add their names as a string to a list named **interval**. Sort the list alphabetically.\n",
    "- For the variables measured on a **ratio scale**, add their names as a string to a list named **ratio**. Sort the list alphabetically.\n",
    "- Create the variable \"Weight_deviation\" according to previous explanation. So make sure you include that one too in one the lists.\n",
    "\n",
    "If you need to consult the documentation of the data set, you can look [here](https://www.kaggle.com/jinxbe/wnba-player-stats-2017), and [here](https://www.basketball-reference.com/about/glossary.html)."
   ]
  },
  {
   "cell_type": "code",
   "execution_count": null,
   "metadata": {
    "colab": {},
    "colab_type": "code",
    "id": "F_mysy2d8DsR"
   },
   "outputs": [],
   "source": [
    "# put your code here"
   ]
  },
  {
   "cell_type": "markdown",
   "metadata": {
    "colab_type": "text",
    "id": "4gFF5BOAIkAN"
   },
   "source": [
    "## Common Examples of Interval Scales"
   ]
  },
  {
   "cell_type": "markdown",
   "metadata": {
    "colab_type": "text",
    "id": "SMnypF7KItbO"
   },
   "source": [
    "In practice, variables measured on an interval scale are relatively rare. Below we discuss two examples that are more common.\n",
    "\n",
    "Generally, points in time are indicated by variables measured on an interval scale. Let's say we want to indicate the point in time of the first manned mission on the Moon. If we want to use a ratio scale, our zero point must be meaningful and denote the absence of time. For this reason, we'd basically have to begin the counting at the very beginning of time.\n",
    "\n",
    "There are many problems with this approach. One of them is that we don't know with precision when time began (assuming time actually has a beginning), which means we don't know how far away in time we are from that zero point.\n",
    "\n",
    "To overcome this, we can set an arbitrarily zero point, and measure the distance in time from there. Customary, we use the [Anno domini system](https://en.wikipedia.org/wiki/Anno_Domini) where the zero point is arbitrarily set at the moment [Jesus](https://en.wikipedia.org/wiki/Jesus) was born. Using this system, we can say that the first manned mission on the Moon happened in 1969. This means that the event happened 1968 years after Jesus' birth (1968 because [there's no year 0 in the Anno domini system](https://en.wikipedia.org/wiki/Year_zero)).\n",
    "\n",
    "\n",
    "<left><img width=\"500\" src=\"https://drive.google.com/uc?export=view&id=1JS4xmlS_ipz3xS-O41ebZkScbWvxpphj\"></left>\n",
    "\n",
    "\n",
    "If points in time are measured on an interval scale, we need to avoid quantifying the difference in terms of ratio. For instance, it's not true that twice as much time has passed from year 1000 to year 2000.\n",
    "\n",
    "Another common example has to do with measuring temperature. In day to day life, we usually measure temperature on a Celsius or a Fahrenheit scale. These scales are examples of interval scales.\n",
    "\n",
    "0°C or 0°F are arbitrarily set zero points and don't indicate the absence of temperature. If 0°C or 0°F were meaningful zero points, temperatures below 0°C or 0°F wouldn't be possible. But we know that we can go way below 0°C or 0°F.\n",
    "\n",
    "If yesterday was 10°C, and today is 20°C, we can't say that today is twice as hot as yesterday. We can say, however, that today's temperature is 10°C more compared to yesterday.\n",
    "\n",
    "Temperature can be measured on a ratio scale too, and this is done using the Kelvin scale. 0 K (0 degrees Kelvin) is not set arbitrarily, and it indicates the lack of temperature. The temperature can't possibly drop below 0 K.\n",
    "\n",
    "\n",
    "<left><img width=\"600\" src=\"https://drive.google.com/uc?export=view&id=1VNPyIfEgyP26Dr71SAMVfvnqChZwAxB8\"></left>\n"
   ]
  },
  {
   "cell_type": "markdown",
   "metadata": {
    "colab_type": "text",
    "id": "Ml_6Bk4hJBWo"
   },
   "source": [
    "## Discrete and Continuous Variables"
   ]
  },
  {
   "cell_type": "markdown",
   "metadata": {
    "colab_type": "text",
    "id": "iZURnxNQQ1e5"
   },
   "source": [
    "Previously in this mission we divided variables in two big categories: **quantitative** and **qualitative**. We've seen that **quantitative** variables can be measured on **ordinal**, **interval**, or **ratio scales**. In this screen, we zoom in on variables measured on interval and ratio scales.\n",
    "\n",
    "We've learned that variables measured on **interval** and **ratio scales** can only take real numbers as values. Let's consider a small random sample of our data set and focus on the **Weight** and **PTS** (total points) variables, which are both measured on a **ratio scale**.\n",
    "\n",
    "| _   | Name                | Weight | PTS |\n",
    "|-----|---------------------|--------|-----|\n",
    "| 77  | Kayla Thornton      | 86.0   | 32  |\n",
    "| 16  | Asia Taylor         | 76.0   | 31  |\n",
    "| 80  | Kia Vaughn          | 90.0   | 134 |\n",
    "| 137 | Tierra Ruffin-Pratt | 83.0   | 225 |\n",
    "| 12  | Amanda Zahui B.     | 113.0  | 51  |\n",
    "\n",
    "\n",
    "The first two players scored 32 and 31 points, respectively. Between 32 and 31 points there's no possible intermediate value. Provided the measurements are correct, it's impossible to find a player having scored 31.5 or 31.2 points. In basketball, players can only score 1,2 or 3 points at a time, so the points variable can only be expressed in integers when measured on an interval or ratio scale.\n",
    "\n",
    "Generally, **if there's no possible intermediate value between any two adjacent values of a variable**, we call that variable **discrete.**\n",
    "\n",
    "Common examples of discrete variables include **counts of people in a class, a room, an office, a country, a house etc.** For instance, if we counted the number of people living in each house of a given street, the results of our counting can only be integers. For any given house, we could count 1, 3, 7, 0 people, but we cannot count 2.3 people, or 4.1378921521 people.\n",
    "\n",
    "In the table above, we can also see that the first player weighs 86 kg, and the second 76 kg. Between 86 kg and 76 kg, there's an infinity of possible values. In fact, between any two values of the Weight variable, there's an infinity of values.\n",
    "\n",
    "This is strongly counter-intuitive, so let's consider an example of two values that are relatively close together: 86kg and 87kg. Between these values we can have an infinity of values: 86.2 kg, 86.6 kg, 86.40 kg, 86.400001 kg, 86.400000000000001 kg, 86.400000000000000000000000000000000000000000001 kg, and so on.\n",
    "\n",
    "In the diagram below we consider values between 86 and 87 kg, and break down the interval in five equal parts. Then we take two values (86.2 and 86.8) from the interval 86 - 87, and break down the interval between these values (86.2 and 86.8) in five equal parts. Then we repeat the process for the interval 86.2 - 86.8. In fact, we could repeat the process infinitely.\n",
    "\n",
    "\n",
    "<left><img width=\"500\" src=\"https://drive.google.com/uc?export=view&id=1lkM7bZAsO24QnHdAX3pJUOKvKGH5Nwts\"></left>\n",
    "\n",
    "\n",
    "In practice, we limit ourselves to rounding the weights to a couple of decimal places either for practical purposes, either because the instruments we use to measure weight are imperfect.\n",
    "\n",
    "Generally, **if there's an infinity of values between any two values of a variable**, we call that variable **continuous.**\n",
    "\n",
    "**Whether a variable is discrete or continuous is determined by the underlying nature of the variable being considered, and not by the values obtained from the measurement**. For instance, we can see in our data set that height only takes integer values:\n",
    "\n",
    "\n",
    "```python\n",
    ">> wnba['Height'].head()\n",
    "0    183\n",
    "1    185\n",
    "2    170\n",
    "3    185\n",
    "4    175\n",
    "Name: Height, dtype: int64\n",
    "```\n",
    "\n",
    "This doesn't make the Height variable discrete. It just tells us that the height is not measured with a great degree of precision.\n",
    "\n",
    "\n",
    "**Exercise**\n",
    "\n",
    "<left><img width=\"100\" src=\"https://drive.google.com/uc?export=view&id=1E8tR7B9YYUXsU_rddJAyq0FrM0MSelxZ\"></left>\n",
    "\n",
    "\n",
    "For every variable, indicate whether is continuous or discrete.\n",
    "\n",
    "- In the cell below, we've already extracted for you the names of the variables that are measured on ratio and interval scales. Every variable name is registered as a dictionary key.\n",
    "- If a variable is discrete, then assign the string **'discrete'** to its corresponding dictionary key.\n",
    "- If a variable is continuous, then assign the string **'continuous'** to its corresponding dictionary key.\n",
    "If you get stuck with any variable, take any two values and try to determine whether there's an infinity of possible values between them. If you need to consult the documentation of the data set, you can look [here](https://www.kaggle.com/jinxbe/wnba-player-stats-2017), and [here](https://www.basketball-reference.com/about/glossary.html)."
   ]
  },
  {
   "cell_type": "code",
   "execution_count": null,
   "metadata": {
    "colab": {},
    "colab_type": "code",
    "id": "SLL6sjJtXuiM"
   },
   "outputs": [],
   "source": [
    "# put your code here\n",
    "ratio_interval_only = {'Height':'', 'Weight': '', 'BMI': '', 'Age': '', 'Games Played': '', 'MIN': '', 'FGM': '',\n",
    "                       'FGA': '', 'FG%': '', '3PA': '', '3P%': '', 'FTM': '', 'FTA': '', 'FT%': '',\n",
    "                       'OREB': '', 'DREB': '', 'REB': '', 'AST': '', 'STL': '', 'BLK': '', 'TO': '',\n",
    "                       'PTS': '', 'DD2': '', 'TD3': '', 'Weight_deviation': ''}"
   ]
  },
  {
   "cell_type": "markdown",
   "metadata": {
    "colab_type": "text",
    "id": "ufWosnmSZ-mY"
   },
   "source": [
    "## Real Limits"
   ]
  },
  {
   "cell_type": "markdown",
   "metadata": {
    "colab_type": "text",
    "id": "yleSNHyrZ_5Q"
   },
   "source": [
    "Let's consider these ten rows where players are recorded as having the same weight:\n",
    "\n",
    "\n",
    "| _   | Name              | Weight |\n",
    "|-----|-------------------|--------|\n",
    "| 9   | Allison Hightower | 77.0   |\n",
    "| 19  | Breanna Stewart   | 77.0   |\n",
    "| 21  | Bria Holmes       | 77.0   |\n",
    "| 33  | Chelsea Gray      | 77.0   |\n",
    "| 56  | Glory Johnson     | 77.0   |\n",
    "| 65  | Jessica Breland   | 77.0   |\n",
    "| 70  | Kaela Davis       | 77.0   |\n",
    "| 102 | Nia Coffey        | 77.0   |\n",
    "| 117 | Seimone Augustus  | 77.0   |\n",
    "| 132 | Tamera Young      | 77.0   |\n",
    "\n",
    "Do all these players really have the exact same weight? Most likely, they don't. If the values were measured with a precision of one decimal, we'd probably see that the players have different weights. One player may weigh 76.7 kg, another 77.2 kg, another 77.1 kg.\n",
    "\n",
    "As an important parenthesis here, the weight values in the table above are all 77.0, and the trailing zero suggests a precision of one decimal point, but this is not the case. The values are automatically converted by **pandas** to **float64** because of one **NaN** value in the **Weight** column, and end up with a trailing zero, which gives the false impression of one decimal point precision. So a player was recorded to weigh 77 kg (zero decimals precision), not 77.0 kg (one decimal precision).\n",
    "\n",
    "Returning to our discussion, if we measure the weight with zero decimals precision (which we do in our data set), a player weighing 77.4 kg will be assigned the same weight (77 kg) as a player weighing 76.6 kg. So if a player is recorded to weigh 77 kg, we can only tell that her actual weight is somewhere between 76.5 kg and 77.5 kg. The value of 77 is not really a distinct value here. Rather, it's an **interval** of values.\n",
    "\n",
    "This principle applies to any possible numerical weight value. If a player is measured to weigh 76.5 kg, we can only tell that her weight is somewhere between 76.45 kg and 76.55 kg. If a player has 76.50 kg, we can only tell that her weight is somewhere between 76.495 kg and 76.505 kg. Because there can be an infinite number of decimals, we could continue this breakdown infinitely.\n",
    "\n",
    "<left><img width=\"400\" src=\"https://drive.google.com/uc?export=view&id=11nferHedjlWXfsGontgWPQPbR0SnjA7I\"></left>\n",
    "\n",
    "\n",
    "Generally, every value of a continuous variable is an interval, no matter how precise the value is. The boundaries of an interval are sometimes called **real limits**. The lower boundary of the interval is called **lower real limit**, and the upper boundary is called **upper real limit.**\n",
    "\n",
    "\n",
    "<left><img width=\"500\" src=\"https://drive.google.com/uc?export=view&id=1MnwG6OtDOLxnO2nxBgN-I3-RJ9tqto1x\"></left>\n",
    "\n",
    "\n",
    "In the figure above we can see for example that 88.5 is halfway between 88 and 89. If we got a measurement of 88.5 kg in practice, but we want only integers in our dataset (hence zero decimals precision), you might wonder whether to assign the value to 88 or 89 kg. The answer is that 88.5 kg is exactly halfway between 88 and 89 kg, and it doesn't necessarily belong to any of those two values. The assignment only depends on how you choose to round numbers: if you round up, then 88.5 kg will be assigned to 89 kg; if you round down, then the value will be assigned to 88 kg.\n",
    "\n",
    "\n",
    "**Exercise**\n",
    "\n",
    "<left><img width=\"100\" src=\"https://drive.google.com/uc?export=view&id=1E8tR7B9YYUXsU_rddJAyq0FrM0MSelxZ\"></left>\n",
    "\n",
    "Find the real limits for five values of the BMI (body mass index) variable.\n",
    "- We've already extracted the first five BMI values in the data set and rounded each off to a precision of three decimal places. We stored the values as dictionary keys in a dictionary named bmi.\n",
    "- For every BMI value write its real limits in a list and make the list a dictionary value that should correspond to the right dictionary key. The lower real limits should come first in each list. For example:\n",
    "\n",
    "```python\n",
    "bmi = {20: [19.5, 20.5],\n",
    " 21: [20.5, 21.5],\n",
    " 23: [22.5, 23.5],\n",
    " 24: [23.5, 24.5],\n",
    " 22: [21.5, 22.5]}\n",
    "```"
   ]
  },
  {
   "cell_type": "code",
   "execution_count": null,
   "metadata": {
    "colab": {},
    "colab_type": "code",
    "id": "rtMG-mSoaRwh"
   },
   "outputs": [],
   "source": [
    "# put your code here\n",
    "bmi = {21.201: [],\n",
    " 21.329: [],\n",
    " 23.875: [],\n",
    " 24.543: [],\n",
    " 25.469: []}\n"
   ]
  },
  {
   "cell_type": "markdown",
   "metadata": {
    "colab_type": "text",
    "id": "B-XL9qsMiWLK"
   },
   "source": [
    "## Next Step"
   ]
  },
  {
   "cell_type": "markdown",
   "metadata": {
    "colab_type": "text",
    "id": "EdAy1zskeOs_"
   },
   "source": [
    "In this section, our focus was on understanding variables, the structural parts of a data set. We've seen that variables can be either quantitative or qualitative, and, depending on that, they can be measured on different scales.\n",
    "\n",
    "We completed one more step in the workflow we follow throughout this statistics course.\n",
    "\n",
    "<left><img width=\"700\" src=\"https://drive.google.com/uc?export=view&id=1lbq66CeTNzX_1vn5xy2BH6nHyQjPgWNA\"></left>\n",
    "\n",
    "\n",
    "Next in this course, we'll learn how to organize data in comprehensible forms to find patterns.\n",
    "\n",
    "\n",
    "\n"
   ]
  }
 ],
 "metadata": {
  "colab": {
   "collapsed_sections": [],
   "name": "Lesson 18 - Sampling.ipynb",
   "provenance": [],
   "version": "0.3.2"
  },
  "kernelspec": {
   "display_name": "Python 3",
   "language": "python",
   "name": "python3"
  },
  "language_info": {
   "codemirror_mode": {
    "name": "ipython",
    "version": 3
   },
   "file_extension": ".py",
   "mimetype": "text/x-python",
   "name": "python",
   "nbconvert_exporter": "python",
   "pygments_lexer": "ipython3",
   "version": "3.6.6"
  }
 },
 "nbformat": 4,
 "nbformat_minor": 2
}
