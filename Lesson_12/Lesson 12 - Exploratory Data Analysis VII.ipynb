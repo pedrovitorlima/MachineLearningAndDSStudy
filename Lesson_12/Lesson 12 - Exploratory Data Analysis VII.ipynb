{
 "cells": [
  {
   "cell_type": "markdown",
   "metadata": {},
   "source": [
    "# Storytelling from Geojson and Choropleth Maps"
   ]
  },
  {
   "cell_type": "code",
   "execution_count": null,
   "metadata": {
    "colab": {},
    "colab_type": "code",
    "id": "MRyj6NwIT_YL"
   },
   "outputs": [],
   "source": [
    "!unzip datasets.zip"
   ]
  },
  {
   "cell_type": "markdown",
   "metadata": {
    "colab_type": "text",
    "id": "yn3137e1RPQp"
   },
   "source": [
    "## Introduction\n",
    "\n"
   ]
  },
  {
   "cell_type": "markdown",
   "metadata": {
    "colab_type": "text",
    "id": "sjszcC6gRlZD"
   },
   "source": [
    "\n",
    "In this mission, we'll analyze geographic data on brazilian municipalities. The dataset comes from [IBGE - Instituto Brasileiro de Geografia e Estatística](https://downloads.ibge.gov.br/downloads_estatisticas.htm). The goal is to expand our skills about visualization on [choropleth maps](https://en.wikipedia.org/wiki/Choropleth_map). \n",
    "\n",
    "A choropleth map is a thematic map in which areas are shaded or patterned in proportion to the measurement of the statistical variable being displayed on the map, such as population density or per-capita income. \n",
    "\n"
   ]
  },
  {
   "cell_type": "code",
   "execution_count": null,
   "metadata": {
    "colab": {},
    "colab_type": "code",
    "id": "eVUPWWB8URK7"
   },
   "outputs": [],
   "source": [
    "!pip install shapely"
   ]
  },
  {
   "cell_type": "code",
   "execution_count": null,
   "metadata": {
    "colab": {},
    "colab_type": "code",
    "id": "lX-Ba1gURPQq"
   },
   "outputs": [],
   "source": [
    "import os\n",
    "import folium\n",
    "import json\n",
    "import pandas as pd\n",
    "from branca.colormap import linear\n",
    "import numpy as np\n",
    "from shapely.geometry import Polygon\n",
    "from shapely.geometry import Point\n",
    "from numpy import random"
   ]
  },
  {
   "cell_type": "code",
   "execution_count": null,
   "metadata": {
    "colab": {},
    "colab_type": "code",
    "id": "6ix3_UQ4RPQu",
    "scrolled": true
   },
   "outputs": [],
   "source": [
    "# dataset name\n",
    "dataset_pop_2017 = os.path.join('data', 'population_2017.csv')\n",
    "\n",
    "# read the data to a dataframe\n",
    "data2017 = pd.read_csv(dataset_pop_2017)\n",
    "\n",
    "# eliminate spaces in name of columns\n",
    "data2017.columns = [cols.replace(' ', '_') for cols in data2017.columns]\n",
    "\n",
    "data2017.head()\n"
   ]
  },
  {
   "cell_type": "code",
   "execution_count": null,
   "metadata": {
    "colab": {},
    "colab_type": "code",
    "id": "-y4H9PIsRPQz"
   },
   "outputs": [],
   "source": [
    "# filtering data about RN state\n",
    "dataRN = data2017[data2017['UF'] == 'RN']\n",
    "\n",
    "# sort dataset by city name\n",
    "dataRN = dataRN.sort_values('NOME_DO_MUNICÍPIO')\n",
    "\n",
    "dataRN.head()\n"
   ]
  },
  {
   "cell_type": "markdown",
   "metadata": {
    "colab_type": "text",
    "id": "GSJBSEBjRPQ3"
   },
   "source": [
    "\n",
    "## Geodata BR - Brazil\n",
    "\n"
   ]
  },
  {
   "cell_type": "markdown",
   "metadata": {
    "colab_type": "text",
    "id": "_nIEDd1XV2di"
   },
   "source": [
    "\n",
    "This project contains files [Geojson](http://geojson.org/) with the perimeters\n",
    "of Brazilian municipalities group by state.\n",
    "\n",
    "source: https://github.com/tbrugz/geodata-br\n",
    "\n",
    "\n",
    "\n",
    "### North Region\n",
    "* AC / Acre - [geojson/geojs-12-mun.json](geojson/geojs-12-mun.json)\n",
    "* AM / Amazonas - [geojson/geojs-13-mun.json](geojson/geojs-13-mun.json)\n",
    "* AP / Amapá - [geojson/geojs-16-mun.json](geojson/geojs-16-mun.json)\n",
    "* PA / Pará  - [geojson/geojs-15-mun.json](geojson/geojs-15-mun.json)\n",
    "* RO / Rondônia - [geojson/geojs-11-mun.json](geojson/geojs-11-mun.json)\n",
    "* RR / Roraima - [geojson/geojs-14-mun.json](geojson/geojs-14-mun.json)\n",
    "* TO / Tocantins - [geojson/geojs-17-mun.json](geojson/geojs-17-mun.json)\n",
    "\n",
    "\n",
    "### Northeast Region\n",
    "* AL / Alagoas - [geojson/geojs-27-mun.json](geojson/geojs-27-mun.json)\n",
    "* BA / Bahia - [geojson/geojs-29-mun.json](geojson/geojs-29-mun.json)\n",
    "* CE / Ceará - [geojson/geojs-23-mun.json](geojson/geojs-23-mun.json)\n",
    "* MA / Maranhão - [geojson/geojs-21-mun.json](geojson/geojs-21-mun.json)\n",
    "* PB / Paraíba - [geojson/geojs-25-mun.json](geojson/geojs-25-mun.json)\n",
    "* PE / Pernambuco - [geojson/geojs-26-mun.json](geojson/geojs-26-mun.json)\n",
    "* PI / Piauí - [geojson/geojs-22-mun.json](geojson/geojs-22-mun.json)\n",
    "* RN / Rio Grande do Norte - [geojson/geojs-24-mun.json](geojson/geojs-24-mun.json)\n",
    "* SE / Sergipe - [geojson/geojs-28-mun.json](geojson/geojs-28-mun.json)\n",
    "\n",
    "\n",
    "### Southeast Region\n",
    "* ES / Espíriro Santo - [geojson/geojs-32-mun.json](geojson/geojs-32-mun.json)\n",
    "* MG / Minas Gerais - [geojson/geojs-31-mun.json](geojson/geojs-31-mun.json)\n",
    "* RJ / Rio de Janeiro - [geojson/geojs-33-mun.json](geojson/geojs-33-mun.json)\n",
    "* SP / São Paulo - [geojson/geojs-35-mun.json](geojson/geojs-35-mun.json)\n",
    "\n",
    "\n",
    "### South Region\n",
    "* PR / Paraná - [geojson/geojs-41-mun.json](geojson/geojs-41-mun.json)\n",
    "* RS / Rio Grande do Sul - [geojson/geojs-43-mun.json](geojson/geojs-43-mun.json)\n",
    "* SC / Santa Catarina - [geojson/geojs-42-mun.json](geojson/geojs-42-mun.json)\n",
    "\n",
    "\n",
    "### Central-west Region\n",
    "* DF / Distrito Federal - [geojson/geojs-53-mun.json](geojson/geojs-53-mun.json) \n",
    "* GO / Goiás - [geojson/geojs-52-mun.json](geojson/geojs-52-mun.json)\n",
    "* MT / Mato Grosso - [geojson/geojs-51-mun.json](geojson/geojs-51-mun.json)\n",
    "* MS / Mato Grosso do Sul - [geojson/geojs-50-mun.json](geojson/geojs-50-mun.json)\n",
    "\n",
    "\n",
    "### Brazil\n",
    "* BR / Brazil - [geojson/geojs-100-mun.json](geojson/geojs-100-mun.json)\n",
    "\n"
   ]
  },
  {
   "cell_type": "markdown",
   "metadata": {
    "colab_type": "text",
    "id": "wzvntR4hRPQ3"
   },
   "source": [
    "\n",
    "## Customization \n"
   ]
  },
  {
   "cell_type": "markdown",
   "metadata": {
    "colab_type": "text",
    "id": "n19F0D-tYwoL"
   },
   "source": [
    "\n",
    "If you need, it is possible generate and customize GeoJson files from online editors. The project [GeoJson.io](http://geojson.io/) is an excelent path to give the first steps. \n",
    "\n"
   ]
  },
  {
   "cell_type": "markdown",
   "metadata": {
    "colab_type": "text",
    "id": "y6b73MfgRPQ4"
   },
   "source": [
    "## Importing GeoJson files\n"
   ]
  },
  {
   "cell_type": "code",
   "execution_count": null,
   "metadata": {
    "colab": {},
    "colab_type": "code",
    "id": "-o6zhpwURPQ5"
   },
   "outputs": [],
   "source": [
    "# searching the files in geojson/geojs-xx-mun.json\n",
    "br_states = os.path.join('geojson', 'geojs-24-mun.json')\n",
    "\n",
    "# load the data and use 'latin-1'encoding because the accent\n",
    "geo_json_data = json.load(open(br_states,encoding='latin-1'))\n"
   ]
  },
  {
   "cell_type": "code",
   "execution_count": null,
   "metadata": {
    "colab": {},
    "colab_type": "code",
    "id": "ftuayd-ZRPQ8"
   },
   "outputs": [],
   "source": [
    "geo_json_data"
   ]
  },
  {
   "cell_type": "code",
   "execution_count": null,
   "metadata": {
    "colab": {},
    "colab_type": "code",
    "id": "W-xp9TDIRPRA"
   },
   "outputs": [],
   "source": [
    "# http://cidades.ibge.gov.br/painel/historico.php?codmun=241030\n",
    "# Presidente Juscelino city changes your name to Serra Caiada\n",
    "geo_json_data['features'][112]['properties']['description'] = 'Serra Caiada'\n",
    "geo_json_data['features'][112]['properties']['name'] = 'Serra Caiada'\n"
   ]
  },
  {
   "cell_type": "code",
   "execution_count": null,
   "metadata": {
    "colab": {},
    "colab_type": "code",
    "id": "PqQ1tZnORPRE"
   },
   "outputs": [],
   "source": [
    "cities = []\n",
    "# list all cities in the state\n",
    "for city in geo_json_data['features']:\n",
    "        cities.append(city['properties']['description'])\n",
    "cities\n"
   ]
  },
  {
   "cell_type": "code",
   "execution_count": null,
   "metadata": {
    "colab": {},
    "colab_type": "code",
    "id": "0mcxNVBuRPRL",
    "scrolled": true
   },
   "outputs": [],
   "source": [
    "# Create a map object\n",
    "m = folium.Map(\n",
    "    location=[-5.826592, -35.212558],\n",
    "    zoom_start=7,\n",
    "    tiles='Stamen Terrain'\n",
    ")\n",
    "\n",
    "# Configure geojson layer\n",
    "folium.GeoJson(geo_json_data).add_to(m)\n",
    "\n",
    "m"
   ]
  },
  {
   "cell_type": "markdown",
   "metadata": {
    "colab_type": "text",
    "id": "hL8fbncFRPRO"
   },
   "source": [
    "### Importing Geojson files from overpass-turbo project\n"
   ]
  },
  {
   "cell_type": "markdown",
   "metadata": {
    "colab_type": "text",
    "id": "bIpQ8lyQZ_cb"
   },
   "source": [
    "\n",
    "Source: http://overpass-turbo.eu/\n",
    "\n",
    "Query to [Natal neighborhoods](http://wiki.openstreetmap.org/wiki/Natal#Bairros):\n",
    "```python\n",
    "[out:json][timeout:25];\n",
    "{{geocodeArea:Natal RN Brasil}}->.searchArea;\n",
    "(\n",
    "  relation[\"admin_level\"=\"10\"](area.searchArea);\n",
    ");\n",
    "out body;\n",
    ">;\n",
    "out skel qt;\n",
    "```"
   ]
  },
  {
   "cell_type": "code",
   "execution_count": null,
   "metadata": {
    "colab": {},
    "colab_type": "code",
    "id": "J_PavSE-RPRP"
   },
   "outputs": [],
   "source": [
    "# import geojson file about natal neighborhood\n",
    "natal_neigh = os.path.join('geojson', 'natal.geojson')\n",
    "\n",
    "# load the data and use 'UTF-8'encoding\n",
    "geo_json_natal = json.load(open(natal_neigh,encoding='UTF-8'))\n"
   ]
  },
  {
   "cell_type": "code",
   "execution_count": null,
   "metadata": {
    "colab": {},
    "colab_type": "code",
    "id": "zIhYXEqpRPRW",
    "scrolled": true
   },
   "outputs": [],
   "source": [
    "neighborhood = []\n",
    "# list all neighborhoods\n",
    "for neigh in geo_json_natal['features']:\n",
    "    neighborhood.append(neigh['properties']['name'])\n",
    "neighborhood\n"
   ]
  },
  {
   "cell_type": "code",
   "execution_count": null,
   "metadata": {
    "colab": {},
    "colab_type": "code",
    "id": "dXNqvTaaRPRa"
   },
   "outputs": [],
   "source": [
    "len(neighborhood)"
   ]
  },
  {
   "cell_type": "code",
   "execution_count": null,
   "metadata": {
    "colab": {},
    "colab_type": "code",
    "id": "pMqYdmDbRPRe"
   },
   "outputs": [],
   "source": [
    "# return a number of points inside the polygon\n",
    "def generate_random(number, polygon, neighborhood):\n",
    "    list_of_points = []\n",
    "    minx, miny, maxx, maxy = polygon.bounds\n",
    "    counter = 0\n",
    "    while counter < number:\n",
    "        x = random.uniform(minx, maxx)\n",
    "        y = random.uniform(miny, maxy)\n",
    "        pnt = Point(x, y)\n",
    "        if polygon.contains(pnt):\n",
    "            list_of_points.append([x,y,neighborhood])\n",
    "            counter += 1\n",
    "    return list_of_points"
   ]
  },
  {
   "cell_type": "code",
   "execution_count": null,
   "metadata": {
    "colab": {},
    "colab_type": "code",
    "id": "2Hm2DHaIRPRh"
   },
   "outputs": [],
   "source": [
    "# Create a map object\n",
    "m = folium.Map(\n",
    "    location=[-5.826592, -35.212558],\n",
    "    zoom_start=11,\n",
    "    tiles='Stamen Terrain'\n",
    ")\n",
    "\n",
    "# Configure geojson layer\n",
    "folium.GeoJson(geo_json_natal).add_to(m)\n",
    "m"
   ]
  },
  {
   "cell_type": "code",
   "execution_count": null,
   "metadata": {
    "colab": {},
    "colab_type": "code",
    "id": "LtpnWQqwRPRj"
   },
   "outputs": [],
   "source": [
    "number_of_points = 3\n",
    "\n",
    "# search all features\n",
    "for feature in geo_json_natal['features']:\n",
    "    # get the name of neighborhood\n",
    "    neighborhood = feature['properties']['name']\n",
    "    # take the coordinates (lat,log) of neighborhood\n",
    "    geom = feature['geometry']['coordinates']\n",
    "    # create a polygon using all coordinates\n",
    "    polygon = Polygon(geom[0])\n",
    "    # return number_of_points by neighborhood as a list [[log,lat],....]\n",
    "    points = generate_random(number_of_points,polygon, neighborhood)\n",
    "    # iterate over all points and print in the map\n",
    "    for i,value in enumerate(points):\n",
    "        log, lat, name = value \n",
    "        # Draw a small circle\n",
    "        folium.CircleMarker([lat,log],\n",
    "                    radius=2,\n",
    "                    popup='%s %s%d' % (name, '#', i),\n",
    "                   color='red').add_to(m)\n",
    "m"
   ]
  },
  {
   "cell_type": "markdown",
   "metadata": {
    "colab_type": "text",
    "id": "QhUX6MyURPRm"
   },
   "source": [
    "## Drawing the Choropleth"
   ]
  },
  {
   "cell_type": "code",
   "execution_count": null,
   "metadata": {
    "colab": {},
    "colab_type": "code",
    "id": "gjMYIhjRRPRn"
   },
   "outputs": [],
   "source": [
    "# verify again the datarn\n",
    "dataRN.head()"
   ]
  },
  {
   "cell_type": "markdown",
   "metadata": {
    "colab_type": "text",
    "id": "oLBBhxd5RPRq"
   },
   "source": [
    "Now we need to create a function that maps one value to a RGB color (of the form #RRGGBB). For this, we'll use colormap tools from branca.colormap."
   ]
  },
  {
   "cell_type": "code",
   "execution_count": null,
   "metadata": {
    "colab": {},
    "colab_type": "code",
    "id": "Xu5YkZfKRPRq",
    "scrolled": true
   },
   "outputs": [],
   "source": [
    "# colormap yellow and green (YlGn)\n",
    "colormap = linear.YlGn_03.scale(\n",
    "    dataRN.POPULAÇÃO_ESTIMADA.min(),\n",
    "    dataRN.POPULAÇÃO_ESTIMADA.max())\n",
    "\n",
    "print(colormap(5000.0))\n",
    "\n",
    "colormap\n"
   ]
  },
  {
   "cell_type": "markdown",
   "metadata": {
    "colab_type": "text",
    "id": "YbPjcYs_RPRt"
   },
   "source": [
    "We need also to convert the table into a dictionary in order to map a feature to it's population estimation."
   ]
  },
  {
   "cell_type": "code",
   "execution_count": null,
   "metadata": {
    "colab": {},
    "colab_type": "code",
    "id": "d9xgW6lvRPRt"
   },
   "outputs": [],
   "source": [
    "population_dict = dataRN.set_index('NOME_DO_MUNICÍPIO')['POPULAÇÃO_ESTIMADA']\n",
    "population_dict[:3]"
   ]
  },
  {
   "cell_type": "markdown",
   "metadata": {
    "colab_type": "text",
    "id": "bRZmXM6iRPRx"
   },
   "source": [
    "Now we can do the choropleth."
   ]
  },
  {
   "cell_type": "code",
   "execution_count": null,
   "metadata": {
    "colab": {},
    "colab_type": "code",
    "id": "h32LpihcRPR1",
    "scrolled": true
   },
   "outputs": [],
   "source": [
    "# option 1\n",
    "\n",
    "# Create a map object\n",
    "m = folium.Map(\n",
    "    location=[-5.826592, -35.212558],\n",
    "    zoom_start=7,\n",
    "    tiles='Stamen Terrain'\n",
    ")\n",
    "\n",
    "# Configure geojson layer\n",
    "folium.GeoJson(\n",
    "    geo_json_data,\n",
    "    name='Population estimation of RN State in 2017',\n",
    "    style_function=lambda feature: {\n",
    "        'fillColor': colormap(population_dict[feature['properties']['description']]),\n",
    "        'color': 'black',\n",
    "        'weight': 1,\n",
    "        'dashArray': '5, 5',\n",
    "        'fillOpacity': 0.9\n",
    "    },\n",
    "    tooltip=folium.GeoJsonTooltip(fields=['name'],\n",
    "                                              labels=False,\n",
    "                                              sticky=False)\n",
    ").add_to(m)\n",
    "\n",
    "colormap.caption = 'Population estimation (2017)'\n",
    "colormap.add_to(m)\n",
    "\n",
    "folium.LayerControl().add_to(m)\n",
    "\n",
    "m\n",
    "\n"
   ]
  },
  {
   "cell_type": "markdown",
   "metadata": {
    "colab_type": "text",
    "id": "NkYunqQWRPR4"
   },
   "source": [
    "Then, in playing with keyword arguments, you can get a choropleth in (almost) one line :\n"
   ]
  },
  {
   "cell_type": "code",
   "execution_count": null,
   "metadata": {
    "colab": {},
    "colab_type": "code",
    "id": "d_gsxpSgRPR5"
   },
   "outputs": [],
   "source": [
    "# option 2\n",
    "\n",
    "# Create a map object\n",
    "m = folium.Map(\n",
    "    location=[-5.826592, -35.212558],\n",
    "    zoom_start=7,\n",
    "    tiles='Stamen Terrain'\n",
    ")\n",
    "\n",
    "# create a threshold of legend\n",
    "threshold_scale = np.linspace(dataRN['POPULAÇÃO_ESTIMADA'].min(),\n",
    "                              dataRN['POPULAÇÃO_ESTIMADA'].max(), 6, dtype=int).tolist()\n",
    "\n",
    "\n",
    "m.choropleth(\n",
    "    geo_data=geo_json_data,\n",
    "    data=dataRN,\n",
    "    columns=['NOME_DO_MUNICÍPIO', 'POPULAÇÃO_ESTIMADA'],\n",
    "    key_on='feature.properties.description',\n",
    "    fill_color='YlGn',\n",
    "    legend_name='Population estimation (2017)',\n",
    "    highlight=True,\n",
    "    threshold_scale = threshold_scale\n",
    ")\n",
    "\n",
    "m\n"
   ]
  },
  {
   "cell_type": "markdown",
   "metadata": {
    "colab_type": "text",
    "id": "w5DRCggrRPR9"
   },
   "source": [
    "\n",
    "**Exercise**\n",
    "\n",
    "<left><img width=\"100\" src=\"https://drive.google.com/uc?export=view&id=1E8tR7B9YYUXsU_rddJAyq0FrM0MSelxZ\"></left>\n",
    "\n",
    "\n",
    "\n",
    "1. Extrapolate the choropleth map (population estimation) in section 5 to Northeast region. \n",
    "2. Choice other metrics from http://dados.gov.br/"
   ]
  },
  {
   "cell_type": "code",
   "execution_count": null,
   "metadata": {},
   "outputs": [],
   "source": [
    "# put your code here"
   ]
  }
 ],
 "metadata": {
  "colab": {
   "name": "Lesson #15 GeoJson.ipynb",
   "provenance": [],
   "version": "0.3.2"
  },
  "kernelspec": {
   "display_name": "Python 3",
   "language": "python",
   "name": "python3"
  },
  "language_info": {
   "codemirror_mode": {
    "name": "ipython",
    "version": 3
   },
   "file_extension": ".py",
   "mimetype": "text/x-python",
   "name": "python",
   "nbconvert_exporter": "python",
   "pygments_lexer": "ipython3",
   "version": "3.6.5"
  }
 },
 "nbformat": 4,
 "nbformat_minor": 2
}
