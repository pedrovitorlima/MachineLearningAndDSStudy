{
 "cells": [
  {
   "cell_type": "markdown",
   "metadata": {},
   "source": [
    "# Histograms and Box Plots"
   ]
  },
  {
   "cell_type": "markdown",
   "metadata": {
    "colab_type": "text",
    "id": "-8zmP5ry1pzo"
   },
   "source": [
    "## Introduction\n"
   ]
  },
  {
   "cell_type": "markdown",
   "metadata": {
    "colab_type": "text",
    "id": "SU8iFVPt2e16"
   },
   "source": [
    "\n",
    "In the last lesson, we learned how to create bar plots to compare the average user rating a movie received from four movie review sites. We also learned how to create scatter plots to explore how ratings on one site compare with ratings on another site. We ended the mission with the observations that user ratings from Metacritic and Rotten Tomatoes spanned a larger range (1.0 to 5.0) while those from Fandango and IMDB spanned a smaller range (2.5 to 5 and 2 to 5 respectively).\n",
    "\n",
    "In this lesson, we'll learn how to visualize the distributions of user ratings using **histograms** and **box plots**. We'll continue working with the same dataset from the last lesson. Recall that you can download the dataset **fandango_scores.csv** from the [FiveThirtEight Github repo](https://github.com/fivethirtyeight/data/tree/master/fandango). We've read the dataset into pandas, selected the columns we're going to work with, and assigned the new Dataframe to **norm_reviews**."
   ]
  },
  {
   "cell_type": "code",
   "execution_count": null,
   "metadata": {
    "colab": {
     "base_uri": "https://localhost:8080/",
     "height": 198
    },
    "colab_type": "code",
    "executionInfo": {
     "elapsed": 663,
     "status": "ok",
     "timestamp": 1538652860929,
     "user": {
      "displayName": "Ivanovitch Silva",
      "photoUrl": "",
      "userId": "06428777505436195303"
     },
     "user_tz": 180
    },
    "id": "l_vCVPY01pzo",
    "outputId": "21fa215b-81c1-4b92-82f9-862470996e6d"
   },
   "outputs": [],
   "source": [
    "import pandas as pd\n",
    "import matplotlib.pyplot as plt\n",
    "\n",
    "# read the dataset\n",
    "reviews = pd.read_csv('fandango_scores.csv')\n",
    "\n",
    "# filtering usefull columns\n",
    "cols = ['FILM', 'RT_user_norm', 'Metacritic_user_nom', 'IMDB_norm', 'Fandango_Ratingvalue']\n",
    "norm_reviews = reviews[cols]\n",
    "norm_reviews.head()"
   ]
  },
  {
   "cell_type": "markdown",
   "metadata": {
    "colab_type": "text",
    "id": "GRCM4dEk1pzv"
   },
   "source": [
    "## Frequency distribution\n"
   ]
  },
  {
   "cell_type": "markdown",
   "metadata": {
    "colab_type": "text",
    "id": "dP6RCKsZ29w9"
   },
   "source": [
    "\n",
    "Let's first compare the **frequency distributions** of user ratings from Fandango with those from IMDB using tables. A column's [frequency distribution](https://en.wikipedia.org/wiki/Frequency_distribution) consists of the unique values in that column along with the count for each of those values (or their frequency). We can use [Series.value_counts()](http://pandas.pydata.org/pandas-docs/stable/generated/pandas.Series.value_counts.html) to return the frequency distribution as Series object:\n",
    "\n",
    "```python\n",
    "freq_counts = norm_reviews['Fandango_Ratingvalue'].value_counts()\n",
    "```\n",
    "\n",
    "The resulting Series object will be sorted by frequency in descending order:\n",
    "\n",
    "<img width=\"200\" alt=\"creating a repo\" src=\"https://drive.google.com/uc?export=view&id=0BxhVm1REqwr0eDJOdG9qMWJ0MUE\">\n",
    "\n",
    "\n",
    "While this ordering is helpful when we're looking to quickly find the most common values in a given column, it's not helpful when trying to understand the range that the values in the column span. We can use [Series.sort_index()](http://pandas.pydata.org/pandas-docs/stable/generated/pandas.Series.sort_index.html) to sort the frequency distribution in ascending order by the values in the column (which make up the index for the Series object):\n",
    "\n",
    "```python\n",
    "freq_counts = norm_reviews['Fandango_Ratingvalue'].value_counts()\n",
    "sorted_freq_counts = freq_counts.sort_index()\n",
    "```\n",
    "\n",
    "Here's what both frequency distributions look like side-by-side:\n",
    "\n",
    "<img width=\"400\" alt=\"creating a repo\" src=\"https://drive.google.com/uc?export=view&id=0BxhVm1REqwr0QWRWN21mM0FzeVU\">\n",
    "\n",
    "\n",
    "**Exercise**\n",
    "\n",
    "<left><img width=\"100\" src=\"https://drive.google.com/uc?export=view&id=1E8tR7B9YYUXsU_rddJAyq0FrM0MSelxZ\"></left>\n",
    "\n",
    "\n",
    "\n",
    "**Description**:\n",
    "\n",
    "1. Use the **value_counts()** method to return the frequency counts for the **Fandango_Ratingvalue** column. Sort the resulting Series object by the index and assign to **fandango_distribution**.\n",
    "2. Use the **value_counts()** method to return frequency counts the **IMDB_norm** column. Sort the resulting Series object by the index and assign to **imdb_distribution**.\n",
    "3. Use the **print()** function to display fandango_distribution and **imdb_distribution**."
   ]
  },
  {
   "cell_type": "code",
   "execution_count": null,
   "metadata": {
    "colab": {},
    "colab_type": "code",
    "id": "sqC0vw_14N4g"
   },
   "outputs": [],
   "source": [
    "# put your code here"
   ]
  },
  {
   "cell_type": "markdown",
   "metadata": {
    "colab_type": "text",
    "id": "gJB1G7xU1pzv"
   },
   "source": [
    "## Binning\n"
   ]
  },
  {
   "cell_type": "markdown",
   "metadata": {
    "colab_type": "text",
    "id": "-BDn_pI94ej3"
   },
   "source": [
    "\n",
    "Because there are only a few unique values, we can quickly scan the frequency counts and confirm that the **Fandango_Ratingvalue** column ranges from 2.7 to 4.8 while the **IMDB_norm** column ranges from 2 to 4.3. While we can quickly determine the minimum and maximum values, we struggle to answer the following questions about a column:\n",
    "\n",
    "- What percent of the ratings are contained in the 2.0 to 4.0 range?\n",
    "    - How does this compare with other sites?\n",
    "- Which values represent the top 25% of the ratings? The bottom 25%?\n",
    "    - How does this compare with other sites?\n",
    "    \n",
    "Comparing frequency distributions is also challenging because the **Fandango_Ratingvalue** column contains 21 unique values while **IMDB_norm** contains 41 unique values. We need a way to compare frequencies across a shared set of values. Because all ratings have been normalized to a range of 0 to 5, we can start by dividing the range of possible values into a series of fixed length intervals, called **bins**. We can then sum the frequencies for the values that fall into each bin. Here's a diagram that makes binning easier to understand:\n",
    "\n",
    "<img width=\"600\" alt=\"creating a repo\" src=\"https://drive.google.com/uc?export=view&id=0BxhVm1REqwr0eGRDTDR1VExkdkU\">\n",
    "\n",
    "\n",
    "The distributions for both of these columns are now easier to compare because of the shared x-axis (the bins). We can now plot the bins along with the frequency sums as a bar plot. This type of plot is called a [histogram](https://en.wikipedia.org/wiki/Histogram). Let's dive right into creating a histogram in matplotlib.\n"
   ]
  },
  {
   "cell_type": "markdown",
   "metadata": {
    "colab_type": "text",
    "id": "qGT3mHwU1pzw"
   },
   "source": [
    "## Histogram in matplotlib\n"
   ]
  },
  {
   "cell_type": "markdown",
   "metadata": {
    "colab_type": "text",
    "id": "M0mbtHc4532N"
   },
   "source": [
    "\n",
    "We can generate a histogram using [Axes.hist()](http://matplotlib.org/api/axes_api.html#matplotlib.axes.Axes.hist). This method has only 1 required parameter, an iterable object containing the values we want a histogram for. By default, matplotlib will:\n",
    "\n",
    "- calculate the minimum and maximum value from the sequence of values we passed in\n",
    "- create 10 bins of equal length that span the range from the minimum to the maximum value\n",
    "- group unique values into the bins\n",
    "- sum up the associated unique values\n",
    "- generate a bar for the frequency sum for each bin\n",
    "\n",
    "The default behavior of **Axes.hist()** is problematic for the use case of comparing distributions for multiple columns using the same binning strategy. This is because the binning strategy for each column would depend on the minimum and maximum values, instead of a shared binning strategy. We can use the range parameter to specify the **range** we want matplotlib to use as a tuple:\n",
    "\n",
    "```python\n",
    "ax.hist(norm_reviews['Fandango_Ratingvalue'], range=(0, 5))\n",
    "```\n",
    "\n",
    "While histograms use bars whose lengths are scaled to the values they're representing, they differ from bar plots in a few ways. Histograms help us visualize continuous values using bins while bar plots help us visualize discrete values. The locations of the bars on the x-axis matter in a histogram but they don't in a simple bar plot. Lastly, bar plots also have gaps between the bars, to emphasize that the values are discrete.\n",
    "\n",
    "\n",
    "**Exercise**\n",
    "\n",
    "<left><img width=\"100\" src=\"https://drive.google.com/uc?export=view&id=1E8tR7B9YYUXsU_rddJAyq0FrM0MSelxZ\"></left>\n",
    "\n",
    "\n",
    "\n",
    "**Description**:\n",
    "\n",
    "1. Create a single subplot and assign the returned Figure object to **fig** and the returned Axes object to **ax**.\n",
    "2. Generate a histogram from the values in the **Fandango_Ratingvalue** column using a range of 0 to 5.\n",
    "3. Use **plt.show()** to display the plot."
   ]
  },
  {
   "cell_type": "code",
   "execution_count": null,
   "metadata": {
    "colab": {},
    "colab_type": "code",
    "id": "6gLvYr185-AX"
   },
   "outputs": [],
   "source": [
    "# put your code here"
   ]
  },
  {
   "cell_type": "markdown",
   "metadata": {
    "colab_type": "text",
    "id": "PshfMRol1pzw"
   },
   "source": [
    "## Comparing histograms\n"
   ]
  },
  {
   "cell_type": "markdown",
   "metadata": {
    "colab_type": "text",
    "id": "q0fLbvZP6BEd"
   },
   "source": [
    "\n",
    "If you recall, one of the questions we were looking to answer was:\n",
    "\n",
    "- What percent of the ratings are contained in the 2.0 to 4.0 range?\n",
    "\n",
    "We can visually examine the proportional area that the bars in the 2.0 to 4.0 range take up and determine that more than 50% of the movies on Fandango fall in this range. We can increase the number of bins from 10 to 20 for improved resolution of the distribution. The length of each bin will be 0.25 (5 / 20) instead of 0.5 (5 / 10). The **bins** parameter for **Axes.hist()** is the 2nd positional parameter, but can also be specified as a named parameter:\n",
    "\n",
    "```python\n",
    "# Either of these will work.\n",
    "ax.hist(norm_reviews['Fandango_Ratingvalue'], 20, range=(0, 5))\n",
    "ax.hist(norm_reviews['Fandango_Ratingvalue'], bins=20, range=(0, 5))\n",
    "```\n",
    "\n",
    "Let's now generate histograms using 20 bins for all four columns. To ensure that the scales for the y-axis are the same for all histograms, let's set them manually using **Axes.set_ylim()**.\n",
    "\n",
    "\n",
    "**Exercise**\n",
    "\n",
    "<left><img width=\"100\" src=\"https://drive.google.com/uc?export=view&id=1E8tR7B9YYUXsU_rddJAyq0FrM0MSelxZ\"></left>\n",
    "\n",
    "\n",
    "**Description**:\n",
    "\n",
    "1. For the subplot associated with **ax1**:\n",
    "    - Generate a histogram of the values in the **Fandango_Ratingvalue** column using **20 bins** and a range of 0 to 5.\n",
    "    - Set the title to **Distribution of Fandango Ratings**.\n",
    "2. For the subplot associated with **ax2**:\n",
    "    - Generate a histogram of the values in the **RT_user_norm** column using **20 bins** and a range of 0 to 5.\n",
    "    - Set the title to **Distribution of Rotten Tomatoes Ratings**.\n",
    "3. For the subplot associated with **ax3**:\n",
    "    - Generate a histogram of the values in the **Metacritic_user_nom** column using **20 bins** and a range of 0 to 5.\n",
    "    - Set the title to **Distribution of Metacritic Ratings**.\n",
    "4. For the subplot associated with **ax4**:\n",
    "    - Generate a histogram of the values in the **IMDB_norm** column using **20 bins** and a range of 0 to 5.\n",
    "    - Set the title to **Distribution of IMDB Ratings**.\n",
    "5. For all subplots:\n",
    "    - Set the y-axis range to 0 to 50 using **Axes.set_ylim()**.\n",
    "    - Set the y-axis label to **Frequency** using **Axes.set_ylabel()**.\n",
    "    - Use **plt.show()** to display the plots."
   ]
  },
  {
   "cell_type": "code",
   "execution_count": null,
   "metadata": {
    "colab": {},
    "colab_type": "code",
    "id": "Qs_7g8Zf6a4b"
   },
   "outputs": [],
   "source": [
    "# put your code here"
   ]
  },
  {
   "cell_type": "markdown",
   "metadata": {
    "colab_type": "text",
    "id": "GnQdIocu1pzx"
   },
   "source": [
    "## Quartiles\n",
    "\n",
    "From the histograms, we can make the following observations:\n",
    "\n",
    "- Around 50% of user ratings from Fandango fall in the 2 to 4 score range\n",
    "- Around 50% of user ratings from Rotten Tomatoes fall in the 2 to 4 score range\n",
    "- Around 75% of the user ratings from Metacritic fall in the 2 to 4 score range\n",
    "- Around 90% of the user ratings from IMDB fall in the 2 to 4 score range\n",
    "\n",
    "While histograms allow us to visually estimate the percentage of ratings that fall into a range of bins, they don't allow us to easily understand how the top 25% or the bottom 25% of the ratings differ across the sites. The bottom 25% of values and top 25% of values both represent [quartiles](https://en.wikipedia.org/wiki/Quartile). The four quartiles divide the range of values into four regions where each region contains 1/4th of the total values.\n",
    "\n",
    "While these regions may sound similar to bins, they differ in how values are grouped into each region. Each bin covers an equal proportion of the values in the range. On the other hand, each quantile covers an equal number of values (1/4th of the total values). To visualize quartiles, we need to use a box plot, also referred to as a [box-and-whisker plot](https://en.wikipedia.org/wiki/Box_plot)."
   ]
  },
  {
   "cell_type": "markdown",
   "metadata": {
    "colab_type": "text",
    "id": "vP9ayO_91pzy"
   },
   "source": [
    "## Box plot\n"
   ]
  },
  {
   "cell_type": "markdown",
   "metadata": {
    "colab_type": "text",
    "id": "bqwngH_T7SVe"
   },
   "source": [
    "\n",
    "A box plot consists of **box-and-whisker** diagrams, which represents the different quartiles in a visual way. Here's a box plot of the values in the **RT_user_norm** column:\n",
    "\n",
    "<img width=\"400\" alt=\"creating a repo\" src=\"https://drive.google.com/uc?export=view&id=0BxhVm1REqwr0R1loNlM0cjI5ZU0\">\n",
    "\n",
    "The two regions contained within the box in the middle make up the **interquartile range**, or **IQR**. The [IQR](https://en.wikipedia.org/wiki/Interquartile_range) is used to measure dispersion of the values. The ratio of the length of the box to the whiskers around the box helps us understand how values in the distribution are spread out.\n",
    "\n",
    "We can generate a boxplot using [Axes.boxplot()](http://matplotlib.org/api/axes_api.html#matplotlib.axes.Axes.boxplot).\n",
    "\n",
    "```python\n",
    "ax.boxplot(norm_reviews['RT_user_norm'])\n",
    "```\n",
    "\n",
    "Matplotlib will sort the values, calculate the quartiles that divide the values into four equal regions, and generate the box and whisker diagram.\n",
    "\n",
    "\n",
    "**Exercise**\n",
    "\n",
    "<left><img width=\"100\" src=\"https://drive.google.com/uc?export=view&id=1E8tR7B9YYUXsU_rddJAyq0FrM0MSelxZ\"></left>\n",
    "\n",
    "**Description**:\n",
    "\n",
    "1. Create a single subplot and assign the returned Figure object to **fig** and the returned Axes object to **ax**.\n",
    "2. Generate a box plot from the values in the **RT_user_norm** column.\n",
    "    - Set the y-axis limit to range from 0 to 5.\n",
    "    - Set the x-axis tick label to **Rotten Tomatoes**.\n",
    "3. Use **plt.show()** to display the plot."
   ]
  },
  {
   "cell_type": "code",
   "execution_count": null,
   "metadata": {
    "colab": {},
    "colab_type": "code",
    "id": "t5OuU7Co7ceX"
   },
   "outputs": [],
   "source": [
    "# put your code here"
   ]
  },
  {
   "cell_type": "markdown",
   "metadata": {
    "colab_type": "text",
    "id": "2D5g7cwr1pzz"
   },
   "source": [
    "## Multiple box plots\n",
    "\n",
    "From the box plot we generated using Rotten Tomatoes ratings, we can conclude that:\n",
    "- the bottom 25% of user ratings range from around 1 to 2.5\n",
    "- the top 25% of of user ratings range from around 4 to 4.6\n",
    "\n",
    "To compare the lower and upper ranges with those for the other columns, we need to generate multiple box-and-whisker diagrams in the same box plot. When selecting multiple columns to pass in to **Axes.boxplot()**, we need to use the **values** accessor to return a multi-dimensional numpy array:\n",
    "\n",
    "```ptyhon\n",
    "num_cols = ['RT_user_norm', 'Metacritic_user_nom', 'IMDB_norm', 'Fandango_Ratingvalue', 'Fandango_Stars']\n",
    "ax.boxplot(norm_reviews[num_cols].values)\n",
    "```\n",
    "\n",
    "**Exercise**\n",
    "\n",
    "<left><img width=\"100\" src=\"https://drive.google.com/uc?export=view&id=1E8tR7B9YYUXsU_rddJAyq0FrM0MSelxZ\"></left>\n",
    "\n",
    "\n",
    "**Description**:\n",
    "\n",
    "1. Create a single subplot and assign the returned Figure object to **fig** and the returned Axes object to **ax**.\n",
    "2. Generate a box plot containing a box-and-whisker diagram for each column in **num_cols**.\n",
    "3. Set the x-axis tick labels to the column names in **num_cols** and rotate the ticks by **90 degrees**.\n",
    "4. Set the y-axis limit to range from 0 to 5.\n",
    "5. Use **plt.show()** to display the plot."
   ]
  },
  {
   "cell_type": "code",
   "execution_count": null,
   "metadata": {
    "colab": {},
    "colab_type": "code",
    "id": "BiJookL_7ivR"
   },
   "outputs": [],
   "source": [
    "# put your code here"
   ]
  },
  {
   "cell_type": "markdown",
   "metadata": {
    "colab_type": "text",
    "id": "fvPVGsQ_1pz0"
   },
   "source": [
    "## Conclusion\n",
    "\n",
    "From the boxplot, we can reach the following conclusions:\n",
    "\n",
    "- user ratings from Rotten Tomatoes and Metacritic span a larger range of values\n",
    "- user ratings from IMDB and Fandango are both skewed in the positive direction and span a more constrained range of values"
   ]
  },
  {
   "cell_type": "markdown",
   "metadata": {},
   "source": [
    "# Pandas and Matplotlib"
   ]
  },
  {
   "cell_type": "markdown",
   "metadata": {},
   "source": [
    "## Introduction\n",
    "\n",
    "In this section we will be discussing the simple interface that [Pandas](https://pandas.pydata.org/pandas-docs/stable/generated/pandas.DataFrame.plot.html) provides for interacting with the matplotlib library. In addition, we'll also take a look at the recent changes the matplotlib team has made to make it possible for the two libraries to work together more harmoniously.\n",
    "\n",
    "Firstly, we will import the same dataset used in the previous Jupyter Notebooks."
   ]
  },
  {
   "cell_type": "code",
   "execution_count": null,
   "metadata": {},
   "outputs": [],
   "source": [
    "import pandas as pd\n",
    "import matplotlib.pyplot as plt\n",
    "\n",
    "# read the dataset\n",
    "reviews = pd.read_csv('fandango_scores.csv')\n",
    "\n",
    "# filtering usefull columns\n",
    "cols = ['FILM', 'RT_user_norm', 'Metacritic_user_nom', 'IMDB_norm', 'Fandango_Ratingvalue']\n",
    "norm_reviews = reviews[cols]\n",
    "norm_reviews.head()"
   ]
  },
  {
   "cell_type": "markdown",
   "metadata": {},
   "source": [
    "## Histogram \n",
    "\n",
    "Just like we did in our EDA example from previous notebooks, we can once again create a simple histogram from our data. This time though, notice that we simply call the <span style=\"background-color: #F9EBEA; color:##C0392B\">hist</span> command on the column that contains the education level to plot our data."
   ]
  },
  {
   "cell_type": "code",
   "execution_count": null,
   "metadata": {
    "scrolled": true
   },
   "outputs": [],
   "source": [
    "# using only one column\n",
    "norm_reviews.Fandango_Ratingvalue.hist(bins=20, range=(0,5))"
   ]
  },
  {
   "cell_type": "code",
   "execution_count": null,
   "metadata": {
    "scrolled": false
   },
   "outputs": [],
   "source": [
    "# other way to do the same thing\n",
    "norm_reviews.Fandango_Ratingvalue.plot(kind='hist', bins=20, range=(0,5))"
   ]
  },
  {
   "cell_type": "code",
   "execution_count": null,
   "metadata": {},
   "outputs": [],
   "source": [
    "# using all information available\n",
    "norm_reviews.plot(kind='hist', bins=20, range=(0,5), alpha=0.3)"
   ]
  },
  {
   "cell_type": "code",
   "execution_count": null,
   "metadata": {},
   "outputs": [],
   "source": [
    "# other way to do the same\n",
    "norm_reviews.plot(kind='hist', bins=20, range=(0,5), stacked=True);"
   ]
  },
  {
   "cell_type": "markdown",
   "metadata": {},
   "source": [
    "## Boxplot"
   ]
  },
  {
   "cell_type": "code",
   "execution_count": null,
   "metadata": {},
   "outputs": [],
   "source": [
    "norm_reviews.Fandango_Ratingvalue.plot(kind='box')"
   ]
  },
  {
   "cell_type": "code",
   "execution_count": null,
   "metadata": {
    "scrolled": true
   },
   "outputs": [],
   "source": [
    "norm_reviews.plot(kind='box',rot=90)"
   ]
  },
  {
   "cell_type": "markdown",
   "metadata": {},
   "source": [
    "## Scatter"
   ]
  },
  {
   "cell_type": "code",
   "execution_count": null,
   "metadata": {
    "scrolled": false
   },
   "outputs": [],
   "source": [
    "norm_reviews.plot(kind='scatter',x='RT_user_norm', y='Fandango_Ratingvalue')"
   ]
  },
  {
   "cell_type": "markdown",
   "metadata": {},
   "source": [
    "# Case Study: Visualizing Earnings Based On College Majors"
   ]
  },
  {
   "cell_type": "markdown",
   "metadata": {},
   "source": [
    "## Introduction\n",
    "\n",
    "In this lesson, we've been creating plots using pyplot and matplotlib directly. When we want to explore a new dataset by quickly creating visualizations, using these tools directly can be cumbersome. Thankfully, pandas has many methods for quickly generating common plots from data in DataFrames. Like **pyplot**, **the plotting functionality in pandas is a wrapper for matplotlib**. This means we can customize the plots when necessary by accessing the underlying **Figure**, **Axes**, and other matplotlib objects.\n",
    "\n",
    "In this **case study**, we'll explore how using the pandas plotting functionality along with the Jupyter notebook interface allows us to explore data quickly using visualizations. \n",
    "\n",
    "We'll be working with a **dataset** on the **job outcomes of students** who graduated from college between 2010 and 2012. The original data on job outcomes was released by [American Community Survey](https://www.census.gov/programs-surveys/acs/), which conducts surveys and aggregates the data. [FiveThirtyEight](https://github.com/fivethirtyeight/data/tree/master/college-majors) cleaned the dataset and released it on their Github repo.\n",
    "\n",
    "Each row in the dataset represents a different major in college and contains information on gender diversity, employment rates, median salaries, and more. Here are some of the columns in the dataset:\n",
    "\n",
    "- **Rank** - Rank by median earnings (the dataset is ordered by this column).\n",
    "- **Major_code** - Major code.\n",
    "- **Major** - Major description.\n",
    "- **Major_category** - Category of major.\n",
    "- **Total** - Total number of people with major.\n",
    "- **Sample_size** - Sample size (unweighted) of full-time.\n",
    "- **Men** - Male graduates.\n",
    "- **Women** - Female graduates.\n",
    "- **ShareWomen** - Women as share of total.\n",
    "- **Employed** - Number employed.\n",
    "- **Median** - Median salary of full-time, year-round workers.\n",
    "- **Low_wage_jobs** - Number in low-wage service jobs.\n",
    "- **Full_time** - Number employed 35 hours or more.\n",
    "- **Part_time** - Number employed less than 35 hours.\n",
    "\n",
    "Using visualizations, we can start to explore questions from the dataset like:\n",
    "\n",
    "- **Do students in more popular majors make more money**?\n",
    "    - Using scatter plots\n",
    "- **How many majors are predominantly male? Predominantly female**?\n",
    "    - Using histograms\n",
    "- **Which category of majors have the most students**?\n",
    "    - Using bar plots\n",
    "    \n",
    "We'll explore how to do these and more while primarily **working in pandas**. Before we start creating data visualizations, let's import the libraries we need and **remove rows** containing **null** values.\n",
    "\n",
    "**Exercise**\n",
    "\n",
    "<left><img width=\"100\" src=\"https://drive.google.com/uc?export=view&id=1E8tR7B9YYUXsU_rddJAyq0FrM0MSelxZ\"></left>\n",
    "\n",
    "- Read the dataset into a DataFrame and **start exploring the data**.\n",
    "    - Read **recent-grads.csv** into **pandas** and assign the resulting DataFrame to **recent_grads**.\n",
    "    - Use **DataFrame.iloc[]** to return the first row formatted as a table.\n",
    "    - Use **DataFrame.head()** and **DataFrame.tail()** to become familiar with how the data is structured.\n",
    "    - Use **DataFrame.describe()** to generate **summary statistics** for all of the numeric columns.\n",
    "- **Drop rows with missing values**. Matplotlib expects that columns of values we pass in have matching lengths and missing values will cause matplotlib to throw errors.\n",
    "    - Look up the number of rows in **recent_grads** and assign the value to **raw_data_count**.\n",
    "    - Use **DataFrame.dropna()** to drop rows containing missing values and assign the resulting DataFrame back to **recent_grads**.\n",
    "    - Look up the number of rows in **recent_grads** now and assign the value to **cleaned_data_count**. If you compare **cleaned_data_count** and **raw_data_count**, you'll notice that only one row contained missing values and was dropped.\n",
    "\n",
    "```python\n",
    "# tip to see all columns\n",
    "pd.set_option('display.max_columns', 500)\n",
    "```"
   ]
  },
  {
   "cell_type": "code",
   "execution_count": null,
   "metadata": {},
   "outputs": [],
   "source": [
    "# put your code here"
   ]
  },
  {
   "cell_type": "markdown",
   "metadata": {},
   "source": [
    "## Pandas and Scatter Plot\n",
    "\n",
    "Most of the plotting functionality in pandas is contained within the [DataFrame.plot()](https://pandas.pydata.org/pandas-docs/stable/generated/pandas.DataFrame.plot.html) method. When we call this method, we specify the data we want plotted as well as the type of plot. We use the **kind** parameter to specify the type of plot we want. We use x and y to specify the data we want on each axis. You can read about the different parameters in the [documentation](https://pandas.pydata.org/pandas-docs/stable/generated/pandas.DataFrame.plot.html).\n",
    "\n",
    "```python\n",
    "recent_grads.plot(x='Sample_size', y='Employed', kind='scatter')\n",
    "```\n",
    "\n",
    "If you create a new cell in jupyter notebook and run the above code, the scatter plot will be displayed immediately. This functionality is a byproduct of running the jupyter magic **%matplotlib inline**. This means we can write one line of code to generate a scatter plot, run the cell using a keyboard shortcut, inspect the plot, and repeat. The **DataFrame.plot()** method has a few parameters we can use for tweaking the scatter plot:\n",
    "\n",
    "```python\n",
    "recent_grads.plot(x='Sample_size', y='Employed', kind='scatter', title='Employed vs. Sample_size', figsize=(5,10))\n",
    "```\n",
    "\n",
    "We can access the underlying **matplotlib Axes** object by assigning the return value to a variable:\n",
    "\n",
    "```python\n",
    "ax = recent_grads.plot(x='Sample_size', y='Employed', kind='scatter')\n",
    "ax.set_title('Employed vs. Sample_size')\n",
    "```\n",
    "\n",
    "When you run the code above in a jupyter notebook cell, the plot will be returned inline just like before.\n",
    "\n",
    "**Exercise**\n",
    "\n",
    "<left><img width=\"100\" src=\"https://drive.google.com/uc?export=view&id=1E8tR7B9YYUXsU_rddJAyq0FrM0MSelxZ\"></left>\n",
    "\n",
    "\n",
    "- Generate scatter plots in separate jupyter notebook cells to explore the following relations:\n",
    "    - **Full_time** and **Median**\n",
    "    - **ShareWomen** and **Unemployment_rate**\n",
    "    - **Men** and **Median**\n",
    "    - **Women** and **Median**\n",
    "- Use the plots to explore the following questions:\n",
    "    - Do students in more popular majors make more money?\n",
    "    - Do students that majored in subjects that were majority female make more money?\n",
    "    - Is there any link between the number of full-time employees and median salary?"
   ]
  },
  {
   "cell_type": "code",
   "execution_count": 105,
   "metadata": {},
   "outputs": [],
   "source": [
    "# put your code here"
   ]
  },
  {
   "cell_type": "markdown",
   "metadata": {},
   "source": [
    "## Pandas and Histograms\n",
    "\n",
    "To explore the distribution of values in a column, we can select it from the DataFrame, call [Series.plot()](http://pandas.pydata.org/pandas-docs/stable/generated/pandas.Series.plot.html), and set the **kind** parameter to **hist**:\n",
    "\n",
    "```python\n",
    "recent_grads['Sample_size'].plot(kind='hist')\n",
    "```\n",
    "\n",
    "The **DataFrame.plot()** and **Series.plot()** methods have many of the same parameters but are used for different use cases. We use **Series.plot()** to plot a specific column and **DataFrame.plot()** to generate plots that use values from multiple columns. For example, because scatter plots are generated using 2 sets of values (one for each axis), **we can't create a scatter plot using Series.plot()**.\n",
    "\n",
    "If you've looked at the documentation for **Series.plot()**, **you'll notice there is no way to control the binning strategy for histograms**. Luckily, we can control the **binning** strategy of a histogram using **Series.hist()**, which contains parameters specific to customizing histograms:\n",
    "\n",
    "```python\n",
    "recent_grads['Sample_size'].hist(bins=25, range=(0,5000))\n",
    "```\n",
    "\n",
    "**Exercise**\n",
    "\n",
    "<left><img width=\"100\" src=\"https://drive.google.com/uc?export=view&id=1E8tR7B9YYUXsU_rddJAyq0FrM0MSelxZ\"></left>\n",
    "\n",
    "\n",
    "- Generate histograms in separate jupyter notebook cells to explore the distributions of the following columns:\n",
    "    - **Median**\n",
    "    - **Employed**\n",
    "    - **Full_time**\n",
    "    - **ShareWomen**\n",
    "    - **Unemployment_rate**\n",
    "    - **Men**\n",
    "    - **Women**\n",
    "- We encourage you to experiment with **different bin sizes** and **ranges** when generating these histograms.\n",
    "- Use the plots to explore the following questions:\n",
    "    - What percent of majors are predominantly male? Predominantly female?\n",
    "    - What's the most common median salary range?\n"
   ]
  },
  {
   "cell_type": "code",
   "execution_count": null,
   "metadata": {},
   "outputs": [],
   "source": [
    "# put your code here"
   ]
  },
  {
   "cell_type": "markdown",
   "metadata": {},
   "source": [
    "## Pandas, Scatter Matrix Plot\n",
    "\n",
    "In the last 2 subsections, we created individual scatter plots to visualize potential relationships between columns and histograms to visualize the distributions of individual columns. A **scatter matrix plot** combines both scatter plots and histograms into one grid of plots and allows us to explore potential relationships and distributions simultaneously. A scatter matrix plot consists of n by n plots on a grid, where n is the number of columns, the plots on the diagonal are histograms, and the non-diagonal plots are scatter plots.\n",
    "\n",
    "<img width=\"600\" src=\"https://drive.google.com/uc?export=view&id=1M5BYziXLOieASnYghz7oCDAmte_ntrM3\">\n",
    "\n",
    "Because scatter matrix plots are frequently used in the exploratory data analysis, pandas contains a function named **scatter_matrix()** that generates the plots for us. This function is part of the **pandas.plotting** module and needs to be imported separately. To generate a scatter matrix plot for 2 columns, select just those 2 columns and pass the resulting DataFrame into the **scatter_matrix()** function.\n",
    "\n",
    "```python\n",
    "pd.plotting.scatter_matrix(recent_grads[['Women', 'Men']], figsize=(10,10))\n",
    "```\n",
    "\n",
    "While passing in a DataFrame with 2 columns returns a 2 by 2 scatter matrix plot (4 plots total), passing in one with 3 returns a 3 by 3 scatter matrix plot (9 plots total). This means that the number of plots generated scales exponentially by a factor of 2, not linearly. If you increase the number of columns to 4 or more, the resulting grid of plots becomes unreadable and difficult to interpret (even if you increase the plotting area using the **figsize** parameter).\n",
    "\n",
    "If you want to read more about the parameters the function accepts, head to the [documentation](https://pandas.pydata.org/pandas-docs/stable/generated/pandas.plotting.scatter_matrix.html).\n",
    "\n",
    "\n",
    "**Exercise**\n",
    "\n",
    "<left><img width=\"100\" src=\"https://drive.google.com/uc?export=view&id=1E8tR7B9YYUXsU_rddJAyq0FrM0MSelxZ\"></left>\n",
    "\n",
    "- Import **scatter_matrix** from the **pandas.plotting module.**\n",
    "- Create a 2 by 2 scatter matrix plot using the **Sample_size** and **Median** columns.\n",
    "- Create a 3 by 3 scatter matrix plot using the **Sample_size**, **Median**, and **Unemployment_rate columns**.\n",
    "- Explore the questions from the last few steps using these scatter matrix plots. You may need to create more scatter matrix plots.\n"
   ]
  },
  {
   "cell_type": "code",
   "execution_count": null,
   "metadata": {},
   "outputs": [],
   "source": [
    "# put your code here"
   ]
  },
  {
   "cell_type": "markdown",
   "metadata": {},
   "source": [
    "## Pandas and Bar Plot\n",
    "\n",
    "To create bar plots in matplotlib, we had to specify many aspects of the bar plot ourselves. We had to specify the locations, labels, lengths, and widths of the bars. When creating bar plots using pandas, we only need specify the data we want the bars to represent and the labels for each bar. The following code returns a bar plot of the first 5 values in the Women column:\n",
    "\n",
    "```python\n",
    "recent_grads[:5]['Women'].plot(kind='bar')\n",
    "```\n",
    "\n",
    "By default, pandas will use the default labels on the x-axis for each bar (1 to n) from matplotlib. If we instead use the DataFrame.plot.bar() method, we can use the x parameter to specify the labels and the y parameter to specify the data for the bars:\n",
    "\n",
    "```python\n",
    "recent_grads[:5].plot.bar(x='Major', y='Women')\n",
    "```\n",
    "\n",
    "**Exercise**\n",
    "\n",
    "<left><img width=\"100\" src=\"https://drive.google.com/uc?export=view&id=1E8tR7B9YYUXsU_rddJAyq0FrM0MSelxZ\"></left>\n",
    "\n",
    "- Use bar plots to compare the percentages of women (**ShareWomen**) from the first 10 rows and last 10 rows of a sorted dataframe.\n",
    "- Use bar plots to compare the unemployment rate (**Unemployment_rate**) from the first 10 rows and last 10 rows of a sorted dataframe.\n"
   ]
  },
  {
   "cell_type": "code",
   "execution_count": null,
   "metadata": {},
   "outputs": [],
   "source": [
    "# put your code here"
   ]
  },
  {
   "cell_type": "markdown",
   "metadata": {},
   "source": [
    "## Next steps\n",
    "\n",
    "In this **Study Case**, we learned how to use the plotting tools built into pandas to explore data on job outcomes. If you head over to the documentation on [plotting in pandas](http://pandas.pydata.org/pandas-docs/stable/visualization.html), you'll notice that there's built in support for many more plots.\n",
    "\n",
    "We encourage you to keep exploring these other visualizations on your own. Here are some ideas:\n",
    "\n",
    "- Use a grouped bar plot to compare the number of men with the number of women in each category of majors.\n",
    "- Use a box plot to explore the distributions of median salaries and unemployment rate.\n",
    "- Use a hexagonal bin plot to visualize the columns that had dense scatter plots from earlier in the Case Study."
   ]
  }
 ],
 "metadata": {
  "kernelspec": {
   "display_name": "Python 3",
   "language": "python",
   "name": "python3"
  },
  "language_info": {
   "codemirror_mode": {
    "name": "ipython",
    "version": 3
   },
   "file_extension": ".py",
   "mimetype": "text/x-python",
   "name": "python",
   "nbconvert_exporter": "python",
   "pygments_lexer": "ipython3",
   "version": "3.6.5"
  }
 },
 "nbformat": 4,
 "nbformat_minor": 2
}
