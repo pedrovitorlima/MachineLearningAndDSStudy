{
 "cells": [
  {
   "cell_type": "markdown",
   "metadata": {},
   "source": [
    "# Visualizing Geographic Data"
   ]
  },
  {
   "cell_type": "markdown",
   "metadata": {
    "colab_type": "text",
    "id": "2VW1bCtNu5wE"
   },
   "source": [
    "## Geographic Data\n"
   ]
  },
  {
   "cell_type": "markdown",
   "metadata": {
    "colab_type": "text",
    "id": "ZBCbmZAhwwT5"
   },
   "source": [
    "\n",
    "From **scientific fields** like **meteorology** and **climatology**, through to the software on our smartphones like **Google Maps** and **Facebook** check-ins, geographic data is always present in our everyday lives. Raw geographic data like **latitudes** and **longitudes** are difficult to understand using the data charts and plots we've discussed so far. To explore this kind of data, you'll need to learn how to visualize the data on maps.\n",
    "\n",
    "In this section, we'll explore the fundamentals of geographic coordinate systems and how to work with the basemap library to plot geographic data points on maps. We'll be working with flight data from the [openflights website](http://openflights.org/data.html). Here's a breakdown of the files we'll be working with and the most pertinent columns from each dataset:\n",
    "\n",
    "- **airlines.csv** - data on each airline.\n",
    "    - **country** - where the airline is headquartered.\n",
    "    - **active** - if the airline is still active.\n",
    "- **airports.csv** - data on each airport.\n",
    "    - **name** - name of the airport.\n",
    "    - **city** - the airport is located.\n",
    "    - **country** - country the airport is located.\n",
    "    - **code** - unique airport code.\n",
    "    - **latitude** - latitude value.\n",
    "    - **longitude** - longitude value.\n",
    "- **routes.csv** - data on each flight route.\n",
    "    - **airline** - airline for the route.\n",
    "    - **source** - starting city for the route.\n",
    "    - **dest** - destination city for the route.\n",
    "\n",
    "We can explore a range of interesting questions and ideas using these datasets:\n",
    "\n",
    "- For each airport, which destination airport is the most common?\n",
    "\n",
    "- Which cities are the most important hubs for airports and airlines?\n",
    "\n",
    "Before diving into coordinate systems, explore the datasets in the code cell below.\n",
    "\n",
    "**Exercise**\n",
    "\n",
    "<left><img width=\"100\" src=\"https://drive.google.com/uc?export=view&id=1E8tR7B9YYUXsU_rddJAyq0FrM0MSelxZ\"></left>\n",
    "\n",
    "\n",
    "- Read in the 3 CSV files into 3 separate dataframe objects - **airlines**, **airports**, and **routes**.\n",
    "- Use the **DataFrame.iloc[]** method to return the first row in each dataframe as a neat table.\n",
    "- Display the first rows for all dataframes using the print() function. Try to answer the following questions:\n",
    "  - What's the best way to link the data from these 3 different datasets together?\n",
    "  - What are the formats of the latitude and longitude values?"
   ]
  },
  {
   "cell_type": "code",
   "execution_count": null,
   "metadata": {
    "colab": {},
    "colab_type": "code",
    "id": "FQC4Jx3szXt1"
   },
   "outputs": [],
   "source": [
    "# put your code here"
   ]
  },
  {
   "cell_type": "markdown",
   "metadata": {
    "colab_type": "text",
    "id": "ldcnkc3lu5wM"
   },
   "source": [
    "## Geographic coordinate systems\n"
   ]
  },
  {
   "cell_type": "markdown",
   "metadata": {
    "colab_type": "text",
    "id": "xpHDPWt-0UEq"
   },
   "source": [
    "\n",
    "A geographic coordinate system allows us to locate any point on Earth using latitude and longitude coordinates.\n",
    "\n",
    "<img width=\"600\" alt=\"creating a repo\" src=\"https://drive.google.com/uc?export=view&id=0BxhVm1REqwr0RVJ6c1U2Rl8wdWM\">\n",
    "\n",
    "| Name                              | City          | State | Latitude  | Longitude   |\n",
    "|-----------------------------------|---------------|-------|-----------|-------------|\n",
    "| White House                       | Washington    | DC    | 38.898166 | -77.036441  |\n",
    "| Alcatraz Island                   | San Francisco | CA    | 37.827122 | -122.422934 |\n",
    "| Instituto Metrópole Digital       | Natal         | RN    | -5.831997 | -35.205415  |\n",
    "\n",
    "A [map projection](https://en.wikipedia.org/wiki/Map_projection) transforms points on a sphere to a two-dimensional plane. When projecting down to the two-dimensional plane, some properties are distorted. Each map projection makes trade-offs in what properties to preserve and you can read about the different trade-offs [here](https://en.wikipedia.org/wiki/Map_projection#Metric_properties_of_maps). We'll use the [Mercator](https://en.wikipedia.org/wiki/Mercator_projection) projection, because it is commonly used by popular mapping software."
   ]
  },
  {
   "cell_type": "markdown",
   "metadata": {
    "colab_type": "text",
    "id": "ORSzgcZSu5wM"
   },
   "source": [
    "## Installing Basemap\n"
   ]
  },
  {
   "cell_type": "markdown",
   "metadata": {
    "colab_type": "text",
    "id": "7jQS-7aP15Eb"
   },
   "source": [
    "\n",
    "Before we convert our flight data to Cartesian coordinates and plot it, let's learn more about the [basemap toolkit](http://matplotlib.org/basemap/). Basemap is an extension to Matplotlib that makes it easier to work with geographic data. The [documentation for basemap](http://matplotlib.org/basemap/users/intro.html) provides a good high-level overview of what the library does:\n",
    "\n",
    "The matplotlib basemap toolkit is a library for plotting 2D data on maps in Python. Basemap does not do any plotting on it’s own, but provides the facilities to transform coordinates to one of 25 different map projections.\n",
    "Basemap makes it easy to convert from the spherical coordinate system (latitudes & longitudes) to the Mercator projection. While basemap uses Matplotlib to actually draw and control the map, the library provides many methods that enable us to work with maps quickly. Before we dive into how basemap works, let's get familiar with how to install it.\n",
    "\n",
    "The easiest way to install basemap is through Anaconda. \n",
    "\n",
    "```python\n",
    "conda install -c conda-forge basemap\n",
    "```\n",
    "\n",
    "The Basemap library has some external dependencies that Anaconda handles the installation for. To test the installation, run the following import code:\n",
    "\n",
    "```python\n",
    "from mpl_toolkits.basemap import Basemap\n",
    "```\n",
    "\n",
    "Because basemap uses matplotlib, you'll want to import **matplotlib.pyplot** into your environment when you use Basemap."
   ]
  },
  {
   "cell_type": "code",
   "execution_count": null,
   "metadata": {},
   "outputs": [],
   "source": [
    "!conda install -c conda-forge basemap -y"
   ]
  },
  {
   "cell_type": "markdown",
   "metadata": {
    "colab_type": "text",
    "id": "4qTn-wK3u5wN"
   },
   "source": [
    "## Workflow with basemap\n"
   ]
  },
  {
   "cell_type": "markdown",
   "metadata": {
    "colab_type": "text",
    "id": "LUpJp9tz4jIV"
   },
   "source": [
    "\n",
    "Here's what the general workflow will look like when working with two-dimensional maps:\n",
    "\n",
    "- Create a new basemap instance with the specific map projection we want to use and how much of the map we want included.\n",
    "- Convert spherical coordinates to Cartesian coordinates using the basemap instance.\n",
    "- Use the matplotlib and basemap methods to customize the map.\n",
    "- Display the map.\n",
    "\n",
    "Let's focus on the first step and create a new basemap instance. To create a new instance of the basemap class, we call the [basemap constructor](http://matplotlib.org/basemap/api/basemap_api.html#mpl_toolkits.basemap.Basemap) and pass in values for the required parameters:\n",
    "\n",
    "- **projection**: the map projection.\n",
    "- **llcrnrlat**: latitude of lower left hand corner of the desired map domain\n",
    "- **urcrnrlat**: latitude of upper right hand corner of the desired map domain\n",
    "- **llcrnrlon**: longitude of lower left hand corner of the desired map domain\n",
    "- **urcrnrlon**: longitude of upper right hand corner of the desired map domain\n",
    "\n",
    "**Exercise**\n",
    "\n",
    "<left><img width=\"100\" src=\"https://drive.google.com/uc?export=view&id=1E8tR7B9YYUXsU_rddJAyq0FrM0MSelxZ\"></left>\n",
    "\n",
    "\n",
    "1. Create a new basemap instance with the following parameters:\n",
    "  - **projection**: \"merc\"\n",
    "  - **llcrnrlat**: -80 degrees\n",
    "  - **urcrnrlat**: 80 degrees\n",
    "  - **llcrnrlon**: -180 degrees\n",
    "  - **urcrnrlon**: 180 degrees\n",
    "2. Assign the instance to the new variable **m**."
   ]
  },
  {
   "cell_type": "code",
   "execution_count": null,
   "metadata": {
    "colab": {},
    "colab_type": "code",
    "id": "sXrLfUxFu5wN"
   },
   "outputs": [],
   "source": [
    "import matplotlib.pyplot as plt\n",
    "from mpl_toolkits.basemap import Basemap\n",
    "\n",
    "# put your code here"
   ]
  },
  {
   "cell_type": "markdown",
   "metadata": {
    "colab_type": "text",
    "id": "1Ka08H8ru5wR"
   },
   "source": [
    "## Converting From Spherical to Cartesian Coordinates\n"
   ]
  },
  {
   "cell_type": "markdown",
   "metadata": {
    "colab_type": "text",
    "id": "KG2qsBRe6feI"
   },
   "source": [
    "\n",
    "As we mentioned before, we need to convert latitude and longitude values to Cartesian coordinates to display them on a two-dimensional map. We can pass in a list of latitude and longitude values into the basemap instance and it will return back converted lists of longitude and latitude values using the projection we specified earlier. The constructor only accepts list values, so we'll need to use [Series.tolist()](http://pandas.pydata.org/pandas-docs/stable/generated/pandas.Series.tolist.html) to convert the **longitude** and **latitude** columns from the **airports** dataframe to lists. Then, we pass them to the basemap instance with the longitude values first then the latitude values:\n",
    "\n",
    "```python\n",
    "x, y = m(longitudes, latitudes)\n",
    "```\n",
    "\n",
    "The basemap object will return 2 list objects, which we assign to x and y. Finally, we display the first 5 elements of the original longitude values, original latitude values, the converted longitude values, and the converted latitude values.\n",
    "\n",
    "**Exercise**\n",
    "\n",
    "<left><img width=\"100\" src=\"https://drive.google.com/uc?export=view&id=1E8tR7B9YYUXsU_rddJAyq0FrM0MSelxZ\"></left>\n",
    "\n",
    "\n",
    "1. Convert the longitude values from spherical to Cartesian and assign the resulting list to **x**.\n",
    "2. Convert the latitude values from spherical to Cartesian and assign the resulting list to **y**."
   ]
  },
  {
   "cell_type": "code",
   "execution_count": null,
   "metadata": {
    "colab": {},
    "colab_type": "code",
    "id": "QKMA3CC-70gs"
   },
   "outputs": [],
   "source": [
    "# put your code here"
   ]
  },
  {
   "cell_type": "markdown",
   "metadata": {
    "colab_type": "text",
    "id": "yk0tH2eMu5wR"
   },
   "source": [
    "## Generating a scatter plot\n"
   ]
  },
  {
   "cell_type": "markdown",
   "metadata": {
    "colab_type": "text",
    "id": "QQE4iIj48cO5"
   },
   "source": [
    "\n",
    "\n",
    "Now that the data is in the right format, we can plot the coordinates on a map. A scatter plot is the simplest way to plot points on a map, where each point is represented as an (x, y) coordinate pair. To create a scatter plot from a list of x and y coordinates, we use the [basemap.scatter()](http://matplotlib.org/basemap/api/basemap_api.html#mpl_toolkits.basemap.Basemap.scatter) method.\n",
    "\n",
    "```python\n",
    "m.scatter(x,y)\n",
    "```\n",
    "\n",
    "The **basemap.scatter()** method has similar parameters to the [pyplot.scatter()](http://matplotlib.org/api/pyplot_api.html#matplotlib.pyplot.scatter). For example, we can customize the size of each marker using the **s** parameter:\n",
    "\n",
    "```python\n",
    "# Large markers.\n",
    "m.scatter(x,y,s=10)\n",
    "# Smaller markers.\n",
    "m.scatter(x,y,s=5)\n",
    "```\n",
    "\n",
    "After we've created the scatter plot, use **plt.show()** to display the plot. We'll dive more into customizing the plot in the next step but now, create a simple scatter plot.\n",
    "\n",
    "**Exercise**\n",
    "\n",
    "<left><img width=\"100\" src=\"https://drive.google.com/uc?export=view&id=1E8tR7B9YYUXsU_rddJAyq0FrM0MSelxZ\"></left>\n",
    "\n",
    "\n",
    "1. Create a scatter plot using the converted latitude and longitude values using a marker size of **1**.\n",
    "2. Display the scatter plot."
   ]
  },
  {
   "cell_type": "code",
   "execution_count": null,
   "metadata": {
    "colab": {},
    "colab_type": "code",
    "id": "h3lM7zWK87Jl"
   },
   "outputs": [],
   "source": [
    "# put your code here"
   ]
  },
  {
   "cell_type": "markdown",
   "metadata": {
    "colab_type": "text",
    "id": "HRLBBBPUu5wS"
   },
   "source": [
    "## Customizing The Plot Using Basemap\n"
   ]
  },
  {
   "cell_type": "markdown",
   "metadata": {
    "colab_type": "text",
    "id": "RiqyId1H9e-K"
   },
   "source": [
    "\n",
    "You'll notice that the outlines of the coasts for each continent are missing from the map above. We can display the coast lines using the *basemap.drawcoastlines(color='color_name')* method. Other customization is fill the continents and inlad lakes using some background color *basemap.fillcontinents(color='color_name', lake_color='color_name')*. \n",
    "Draw the boundaries of each country is another best practice. *basemap.drawcountries(color='color_name')*\n",
    "\n",
    "\n",
    "**Exercise**\n",
    "\n",
    "<left><img width=\"100\" src=\"https://drive.google.com/uc?export=view&id=1E8tR7B9YYUXsU_rddJAyq0FrM0MSelxZ\"></left>\n",
    "\n",
    "\n",
    "\n",
    "1. Use *basemap.drawcoastlines()*, *basemap.fillcontinents()* and *basemap.drawcountries()* to customize your map. Tip: fillcontinents() has support to **alpha** property which sets alpha transparency for continent polygons.\n",
    "2. Display the plot using **plt.show()**.\n"
   ]
  },
  {
   "cell_type": "code",
   "execution_count": null,
   "metadata": {
    "colab": {},
    "colab_type": "code",
    "id": "yIzYXMoT96B6"
   },
   "outputs": [],
   "source": [
    "# put your code here"
   ]
  },
  {
   "cell_type": "markdown",
   "metadata": {
    "colab_type": "text",
    "id": "Dec1qLxgu5wT"
   },
   "source": [
    "## Customizing The Plot Using Matplotlib\n",
    "\n",
    "We can add code that:\n",
    "\n",
    "- uses **pyplot.subplots()** to specify the **figsize** parameter\n",
    "- returns the Figure and Axes object for a single subplot and assigns to **fig** and **ax** respectively\n",
    "- use the **Axes.set_title()** method to set the map title\n",
    "\n",
    "**Exercise**\n",
    "\n",
    "<left><img width=\"100\" src=\"https://drive.google.com/uc?export=view&id=1E8tR7B9YYUXsU_rddJAyq0FrM0MSelxZ\"></left>\n",
    "\n",
    "\n",
    "1. Before creating the basemap instance and generating the scatter plot, add code that:\n",
    "    - creates a figure with a height of 15 inches and a width of 20 inches\n",
    "    - sets the title of the scatter plot to **\"Scaled Up Earth With Coastlines\"**\n"
   ]
  },
  {
   "cell_type": "code",
   "execution_count": null,
   "metadata": {
    "colab": {},
    "colab_type": "code",
    "id": "5G2L5Xii_Li2"
   },
   "outputs": [],
   "source": [
    "# put your code here"
   ]
  },
  {
   "cell_type": "markdown",
   "metadata": {
    "colab_type": "text",
    "id": "7Z55xYhJu5wU"
   },
   "source": [
    "## Introduction to Great Circles\n"
   ]
  },
  {
   "cell_type": "markdown",
   "metadata": {
    "colab_type": "text",
    "id": "AiRIdzzV_KUL"
   },
   "source": [
    "\n",
    "To better understand the flight routes, we can draw **great circles** to connect starting and ending locations on a map. A great circle is the shortest circle connecting 2 points on a sphere.\n",
    "\n",
    "<img width=\"600\" alt=\"creating a repo\" src=\"https://drive.google.com/uc?export=view&id=0BxhVm1REqwr0blFtbmNLRlpWVkE\">\n",
    "\n",
    "<img width=\"600\" alt=\"creating a repo\" src=\"https://drive.google.com/uc?export=view&id=0BxhVm1REqwr0bW9fOHBDam9DdTA\">\n",
    "\n",
    "On a two-dimensional map, the great circle is demonstrated as a line because it is projected from three-dimensional down to two-dimensional using the map projection. We can use these to visualize the flight **routes** from the routes dataframe. To plot great circles, we need the source longitude, source latitude, destination longitude, and the destination latitude for each route. While the **routes** dataframe contains the source and destination airports for each route, the latitude and longitude values for each airport are in a separate dataframe (**airports**).\n",
    "\n",
    "To make things easier, we've created a new CSV file called **geo_routes.csv** that contains the latitude and longitude values corresponding to the source and destination airports for each route. We've also removed some columns we won't be working with.\n",
    "\n",
    "**Exercise**\n",
    "\n",
    "<left><img width=\"100\" src=\"https://drive.google.com/uc?export=view&id=1E8tR7B9YYUXsU_rddJAyq0FrM0MSelxZ\"></left>\n",
    "\n",
    "\n",
    "1. Read **geo_routes.csv** into a dataframe named **geo_routes**.\n",
    "2. Use the **DataFrame.info()** method to look for columns containing any null values.\n",
    "3. Display the first five rows in **geo_routes**."
   ]
  },
  {
   "cell_type": "code",
   "execution_count": null,
   "metadata": {
    "colab": {},
    "colab_type": "code",
    "id": "tpv4lvV1AVYD"
   },
   "outputs": [],
   "source": [
    "# put your code here"
   ]
  },
  {
   "cell_type": "markdown",
   "metadata": {
    "colab_type": "text",
    "id": "vA2wahjau5wV"
   },
   "source": [
    "## Displaying Great Circles\n"
   ]
  },
  {
   "cell_type": "markdown",
   "metadata": {
    "colab_type": "text",
    "id": "FL3ZBHw0AzbS"
   },
   "source": [
    "\n",
    "We use the **basemap.drawgreatcircle()** method to display a great circle between 2 points. The **basemap.drawgreatcircle()** method requires four parameters in the following order:\n",
    "\n",
    "- **lon1** - longitude of the starting point.\n",
    "- **lat1** - latitude of the starting point.\n",
    "- **lon2** - longitude of the ending point.\n",
    "- **lat2** - latitude of the ending point.\n",
    "\n",
    "The following code generates a great circle for the first three routes in the dataframe:\n",
    "\n",
    "```python\n",
    "m.drawgreatcircle(39.956589, 43.449928, 49.278728, 55.606186)\n",
    "m.drawgreatcircle(48.006278, 46.283333, 49.278728, 55.606186)\n",
    "m.drawgreatcircle(39.956589, 43.449928, 43.081889 , 44.225072)\n",
    "```\n",
    "\n",
    "Unfortunately, basemap struggles to create great circles for routes that have an absolute difference of larger than 180 degrees for either the latitude or longitude values. This is because the **basemap.drawgreatcircle()** method isn't able to create great circles properly when they go outside of the map boundaries. This is mentioned briefly in the [documentation](http://matplotlib.org/basemap/api/basemap_api.html#mpl_toolkits.basemap.Basemap.drawgreatcircle) for the method:\n",
    "\n",
    "**Note**: Cannot handle situations in which the great circle intersects the edge of the map projection domain, and then re-enters the domain.\n",
    "\n",
    "**Exercise**\n",
    "\n",
    "<left><img width=\"100\" src=\"https://drive.google.com/uc?export=view&id=1E8tR7B9YYUXsU_rddJAyq0FrM0MSelxZ\"></left>\n",
    "\n",
    "Write a function, named **create_great_circles()** that draws a great circle for each route that has an absolute difference in the latitude and longitude values less than 180. This function should:\n",
    "- Accept a dataframe as the sole parameter\n",
    "- Iterate over the rows in the dataframe using **DataFrame.iterrows()**\n",
    "- For each row:\n",
    "    - Draw a great circle using the four geographic coordinates **only** if:\n",
    "        - The absolute difference between the latitude values (**end_lat** and **start_lat**) is less than 180.\n",
    "        - If the absolute difference between the longitude values (**end_lon** and **start_lon**) is less than 180.\n",
    "- Create a filtered dataframe containing just the routes that start at the GRU airport.\n",
    "    - Select only the rows in **geo_routes** where the value for the source column equals **\"GRU\"**.\n",
    "    - Assign the resulting dataframe to **gru**.\n",
    "- Pass **dfw** into **create_great_circles()** and display the plot using the **pyplot.show()** function."
   ]
  },
  {
   "cell_type": "code",
   "execution_count": null,
   "metadata": {
    "colab": {},
    "colab_type": "code",
    "id": "yUe9iy_tBX_r"
   },
   "outputs": [],
   "source": [
    "# put your code here"
   ]
  },
  {
   "cell_type": "markdown",
   "metadata": {
    "colab_type": "text",
    "id": "GUoczXYOu5wW"
   },
   "source": [
    "## Guided customization\n",
    "\n",
    "\n"
   ]
  },
  {
   "cell_type": "code",
   "execution_count": null,
   "metadata": {
    "colab": {},
    "colab_type": "code",
    "id": "KlBK3uP_CIHp"
   },
   "outputs": [],
   "source": [
    "from datetime import datetime\n",
    "import numpy as np\n",
    "# Create a figure  \n",
    "fig, ax = plt.subplots(figsize=(10,12))\n",
    "plt.title('Day/Night Map for %s (UTC)' % datetime.now().strftime(\"%d %b %Y %H:%M:%S\"))\n",
    "# Configure the basemap\n",
    "m.scatter(x,y,s=0.1,color=\"red\")\n",
    "m.drawcountries(color='black')\n",
    "m.fillcontinents(color='#0066CC', lake_color='white', alpha=0.1)\n",
    "m.drawcoastlines()\n",
    "# Draw lines of latitude (parallels) and longitude (meridians)\n",
    "m.drawparallels(range(-90,91,10), color='#CCCCCC')\n",
    "m.drawmeridians(range(-180,181,10), color='#CCCCCC')\n",
    "# Day/Night shade (note the datetime is utc here)\n",
    "m.nightshade(datetime.utcnow()) \n",
    "# Plot the figure\n",
    "plt.show()"
   ]
  },
  {
   "cell_type": "markdown",
   "metadata": {},
   "source": [
    "# Folium"
   ]
  },
  {
   "cell_type": "markdown",
   "metadata": {
    "colab_type": "text",
    "id": "ft8cpsYZ55Jt"
   },
   "source": [
    "## Introduction\n"
   ]
  },
  {
   "cell_type": "markdown",
   "metadata": {
    "colab_type": "text",
    "id": "oz9Ruxe28SYO"
   },
   "source": [
    "\n",
    "Interactive maps are useful for data exploration and communicating research. [Leaflet](http://leafletjs.com/), an open-source JavaScript library, facilitates the development of interactive maps, but is designed to be used via JavaScript. In this mission we provide a demonstration of the [folium](http://python-visualization.github.io/folium/) package, which provides an easy to use interface to **Leaflet** for Python users.\n",
    "\n",
    "**folium** makes it easy to visualize data that’s been manipulated in Python on an interactive leaflet map. It enables both the binding of data to a map for [choropleth](https://en.wikipedia.org/wiki/Choropleth_map) visualizations as well as passing rich vector/raster/HTML visualizations as markers on the map.\n",
    "\n",
    "The library has a number of built-in **tilesets** from [OpenStreetMap](https://www.openstreetmap.org), [Mapbox](https://www.mapbox.com/), and [Stamen](http://maps.stamen.com/), and supports custom tilesets with Mapbox or Cloudmade API keys. folium supports both Image, Video, GeoJSON and TopoJSON overlays."
   ]
  },
  {
   "cell_type": "code",
   "execution_count": null,
   "metadata": {
    "colab": {},
    "colab_type": "code",
    "id": "VMsOxqIg-78H"
   },
   "outputs": [],
   "source": [
    "# Instalation \n",
    "!conda install -c conda-forge folium -y "
   ]
  },
  {
   "cell_type": "markdown",
   "metadata": {
    "colab_type": "text",
    "id": "YNcbA3l-G-nA"
   },
   "source": [
    "## Creating a world map"
   ]
  },
  {
   "cell_type": "markdown",
   "metadata": {
    "colab_type": "text",
    "id": "YNcbA3l-G-nA"
   },
   "source": [
    "You simply call the **Map** function and that is all. What is really interesting about the maps created by **folium** is that they are interactive, so you can zoom in and out after the map is rendered, which is a super useful feature.\n",
    "\n",
    "```python\n",
    "import folium\n",
    "m = folium.Map()\n",
    "m\n",
    "```\n",
    "\n",
    "To save the first map in a file:\n",
    "\n",
    "```python\n",
    "m.save('index.html')\n",
    "```"
   ]
  },
  {
   "cell_type": "markdown",
   "metadata": {
    "colab_type": "text",
    "id": "Hz12Zu4THAXr"
   },
   "source": [
    "\n",
    "## Creating a map of Brazil\n",
    "\n",
    "Now let's create a world map centred around Brazil. To do that, we pass in the latitude and the longitude values of\n",
    "Brazil using the location parameter and with **folium** you can set the initial zoom level using the zoom start parameter. Now I say initial because you can easily change the zoom level after the map is rendered by zooming in or zooming out. You can play with this parameter to figure out what the initial zoom level looks like for different values. \n",
    "\n",
    "```python\n",
    "m = folium.Map(\n",
    "    location=[-15.765379, -47.968776],\n",
    "    zoom_start=4\n",
    ")\n",
    "```\n",
    "\n",
    "**Exercise**\n",
    "\n",
    "<left><img width=\"100\" src=\"https://drive.google.com/uc?export=view&id=1E8tR7B9YYUXsU_rddJAyq0FrM0MSelxZ\"></left>\n",
    "\n",
    "- Print folium version using the attribute \\_\\_version\\_\\_.\n",
    "- Start a new map change the **location** parameter to Natal-RN.\n",
    "- Play with **zoom_start** parameter to figure out what the initial zoom level looks like for different values."
   ]
  },
  {
   "cell_type": "code",
   "execution_count": null,
   "metadata": {
    "colab": {},
    "colab_type": "code",
    "id": "mJz73VVOF91J"
   },
   "outputs": [],
   "source": [
    "# put your code here"
   ]
  },
  {
   "cell_type": "markdown",
   "metadata": {
    "colab_type": "text",
    "id": "XdovvPcc55Jv"
   },
   "source": [
    "## Maps styles\n",
    "\n"
   ]
  },
  {
   "cell_type": "markdown",
   "metadata": {
    "colab_type": "text",
    "id": "9KnOCbocJ70z"
   },
   "source": [
    "\n",
    "Another amazing feature of Folium is that you can create different map styles using the tiles parameter. The default tiles are set to **OpenStreetMap**, but **Stamen Terrain**, **Stamen Toner**, **Stamen Watercolor**, **Mapbox Bright**, **Mapbox Control Room**, and many others tiles are built in. Please see all options using keyboard shortcuts (shift+tab) over **Map** function.\n",
    "\n",
    "```python\n",
    "m = folium.Map(\n",
    "    location=[-15.765379, -47.968776],\n",
    "    tiles='Stamen Toner',\n",
    "    zoom_start=4\n",
    ")\n",
    "```\n",
    "\n",
    "**Exercise**\n",
    "\n",
    "<left><img width=\"100\" src=\"https://drive.google.com/uc?export=view&id=1E8tR7B9YYUXsU_rddJAyq0FrM0MSelxZ\"></left>\n",
    "\n",
    "1. Create **eight maps** using the follow tiles options: 'OpenStreetMap', 'Stamen Terrain', 'Stamen Toner', 'Stamen Watercolor', 'cartodbdark_matter', 'cartodbpositron',  'Mapbox Bright', 'Mapbox Control Room'."
   ]
  },
  {
   "cell_type": "code",
   "execution_count": null,
   "metadata": {
    "colab": {},
    "colab_type": "code",
    "id": "GSg5RB8aLBIR"
   },
   "outputs": [],
   "source": [
    "# put your code here"
   ]
  },
  {
   "cell_type": "markdown",
   "metadata": {
    "colab_type": "text",
    "id": "KaO0Ezzh55Jw"
   },
   "source": [
    "## Maps with markers\n"
   ]
  },
  {
   "cell_type": "markdown",
   "metadata": {
    "colab_type": "text",
    "id": "gODGkwxXRf5W"
   },
   "source": [
    "\n",
    "We will continue working with the **folium** library and learn how to superimpose markers on top of a map for interesting visualizations. \n",
    "\n",
    "There are numerous marker types, starting with a simple **leaflet** style location marker with a popup. The command **folium.Marker()** is used to insert markers into the map. \n",
    "\n",
    "```python\n",
    "m = folium.Map(\n",
    "    location=[-5.826592, -35.212558],\n",
    "    zoom_start=12,\n",
    "    tiles='Stamen Terrain',\n",
    "    width='50%',\n",
    "    height='50%'\n",
    ")\n",
    "folium.Marker([-5.832187, -35.205432], popup='<i>Instituto Metrópole Digital</i>').add_to(m)\n",
    "folium.Marker([-5.842942, -35.198001], popup='<b>Centro Tecnológico</b>').add_to(m)\n",
    "```\n",
    "\n",
    "**Exercise**\n",
    "\n",
    "<left><img width=\"100\" src=\"https://drive.google.com/uc?export=view&id=1E8tR7B9YYUXsU_rddJAyq0FrM0MSelxZ\"></left>\n",
    "\n",
    "\n",
    "1. Insert in a map the first three **Top-rated Natal Things to Do** according to [Tripadvisor website](https://www.tripadvisor.com/).\n",
    "2. Plot the map.\n"
   ]
  },
  {
   "cell_type": "code",
   "execution_count": null,
   "metadata": {
    "colab": {},
    "colab_type": "code",
    "id": "eyMS7-MBRuCo"
   },
   "outputs": [],
   "source": [
    "# put your code here"
   ]
  },
  {
   "cell_type": "markdown",
   "metadata": {
    "colab_type": "text",
    "id": "xmC3Wimv55Jy"
   },
   "source": [
    "## Color and icon types\n"
   ]
  },
  {
   "cell_type": "markdown",
   "metadata": {
    "colab_type": "text",
    "id": "4QasqDpgSt0-"
   },
   "source": [
    "\n",
    "There is built in support for colors and marker icon types from bootstrap.\n",
    "\n",
    "```python\n",
    "folium.Marker([-5.832187, -35.205432], \n",
    "              popup='<i>Instituto Metrópole Digital</i>',\n",
    "              icon=folium.Icon(icon='cloud')).add_to(m)\n",
    "folium.Marker([-5.842942, -35.198001], \n",
    "              popup='<b>Centro Tecnológico</b>',\n",
    "              icon=folium.Icon(color='red',\n",
    "                               icon_color='yellow',\n",
    "                               icon='info-sign')).add_to(m)\n",
    "```\n",
    "\n",
    "According to [documentation](https://python-visualization.github.io/folium/docs-v0.6.0/modules.html) the following colors are supported:\n",
    "\n",
    "```python\n",
    " ['red', 'blue', 'green', 'purple', 'orange', 'darkred',\n",
    "         'lightred', 'beige', 'darkblue', 'darkgreen', 'cadetblue',\n",
    "         'darkpurple', 'white', 'pink', 'lightblue', 'lightgreen',\n",
    "         'gray', 'black', 'lightgray']\n",
    "```\n",
    "\n",
    "There are a huge amount of icon in [Font Awesome website](http://fontawesome.io/icons/). You just need add the adequate **prefix** information as parameter to **folium.Icon** function. \n",
    "\n",
    "```python\n",
    "...\n",
    " icon=folium.Icon(color='red',\n",
    "                  icon_color='yellow',\n",
    "                  icon='bicycle',\n",
    "                  prefix='fa')).add_to(m)\n",
    "```\n",
    "\n",
    "**Exercise**\n",
    "\n",
    "<left><img width=\"100\" src=\"https://drive.google.com/uc?export=view&id=1E8tR7B9YYUXsU_rddJAyq0FrM0MSelxZ\"></left>\n",
    "\n",
    "\n",
    "\n",
    "1. Configure the previous exercise to use icons suitable to the places.\n",
    "2. Plot the map.\n",
    "\n"
   ]
  },
  {
   "cell_type": "code",
   "execution_count": null,
   "metadata": {
    "colab": {},
    "colab_type": "code",
    "id": "3rjbqweRTfDF"
   },
   "outputs": [],
   "source": [
    "# put your code here"
   ]
  },
  {
   "cell_type": "markdown",
   "metadata": {
    "colab_type": "text",
    "id": "HUwHXQkA55Jz"
   },
   "source": [
    "## Marker Clusters\n"
   ]
  },
  {
   "cell_type": "markdown",
   "metadata": {
    "colab_type": "text",
    "id": "NUrtYwNXc8zn"
   },
   "source": [
    "\n",
    "### Insert random markers to clusters"
   ]
  },
  {
   "cell_type": "code",
   "execution_count": null,
   "metadata": {
    "colab": {},
    "colab_type": "code",
    "id": "DV3qMdvv55Jz"
   },
   "outputs": [],
   "source": [
    "import numpy as np\n",
    "import folium\n",
    "from folium import plugins\n",
    "\n",
    "# size of sample\n",
    "N = 100\n",
    "\n",
    "# lat and lng sample\n",
    "data = np.array(\n",
    "    [\n",
    "        np.random.uniform(low=-6.4245, high=-5.2660, size=N),  # Random latitudes in RN state.\n",
    "        np.random.uniform(low=-38.6200, high=-35.1782, size=N)  # Random longitudes in RN state.\n",
    "    ]\n",
    ").T\n",
    "\n",
    "# Create a map\n",
    "m = folium.Map(\n",
    "    location=[-5.826592, -35.212558],\n",
    "    zoom_start=12,\n",
    "    tiles='Stamen Terrain',\n",
    "    width='75%',\n",
    "    height='75%'\n",
    ")\n",
    "\n",
    "# Make a cluster\n",
    "plugins.MarkerCluster(data).add_to(m)\n",
    "\n",
    "m"
   ]
  },
  {
   "cell_type": "markdown",
   "metadata": {
    "colab_type": "text",
    "id": "ousJg2_Q55J6"
   },
   "source": [
    "### Insert particular markers to a cluster\n"
   ]
  },
  {
   "cell_type": "code",
   "execution_count": null,
   "metadata": {
    "colab": {},
    "colab_type": "code",
    "id": "wVjigzmf55J6"
   },
   "outputs": [],
   "source": [
    "# Create a map\n",
    "m = folium.Map(\n",
    "    location=[-5.826592, -35.212558],\n",
    "    zoom_start=12,\n",
    "    tiles='Stamen Terrain',\n",
    "    width='75%',\n",
    "    height='75%'\n",
    ")\n",
    "\n",
    "# Create a cluster\n",
    "marker_cluster = plugins.MarkerCluster().add_to(m)\n",
    "\n",
    "folium.Marker([-5.832187, -35.205432], popup='<i>Instituto Metrópole Digital</i>').add_to(marker_cluster)\n",
    "folium.Marker([-5.842942, -35.198001], popup='<b>Centro Tecnológico</b>').add_to(marker_cluster)\n",
    "\n",
    "m"
   ]
  },
  {
   "cell_type": "markdown",
   "metadata": {
    "colab_type": "text",
    "id": "oNfs4AjC55J-"
   },
   "source": [
    "\n",
    "**Exercise**\n",
    "\n",
    "<left><img width=\"100\" src=\"https://drive.google.com/uc?export=view&id=1E8tR7B9YYUXsU_rddJAyq0FrM0MSelxZ\"></left>\n",
    "\n",
    "\n",
    "\n",
    "1. Create a map with markers of top 10 hotels (review score) in [Booking](https://www.booking.com/) to Natal-RN.\n",
    "2. Use suitable icons for each place.\n",
    "3. Create a cluster to join the places.\n",
    "4. Plot the map.\n",
    "\n"
   ]
  },
  {
   "cell_type": "code",
   "execution_count": null,
   "metadata": {
    "colab": {},
    "colab_type": "code",
    "id": "vI76qLQ6dzCL"
   },
   "outputs": [],
   "source": [
    "# put your code here"
   ]
  },
  {
   "cell_type": "markdown",
   "metadata": {
    "colab_type": "text",
    "id": "NEXU78zM55J_"
   },
   "source": [
    "### Heatmap"
   ]
  },
  {
   "cell_type": "code",
   "execution_count": null,
   "metadata": {
    "colab": {},
    "colab_type": "code",
    "id": "fo2k9_m855KA"
   },
   "outputs": [],
   "source": [
    "from folium.plugins import HeatMap\n",
    "from folium import plugins\n",
    "import numpy as np\n",
    "\n",
    "# size of sample\n",
    "N = 100\n",
    "\n",
    "# lat and lng sample\n",
    "data = np.array(\n",
    "    [\n",
    "        np.random.uniform(low=-6.4245, high=-5.2660, size=N),  # Random latitudes in RN state.\n",
    "        np.random.uniform(low=-38.6200, high=-35.1782, size=N)  # Random longitudes in RN state.\n",
    "    ]\n",
    ").T\n",
    "\n",
    "# Create a map\n",
    "m = folium.Map(\n",
    "    location=[-5.826592, -35.212558],\n",
    "    zoom_start=12,\n",
    "    tiles='Stamen Terrain',\n",
    "    width='75%',\n",
    "    height='75%'\n",
    ")\n",
    "\n",
    "# data : list of points of the form [lat, lng] or [lat, lng, weight]\n",
    "HeatMap(data).add_to(m)\n",
    "\n",
    "m"
   ]
  },
  {
   "cell_type": "markdown",
   "metadata": {
    "colab_type": "text",
    "id": "oiBYBB7e55KE"
   },
   "source": [
    "## How to create popups"
   ]
  },
  {
   "cell_type": "markdown",
   "metadata": {
    "colab_type": "text",
    "id": "uOLF49SreQXY"
   },
   "source": [
    "\n",
    "**folium** enables passing any HTML object as a popup, including [bokeh](https://bokeh.pydata.org/en/latest/) plots, but there is a built-in support for [vincent](https://github.com/wrobstory/vincent) and [altair](https://altair-viz.github.io/) visualizations to any marker type, with the visualization as the popover.\n",
    "\n"
   ]
  },
  {
   "cell_type": "markdown",
   "metadata": {
    "colab_type": "text",
    "id": "IwbMcuutedjc"
   },
   "source": [
    "\n",
    "### A convenience function to enable lat/lng popovers"
   ]
  },
  {
   "cell_type": "code",
   "execution_count": null,
   "metadata": {
    "colab": {},
    "colab_type": "code",
    "id": "IEdKp_VX55KE"
   },
   "outputs": [],
   "source": [
    "m = folium.Map(\n",
    "    location=[-5.826592, -35.212558],\n",
    "    zoom_start=12,\n",
    "    tiles='Stamen Terrain',\n",
    "    width='50%',\n",
    "    height='50%'\n",
    ")\n",
    "m.add_child(folium.LatLngPopup())\n",
    "m"
   ]
  },
  {
   "cell_type": "markdown",
   "metadata": {
    "colab_type": "text",
    "id": "ouM0TlWV55KI"
   },
   "source": [
    "### Vega popup\n",
    "\n",
    "You may know that it's possible to create awesome [Vega](https://github.com/vega/vega) charts with (or without) [vincent](https://github.com/wrobstory/vincent). If you're willing to put one inside a popup, it's possible thanks to **folium.Vega**"
   ]
  },
  {
   "cell_type": "code",
   "execution_count": null,
   "metadata": {
    "colab": {
     "base_uri": "https://localhost:8080/",
     "height": 262
    },
    "colab_type": "code",
    "executionInfo": {
     "elapsed": 5377,
     "status": "ok",
     "timestamp": 1538999541837,
     "user": {
      "displayName": "Ivanovitch Silva",
      "photoUrl": "",
      "userId": "06428777505436195303"
     },
     "user_tz": 180
    },
    "id": "MO2HZumif5eH",
    "outputId": "9527f169-be50-4ebd-ed7c-4ac66950413e"
   },
   "outputs": [],
   "source": [
    "# Just in case using colab\n",
    "!pip install git+https://github.com/wrobstory/vincent.git"
   ]
  },
  {
   "cell_type": "code",
   "execution_count": null,
   "metadata": {
    "colab": {},
    "colab_type": "code",
    "id": "g1G80k1Z55KI"
   },
   "outputs": [],
   "source": [
    "import json\n",
    "import numpy as np\n",
    "import vincent\n",
    "\n",
    "# Dictionary is the dataset\n",
    "scatter_points = {\n",
    "    'x': np.random.uniform(size=(100,)),\n",
    "    'y': np.random.uniform(size=(100,)),\n",
    "}\n",
    "\n",
    "# Let's create the vincent chart.\n",
    "scatter_chart = vincent.Scatter(scatter_points,\n",
    "                                iter_idx='x',\n",
    "                                width=400,\n",
    "                                height=200)\n",
    "\n",
    "# Create a map\n",
    "m = folium.Map(\n",
    "    location=[-5.826592, -35.212558],\n",
    "    zoom_start=12,\n",
    "    width='80%',\n",
    "    height='80%',\n",
    "    tiles='Stamen Terrain',\n",
    ")\n",
    "\n",
    "# Create an object popup and adding a graph for it\n",
    "popup = folium.Popup(max_width=500)\n",
    "folium.Vega(scatter_chart, height=250, width=450).add_to(popup)\n",
    "\n",
    "# Print a icon on map\n",
    "folium.Marker([-5.832187, -35.205432], \n",
    "              icon=folium.Icon(icon='cloud'),\n",
    "              popup=popup).add_to(m)\n",
    "m"
   ]
  },
  {
   "cell_type": "markdown",
   "metadata": {
    "colab_type": "text",
    "id": "VB5jMWOb55KO"
   },
   "source": [
    "### Pandas popup"
   ]
  },
  {
   "cell_type": "code",
   "execution_count": null,
   "metadata": {
    "colab": {},
    "colab_type": "code",
    "id": "xDEp-8kB55KP"
   },
   "outputs": [],
   "source": [
    "import pandas as pd\n",
    "\n",
    "# Create a dataframe\n",
    "df = pd.DataFrame(data=[['2016', 'A'], ['2017', 'A+']], columns=['Year', 'Grade'])\n",
    "\n",
    "# Create a map\n",
    "m = folium.Map(\n",
    "    location=[-5.826592, -35.212558],\n",
    "    zoom_start=12,\n",
    "    width='50%',\n",
    "    height='50%',\n",
    "    tiles='Stamen Terrain',\n",
    ")\n",
    "\n",
    "# Render a DataFrame as an HTML table.\n",
    "html = df.to_html(classes='table table-striped table-hover table-condensed table-responsive')\n",
    "\n",
    "# Create a popup\n",
    "popup = folium.Popup(html)\n",
    "\n",
    "# Print a icon on map\n",
    "folium.Marker([-5.832187, -35.205432], \n",
    "              icon=folium.Icon(icon='cloud'),\n",
    "              popup=popup).add_to(m)\n",
    "m"
   ]
  }
 ],
 "metadata": {
  "colab": {
   "name": "Visualizing Geographic Data.ipynb",
   "provenance": [],
   "version": "0.3.2"
  },
  "kernelspec": {
   "display_name": "Python 3",
   "language": "python",
   "name": "python3"
  },
  "language_info": {
   "codemirror_mode": {
    "name": "ipython",
    "version": 3
   },
   "file_extension": ".py",
   "mimetype": "text/x-python",
   "name": "python",
   "nbconvert_exporter": "python",
   "pygments_lexer": "ipython3",
   "version": "3.6.5"
  }
 },
 "nbformat": 4,
 "nbformat_minor": 2
}
