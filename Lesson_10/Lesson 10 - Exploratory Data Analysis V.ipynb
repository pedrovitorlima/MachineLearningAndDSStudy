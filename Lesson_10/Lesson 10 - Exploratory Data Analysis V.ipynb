{
 "cells": [
  {
   "cell_type": "markdown",
   "metadata": {},
   "source": [
    "# Visualizing Geographic Data"
   ]
  },
  {
   "cell_type": "markdown",
   "metadata": {
    "colab_type": "text",
    "id": "2VW1bCtNu5wE"
   },
   "source": [
    "## Geographic Data\n"
   ]
  },
  {
   "cell_type": "markdown",
   "metadata": {
    "colab_type": "text",
    "id": "ZBCbmZAhwwT5"
   },
   "source": [
    "\n",
    "From **scientific fields** like **meteorology** and **climatology**, through to the software on our smartphones like **Google Maps** and **Facebook** check-ins, geographic data is always present in our everyday lives. Raw geographic data like **latitudes** and **longitudes** are difficult to understand using the data charts and plots we've discussed so far. To explore this kind of data, you'll need to learn how to visualize the data on maps.\n",
    "\n",
    "In this section, we'll explore the fundamentals of geographic coordinate systems and how to work with the basemap library to plot geographic data points on maps. We'll be working with flight data from the [openflights website](http://openflights.org/data.html). Here's a breakdown of the files we'll be working with and the most pertinent columns from each dataset:\n",
    "\n",
    "- **airlines.csv** - data on each airline.\n",
    "    - **country** - where the airline is headquartered.\n",
    "    - **active** - if the airline is still active.\n",
    "- **airports.csv** - data on each airport.\n",
    "    - **name** - name of the airport.\n",
    "    - **city** - the airport is located.\n",
    "    - **country** - country the airport is located.\n",
    "    - **code** - unique airport code.\n",
    "    - **latitude** - latitude value.\n",
    "    - **longitude** - longitude value.\n",
    "- **routes.csv** - data on each flight route.\n",
    "    - **airline** - airline for the route.\n",
    "    - **source** - starting city for the route.\n",
    "    - **dest** - destination city for the route.\n",
    "\n",
    "We can explore a range of interesting questions and ideas using these datasets:\n",
    "\n",
    "- For each airport, which destination airport is the most common?\n",
    "\n",
    "- Which cities are the most important hubs for airports and airlines?\n",
    "\n",
    "Before diving into coordinate systems, explore the datasets in the code cell below.\n",
    "\n",
    "**Exercise**\n",
    "\n",
    "<left><img width=\"100\" src=\"https://drive.google.com/uc?export=view&id=1E8tR7B9YYUXsU_rddJAyq0FrM0MSelxZ\"></left>\n",
    "\n",
    "\n",
    "- Read in the 3 CSV files into 3 separate dataframe objects - **airlines**, **airports**, and **routes**.\n",
    "- Use the **DataFrame.iloc[]** method to return the first row in each dataframe as a neat table.\n",
    "- Display the first rows for all dataframes using the print() function. Try to answer the following questions:\n",
    "  - What's the best way to link the data from these 3 different datasets together?\n",
    "  - What are the formats of the latitude and longitude values?"
   ]
  },
  {
   "cell_type": "code",
   "execution_count": 1,
   "metadata": {
    "colab": {},
    "colab_type": "code",
    "id": "FQC4Jx3szXt1"
   },
   "outputs": [],
   "source": [
    "# put your code here\n",
    "import pandas as pnd\n",
    "airlines = pnd.read_csv(\"airlines.csv\")\n",
    "airports = pnd.read_csv(\"airports.csv\")\n",
    "routes = pnd.read_csv(\"routes.csv\")\n",
    "\n"
   ]
  },
  {
   "cell_type": "markdown",
   "metadata": {
    "colab_type": "text",
    "id": "ldcnkc3lu5wM"
   },
   "source": [
    "## Geographic coordinate systems\n"
   ]
  },
  {
   "cell_type": "markdown",
   "metadata": {
    "colab_type": "text",
    "id": "xpHDPWt-0UEq"
   },
   "source": [
    "\n",
    "A geographic coordinate system allows us to locate any point on Earth using latitude and longitude coordinates.\n",
    "\n",
    "<img width=\"600\" alt=\"creating a repo\" src=\"https://drive.google.com/uc?export=view&id=0BxhVm1REqwr0RVJ6c1U2Rl8wdWM\">\n",
    "\n",
    "| Name                              | City          | State | Latitude  | Longitude   |\n",
    "|-----------------------------------|---------------|-------|-----------|-------------|\n",
    "| White House                       | Washington    | DC    | 38.898166 | -77.036441  |\n",
    "| Alcatraz Island                   | San Francisco | CA    | 37.827122 | -122.422934 |\n",
    "| Instituto Metrópole Digital       | Natal         | RN    | -5.831997 | -35.205415  |\n",
    "\n",
    "A [map projection](https://en.wikipedia.org/wiki/Map_projection) transforms points on a sphere to a two-dimensional plane. When projecting down to the two-dimensional plane, some properties are distorted. Each map projection makes trade-offs in what properties to preserve and you can read about the different trade-offs [here](https://en.wikipedia.org/wiki/Map_projection#Metric_properties_of_maps). We'll use the [Mercator](https://en.wikipedia.org/wiki/Mercator_projection) projection, because it is commonly used by popular mapping software."
   ]
  },
  {
   "cell_type": "markdown",
   "metadata": {
    "colab_type": "text",
    "id": "ORSzgcZSu5wM"
   },
   "source": [
    "## Installing Basemap\n"
   ]
  },
  {
   "cell_type": "markdown",
   "metadata": {
    "colab_type": "text",
    "id": "7jQS-7aP15Eb"
   },
   "source": [
    "\n",
    "Before we convert our flight data to Cartesian coordinates and plot it, let's learn more about the [basemap toolkit](http://matplotlib.org/basemap/). Basemap is an extension to Matplotlib that makes it easier to work with geographic data. The [documentation for basemap](http://matplotlib.org/basemap/users/intro.html) provides a good high-level overview of what the library does:\n",
    "\n",
    "The matplotlib basemap toolkit is a library for plotting 2D data on maps in Python. Basemap does not do any plotting on it’s own, but provides the facilities to transform coordinates to one of 25 different map projections.\n",
    "Basemap makes it easy to convert from the spherical coordinate system (latitudes & longitudes) to the Mercator projection. While basemap uses Matplotlib to actually draw and control the map, the library provides many methods that enable us to work with maps quickly. Before we dive into how basemap works, let's get familiar with how to install it.\n",
    "\n",
    "The easiest way to install basemap is through Anaconda. \n",
    "\n",
    "```python\n",
    "conda install -c conda-forge basemap\n",
    "```\n",
    "\n",
    "The Basemap library has some external dependencies that Anaconda handles the installation for. To test the installation, run the following import code:\n",
    "\n",
    "```python\n",
    "from mpl_toolkits.basemap import Basemap\n",
    "```\n",
    "\n",
    "Because basemap uses matplotlib, you'll want to import **matplotlib.pyplot** into your environment when you use Basemap."
   ]
  },
  {
   "cell_type": "code",
   "execution_count": null,
   "metadata": {},
   "outputs": [],
   "source": [
    "!conda install -c conda-forge basemap -y"
   ]
  },
  {
   "cell_type": "markdown",
   "metadata": {
    "colab_type": "text",
    "id": "4qTn-wK3u5wN"
   },
   "source": [
    "## Workflow with basemap\n"
   ]
  },
  {
   "cell_type": "markdown",
   "metadata": {
    "colab_type": "text",
    "id": "LUpJp9tz4jIV"
   },
   "source": [
    "\n",
    "Here's what the general workflow will look like when working with two-dimensional maps:\n",
    "\n",
    "- Create a new basemap instance with the specific map projection we want to use and how much of the map we want included.\n",
    "- Convert spherical coordinates to Cartesian coordinates using the basemap instance.\n",
    "- Use the matplotlib and basemap methods to customize the map.\n",
    "- Display the map.\n",
    "\n",
    "Let's focus on the first step and create a new basemap instance. To create a new instance of the basemap class, we call the [basemap constructor](http://matplotlib.org/basemap/api/basemap_api.html#mpl_toolkits.basemap.Basemap) and pass in values for the required parameters:\n",
    "\n",
    "- **projection**: the map projection.\n",
    "- **llcrnrlat**: latitude of lower left hand corner of the desired map domain\n",
    "- **urcrnrlat**: latitude of upper right hand corner of the desired map domain\n",
    "- **llcrnrlon**: longitude of lower left hand corner of the desired map domain\n",
    "- **urcrnrlon**: longitude of upper right hand corner of the desired map domain\n",
    "\n",
    "**Exercise**\n",
    "\n",
    "<left><img width=\"100\" src=\"https://drive.google.com/uc?export=view&id=1E8tR7B9YYUXsU_rddJAyq0FrM0MSelxZ\"></left>\n",
    "\n",
    "\n",
    "1. Create a new basemap instance with the following parameters:\n",
    "  - **projection**: \"merc\"\n",
    "  - **llcrnrlat**: -80 degrees\n",
    "  - **urcrnrlat**: 80 degrees\n",
    "  - **llcrnrlon**: -180 degrees\n",
    "  - **urcrnrlon**: 180 degrees\n",
    "2. Assign the instance to the new variable **m**."
   ]
  },
  {
   "cell_type": "code",
   "execution_count": 2,
   "metadata": {
    "colab": {},
    "colab_type": "code",
    "id": "sXrLfUxFu5wN"
   },
   "outputs": [],
   "source": [
    "import matplotlib.pyplot as plt\n",
    "from mpl_toolkits.basemap import Basemap\n",
    "\n",
    "m = Basemap(projection=\"merc\", llcrnrlat=-80, urcrnrlat=80, llcrnrlon=-180,urcrnrlon=180)\n",
    "# put your code here\n"
   ]
  },
  {
   "cell_type": "markdown",
   "metadata": {
    "colab_type": "text",
    "id": "1Ka08H8ru5wR"
   },
   "source": [
    "## Converting From Spherical to Cartesian Coordinates\n"
   ]
  },
  {
   "cell_type": "markdown",
   "metadata": {
    "colab_type": "text",
    "id": "KG2qsBRe6feI"
   },
   "source": [
    "\n",
    "As we mentioned before, we need to convert latitude and longitude values to Cartesian coordinates to display them on a two-dimensional map. We can pass in a list of latitude and longitude values into the basemap instance and it will return back converted lists of longitude and latitude values using the projection we specified earlier. The constructor only accepts list values, so we'll need to use [Series.tolist()](http://pandas.pydata.org/pandas-docs/stable/generated/pandas.Series.tolist.html) to convert the **longitude** and **latitude** columns from the **airports** dataframe to lists. Then, we pass them to the basemap instance with the longitude values first then the latitude values:\n",
    "\n",
    "```python\n",
    "x, y = m(longitudes, latitudes)\n",
    "```\n",
    "\n",
    "The basemap object will return 2 list objects, which we assign to x and y. Finally, we display the first 5 elements of the original longitude values, original latitude values, the converted longitude values, and the converted latitude values.\n",
    "\n",
    "**Exercise**\n",
    "\n",
    "<left><img width=\"100\" src=\"https://drive.google.com/uc?export=view&id=1E8tR7B9YYUXsU_rddJAyq0FrM0MSelxZ\"></left>\n",
    "\n",
    "\n",
    "1. Convert the longitude values from spherical to Cartesian and assign the resulting list to **x**.\n",
    "2. Convert the latitude values from spherical to Cartesian and assign the resulting list to **y**."
   ]
  },
  {
   "cell_type": "code",
   "execution_count": 6,
   "metadata": {
    "colab": {},
    "colab_type": "code",
    "id": "QKMA3CC-70gs"
   },
   "outputs": [],
   "source": [
    "# put your code here\n",
    "x, y = m(airports[\"longitude\"].tolist(), airports[\"latitude\"].tolist())"
   ]
  },
  {
   "cell_type": "markdown",
   "metadata": {
    "colab_type": "text",
    "id": "yk0tH2eMu5wR"
   },
   "source": [
    "## Generating a scatter plot\n"
   ]
  },
  {
   "cell_type": "markdown",
   "metadata": {
    "colab_type": "text",
    "id": "QQE4iIj48cO5"
   },
   "source": [
    "\n",
    "\n",
    "Now that the data is in the right format, we can plot the coordinates on a map. A scatter plot is the simplest way to plot points on a map, where each point is represented as an (x, y) coordinate pair. To create a scatter plot from a list of x and y coordinates, we use the [basemap.scatter()](http://matplotlib.org/basemap/api/basemap_api.html#mpl_toolkits.basemap.Basemap.scatter) method.\n",
    "\n",
    "```python\n",
    "m.scatter(x,y)\n",
    "```\n",
    "\n",
    "The **basemap.scatter()** method has similar parameters to the [pyplot.scatter()](http://matplotlib.org/api/pyplot_api.html#matplotlib.pyplot.scatter). For example, we can customize the size of each marker using the **s** parameter:\n",
    "\n",
    "```python\n",
    "# Large markers.\n",
    "m.scatter(x,y,s=10)\n",
    "# Smaller markers.\n",
    "m.scatter(x,y,s=5)\n",
    "```\n",
    "\n",
    "After we've created the scatter plot, use **plt.show()** to display the plot. We'll dive more into customizing the plot in the next step but now, create a simple scatter plot.\n",
    "\n",
    "**Exercise**\n",
    "\n",
    "<left><img width=\"100\" src=\"https://drive.google.com/uc?export=view&id=1E8tR7B9YYUXsU_rddJAyq0FrM0MSelxZ\"></left>\n",
    "\n",
    "\n",
    "1. Create a scatter plot using the converted latitude and longitude values using a marker size of **1**.\n",
    "2. Display the scatter plot."
   ]
  },
  {
   "cell_type": "code",
   "execution_count": 8,
   "metadata": {
    "colab": {},
    "colab_type": "code",
    "id": "h3lM7zWK87Jl"
   },
   "outputs": [
    {
     "data": {
      "text/plain": [
       "<matplotlib.collections.PathCollection at 0x1e0631b4d68>"
      ]
     },
     "execution_count": 8,
     "metadata": {},
     "output_type": "execute_result"
    },
    {
     "data": {
      "image/png": "[encoded data removed]",
      "text/plain": [
       "<Figure size 432x288 with 1 Axes>"
      ]
     },
     "metadata": {},
     "output_type": "display_data"
    }
   ],
   "source": [
    "# put your code here\n",
    "m.scatter(x, y, s=1)"
   ]
  },
  {
   "cell_type": "markdown",
   "metadata": {
    "colab_type": "text",
    "id": "HRLBBBPUu5wS"
   },
   "source": [
    "## Customizing The Plot Using Basemap\n"
   ]
  },
  {
   "cell_type": "markdown",
   "metadata": {
    "colab_type": "text",
    "id": "RiqyId1H9e-K"
   },
   "source": [
    "\n",
    "You'll notice that the outlines of the coasts for each continent are missing from the map above. We can display the coast lines using the *basemap.drawcoastlines(color='color_name')* method. Other customization is fill the continents and inlad lakes using some background color *basemap.fillcontinents(color='color_name', lake_color='color_name')*. \n",
    "Draw the boundaries of each country is another best practice. *basemap.drawcountries(color='color_name')*\n",
    "\n",
    "\n",
    "**Exercise**\n",
    "\n",
    "<left><img width=\"100\" src=\"https://drive.google.com/uc?export=view&id=1E8tR7B9YYUXsU_rddJAyq0FrM0MSelxZ\"></left>\n",
    "\n",
    "\n",
    "\n",
    "1. Use *basemap.drawcoastlines()*, *basemap.fillcontinents()* and *basemap.drawcountries()* to customize your map. Tip: fillcontinents() has support to **alpha** property which sets alpha transparency for continent polygons.\n",
    "2. Display the plot using **plt.show()**.\n"
   ]
  },
  {
   "cell_type": "code",
   "execution_count": 16,
   "metadata": {
    "colab": {},
    "colab_type": "code",
    "id": "yIzYXMoT96B6"
   },
   "outputs": [
    {
     "data": {
      "text/plain": [
       "<matplotlib.collections.LineCollection at 0x1e064353b38>"
      ]
     },
     "execution_count": 16,
     "metadata": {},
     "output_type": "execute_result"
    },
    {
     "data": {
      "image/png": "[encoded data removed]",
      "text/plain": [
       "<Figure size 432x288 with 1 Axes>"
      ]
     },
     "metadata": {},
     "output_type": "display_data"
    }
   ],
   "source": [
    "# put your code here\n",
    "m.drawcoastlines(color=\"gray\")\n",
    "m.fillcontinents(color=\"blue\", alpha=0.5)\n",
    "m.drawcountries(color=\"red\")\n",
    "\n"
   ]
  },
  {
   "cell_type": "markdown",
   "metadata": {
    "colab_type": "text",
    "id": "Dec1qLxgu5wT"
   },
   "source": [
    "## Customizing The Plot Using Matplotlib\n",
    "\n",
    "We can add code that:\n",
    "\n",
    "- uses **pyplot.subplots()** to specify the **figsize** parameter\n",
    "- returns the Figure and Axes object for a single subplot and assigns to **fig** and **ax** respectively\n",
    "- use the **Axes.set_title()** method to set the map title\n",
    "\n",
    "**Exercise**\n",
    "\n",
    "<left><img width=\"100\" src=\"https://drive.google.com/uc?export=view&id=1E8tR7B9YYUXsU_rddJAyq0FrM0MSelxZ\"></left>\n",
    "\n",
    "\n",
    "1. Before creating the basemap instance and generating the scatter plot, add code that:\n",
    "    - creates a figure with a height of 15 inches and a width of 20 inches\n",
    "    - sets the title of the scatter plot to **\"Scaled Up Earth With Coastlines\"**\n"
   ]
  },
  {
   "cell_type": "code",
   "execution_count": 23,
   "metadata": {
    "colab": {},
    "colab_type": "code",
    "id": "5G2L5Xii_Li2"
   },
   "outputs": [
    {
     "name": "stderr",
     "output_type": "stream",
     "text": [
      "C:\\Users\\Pedro\\Anaconda3\\lib\\site-packages\\matplotlib\\cbook\\deprecation.py:107: MatplotlibDeprecationWarning: Adding an axes using the same arguments as a previous axes currently reuses the earlier instance.  In a future version, a new instance will always be created and returned.  Meanwhile, this warning can be suppressed, and the future behavior ensured, by passing a unique label to each axes instance.\n",
      "  warnings.warn(message, mplDeprecation, stacklevel=1)\n"
     ]
    },
    {
     "ename": "TypeError",
     "evalue": "'AxesSubplot' object is not iterable",
     "output_type": "error",
     "traceback": [
      "\u001b[1;31m---------------------------------------------------------------------------\u001b[0m",
      "\u001b[1;31mTypeError\u001b[0m                                 Traceback (most recent call last)",
      "\u001b[1;32m<ipython-input-23-cfb410557d56>\u001b[0m in \u001b[0;36m<module>\u001b[1;34m()\u001b[0m\n\u001b[0;32m      6\u001b[0m \u001b[0mm\u001b[0m\u001b[1;33m.\u001b[0m\u001b[0mdrawcountries\u001b[0m\u001b[1;33m(\u001b[0m\u001b[0mcolor\u001b[0m\u001b[1;33m=\u001b[0m\u001b[1;34m\"red\"\u001b[0m\u001b[1;33m)\u001b[0m\u001b[1;33m\u001b[0m\u001b[0m\n\u001b[0;32m      7\u001b[0m \u001b[1;33m\u001b[0m\u001b[0m\n\u001b[1;32m----> 8\u001b[1;33m \u001b[0max\u001b[0m\u001b[1;33m,\u001b[0m \u001b[0mfig\u001b[0m \u001b[1;33m=\u001b[0m \u001b[0mplt\u001b[0m\u001b[1;33m.\u001b[0m\u001b[0msubplot\u001b[0m\u001b[1;33m(\u001b[0m\u001b[1;33m)\u001b[0m\u001b[1;33m\u001b[0m\u001b[0m\n\u001b[0m\u001b[0;32m      9\u001b[0m \u001b[1;33m\u001b[0m\u001b[0m\n\u001b[0;32m     10\u001b[0m \u001b[1;33m\u001b[0m\u001b[0m\n",
      "\u001b[1;31mTypeError\u001b[0m: 'AxesSubplot' object is not iterable"
     ]
    },
    {
     "data": {
      "image/png": "[encoded data removed]",
      "text/plain": [
       "<Figure size 432x288 with 1 Axes>"
      ]
     },
     "metadata": {},
     "output_type": "display_data"
    }
   ],
   "source": [
    "# put your code here\n",
    "import matplotlib.pyplot as plt\n",
    "\n",
    "m.drawcoastlines(color=\"gray\")\n",
    "m.fillcontinents(color=\"blue\", alpha=0.5)\n",
    "m.drawcountries(color=\"red\")\n",
    "\n",
    "ax, fig = plt.subplot()\n",
    "\n",
    "\n",
    "\n"
   ]
  },
  {
   "cell_type": "markdown",
   "metadata": {
    "colab_type": "text",
    "id": "7Z55xYhJu5wU"
   },
   "source": [
    "## Introduction to Great Circles\n"
   ]
  },
  {
   "cell_type": "markdown",
   "metadata": {
    "colab_type": "text",
    "id": "AiRIdzzV_KUL"
   },
   "source": [
    "\n",
    "To better understand the flight routes, we can draw **great circles** to connect starting and ending locations on a map. A great circle is the shortest circle connecting 2 points on a sphere.\n",
    "\n",
    "<img width=\"600\" alt=\"creating a repo\" src=\"https://drive.google.com/uc?export=view&id=0BxhVm1REqwr0blFtbmNLRlpWVkE\">\n",
    "\n",
    "<img width=\"600\" alt=\"creating a repo\" src=\"https://drive.google.com/uc?export=view&id=0BxhVm1REqwr0bW9fOHBDam9DdTA\">\n",
    "\n",
    "On a two-dimensional map, the great circle is demonstrated as a line because it is projected from three-dimensional down to two-dimensional using the map projection. We can use these to visualize the flight **routes** from the routes dataframe. To plot great circles, we need the source longitude, source latitude, destination longitude, and the destination latitude for each route. While the **routes** dataframe contains the source and destination airports for each route, the latitude and longitude values for each airport are in a separate dataframe (**airports**).\n",
    "\n",
    "To make things easier, we've created a new CSV file called **geo_routes.csv** that contains the latitude and longitude values corresponding to the source and destination airports for each route. We've also removed some columns we won't be working with.\n",
    "\n",
    "**Exercise**\n",
    "\n",
    "<left><img width=\"100\" src=\"https://drive.google.com/uc?export=view&id=1E8tR7B9YYUXsU_rddJAyq0FrM0MSelxZ\"></left>\n",
    "\n",
    "\n",
    "1. Read **geo_routes.csv** into a dataframe named **geo_routes**.\n",
    "2. Use the **DataFrame.info()** method to look for columns containing any null values.\n",
    "3. Display the first five rows in **geo_routes**."
   ]
  },
  {
   "cell_type": "code",
   "execution_count": null,
   "metadata": {
    "colab": {},
    "colab_type": "code",
    "id": "tpv4lvV1AVYD"
   },
   "outputs": [],
   "source": [
    "# put your code here"
   ]
  },
  {
   "cell_type": "markdown",
   "metadata": {
    "colab_type": "text",
    "id": "vA2wahjau5wV"
   },
   "source": [
    "## Displaying Great Circles\n"
   ]
  },
  {
   "cell_type": "markdown",
   "metadata": {
    "colab_type": "text",
    "id": "FL3ZBHw0AzbS"
   },
   "source": [
    "\n",
    "We use the **basemap.drawgreatcircle()** method to display a great circle between 2 points. The **basemap.drawgreatcircle()** method requires four parameters in the following order:\n",
    "\n",
    "- **lon1** - longitude of the starting point.\n",
    "- **lat1** - latitude of the starting point.\n",
    "- **lon2** - longitude of the ending point.\n",
    "- **lat2** - latitude of the ending point.\n",
    "\n",
    "The following code generates a great circle for the first three routes in the dataframe:\n",
    "\n",
    "```python\n",
    "m.drawgreatcircle(39.956589, 43.449928, 49.278728, 55.606186)\n",
    "m.drawgreatcircle(48.006278, 46.283333, 49.278728, 55.606186)\n",
    "m.drawgreatcircle(39.956589, 43.449928, 43.081889 , 44.225072)\n",
    "```\n",
    "\n",
    "Unfortunately, basemap struggles to create great circles for routes that have an absolute difference of larger than 180 degrees for either the latitude or longitude values. This is because the **basemap.drawgreatcircle()** method isn't able to create great circles properly when they go outside of the map boundaries. This is mentioned briefly in the [documentation](http://matplotlib.org/basemap/api/basemap_api.html#mpl_toolkits.basemap.Basemap.drawgreatcircle) for the method:\n",
    "\n",
    "**Note**: Cannot handle situations in which the great circle intersects the edge of the map projection domain, and then re-enters the domain.\n",
    "\n",
    "**Exercise**\n",
    "\n",
    "<left><img width=\"100\" src=\"https://drive.google.com/uc?export=view&id=1E8tR7B9YYUXsU_rddJAyq0FrM0MSelxZ\"></left>\n",
    "\n",
    "Write a function, named **create_great_circles()** that draws a great circle for each route that has an absolute difference in the latitude and longitude values less than 180. This function should:\n",
    "- Accept a dataframe as the sole parameter\n",
    "- Iterate over the rows in the dataframe using **DataFrame.iterrows()**\n",
    "- For each row:\n",
    "    - Draw a great circle using the four geographic coordinates **only** if:\n",
    "        - The absolute difference between the latitude values (**end_lat** and **start_lat**) is less than 180.\n",
    "        - If the absolute difference between the longitude values (**end_lon** and **start_lon**) is less than 180.\n",
    "- Create a filtered dataframe containing just the routes that start at the GRU airport.\n",
    "    - Select only the rows in **geo_routes** where the value for the source column equals **\"GRU\"**.\n",
    "    - Assign the resulting dataframe to **gru**.\n",
    "- Pass **dfw** into **create_great_circles()** and display the plot using the **pyplot.show()** function."
   ]
  },
  {
   "cell_type": "code",
   "execution_count": null,
   "metadata": {
    "colab": {},
    "colab_type": "code",
    "id": "yUe9iy_tBX_r"
   },
   "outputs": [],
   "source": [
    "# put your code here"
   ]
  },
  {
   "cell_type": "markdown",
   "metadata": {
    "colab_type": "text",
    "id": "GUoczXYOu5wW"
   },
   "source": [
    "## Guided customization\n",
    "\n",
    "\n"
   ]
  },
  {
   "cell_type": "code",
   "execution_count": null,
   "metadata": {
    "colab": {},
    "colab_type": "code",
    "id": "KlBK3uP_CIHp"
   },
   "outputs": [],
   "source": [
    "from datetime import datetime\n",
    "import numpy as np\n",
    "# Create a figure  \n",
    "fig, ax = plt.subplots(figsize=(10,12))\n",
    "plt.title('Day/Night Map for %s (UTC)' % datetime.now().strftime(\"%d %b %Y %H:%M:%S\"))\n",
    "# Configure the basemap\n",
    "m.scatter(x,y,s=0.1,color=\"red\")\n",
    "m.drawcountries(color='black')\n",
    "m.fillcontinents(color='#0066CC', lake_color='white', alpha=0.1)\n",
    "m.drawcoastlines()\n",
    "# Draw lines of latitude (parallels) and longitude (meridians)\n",
    "m.drawparallels(range(-90,91,10), color='#CCCCCC')\n",
    "m.drawmeridians(range(-180,181,10), color='#CCCCCC')\n",
    "# Day/Night shade (note the datetime is utc here)\n",
    "m.nightshade(datetime.utcnow()) \n",
    "# Plot the figure\n",
    "plt.show()"
   ]
  },
  {
   "cell_type": "markdown",
   "metadata": {},
   "source": [
    "# Folium"
   ]
  },
  {
   "cell_type": "markdown",
   "metadata": {
    "colab_type": "text",
    "id": "ft8cpsYZ55Jt"
   },
   "source": [
    "## Introduction\n"
   ]
  },
  {
   "cell_type": "markdown",
   "metadata": {
    "colab_type": "text",
    "id": "oz9Ruxe28SYO"
   },
   "source": [
    "\n",
    "Interactive maps are useful for data exploration and communicating research. [Leaflet](http://leafletjs.com/), an open-source JavaScript library, facilitates the development of interactive maps, but is designed to be used via JavaScript. In this mission we provide a demonstration of the [folium](http://python-visualization.github.io/folium/) package, which provides an easy to use interface to **Leaflet** for Python users.\n",
    "\n",
    "**folium** makes it easy to visualize data that’s been manipulated in Python on an interactive leaflet map. It enables both the binding of data to a map for [choropleth](https://en.wikipedia.org/wiki/Choropleth_map) visualizations as well as passing rich vector/raster/HTML visualizations as markers on the map.\n",
    "\n",
    "The library has a number of built-in **tilesets** from [OpenStreetMap](https://www.openstreetmap.org), [Mapbox](https://www.mapbox.com/), and [Stamen](http://maps.stamen.com/), and supports custom tilesets with Mapbox or Cloudmade API keys. folium supports both Image, Video, GeoJSON and TopoJSON overlays."
   ]
  },
  {
   "cell_type": "code",
   "execution_count": null,
   "metadata": {
    "colab": {},
    "colab_type": "code",
    "id": "VMsOxqIg-78H"
   },
   "outputs": [],
   "source": [
    "# Instalation \n",
    "!conda install -c conda-forge folium -y "
   ]
  },
  {
   "cell_type": "markdown",
   "metadata": {
    "colab_type": "text",
    "id": "YNcbA3l-G-nA"
   },
   "source": [
    "## Creating a world map"
   ]
  },
  {
   "cell_type": "markdown",
   "metadata": {
    "colab_type": "text",
    "id": "YNcbA3l-G-nA"
   },
   "source": [
    "You simply call the **Map** function and that is all. What is really interesting about the maps created by **folium** is that they are interactive, so you can zoom in and out after the map is rendered, which is a super useful feature.\n",
    "\n",
    "```python\n",
    "import folium\n",
    "m = folium.Map()\n",
    "m\n",
    "```\n",
    "\n",
    "To save the first map in a file:\n",
    "\n",
    "```python\n",
    "m.save('index.html')\n",
    "```"
   ]
  },
  {
   "cell_type": "markdown",
   "metadata": {
    "colab_type": "text",
    "id": "Hz12Zu4THAXr"
   },
   "source": [
    "\n",
    "## Creating a map of Brazil\n",
    "\n",
    "Now let's create a world map centred around Brazil. To do that, we pass in the latitude and the longitude values of\n",
    "Brazil using the location parameter and with **folium** you can set the initial zoom level using the zoom start parameter. Now I say initial because you can easily change the zoom level after the map is rendered by zooming in or zooming out. You can play with this parameter to figure out what the initial zoom level looks like for different values. \n",
    "\n",
    "```python\n",
    "m = folium.Map(\n",
    "    location=[-15.765379, -47.968776],\n",
    "    zoom_start=4\n",
    ")\n",
    "```\n",
    "\n",
    "**Exercise**\n",
    "\n",
    "<left><img width=\"100\" src=\"https://drive.google.com/uc?export=view&id=1E8tR7B9YYUXsU_rddJAyq0FrM0MSelxZ\"></left>\n",
    "\n",
    "- Print folium version using the attribute \\_\\_version\\_\\_.\n",
    "- Start a new map change the **location** parameter to Natal-RN.\n",
    "- Play with **zoom_start** parameter to figure out what the initial zoom level looks like for different values."
   ]
  },
  {
   "cell_type": "code",
   "execution_count": 12,
   "metadata": {
    "colab": {},
    "colab_type": "code",
    "id": "mJz73VVOF91J"
   },
   "outputs": [
    {
     "data": {
      "text/html": [
       "<div style=\"width:100%;\"><div style=\"position:relative;width:100%;height:0;padding-bottom:60%;\"><iframe src=\"data:text/html;charset=utf-8;base64,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\" style=\"position:absolute;width:100%;height:100%;left:0;top:0;border:none !important;\" allowfullscreen webkitallowfullscreen mozallowfullscreen></iframe></div></div>"
      ],
      "text/plain": [
       "<folium.folium.Map at 0x2d78519a710>"
      ]
     },
     "execution_count": 12,
     "metadata": {},
     "output_type": "execute_result"
    }
   ],
   "source": [
    "# put your code here\n",
    "import folium as folium\n",
    "\n",
    "m = folium.Map(\n",
    "    location=[-5.79448, -35.211],\n",
    "    zoom_start=12)\n",
    "m"
   ]
  },
  {
   "cell_type": "markdown",
   "metadata": {
    "colab_type": "text",
    "id": "XdovvPcc55Jv"
   },
   "source": [
    "## Maps styles\n",
    "\n"
   ]
  },
  {
   "cell_type": "markdown",
   "metadata": {
    "colab_type": "text",
    "id": "9KnOCbocJ70z"
   },
   "source": [
    "\n",
    "Another amazing feature of Folium is that you can create different map styles using the tiles parameter. The default tiles are set to **OpenStreetMap**, but **Stamen Terrain**, **Stamen Toner**, **Stamen Watercolor**, **Mapbox Bright**, **Mapbox Control Room**, and many others tiles are built in. Please see all options using keyboard shortcuts (shift+tab) over **Map** function.\n",
    "\n",
    "```python\n",
    "m = folium.Map(\n",
    "    location=[-15.765379, -47.968776],\n",
    "    tiles='Stamen Toner',\n",
    "    zoom_start=4\n",
    ")\n",
    "```\n",
    "\n",
    "**Exercise**\n",
    "\n",
    "<left><img width=\"100\" src=\"https://drive.google.com/uc?export=view&id=1E8tR7B9YYUXsU_rddJAyq0FrM0MSelxZ\"></left>\n",
    "\n",
    "1. Create **eight maps** using the follow tiles options: 'OpenStreetMap', 'Stamen Terrain', 'Stamen Toner', 'Stamen Watercolor', 'cartodbdark_matter', 'cartodbpositron',  'Mapbox Bright', 'Mapbox Control Room'."
   ]
  },
  {
   "cell_type": "code",
   "execution_count": 23,
   "metadata": {
    "colab": {},
    "colab_type": "code",
    "id": "GSg5RB8aLBIR"
   },
   "outputs": [
    {
     "data": {
      "text/html": [
       "<div style=\"width:100%;\"><div style=\"position:relative;width:100%;height:0;padding-bottom:60%;\"><iframe src=\"data:text/html;charset=utf-8;base64,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\" style=\"position:absolute;width:100%;height:100%;left:0;top:0;border:none !important;\" allowfullscreen webkitallowfullscreen mozallowfullscreen></iframe></div></div>"
      ],
      "text/plain": [
       "<folium.folium.Map at 0x2d7852c94a8>"
      ]
     },
     "execution_count": 23,
     "metadata": {},
     "output_type": "execute_result"
    }
   ],
   "source": [
    "# put your code here\n",
    "m = folium.Map(\n",
    "    location=[-15.765379, -47.968776],\n",
    "    tiles='OpenStreetMap',\n",
    "    zoom_start=4)\n",
    "m\n",
    "\n",
    "m = folium.Map(\n",
    "    location=[-15.765379, -47.968776],\n",
    "    tiles='Stamen Terrain',\n",
    "    zoom_start=4)\n",
    "m\n",
    "\n",
    "m = folium.Map(\n",
    "    location=[-15.765379, -47.968776],\n",
    "    tiles='Stamen Toner',\n",
    "    zoom_start=4)\n",
    "m\n",
    "\n",
    "m = folium.Map(\n",
    "    location=[-15.765379, -47.968776],\n",
    "    tiles='Stamen Watercolor',\n",
    "    zoom_start=4)\n",
    "m\n",
    "\n",
    "m = folium.Map(\n",
    "    location=[-15.765379, -47.968776],\n",
    "    tiles='cartodbdark_matter',\n",
    "    zoom_start=4)\n",
    "m\n",
    "\n",
    "m = folium.Map(\n",
    "    location=[-15.765379, -47.968776],\n",
    "    tiles='cartodbpositron',\n",
    "    zoom_start=4)\n",
    "m\n",
    "\n",
    "m = folium.Map(\n",
    "    location=[-15.765379, -47.968776],\n",
    "    tiles='Mapbox Control Room',\n",
    "    zoom_start=4)\n",
    "m\n",
    "\n",
    "\n"
   ]
  },
  {
   "cell_type": "markdown",
   "metadata": {
    "colab_type": "text",
    "id": "KaO0Ezzh55Jw"
   },
   "source": [
    "## Maps with markers\n"
   ]
  },
  {
   "cell_type": "markdown",
   "metadata": {
    "colab_type": "text",
    "id": "gODGkwxXRf5W"
   },
   "source": [
    "\n",
    "We will continue working with the **folium** library and learn how to superimpose markers on top of a map for interesting visualizations. \n",
    "\n",
    "There are numerous marker types, starting with a simple **leaflet** style location marker with a popup. The command **folium.Marker()** is used to insert markers into the map. \n",
    "\n",
    "```python\n",
    "m = folium.Map(\n",
    "    location=[-5.826592, -35.212558],\n",
    "    zoom_start=12,\n",
    "    tiles='Stamen Terrain',\n",
    "    width='50%',\n",
    "    height='50%'\n",
    ")\n",
    "folium.Marker([-5.832187, -35.205432], popup='<i>Instituto Metrópole Digital</i>').add_to(m)\n",
    "folium.Marker([-5.842942, -35.198001], popup='<b>Centro Tecnológico</b>').add_to(m)\n",
    "```\n",
    "\n",
    "**Exercise**\n",
    "\n",
    "<left><img width=\"100\" src=\"https://drive.google.com/uc?export=view&id=1E8tR7B9YYUXsU_rddJAyq0FrM0MSelxZ\"></left>\n",
    "\n",
    "\n",
    "1. Insert in a map the first three **Top-rated Natal Things to Do** according to [Tripadvisor website](https://www.tripadvisor.com/).\n",
    "2. Plot the map.\n"
   ]
  },
  {
   "cell_type": "code",
   "execution_count": 30,
   "metadata": {
    "colab": {},
    "colab_type": "code",
    "id": "eyMS7-MBRuCo"
   },
   "outputs": [
    {
     "data": {
      "text/html": [
       "<div style=\"width:100%;\"><div style=\"position:relative;width:100%;height:0;padding-bottom:60%;\"><iframe src=\"data:text/html;charset=utf-8;base64,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\" style=\"position:absolute;width:100%;height:100%;left:0;top:0;border:none !important;\" allowfullscreen webkitallowfullscreen mozallowfullscreen></iframe></div></div>"
      ],
      "text/plain": [
       "<folium.folium.Map at 0x2d7852ea978>"
      ]
     },
     "execution_count": 30,
     "metadata": {},
     "output_type": "execute_result"
    }
   ],
   "source": [
    "# put your code here\n",
    "m = folium.Map(\n",
    "    location=[-5.826592, -35.212558],\n",
    "    zoom_start=10,\n",
    "    tiles=\"Stamen Terrain\",\n",
    "    width=\"50%\",\n",
    "    height=\"50%\"\n",
    ")\n",
    "\n",
    "folium.Marker([-5.7143009,-35.2313274], popup=\"<i>Dunas de Genipabu</i>\").add_to(m)\n",
    "folium.Marker([-5.8758694,-35.1788169], popup=\"<i>Praia de Ponta Negra</i>\").add_to(m)\n",
    "folium.Marker([-5.8294961,-35.2256142], popup=\"<i>Parque das Dunas</i>\").add_to(m)\n",
    "\n",
    "m"
   ]
  },
  {
   "cell_type": "markdown",
   "metadata": {
    "colab_type": "text",
    "id": "xmC3Wimv55Jy"
   },
   "source": [
    "## Color and icon types\n"
   ]
  },
  {
   "cell_type": "markdown",
   "metadata": {
    "colab_type": "text",
    "id": "4QasqDpgSt0-"
   },
   "source": [
    "\n",
    "There is built in support for colors and marker icon types from bootstrap.\n",
    "\n",
    "```python\n",
    "folium.Marker([-5.832187, -35.205432], \n",
    "              popup='<i>Instituto Metrópole Digital</i>',\n",
    "              icon=folium.Icon(icon='cloud')).add_to(m)\n",
    "folium.Marker([-5.842942, -35.198001], \n",
    "              popup='<b>Centro Tecnológico</b>',\n",
    "              icon=folium.Icon(color='red',\n",
    "                               icon_color='yellow',\n",
    "                               icon='info-sign')).add_to(m)\n",
    "```\n",
    "\n",
    "According to [documentation](https://python-visualization.github.io/folium/docs-v0.6.0/modules.html) the following colors are supported:\n",
    "\n",
    "```python\n",
    " ['red', 'blue', 'green', 'purple', 'orange', 'darkred',\n",
    "         'lightred', 'beige', 'darkblue', 'darkgreen', 'cadetblue',\n",
    "         'darkpurple', 'white', 'pink', 'lightblue', 'lightgreen',\n",
    "         'gray', 'black', 'lightgray']\n",
    "```\n",
    "\n",
    "There are a huge amount of icon in [Font Awesome website](http://fontawesome.io/icons/). You just need add the adequate **prefix** information as parameter to **folium.Icon** function. \n",
    "\n",
    "```python\n",
    "...\n",
    " icon=folium.Icon(color='red',\n",
    "                  icon_color='yellow',\n",
    "                  icon='bicycle',\n",
    "                  prefix='fa')).add_to(m)\n",
    "```\n",
    "\n",
    "**Exercise**\n",
    "\n",
    "<left><img width=\"100\" src=\"https://drive.google.com/uc?export=view&id=1E8tR7B9YYUXsU_rddJAyq0FrM0MSelxZ\"></left>\n",
    "\n",
    "\n",
    "\n",
    "1. Configure the previous exercise to use icons suitable to the places.\n",
    "2. Plot the map.\n",
    "\n"
   ]
  },
  {
   "cell_type": "code",
   "execution_count": 36,
   "metadata": {
    "colab": {},
    "colab_type": "code",
    "id": "3rjbqweRTfDF"
   },
   "outputs": [
    {
     "data": {
      "text/html": [
       "<div style=\"width:100%;\"><div style=\"position:relative;width:100%;height:0;padding-bottom:60%;\"><iframe src=\"data:text/html;charset=utf-8;base64,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\" style=\"position:absolute;width:100%;height:100%;left:0;top:0;border:none !important;\" allowfullscreen webkitallowfullscreen mozallowfullscreen></iframe></div></div>"
      ],
      "text/plain": [
       "<folium.folium.Map at 0x2d7853573c8>"
      ]
     },
     "execution_count": 36,
     "metadata": {},
     "output_type": "execute_result"
    }
   ],
   "source": [
    "# put your code here\n",
    "# put your code here\n",
    "m = folium.Map(\n",
    "    location=[-5.826592, -35.212558],\n",
    "    zoom_start=10,\n",
    "    tiles=\"Stamen Terrain\",\n",
    "    width=\"50%\",\n",
    "    height=\"50%\"\n",
    ")\n",
    "\n",
    "folium.Marker([-5.7143009,-35.2313274], \n",
    "                icon=folium.Icon(color=\"red\", icon_color=\"blue\", icon=\"bicycle\", prefix=\"fa\"), \n",
    "              popup=\"<i>Dunas de Genipabu</i>\").add_to(m)\n",
    "folium.Marker([-5.8758694,-35.1788169], \n",
    "              icon=folium.Icon(color=\"red\", icon_color=\"blue\", icon=\"bicycle\", prefix=\"fa\"),\n",
    "              popup=\"<i>Praia de Ponta Negra</i>\").add_to(m)\n",
    "folium.Marker([-5.8294961,-35.2256142], \n",
    "              icon=folium.Icon(color=\"red\", icon_color=\"blue\", icon=\"bicycle\", prefix=\"fa\"),\n",
    "              popup=\"<i>Parque das Dunas</i>\").add_to(m)\n",
    "\n",
    "\n",
    "m"
   ]
  },
  {
   "cell_type": "markdown",
   "metadata": {
    "colab_type": "text",
    "id": "HUwHXQkA55Jz"
   },
   "source": [
    "## Marker Clusters\n"
   ]
  },
  {
   "cell_type": "markdown",
   "metadata": {
    "colab_type": "text",
    "id": "NUrtYwNXc8zn"
   },
   "source": [
    "\n",
    "### Insert random markers to clusters"
   ]
  },
  {
   "cell_type": "code",
   "execution_count": null,
   "metadata": {
    "colab": {},
    "colab_type": "code",
    "id": "DV3qMdvv55Jz"
   },
   "outputs": [],
   "source": [
    "import numpy as np\n",
    "import folium\n",
    "from folium import plugins\n",
    "\n",
    "# size of sample\n",
    "N = 100\n",
    "\n",
    "# lat and lng sample\n",
    "data = np.array(\n",
    "    [\n",
    "        np.random.uniform(low=-6.4245, high=-5.2660, size=N),  # Random latitudes in RN state.\n",
    "        np.random.uniform(low=-38.6200, high=-35.1782, size=N)  # Random longitudes in RN state.\n",
    "    ]\n",
    ").T\n",
    "\n",
    "# Create a map\n",
    "m = folium.Map(\n",
    "    location=[-5.826592, -35.212558],\n",
    "    zoom_start=12,\n",
    "    tiles='Stamen Terrain',\n",
    "    width='75%',\n",
    "    height='75%'\n",
    ")\n",
    "\n",
    "# Make a cluster\n",
    "plugins.MarkerCluster(data).add_to(m)\n",
    "\n",
    "m"
   ]
  },
  {
   "cell_type": "markdown",
   "metadata": {
    "colab_type": "text",
    "id": "ousJg2_Q55J6"
   },
   "source": [
    "### Insert particular markers to a cluster\n"
   ]
  },
  {
   "cell_type": "code",
   "execution_count": null,
   "metadata": {
    "colab": {},
    "colab_type": "code",
    "id": "wVjigzmf55J6"
   },
   "outputs": [],
   "source": [
    "# Create a map\n",
    "m = folium.Map(\n",
    "    location=[-5.826592, -35.212558],\n",
    "    zoom_start=12,\n",
    "    tiles='Stamen Terrain',\n",
    "    width='75%',\n",
    "    height='75%'\n",
    ")\n",
    "\n",
    "# Create a cluster\n",
    "marker_cluster = plugins.MarkerCluster().add_to(m)\n",
    "\n",
    "folium.Marker([-5.832187, -35.205432], popup='<i>Instituto Metrópole Digital</i>').add_to(marker_cluster)\n",
    "folium.Marker([-5.842942, -35.198001], popup='<b>Centro Tecnológico</b>').add_to(marker_cluster)\n",
    "\n",
    "m"
   ]
  },
  {
   "cell_type": "markdown",
   "metadata": {
    "colab_type": "text",
    "id": "oNfs4AjC55J-"
   },
   "source": [
    "\n",
    "**Exercise**\n",
    "\n",
    "<left><img width=\"100\" src=\"https://drive.google.com/uc?export=view&id=1E8tR7B9YYUXsU_rddJAyq0FrM0MSelxZ\"></left>\n",
    "\n",
    "\n",
    "\n",
    "1. Create a map with markers of top 10 hotels (review score) in [Booking](https://www.booking.com/) to Natal-RN.\n",
    "2. Use suitable icons for each place.\n",
    "3. Create a cluster to join the places.\n",
    "4. Plot the map.\n",
    "\n"
   ]
  },
  {
   "cell_type": "code",
   "execution_count": 44,
   "metadata": {
    "colab": {},
    "colab_type": "code",
    "id": "vI76qLQ6dzCL"
   },
   "outputs": [
    {
     "data": {
      "text/html": [
       "<div style=\"width:100%;\"><div style=\"position:relative;width:100%;height:0;padding-bottom:60%;\"><iframe src=\"data:text/html;charset=utf-8;base64,PCFET0NUWVBFIGh0bWw+CjxoZWFkPiAgICAKICAgIDxtZXRhIGh0dHAtZXF1aXY9ImNvbnRlbnQtdHlwZSIgY29udGVudD0idGV4dC9odG1sOyBjaGFyc2V0PVVURi04IiAvPgogICAgPHNjcmlwdD5MX1BSRUZFUl9DQU5WQVM9ZmFsc2U7IExfTk9fVE9VQ0g9ZmFsc2U7IExfRElTQUJMRV8zRD1mYWxzZTs8L3NjcmlwdD4KICAgIDxzY3JpcHQgc3JjPSJodHRwczovL2Nkbi5qc2RlbGl2ci5uZXQvbnBtL2xlYWZsZXRAMS4yLjAvZGlzdC9sZWFmbGV0LmpzIj48L3NjcmlwdD4KICAgIDxzY3JpcHQgc3JjPSJodHRwczovL2FqYXguZ29vZ2xlYXBpcy5jb20vYWpheC9saWJzL2pxdWVyeS8xLjExLjEvanF1ZXJ5Lm1pbi5qcyI+PC9zY3JpcHQ+CiAgICA8c2NyaXB0IHNyYz0iaHR0cHM6Ly9tYXhjZG4uYm9vdHN0cmFwY2RuLmNvbS9ib290c3RyYXAvMy4yLjAvanMvYm9vdHN0cmFwLm1pbi5qcyI+PC9zY3JpcHQ+CiAgICA8c2NyaXB0IHNyYz0iaHR0cHM6Ly9jZG5qcy5jbG91ZGZsYXJlLmNvbS9hamF4L2xpYnMvTGVhZmxldC5hd2Vzb21lLW1hcmtlcnMvMi4wLjIvbGVhZmxldC5hd2Vzb21lLW1hcmtlcnMuanMiPjwvc2NyaXB0PgogICAgPGxpbmsgcmVsPSJzdHlsZXNoZWV0IiBocmVmPSJodHRwczovL2Nkbi5qc2RlbGl2ci5uZXQvbnBtL2xlYWZsZXRAMS4yLjAvZGlzdC9sZWFmbGV0LmNzcyIvPgogICAgPGxpbmsgcmVsPSJzdHlsZXNoZWV0IiBocmVmPSJodHRwczovL21heGNkbi5ib290c3RyYXBjZG4uY29tL2Jvb3RzdHJhcC8zLjIuMC9jc3MvYm9vdHN0cmFwLm1pbi5jc3MiLz4KICAgIDxsaW5rIHJlbD0ic3R5bGVzaGVldCIgaHJlZj0iaHR0cHM6Ly9tYXhjZG4uYm9vdHN0cmFwY2RuLmNvbS9ib290c3RyYXAvMy4yLjAvY3NzL2Jvb3RzdHJhcC10aGVtZS5taW4uY3NzIi8+CiAgICA8bGluayByZWw9InN0eWxlc2hlZXQiIGhyZWY9Imh0dHBzOi8vbWF4Y2RuLmJvb3RzdHJhcGNkbi5jb20vZm9udC1hd2Vzb21lLzQuNi4zL2Nzcy9mb250LWF3ZXNvbWUubWluLmNzcyIvPgogICAgPGxpbmsgcmVsPSJzdHlsZXNoZWV0IiBocmVmPSJodHRwczovL2NkbmpzLmNsb3VkZmxhcmUuY29tL2FqYXgvbGlicy9MZWFmbGV0LmF3ZXNvbWUtbWFya2Vycy8yLjAuMi9sZWFmbGV0LmF3ZXNvbWUtbWFya2Vycy5jc3MiLz4KICAgIDxsaW5rIHJlbD0ic3R5bGVzaGVldCIgaHJlZj0iaHR0cHM6Ly9yYXdnaXQuY29tL3B5dGhvbi12aXN1YWxpemF0aW9uL2ZvbGl1bS9tYXN0ZXIvZm9saXVtL3RlbXBsYXRlcy9sZWFmbGV0LmF3ZXNvbWUucm90YXRlLmNzcyIvPgogICAgPHN0eWxlPmh0bWwsIGJvZHkge3dpZHRoOiAxMDAlO2hlaWdodDogMTAwJTttYXJnaW46IDA7cGFkZGluZzogMDt9PC9zdHlsZT4KICAgIDxzdHlsZT4jbWFwIHtwb3NpdGlvbjphYnNvbHV0ZTt0b3A6MDtib3R0b206MDtyaWdodDowO2xlZnQ6MDt9PC9zdHlsZT4KICAgIAogICAgPHN0eWxlPiNtYXBfM2I5N2YyMDFiNzE4NDZjZmFiOGQ4NDgwOTRmZjBkZDEgewogICAgICAgIHBvc2l0aW9uOiByZWxhdGl2ZTsKICAgICAgICB3aWR0aDogODAuMCU7CiAgICAgICAgaGVpZ2h0OiA4MC4wJTsKICAgICAgICBsZWZ0OiAwLjAlOwogICAgICAgIHRvcDogMC4wJTsKICAgICAgICB9CiAgICA8L3N0eWxlPgogICAgPHNjcmlwdCBzcmM9Imh0dHBzOi8vY2RuanMuY2xvdWRmbGFyZS5jb20vYWpheC9saWJzL2xlYWZsZXQubWFya2VyY2x1c3Rlci8xLjEuMC9sZWFmbGV0Lm1hcmtlcmNsdXN0ZXIuanMiPjwvc2NyaXB0PgogICAgPGxpbmsgcmVsPSJzdHlsZXNoZWV0IiBocmVmPSJodHRwczovL2NkbmpzLmNsb3VkZmxhcmUuY29tL2FqYXgvbGlicy9sZWFmbGV0Lm1hcmtlcmNsdXN0ZXIvMS4xLjAvTWFya2VyQ2x1c3Rlci5jc3MiLz4KICAgIDxsaW5rIHJlbD0ic3R5bGVzaGVldCIgaHJlZj0iaHR0cHM6Ly9jZG5qcy5jbG91ZGZsYXJlLmNvbS9hamF4L2xpYnMvbGVhZmxldC5tYXJrZXJjbHVzdGVyLzEuMS4wL01hcmtlckNsdXN0ZXIuRGVmYXVsdC5jc3MiLz4KPC9oZWFkPgo8Ym9keT4gICAgCiAgICAKICAgIDxkaXYgY2xhc3M9ImZvbGl1bS1tYXAiIGlkPSJtYXBfM2I5N2YyMDFiNzE4NDZjZmFiOGQ4NDgwOTRmZjBkZDEiID48L2Rpdj4KPC9ib2R5Pgo8c2NyaXB0PiAgICAKICAgIAogICAgCiAgICAgICAgdmFyIGJvdW5kcyA9IG51bGw7CiAgICAKCiAgICB2YXIgbWFwXzNiOTdmMjAxYjcxODQ2Y2ZhYjhkODQ4MDk0ZmYwZGQxID0gTC5tYXAoCiAgICAgICAgJ21hcF8zYjk3ZjIwMWI3MTg0NmNmYWI4ZDg0ODA5NGZmMGRkMScsIHsKICAgICAgICBjZW50ZXI6IFstNS44MjY1OTIsIC0zNS4yMTI1NThdLAogICAgICAgIHpvb206IDEwLAogICAgICAgIG1heEJvdW5kczogYm91bmRzLAogICAgICAgIGxheWVyczogW10sCiAgICAgICAgd29ybGRDb3B5SnVtcDogZmFsc2UsCiAgICAgICAgY3JzOiBMLkNSUy5FUFNHMzg1NywKICAgICAgICB6b29tQ29udHJvbDogdHJ1ZSwKICAgICAgICB9KTsKCiAgICAKICAgIAogICAgdmFyIHRpbGVfbGF5ZXJfNWIwMGVhNDcxMjc0NDc0ODg4NjRjOTlkYTg3NjY4MDkgPSBMLnRpbGVMYXllcigKICAgICAgICAnaHR0cHM6Ly9zdGFtZW4tdGlsZXMte3N9LmEuc3NsLmZhc3RseS5uZXQvdGVycmFpbi97en0ve3h9L3t5fS5qcGcnLAogICAgICAgIHsKICAgICAgICAiYXR0cmlidXRpb24iOiBudWxsLAogICAgICAgICJkZXRlY3RSZXRpbmEiOiBmYWxzZSwKICAgICAgICAibWF4TmF0aXZlWm9vbSI6IDE4LAogICAgICAgICJtYXhab29tIjogMTgsCiAgICAgICAgIm1pblpvb20iOiAwLAogICAgICAgICJub1dyYXAiOiBmYWxzZSwKICAgICAgICAic3ViZG9tYWlucyI6ICJhYmMiCn0pLmFkZFRvKG1hcF8zYjk3ZjIwMWI3MTg0NmNmYWI4ZDg0ODA5NGZmMGRkMSk7CiAgICAKICAgICAgICAgICAgdmFyIG1hcmtlcl9jbHVzdGVyX2Y0YzNmMjgyODM5ODQyMTRhNzc4OWZhNzljZThjMjI5ID0gTC5tYXJrZXJDbHVzdGVyR3JvdXAoe30pOwogICAgICAgICAgICBtYXBfM2I5N2YyMDFiNzE4NDZjZmFiOGQ4NDgwOTRmZjBkZDEuYWRkTGF5ZXIobWFya2VyX2NsdXN0ZXJfZjRjM2YyODI4Mzk4NDIxNGE3Nzg5ZmE3OWNlOGMyMjkpOwogICAgICAgICAgICAKICAgIAogICAgICAgIHZhciBtYXJrZXJfOWRhZDQyNDZmYmZhNDRmYWJiNDMzOTQxZmI5YzQ4NzYgPSBMLm1hcmtlcigKICAgICAgICAgICAgWy02LjQyNDUsIC01LjI2Nl0sCiAgICAgICAgICAgIHsKICAgICAgICAgICAgICAgIGljb246IG5ldyBMLkljb24uRGVmYXVsdCgpCiAgICAgICAgICAgICAgICB9CiAgICAgICAgICAgICkuYWRkVG8obWFya2VyX2NsdXN0ZXJfZjRjM2YyODI4Mzk4NDIxNGE3Nzg5ZmE3OWNlOGMyMjkpOwogICAgICAgIAogICAgCgogICAgICAgICAgICAgICAgdmFyIGljb25fY2I5MDlmOGY0ZjBkNDYwOTg1Y2NmOGZlNGFhODg1ZmMgPSBMLkF3ZXNvbWVNYXJrZXJzLmljb24oewogICAgICAgICAgICAgICAgICAgIGljb246ICdiaWN5Y2xlJywKICAgICAgICAgICAgICAgICAgICBpY29uQ29sb3I6ICdibHVlJywKICAgICAgICAgICAgICAgICAgICBtYXJrZXJDb2xvcjogJ3JlZCcsCiAgICAgICAgICAgICAgICAgICAgcHJlZml4OiAnZmEnLAogICAgICAgICAgICAgICAgICAgIGV4dHJhQ2xhc3NlczogJ2ZhLXJvdGF0ZS0wJwogICAgICAgICAgICAgICAgICAgIH0pOwogICAgICAgICAgICAgICAgbWFya2VyXzlkYWQ0MjQ2ZmJmYTQ0ZmFiYjQzMzk0MWZiOWM0ODc2LnNldEljb24oaWNvbl9jYjkwOWY4ZjRmMGQ0NjA5ODVjY2Y4ZmU0YWE4ODVmYyk7CiAgICAgICAgICAgIAogICAgCiAgICAgICAgICAgIHZhciBwb3B1cF9kMTYxZWQxOGZmNDY0ZGY2OTk1ZTZlZmUwYmUzMGE0MCA9IEwucG9wdXAoe21heFdpZHRoOiAnMzAwJwogICAgICAgICAgICAKICAgICAgICAgICAgfSk7CgogICAgICAgICAgICAKICAgICAgICAgICAgICAgIHZhciBodG1sXzhlNDliY2QxNmQwNTQ5YmI5OThjNzVhZDVlODk1YWRmID0gJCgnPGRpdiBpZD0iaHRtbF84ZTQ5YmNkMTZkMDU0OWJiOTk4Yzc1YWQ1ZTg5NWFkZiIgc3R5bGU9IndpZHRoOiAxMDAuMCU7IGhlaWdodDogMTAwLjAlOyI+aG90ZWwgZGUgdGVzdGUxPC9kaXY+JylbMF07CiAgICAgICAgICAgICAgICBwb3B1cF9kMTYxZWQxOGZmNDY0ZGY2OTk1ZTZlZmUwYmUzMGE0MC5zZXRDb250ZW50KGh0bWxfOGU0OWJjZDE2ZDA1NDliYjk5OGM3NWFkNWU4OTVhZGYpOwogICAgICAgICAgICAKCiAgICAgICAgICAgIG1hcmtlcl85ZGFkNDI0NmZiZmE0NGZhYmI0MzM5NDFmYjljNDg3Ni5iaW5kUG9wdXAocG9wdXBfZDE2MWVkMThmZjQ2NGRmNjk5NWU2ZWZlMGJlMzBhNDApCiAgICAgICAgICAgIDsKCiAgICAgICAgICAgIAogICAgICAgIAogICAgCiAgICAgICAgdmFyIG1hcmtlcl83MDk5MjZkODMzNTY0MGJlODZmNTUxZjkzODliZDk3NyA9IEwubWFya2VyKAogICAgICAgICAgICBbLTM4LjYyLCAtMzUuMTc4Ml0sCiAgICAgICAgICAgIHsKICAgICAgICAgICAgICAgIGljb246IG5ldyBMLkljb24uRGVmYXVsdCgpCiAgICAgICAgICAgICAgICB9CiAgICAgICAgICAgICkuYWRkVG8obWFya2VyX2NsdXN0ZXJfZjRjM2YyODI4Mzk4NDIxNGE3Nzg5ZmE3OWNlOGMyMjkpOwogICAgICAgIAogICAgCgogICAgICAgICAgICAgICAgdmFyIGljb25fYTNhOGYyMWYzYzQ0NGIxZDhjZGU1M2ViOTNlYjg5ZWMgPSBMLkF3ZXNvbWVNYXJrZXJzLmljb24oewogICAgICAgICAgICAgICAgICAgIGljb246ICdiaWN5Y2xlJywKICAgICAgICAgICAgICAgICAgICBpY29uQ29sb3I6ICdibHVlJywKICAgICAgICAgICAgICAgICAgICBtYXJrZXJDb2xvcjogJ3JlZCcsCiAgICAgICAgICAgICAgICAgICAgcHJlZml4OiAnZmEnLAogICAgICAgICAgICAgICAgICAgIGV4dHJhQ2xhc3NlczogJ2ZhLXJvdGF0ZS0wJwogICAgICAgICAgICAgICAgICAgIH0pOwogICAgICAgICAgICAgICAgbWFya2VyXzcwOTkyNmQ4MzM1NjQwYmU4NmY1NTFmOTM4OWJkOTc3LnNldEljb24oaWNvbl9hM2E4ZjIxZjNjNDQ0YjFkOGNkZTUzZWI5M2ViODllYyk7CiAgICAgICAgICAgIAogICAgCiAgICAgICAgICAgIHZhciBwb3B1cF8yOGQwYzlhMjU3NWM0NTJmYmRiMGRmZWNjYjE5NGI2MCA9IEwucG9wdXAoe21heFdpZHRoOiAnMzAwJwogICAgICAgICAgICAKICAgICAgICAgICAgfSk7CgogICAgICAgICAgICAKICAgICAgICAgICAgICAgIHZhciBodG1sXzgzMjRmZTg5Y2VjYzQxMTM5NDI0NzgyNTZjZDc2ZjJlID0gJCgnPGRpdiBpZD0iaHRtbF84MzI0ZmU4OWNlY2M0MTEzOTQyNDc4MjU2Y2Q3NmYyZSIgc3R5bGU9IndpZHRoOiAxMDAuMCU7IGhlaWdodDogMTAwLjAlOyI+aG90ZWwgZGUgdGVzdGUyPC9kaXY+JylbMF07CiAgICAgICAgICAgICAgICBwb3B1cF8yOGQwYzlhMjU3NWM0NTJmYmRiMGRmZWNjYjE5NGI2MC5zZXRDb250ZW50KGh0bWxfODMyNGZlODljZWNjNDExMzk0MjQ3ODI1NmNkNzZmMmUpOwogICAgICAgICAgICAKCiAgICAgICAgICAgIG1hcmtlcl83MDk5MjZkODMzNTY0MGJlODZmNTUxZjkzODliZDk3Ny5iaW5kUG9wdXAocG9wdXBfMjhkMGM5YTI1NzVjNDUyZmJkYjBkZmVjY2IxOTRiNjApCiAgICAgICAgICAgIDsKCiAgICAgICAgICAgIAogICAgICAgIAo8L3NjcmlwdD4=\" style=\"position:absolute;width:100%;height:100%;left:0;top:0;border:none !important;\" allowfullscreen webkitallowfullscreen mozallowfullscreen></iframe></div></div>"
      ],
      "text/plain": [
       "<folium.folium.Map at 0x2d785383b00>"
      ]
     },
     "execution_count": 44,
     "metadata": {},
     "output_type": "execute_result"
    }
   ],
   "source": [
    "import numpy as np\n",
    "\n",
    "# put your code here\n",
    "m = folium.Map(\n",
    "    location=[-5.826592, -35.212558],\n",
    "    zoom_start=10,\n",
    "    tiles=\"Stamen Terrain\",\n",
    "    width=\"80%\",\n",
    "    height=\"80%\")\n",
    "\n",
    "marker_cluster = plugins.MarkerCluster().add_to(m)\n",
    "\n",
    "folium.Marker([-6.4245, -5.2660], icon=folium.Icon(color=\"red\", icon_color=\"blue\", icon=\"bicycle\", prefix=\"fa\"),\n",
    "             popup=\"hotel de teste1\").add_to(marker_cluster)\n",
    "\n",
    "folium.Marker([-38.6200, -35.1782], icon=folium.Icon(color=\"red\", icon_color=\"blue\", icon=\"bicycle\", prefix=\"fa\"),\n",
    "             popup=\"hotel de teste2\").add_to(marker_cluster)\n",
    "\n",
    "m\n"
   ]
  },
  {
   "cell_type": "markdown",
   "metadata": {
    "colab_type": "text",
    "id": "NEXU78zM55J_"
   },
   "source": [
    "### Heatmap"
   ]
  },
  {
   "cell_type": "code",
   "execution_count": 43,
   "metadata": {
    "colab": {},
    "colab_type": "code",
    "id": "fo2k9_m855KA"
   },
   "outputs": [
    {
     "data": {
      "text/html": [
       "<div style=\"width:100%;\"><div style=\"position:relative;width:100%;height:0;padding-bottom:60%;\"><iframe src=\"data:text/html;charset=utf-8;base64,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\" style=\"position:absolute;width:100%;height:100%;left:0;top:0;border:none !important;\" allowfullscreen webkitallowfullscreen mozallowfullscreen></iframe></div></div>"
      ],
      "text/plain": [
       "<folium.folium.Map at 0x2d785189860>"
      ]
     },
     "execution_count": 43,
     "metadata": {},
     "output_type": "execute_result"
    }
   ],
   "source": [
    "from folium.plugins import HeatMap\n",
    "from folium import plugins\n",
    "import numpy as np\n",
    "\n",
    "# size of sample\n",
    "N = 100\n",
    "\n",
    "# lat and lng sample\n",
    "data = np.array(\n",
    "    [\n",
    "        np.random.uniform(low=-6.4245, high=-5.2660, size=N),  # Random latitudes in RN state.\n",
    "        np.random.uniform(low=-38.6200, high=-35.1782, size=N)  # Random longitudes in RN state.\n",
    "    ]\n",
    ").T\n",
    "\n",
    "# Create a map\n",
    "m = folium.Map(\n",
    "    location=[-5.826592, -35.212558],\n",
    "    zoom_start=12,\n",
    "    tiles='Stamen Terrain',\n",
    "    width='75%',\n",
    "    height='75%'\n",
    ")\n",
    "\n",
    "# data : list of points of the form [lat, lng] or [lat, lng, weight]\n",
    "HeatMap(data).add_to(m)\n",
    "\n",
    "m"
   ]
  },
  {
   "cell_type": "markdown",
   "metadata": {
    "colab_type": "text",
    "id": "oiBYBB7e55KE"
   },
   "source": [
    "## How to create popups"
   ]
  },
  {
   "cell_type": "markdown",
   "metadata": {
    "colab_type": "text",
    "id": "uOLF49SreQXY"
   },
   "source": [
    "\n",
    "**folium** enables passing any HTML object as a popup, including [bokeh](https://bokeh.pydata.org/en/latest/) plots, but there is a built-in support for [vincent](https://github.com/wrobstory/vincent) and [altair](https://altair-viz.github.io/) visualizations to any marker type, with the visualization as the popover.\n",
    "\n"
   ]
  },
  {
   "cell_type": "markdown",
   "metadata": {
    "colab_type": "text",
    "id": "IwbMcuutedjc"
   },
   "source": [
    "\n",
    "### A convenience function to enable lat/lng popovers"
   ]
  },
  {
   "cell_type": "code",
   "execution_count": 46,
   "metadata": {
    "colab": {},
    "colab_type": "code",
    "id": "IEdKp_VX55KE"
   },
   "outputs": [
    {
     "data": {
      "text/html": [
       "<div style=\"width:100%;\"><div style=\"position:relative;width:100%;height:0;padding-bottom:60%;\"><iframe src=\"data:text/html;charset=utf-8;base64,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\" style=\"position:absolute;width:100%;height:100%;left:0;top:0;border:none !important;\" allowfullscreen webkitallowfullscreen mozallowfullscreen></iframe></div></div>"
      ],
      "text/plain": [
       "<folium.folium.Map at 0x2d785383978>"
      ]
     },
     "execution_count": 46,
     "metadata": {},
     "output_type": "execute_result"
    }
   ],
   "source": [
    "m = folium.Map(\n",
    "    location=[-5.826592, -35.212558],\n",
    "    zoom_start=12,\n",
    "    tiles='Stamen Terrain',\n",
    "    width='50%',\n",
    "    height='50%'\n",
    ")\n",
    "m.add_child(folium.LatLngPopup())\n",
    "m"
   ]
  },
  {
   "cell_type": "markdown",
   "metadata": {
    "colab_type": "text",
    "id": "ouM0TlWV55KI"
   },
   "source": [
    "### Vega popup\n",
    "\n",
    "You may know that it's possible to create awesome [Vega](https://github.com/vega/vega) charts with (or without) [vincent](https://github.com/wrobstory/vincent). If you're willing to put one inside a popup, it's possible thanks to **folium.Vega**"
   ]
  },
  {
   "cell_type": "code",
   "execution_count": 50,
   "metadata": {
    "colab": {
     "base_uri": "https://localhost:8080/",
     "height": 262
    },
    "colab_type": "code",
    "executionInfo": {
     "elapsed": 5377,
     "status": "ok",
     "timestamp": 1538999541837,
     "user": {
      "displayName": "Ivanovitch Silva",
      "photoUrl": "",
      "userId": "06428777505436195303"
     },
     "user_tz": 180
    },
    "id": "MO2HZumif5eH",
    "outputId": "9527f169-be50-4ebd-ed7c-4ac66950413e"
   },
   "outputs": [
    {
     "name": "stderr",
     "output_type": "stream",
     "text": [
      "\n",
      "Usage:   \n",
      "  pip <command> [options]\n",
      "\n",
      "no such option: --upgrade\n"
     ]
    }
   ],
   "source": [
    "# Just in case using colab\n",
    "!pip --upgrade"
   ]
  },
  {
   "cell_type": "code",
   "execution_count": 51,
   "metadata": {
    "colab": {},
    "colab_type": "code",
    "id": "g1G80k1Z55KI"
   },
   "outputs": [
    {
     "data": {
      "text/html": [
       "<div style=\"width:100%;\"><div style=\"position:relative;width:100%;height:0;padding-bottom:60%;\"><iframe src=\"data:text/html;charset=utf-8;base64,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\" style=\"position:absolute;width:100%;height:100%;left:0;top:0;border:none !important;\" allowfullscreen webkitallowfullscreen mozallowfullscreen></iframe></div></div>"
      ],
      "text/plain": [
       "<folium.folium.Map at 0x2d7853d1da0>"
      ]
     },
     "execution_count": 51,
     "metadata": {},
     "output_type": "execute_result"
    }
   ],
   "source": [
    "import json\n",
    "import numpy as np\n",
    "import vincent\n",
    "\n",
    "# Dictionary is the dataset\n",
    "scatter_points = {\n",
    "    'x': np.random.uniform(size=(100,)),\n",
    "    'y': np.random.uniform(size=(100,)),\n",
    "}\n",
    "\n",
    "# Let's create the vincent chart.\n",
    "scatter_chart = vincent.Scatter(scatter_points,\n",
    "                                iter_idx='x',\n",
    "                                width=400,\n",
    "                                height=200)\n",
    "\n",
    "# Create a map\n",
    "m = folium.Map(\n",
    "    location=[-5.826592, -35.212558],\n",
    "    zoom_start=12,\n",
    "    width='80%',\n",
    "    height='80%',\n",
    "    tiles='Stamen Terrain',\n",
    ")\n",
    "\n",
    "# Create an object popup and adding a graph for it\n",
    "popup = folium.Popup(max_width=500)\n",
    "folium.Vega(scatter_chart, height=250, width=450).add_to(popup)\n",
    "\n",
    "# Print a icon on map\n",
    "folium.Marker([-5.832187, -35.205432], \n",
    "              icon=folium.Icon(icon='cloud'),\n",
    "              popup=popup).add_to(m)\n",
    "m"
   ]
  },
  {
   "cell_type": "markdown",
   "metadata": {
    "colab_type": "text",
    "id": "VB5jMWOb55KO"
   },
   "source": [
    "### Pandas popup"
   ]
  },
  {
   "cell_type": "code",
   "execution_count": 52,
   "metadata": {
    "colab": {},
    "colab_type": "code",
    "id": "xDEp-8kB55KP"
   },
   "outputs": [
    {
     "data": {
      "text/html": [
       "<div style=\"width:100%;\"><div style=\"position:relative;width:100%;height:0;padding-bottom:60%;\"><iframe src=\"data:text/html;charset=utf-8;base64,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\" style=\"position:absolute;width:100%;height:100%;left:0;top:0;border:none !important;\" allowfullscreen webkitallowfullscreen mozallowfullscreen></iframe></div></div>"
      ],
      "text/plain": [
       "<folium.folium.Map at 0x2d7853d1c18>"
      ]
     },
     "execution_count": 52,
     "metadata": {},
     "output_type": "execute_result"
    }
   ],
   "source": [
    "import pandas as pd\n",
    "\n",
    "# Create a dataframe\n",
    "df = pd.DataFrame(data=[['2016', 'A'], ['2017', 'A+']], columns=['Year', 'Grade'])\n",
    "\n",
    "# Create a map\n",
    "m = folium.Map(\n",
    "    location=[-5.826592, -35.212558],\n",
    "    zoom_start=12,\n",
    "    width='50%',\n",
    "    height='50%',\n",
    "    tiles='Stamen Terrain',\n",
    ")\n",
    "\n",
    "# Render a DataFrame as an HTML table.\n",
    "html = df.to_html(classes='table table-striped table-hover table-condensed table-responsive')\n",
    "\n",
    "# Create a popup\n",
    "popup = folium.Popup(html)\n",
    "\n",
    "# Print a icon on map\n",
    "folium.Marker([-5.832187, -35.205432], \n",
    "              icon=folium.Icon(icon='cloud'),\n",
    "              popup=popup).add_to(m)\n",
    "m"
   ]
  },
  {
   "cell_type": "code",
   "execution_count": null,
   "metadata": {},
   "outputs": [],
   "source": []
  }
 ],
 "metadata": {
  "colab": {
   "name": "Visualizing Geographic Data.ipynb",
   "provenance": [],
   "version": "0.3.2"
  },
  "kernelspec": {
   "display_name": "Python 3",
   "language": "python",
   "name": "python3"
  },
  "language_info": {
   "codemirror_mode": {
    "name": "ipython",
    "version": 3
   },
   "file_extension": ".py",
   "mimetype": "text/x-python",
   "name": "python",
   "nbconvert_exporter": "python",
   "pygments_lexer": "ipython3",
   "version": "3.6.5"
  }
 },
 "nbformat": 4,
 "nbformat_minor": 2
}
