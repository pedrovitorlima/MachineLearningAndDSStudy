{
 "cells": [
  {
   "cell_type": "markdown",
   "metadata": {
    "colab_type": "text",
    "id": "VuuiZYAMEOFR"
   },
   "source": [
    "# Frequency Distributions"
   ]
  },
  {
   "cell_type": "markdown",
   "metadata": {
    "colab_type": "text",
    "id": "spWyvb4nEtJc"
   },
   "source": [
    "## Simplifying Data"
   ]
  },
  {
   "cell_type": "markdown",
   "metadata": {
    "colab_type": "text",
    "id": "CrzUD0iwEx6b"
   },
   "source": [
    "Previously, we focused on the details around collecting data, on understanding its structure and how it's measured. **Collecting data is just the starting point in a data analysis workflow.** We rarely collect data just for the sake of collecting it. We collect data to analyze it, and we analyze it for different purposes:\n",
    "\n",
    "- To describe phenomena in the world (science).\n",
    "- To make better decisions (industries).\n",
    "- To improve systems (engineering).\n",
    "- To describe different aspects of our society (data journalism); etc.\n",
    "\n",
    "<center><img width=\"250\" src=\"https://drive.google.com/uc?export=view&id=1_QX1g2KHfZVpg5mVsRUO4CJgp0F5StwP\"></center>\n",
    "\n",
    "\n",
    "Our capacity to understand a data set just by looking at it in a table format is limited, and it decreases dramatically as the size of the data set increases. To be able to analyze data, we need to find ways to simplify it.\n",
    "\n",
    "The WNBA data set we've been working with has 143 rows and 32 columns. This might not seem like much compared to other data sets, but it's still extremely difficult to find any patterns just by eyeballing the data set in a table format. With 32 columns, even five rows would take us a couple of minutes to analyze:\n",
    "\n",
    "| _ | Name            | Team | Pos | Height | Weight | BMI       | Birth_Place | Birthdate         | Age | College        | Experience | Games Played | MIN |\n",
    "|---|-----------------|------|-----|--------|--------|-----------|-------------|-------------------|-----|----------------|------------|--------------|-----|\n",
    "| 0 | Aerial Powers   | DAL  | F   | 183    | 71.0   | 21.200991 | US          | January 17, 1994  | 23  | Michigan State | 2          | 8            | 173 |\n",
    "| 1 | Alana Beard     | LA   | G/F | 185    | 73.0   | 21.329438 | US          | May 14, 1982      | 35  | Duke           | 12         | 30           | 947 |\n",
    "| 2 | Alex Bentley    | CON  | G   | 170    | 69.0   | 23.875433 | US          | October 27, 1990  | 26  | Penn State     | 4          | 26           | 617 |\n",
    "| 3 | Alex Montgomery | SAN  | G/F | 185    | 84.0   | 24.543462 | US          | December 11, 1988 | 28  | Georgia Tech   | 6          | 31           | 721 |\n",
    "| 4 | Alexis Jones    | MIN  | G   | 175    | 78.0   | 25.469388 | US          | August 5, 1994    | 23  | Baylor         | R          | 24           | 137 |\n",
    "\n",
    "\n",
    "One way to simplify this data set is to select a variable, count how many times each unique value occurs, and represent the frequencies (the number of times a unique value occurs) in a table. This is how such a table looks for the **POS (player position)** variable:\n",
    "\n",
    "<left><img width=\"150\" src=\"https://drive.google.com/uc?export=view&id=1la98ySTe-ElKFokRsXZTsUyb_RsuB8mL\"></left>\n",
    "\n",
    "\n",
    "Because 60 of the players in our data set play as **guards**, the frequency for guards is 60. Because 33 of the players are forwards, the frequency for forwards is 33, and so on.\n",
    "\n",
    "With the table above, we simplified the **POS variable** by transforming it to a comprehensible format. Instead of having to deal with analyzing 143 values (the length of the POS variable), now we only have five values to analyze. We can make a few conclusions now that would have been difficult and time consuming to reach at just by looking at the list of 143 values:\n",
    "\n",
    "- We can see how the frequencies are distributed:\n",
    "  - Almost half of the players play as guards.\n",
    "  - Most of the players are either guards, forwards or centers.\n",
    "  - Very few players have combined positions (like guard/forward or forward/center).\n",
    "- We can make comparisons with ease:\n",
    "  - There are roughly two times more guards than forwards.\n",
    "  - There are slightly less centers that forwards; etc.\n",
    "  \n",
    "Because the table above shows how frequencies are distributed, it's often called a **frequency distribution table**, or, shorter, **frequency table** or **frequency distribution**. Throughout this mission, our focus will be on learning the details behind this form of simplifying data.\n",
    "\n",
    "\n",
    "**Exercise**\n",
    "\n",
    "<left><img width=\"100\" src=\"https://drive.google.com/uc?export=view&id=1E8tR7B9YYUXsU_rddJAyq0FrM0MSelxZ\"></left>\n",
    "\n",
    "\n",
    "Try to get a sense for how difficult it is to analyze the **basketball data set** in its original form.\n",
    "\n",
    "- Read in the basketball data set (the name of the CSV file is **wnba.csv**) using **pd.read_csv()**.\n",
    "- Using **DataFrame.shape**, find the number of rows and columns of the data set.\n",
    "- Print the entire data set, and try to analyze the output to find some patterns."
   ]
  },
  {
   "cell_type": "code",
   "execution_count": null,
   "metadata": {
    "colab": {},
    "colab_type": "code",
    "id": "zC9Pgny3FDFK"
   },
   "outputs": [],
   "source": [
    "import pandas as pd\n",
    "\n",
    "pd.options.display.max_rows = 200\n",
    "pd.options.display.max_columns = 50\n",
    "\n",
    "# put your code here"
   ]
  },
  {
   "cell_type": "markdown",
   "metadata": {
    "colab_type": "text",
    "id": "7JpGjVQ3JuAo"
   },
   "source": [
    "## Frequency Distribution Tables"
   ]
  },
  {
   "cell_type": "markdown",
   "metadata": {
    "colab_type": "text",
    "id": "GiYx25X5J5xx"
   },
   "source": [
    "A frequency distribution table has two columns. One column records the unique values of a variable, and the other the frequency of each unique value.\n",
    "\n",
    "<img width=\"400\" src=\"https://drive.google.com/uc?export=view&id=1eZ42ytzaA8E1VUaV_fUti5-kzOEL4Jc5\">\n",
    "\n",
    "To generate a frequency distribution table using Python, we can use the [Series.value_counts()](http://pandas.pydata.org/pandas-docs/stable/generated/pandas.Series.value_counts.html?highlight=value_counts#pandas.Series.value_counts) method. Let's try it on the **Pos** column, which describes the position on the court of each individual.\n",
    "\n",
    "```python\n",
    ">> wnba['Pos'].value_counts()\n",
    "G      60\n",
    "F      33\n",
    "C      25\n",
    "G/F    13\n",
    "F/C    12\n",
    "Name: Pos, dtype: int64\n",
    "```\n",
    "\n",
    "**Exercise**\n",
    "\n",
    "\n",
    "<left><img width=\"100\" src=\"https://drive.google.com/uc?export=view&id=1E8tR7B9YYUXsU_rddJAyq0FrM0MSelxZ\"></left>\n",
    "\n",
    "\n",
    "\n",
    "Using the **Series.value_counts()** method, generate frequency distribution tables for the following columns:\n",
    "\n",
    "- **Pos.** Assign the frequency distribution table to a variable named **freq_distro_pos**.\n",
    "- **Height.** Assign the frequency distribution table to a variable named **freq_distro_height**.\n",
    "\n",
    "Using the variable inspector, try to analyze each table and identify how values are distributed and compare to each other.\n",
    "\n"
   ]
  },
  {
   "cell_type": "code",
   "execution_count": null,
   "metadata": {
    "colab": {},
    "colab_type": "code",
    "id": "Dflf1YHtRyQY"
   },
   "outputs": [],
   "source": [
    "# put your code here"
   ]
  },
  {
   "cell_type": "markdown",
   "metadata": {
    "colab_type": "text",
    "id": "Mj8uCsF2Tjsq"
   },
   "source": [
    "## Sorting Frequency Distribution Tables"
   ]
  },
  {
   "cell_type": "markdown",
   "metadata": {
    "colab_type": "text",
    "id": "8xTh2fibVAXF"
   },
   "source": [
    "As you might have noticed, pandas sorts the tables by default in the descending order of the frequencies. Let's consider again the frequency distribution table for the Pos variable, which is measured on a nominal scale:\n",
    "\n",
    "```python\n",
    ">> wnba['Pos'].value_counts()\n",
    "G      60\n",
    "F      33\n",
    "C      25\n",
    "G/F    13\n",
    "F/C    12\n",
    "Name: Pos, dtype: int64\n",
    "```\n",
    "\n",
    "This default is harmless for variables measured on a nominal scale because the unique values, although different, have no direction (we can't say, for instance, that centers are greater or lower than guards). The default actually helps because we can immediately see which values have the greatest or lowest frequencies, we can make comparisons easily, etc.\n",
    "\n",
    "\n",
    "<img width=\"600\" src=\"https://drive.google.com/uc?export=view&id=1rF3KN5tNdnTS5Jo8veeBk0Q6ANVSH19x\">\n",
    "\n",
    "\n",
    "For variables measured on **ordinal**, **interval**, or **ratio scales**, this default makes the analysis of the tables more difficult because the unique values have direction (some uniques values are greater or lower than others). Let's consider the table for the **Height** variable, which is measured on a **ratio scale**:\n",
    "\n",
    "```python\n",
    ">> wnba['Height'].value_counts()\n",
    "188    20\n",
    "193    18\n",
    "175    16\n",
    "185    15\n",
    "191    11\n",
    "183    11\n",
    "173    11\n",
    "196     9\n",
    "178     8\n",
    "180     7\n",
    "170     6\n",
    "198     5\n",
    "201     2\n",
    "168     2\n",
    "206     1\n",
    "165     1\n",
    "Name: Height, dtype: int64\n",
    " ```\n",
    " \n",
    " Because the **Height** variable has direction, we might be interested to find:\n",
    "\n",
    "- How many players are under 170 cm?\n",
    "- How many players are very tall (over 185)?\n",
    "- Are there any players below 160 cm?\n",
    "\n",
    "It's time-consuming to answer these questions using the table above. The solution is to sort the table ourselves.\n",
    "\n",
    "**wnba['Height'].value_counts()** returns a **Series** object with the measures of height as indices. This allows us to sort the table by index using the [Series.sort_index()](http://pandas.pydata.org/pandas-docs/stable/generated/pandas.Series.sort_index.html) method:\n",
    "\n",
    "```python\n",
    ">> wnba['Height'].value_counts().sort_index()\n",
    "165     1\n",
    "168     2\n",
    "170     6\n",
    "173    11\n",
    "175    16\n",
    "178     8\n",
    "180     7\n",
    "183    11\n",
    "185    15\n",
    "188    20\n",
    "191    11\n",
    "193    18\n",
    "196     9\n",
    "198     5\n",
    "201     2\n",
    "206     1\n",
    "Name: Height, dtype: int64\n",
    "```\n",
    "\n",
    "We can also sort the table by index in a descending order using **wnba['Height'].value_counts().sort_index(ascending = False)**\n",
    "\n",
    "\n",
    "\n",
    "**Exercise**\n",
    "\n",
    "\n",
    "<left><img width=\"100\" src=\"https://drive.google.com/uc?export=view&id=1E8tR7B9YYUXsU_rddJAyq0FrM0MSelxZ\"></left>\n",
    "\n",
    "\n",
    "\n",
    "- Generate a frequency distribution table for the **Age** variable, which is measured on a **ratio scale**, and sort the table by unique values.\n",
    "  - Sort the table by unique values in an ascending order, and assign the result to a variable named **age_ascending.**\n",
    "  - Sort the table by unique values in a descending order, and assign the result to a variable named **age_descending.**\n",
    "\n",
    "- Analyze one of the frequency distribution tables and brainstorm questions that might be interesting to answer here. These include:\n",
    "  - How many players are under 20?\n",
    "  - How many players are 30 or over?"
   ]
  },
  {
   "cell_type": "code",
   "execution_count": null,
   "metadata": {
    "colab": {},
    "colab_type": "code",
    "id": "9EqKx2muVyXK"
   },
   "outputs": [],
   "source": [
    "# put your code here"
   ]
  },
  {
   "cell_type": "markdown",
   "metadata": {
    "colab_type": "text",
    "id": "yzuk7gHpZMDk"
   },
   "source": [
    "## Sorting Tables for Ordinal Variables"
   ]
  },
  {
   "cell_type": "markdown",
   "metadata": {
    "colab_type": "text",
    "id": "xWwd0C87ZbrY"
   },
   "source": [
    "The sorting techniques learned in the previous screen can't be used for ordinal scales where the measurement is done using words. We don't have a variable measured on an ordinal scale in our data set, but let's use the **PTS** variable and the conventions below to create one and see why the techniques we learned don't work:\n",
    "\n",
    "\n",
    "<img width=\"300\" src=\"https://drive.google.com/uc?export=view&id=11c0OU4fvss88CyRX7OBAVetRtgpojL2j\">\n",
    "\n",
    "We name the new column **PTS_ordinal_scale**. Below is a short extract from our data set containing the new column:\n",
    "\n",
    "```python\n",
    ">> wnba[['Name', 'PTS', 'PTS_ordinal_scale']].head()\n",
    "```\n",
    "\n",
    "<img width=\"300\" src=\"https://drive.google.com/uc?export=view&id=1TsbZSmvbqIuXkmfXqk_fuknoWSSpFTiL\">\n",
    "\n",
    "\n",
    "Let's examine the frequency distribution table for the **PTS_ordinal_scale** variable:\n",
    "\n",
    "```python\n",
    ">> wnba['PTS_ordinal_scale'].value_counts()\n",
    "a lot of points    79\n",
    "few points         27\n",
    "many points        25\n",
    "very few points    12\n",
    "dtype: int64\n",
    "```\n",
    "\n",
    "\n",
    "We want to sort the labels in an **ascending** or **descending order**, but using **Series.sort_index()** doesn't work because the method can't infer quantities from words like \"few points\". **Series.sort_index()** can only order the index alphabetically in an ascending or descending order:\n",
    "\n",
    "```python\n",
    ">> wnba['PTS_ordinal_scale'].value_counts().sort_index()\n",
    "a lot of points    79\n",
    "few points         27\n",
    "many points        25\n",
    "very few points    12\n",
    "dtype: int64\n",
    "```\n",
    "\n",
    "The solution is to do selection by index label. The output of **wnba['PTS_ordinal_scale'].value_counts()** is a Series object with the labels as indices. This means we can select by indices to reorder in any way we like:\n",
    "\n",
    "```python\n",
    ">> wnba['PTS_ordinal_scale'].value_counts()[['very few points', 'few points', 'many points', 'a lot of points']]\n",
    "very few points    12\n",
    "few points         27\n",
    "many points        25\n",
    "a lot of points    79\n",
    "dtype: int64\n",
    "```\n",
    "\n",
    "This approach can be time-consuming because it involves more typing than it's ideal. We can use **iloc[]** instead to reorder by position:\n",
    "\n",
    "```python\n",
    ">> wnba['PTS_ordinal_scale'].value_counts().iloc[[3, 1, 2, 0]]\n",
    "very few points    12\n",
    "few points         27\n",
    "many points        25\n",
    "a lot of points    79\n",
    "dtype: int64\n",
    "```\n",
    "\n",
    "\n",
    "**Exercise**\n",
    "\n",
    "\n",
    "<left><img width=\"100\" src=\"https://drive.google.com/uc?export=view&id=1E8tR7B9YYUXsU_rddJAyq0FrM0MSelxZ\"></left>\n",
    "\n",
    "We've added more granularity to the ordinal scale above:\n",
    "\n",
    "<img width=\"400\" src=\"https://drive.google.com/uc?export=view&id=1jYoNYmiO4z0S11WD1Yyj98EnYpZ6ky7S\">\n",
    "\n",
    "\n",
    "Generate a frequency distribution table for the transformed **PTS_ordinal_scale** column.\n",
    "\n",
    "- Order the table by unique values in a descending order (not alphabetically).\n",
    "- Assign the result to a variable named **pts_ordinal_desc.**"
   ]
  },
  {
   "cell_type": "code",
   "execution_count": null,
   "metadata": {
    "colab": {},
    "colab_type": "code",
    "id": "1vPAAgIjb2aI"
   },
   "outputs": [],
   "source": [
    "def make_pts_ordinal(row):\n",
    "    if row['PTS'] <= 20:\n",
    "        return 'very few points'\n",
    "    if (20 < row['PTS'] <=  80):\n",
    "        return 'few points'\n",
    "    if (80 < row['PTS'] <=  150):\n",
    "        return 'many, but below average'\n",
    "    if (150 < row['PTS'] <= 300):\n",
    "        return 'average number of points'\n",
    "    if (300 < row['PTS'] <=  450):\n",
    "        return 'more than average'\n",
    "    else:\n",
    "        return 'much more than average'\n",
    "    \n",
    "wnba['PTS_ordinal_scale'] = wnba.apply(make_pts_ordinal, axis = 1)\n",
    "\n",
    "# put your code here"
   ]
  },
  {
   "cell_type": "markdown",
   "metadata": {
    "colab_type": "text",
    "id": "fuvqRF3jf7Ye"
   },
   "source": [
    "## Proportions and Percentages"
   ]
  },
  {
   "cell_type": "markdown",
   "metadata": {
    "colab_type": "text",
    "id": "ThLnlkemgQAF"
   },
   "source": [
    "When we analyze distributions, we're often interested in answering questions about **proportions** and **percentages**. For instance, we may want to answer the following questions about the distribution of the **POS** (player position) variable:\n",
    "\n",
    "- What proportion of players are guards?\n",
    "- What percentage of players are centers?\n",
    "- What percentage of players have mixed positions?\n",
    "\n",
    "It's very difficult to answer these questions precisely just by looking at the frequencies:\n",
    "\n",
    "```python\n",
    ">> wnba['Pos'].value_counts()\n",
    "G      60\n",
    "F      33\n",
    "C      25\n",
    "G/F    13\n",
    "F/C    12\n",
    "Name: Pos, dtype: int64\n",
    "```\n",
    "\n",
    "We can see that almost half of the players are guards, but we need more granularity to answer the first question above. For that, we can transform frequencies to proportions.\n",
    "\n",
    "The proportion of each player position quantifies how many players play in a certain position **relative** to the total number of players. There are 60 guards and 143 players overall (including guards) so the proportion of guards is $\\frac{60}{143}$ .\n",
    "\n",
    "In practical data analysis, it's much more common to express the fraction as a decimal between 0 and 1. So we'd say that $0.42$  (the result of $\\frac{60}{143}$ ) of the players are guards.\n",
    "\n",
    "<img width=\"400\" src=\"https://drive.google.com/uc?export=view&id=1gXcSf6vRp7hBb_SXeZYlB-_PPeZtyFyH\">\n",
    "\n",
    "In pandas, we can compute all the proportions at once by dividing each frequency to the total number of players:\n",
    "\n",
    "```python\n",
    ">> wnba['Pos'].value_counts() / len(wnba)\n",
    "G      0.419580\n",
    "F      0.230769\n",
    "C      0.174825\n",
    "G/F    0.090909\n",
    "F/C    0.083916\n",
    "Name: Pos, dtype: float64\n",
    "```\n",
    "\n",
    "It's slightly faster though to use **Series.value_counts()** with the **normalize** parameter set to **True**:\n",
    "\n",
    "```python\n",
    ">> wnba['Pos'].value_counts(normalize = True)\n",
    "G      0.419580\n",
    "F      0.230769\n",
    "C      0.174825\n",
    "G/F    0.090909\n",
    "F/C    0.083916\n",
    "Name: Pos, dtype: float64\n",
    "```\n",
    "\n",
    "To find percentages, we just have to multiply the proportions by 100:\n",
    "\n",
    "```python\n",
    ">> wnba['Pos'].value_counts(normalize = True) * 100\n",
    "G      41.958042\n",
    "F      23.076923\n",
    "C      17.482517\n",
    "G/F     9.090909\n",
    "F/C     8.391608\n",
    "Name: Pos, dtype: float64\n",
    "```\n",
    "\n",
    "<img width=\"400\" src=\"https://drive.google.com/uc?export=view&id=1gJzhcwdMVcx2y4DHKHw2LsT_WvyBCz55\">\n",
    "\n",
    "\n",
    "Because proportions and percentages are **relative** to the total number of instances in some set of data, they are called **relative frequencies**. In contrast, the frequencies we've been working with so far are called **absolute frequencies** because they are absolute counts and don't relate to the total number of instances.\n",
    "\n",
    "**Exercise**\n",
    "\n",
    "\n",
    "<left><img width=\"100\" src=\"https://drive.google.com/uc?export=view&id=1E8tR7B9YYUXsU_rddJAyq0FrM0MSelxZ\"></left>\n",
    "\n",
    "\n",
    "\n",
    "- Answer the following questions about the Age variable:\n",
    "  - What proportion of players are 25 years old? Assign your answer to a variable named **proportion_25.**\n",
    "  - What percentage of players are 30 years old? Assign your answer to a variable named **percentage_30.**\n",
    "  - What percentage of players are 30 years or older? Assign your answer to a variable named **percentage_over_30**.\n",
    "  - What percentage of players are 23 years or younger? Assign your answer to a variable named **percentage_below_23.**"
   ]
  },
  {
   "cell_type": "code",
   "execution_count": null,
   "metadata": {
    "colab": {},
    "colab_type": "code",
    "id": "K85uB-QXgbUS"
   },
   "outputs": [],
   "source": [
    "# put your code here"
   ]
  },
  {
   "cell_type": "markdown",
   "metadata": {
    "colab_type": "text",
    "id": "si2Ocg5gje7R"
   },
   "source": [
    "## Percentiles and Percentile Ranks"
   ]
  },
  {
   "cell_type": "markdown",
   "metadata": {
    "colab_type": "text",
    "id": "sr6UKSMgkDFx"
   },
   "source": [
    "In the previous exercise, we found that the percentage of players aged 23 years or younger is 19% (rounded to the nearest integer). This percentage is also called a **percentile rank**.\n",
    "\n",
    "A percentile rank of a value $x$  in a frequency distribution is given by the percentage of values that are equal or less than $x$. In our last exercise, $x=23$, and the fact that 23 has a percentile rank of 19% means that 19% of the values are equal to or less than 23.\n",
    "\n",
    "In this context, the value of 23 is called the **19th percentile**. If a value $x$  is the 19th percentile, it means that 19% of all the values in the distribution are equal to or less than $x$ .\n",
    "\n",
    "\n",
    "<img width=\"600\" src=\"https://drive.google.com/uc?export=view&id=17b-Z_fRcvHgwPl3NJP5G-B7Pxy-EZ5c1\">\n",
    "\n",
    "\n",
    "When we're trying to answer questions similar to **\"What percentage of players are 23 years or younger?\"**, we're trying to find **percentile ranks.** In our previous exercise, our answer to this question was 18.881%. We can arrive at the same answer a bit faster using the [percentileofscore(a, score, kind='weak')](https://docs.scipy.org/doc/scipy-0.10.0/reference/generated/scipy.stats.percentileofscore.html#scipy-stats-percentileofscore) function from **scipy.stats**:\n",
    "\n",
    "```python\n",
    ">> from scipy.stats import percentileofscore\n",
    ">> percentileofscore(a = wnba['Age'], score = 23, kind = 'weak')\n",
    "18.88111888111888\n",
    "```\n",
    "\n",
    "We need to use **kind = 'weak'** to indicate that we want to find the percentage of values thar are equal to or less than the value we specify in the score parameter.\n",
    "\n",
    "Another question we had was what percentage of players are 30 years or older. We can answer this question too using percentile ranks. First we need to find the percentage of values equal to or less than 29 years (the percentile rank of 29). The rest of the values must be 30 years or more.\n",
    "\n",
    "<img width=\"600\" src=\"https://drive.google.com/uc?export=view&id=1tLUg6nvpy5nOhXCWVEJgpyvD7ldhjCVw\">\n",
    "\n",
    "\n",
    "In our exercise the answer we found was 26.573%. This is what we get using the technique we've just learned:\n",
    "\n",
    "```python\n",
    ">> 100 - percentileofscore(wnba['Age'], 29, kind = 'weak')\n",
    "26.573426573426573\n",
    "```\n",
    "\n",
    "In the next sections, we'll learn how to find quickly any percentile using pandas. For now, let's practice percentile ranks more.\n",
    "\n",
    "\n",
    "\n",
    "**Exercise**\n",
    "\n",
    "\n",
    "<left><img width=\"100\" src=\"https://drive.google.com/uc?export=view&id=1E8tR7B9YYUXsU_rddJAyq0FrM0MSelxZ\"></left>\n",
    "\n",
    "\n",
    "- Import **percentileofscore()** from scipy.stats, and then use it to answer the following questions:\n",
    "  - What percentage of players played half the number of games or less in the 2016-2017 season (there are 34 games in the WNBA’s regular season)? Use the **Games Played** column to find the data you need, and assign your answer to a variable named **percentile_rank_half_less**.\n",
    "  - What percentage of players played more than half the number of games of the season 2016-2017? Assign your result to **percentage_half_more.**"
   ]
  },
  {
   "cell_type": "code",
   "execution_count": null,
   "metadata": {
    "colab": {},
    "colab_type": "code",
    "id": "lPCCRttbn28k"
   },
   "outputs": [],
   "source": [
    "# put your code here"
   ]
  },
  {
   "cell_type": "markdown",
   "metadata": {
    "colab_type": "text",
    "id": "BYHbwFmr3au_"
   },
   "source": [
    "## Finding Percentiles with pandas"
   ]
  },
  {
   "cell_type": "markdown",
   "metadata": {
    "colab_type": "text",
    "id": "IatkMlRs3nvs"
   },
   "source": [
    "To find percentiles, we can use the **Series.describe()** method, which returns by default the **25th**, the **50th**, and the **75th** percentiles:\n",
    "\n",
    "```python\n",
    ">> wnba['Age'].describe()\n",
    "count    143.000000\n",
    "mean      27.076923\n",
    "std        3.679170\n",
    "min       21.000000\n",
    "25%       24.000000\n",
    "50%       27.000000\n",
    "75%       30.000000\n",
    "max       36.000000\n",
    "Name: Age, dtype: float64\n",
    "```\n",
    "\n",
    "We are not interested here in the first three rows of the output (count, mean, and standard deviation). We can use **iloc[]** to isolate just the output we want:\n",
    "\n",
    "```python\n",
    ">>wnba['Age'].describe().iloc[3:]\n",
    "min    21.0\n",
    "25%    24.0\n",
    "50%    27.0\n",
    "75%    30.0\n",
    "max    36.0\n",
    "Name: Age, dtype: float64\n",
    "```\n",
    "\n",
    "The **25th**, **50th**, and **75th** percentiles pandas returns by default are the scores that divide the distribution into four equal parts.\n",
    "\n",
    "<img width=\"500\" src=\"https://drive.google.com/uc?export=view&id=1UI-X7sTvPKAa4xkygiBM8cxkxjpeCBlL\">\n",
    "\n",
    "\n",
    "The three percentiles that divide the distribution in four equal parts are also known as **quartiles** (from the Latin [quartus](http://www.latin-dictionary.net/definition/32600/quattuor-quartus) which means four). There are three quartiles in the distribution of the **Age** variable:\n",
    "\n",
    "- The first quartile (also called lower quartile) is 24 (note that 24 is also the 25th percentile).\n",
    "- The second quartile (also called the middle quartile) is 27 (note that 27 is also the 50th percentile).\n",
    "- And the third quartile (also called the upper quartile) is 30 (note that 30 is also the 75th percentile).\n",
    "\n",
    "We may be interested to find the percentiles for percentages other than 25%, 50%, or 75%. For that, we can use the **percentiles** parameter of **Series.describe()**. This parameter requires us to pass the **percentages** we want as proportions between 0 and 1.\n",
    "\n",
    "\n",
    "```python\n",
    ">> wnba['Age'].describe(percentiles = [.1, .15, .33, .5, .592, .85, .9]).iloc[3:]\n",
    "min      21.0\n",
    "10%      23.0\n",
    "15%      23.0\n",
    "33%      25.0\n",
    "50%      27.0\n",
    "59.2%    28.0\n",
    "85%      31.0\n",
    "90%      32.0\n",
    "max      36.0\n",
    "Name: Age, dtype: float64\n",
    "```\n",
    "\n",
    "Percentiles don't have a single [standard definition](https://en.wikipedia.org/wiki/Percentile#Definitions), so don't be surprised if you get very similar (but not identical) values if you use different functions (especially if the functions come from different libraries).\n",
    "\n",
    "\n",
    "**Exercise**\n",
    "\n",
    "\n",
    "<left><img width=\"100\" src=\"https://drive.google.com/uc?export=view&id=1E8tR7B9YYUXsU_rddJAyq0FrM0MSelxZ\"></left>\n",
    "\n",
    "\n",
    "- Use the **Age** variable along with **Series.describe()** to answer the following questions:\n",
    "  - What's the upper quartile of the **Age** variable? Assign your answer to a variable named **age_upper_quartile.**\n",
    "  - What's the middle quartile of the **Age** variable? Assign your answer to a variable named **age_middle_quartile.**\n",
    "  - What's the **95th percentile** of the **Age** variable? Assign your answer to a variable named **age_95th_percentile.**\n",
    "- Indicate the truth value of the following sentences:\n",
    "  - A **percentile** is a value of a variable, and it corresponds to a certain **percentile rank** in the distribution of that variable. (If you think this is true, assign **True** (boolean, not string) to a variable named **question_1**, otherwise assign **False**.)\n",
    "  - A **percentile rank** is a numerical value from the distribution of a variable. (Assign **True** or **False** to **question_2**.)\n",
    "  - The **25th percentile** is the same thing as the **lower quartile**, and the **upper quartile** is the same thing as the **third quartile**. (Assign **True** or **False** to **question_3**)\n",
    "\n"
   ]
  },
  {
   "cell_type": "code",
   "execution_count": null,
   "metadata": {
    "colab": {},
    "colab_type": "code",
    "id": "ioZotk1Q3wPn"
   },
   "outputs": [],
   "source": [
    "# put your code here"
   ]
  },
  {
   "cell_type": "markdown",
   "metadata": {
    "colab_type": "text",
    "id": "W5ai_b-zBbWM"
   },
   "source": [
    "## Grouped Frequency Distribution Tables"
   ]
  },
  {
   "cell_type": "markdown",
   "metadata": {
    "colab_type": "text",
    "id": "U4ctTbziBowH"
   },
   "source": [
    "With frequency tables, we're trying to transform relatively large and incomprehensible amounts of data to a table format we can understand. However, not all frequency tables are straightforward:\n",
    "\n",
    "\n",
    "```python\n",
    ">> wnba['Weight'].value_counts().sort_index()\n",
    "55.0      1\n",
    "57.0      1\n",
    "58.0      1\n",
    "59.0      2\n",
    "62.0      1\n",
    "63.0      3\n",
    "64.0      5\n",
    "65.0      4\n",
    "66.0      8\n",
    "67.0      1\n",
    "68.0      2\n",
    "69.0      2\n",
    "70.0      3\n",
    "71.0      2\n",
    "73.0      6\n",
    "74.0      4\n",
    "75.0      4\n",
    "76.0      4\n",
    "77.0     10\n",
    "78.0      5\n",
    "79.0      6\n",
    "80.0      3\n",
    "81.0      5\n",
    "82.0      4\n",
    "83.0      4\n",
    "84.0      9\n",
    "85.0      2\n",
    "86.0      7\n",
    "87.0      6\n",
    "88.0      6\n",
    "89.0      3\n",
    "90.0      2\n",
    "91.0      3\n",
    "93.0      3\n",
    "95.0      2\n",
    "96.0      2\n",
    "97.0      1\n",
    "104.0     2\n",
    "108.0     1\n",
    "113.0     2\n",
    "Name: Weight, dtype: int64\n",
    "```\n",
    "\n",
    "\n",
    "There's a lot of granularity in the table above, but for this reason it's not easy to find patterns. The table for the **Weight** variable is a relatively happy case - the frequency tables for variables like **PTS**, **BMI**, or **MIN** are even more **daunting**.\n",
    "\n",
    "If the variable is measured on an **interval** or **ratio scale**, a common solution to this problem is to **group the values in equal intervals**. For the **Weight** variable, the values range from 55 to 113 kg, which amounts to a difference of 58 kg. We can try to segment this 58 kg interval in ten smaller and equal intervals. This will result in ten intervals of 5.8 kg each:\n",
    "\n",
    "<img width=\"450\" src=\"https://drive.google.com/uc?export=view&id=12ar9ft_-oVZpZWH_hcjz3awBmhB-ADHg\">\n",
    "\n",
    "\n",
    "Fortunately, pandas can handle this process gracefully. We only need to make use of the **bins** parameter of **Series.value_counts()**. We want ten equal intervals, so we need to specify **bins = 10**:\n",
    "\n",
    "\n",
    "```python\n",
    ">> wnba['Weight'].value_counts(bins = 10).sort_index()\n",
    "(54.941, 60.8]     5\n",
    "(60.8, 66.6]      21\n",
    "(66.6, 72.4]      10\n",
    "(72.4, 78.2]      33\n",
    "(78.2, 84.0]      31\n",
    "(84.0, 89.8]      24\n",
    "(89.8, 95.6]      10\n",
    "(95.6, 101.4]      3\n",
    "(101.4, 107.2]     2\n",
    "(107.2, 113.0]     3\n",
    "Name: Weight, dtype: int64\n",
    " ```\n",
    " \n",
    "(54.941, 60.8], (60.8, 66.6] or (107.2, 113.0] are number intervals. The ( character indicates that the starting point is not included, while the ] indicates that the endpoint is included. (54.941, 60.8] means that 54.941 isn't included in the interval, while 60.8 is. The interval (54.941, 60.8] contains all real numbers greater than 54.941 and less than or equal to 60.8.\n",
    "\n",
    "We can see above that there are 10 equal intervals, 5.8 each. The first interval, (54.941, 60.8] is confusing, and has to do with [how pandas internals show the output](https://github.com/pandas-dev/pandas/blob/01e99decf14b55409cea0789ffcc615afed45bac/pandas/core/algorithms.py#L497). One way to understand this is to convert 54.941 to 1 decimal point, like all the other values are. Then the first interval becomes (54.9, 60.8]. 54.9 is not included, so you can think that the interval starts at the minimum value of the Weight variable, which is 55.\n",
    "\n",
    "Because we group values in a table to get a better sense of frequencies in the distribution, the table we generated above is also known as a **grouped frequency distribution table**. Each group (interval) in a grouped frequency distribution table is also known as a **class interval**. (107.2, 113.0], for instance, is a class interval.\n",
    "\n",
    "Using the grouped frequency distribution table we generated above for the **Weight** variable, we can find patterns easier in the distribution of values:\n",
    "\n",
    "- Most players weigh somewhere between 70 and 90 kg.\n",
    "- Very few players weigh over 100 kg.\n",
    "- Very few players weigh under 60 kg; etc.\n",
    "\n",
    "\n",
    "**Exercise**\n",
    "\n",
    "\n",
    "<left><img width=\"100\" src=\"https://drive.google.com/uc?export=view&id=1E8tR7B9YYUXsU_rddJAyq0FrM0MSelxZ\"></left>\n",
    "\n",
    "\n",
    "Verify on the cell below and examine the frequency table for the **PTS** (total points) variable trying to find some patterns in the distribution of values. Then, generate a grouped frequency distribution table for the **PTS** variable with the following characteristics:\n",
    "- The table has 10 class intervals.\n",
    "- For each class interval, the table shows percentages instead of frequencies.\n",
    "- The class intervals are sorted in descending order.\n",
    "- Assign the table to a variable named **grouped_freq_table**, then print it and try again to find some patterns in the distribution of values.\n"
   ]
  },
  {
   "cell_type": "code",
   "execution_count": null,
   "metadata": {
    "colab": {},
    "colab_type": "code",
    "id": "DGJwq4tdBz3H"
   },
   "outputs": [],
   "source": [
    "# put your code here"
   ]
  },
  {
   "cell_type": "markdown",
   "metadata": {
    "colab_type": "text",
    "id": "tNSbzczYEI-A"
   },
   "source": [
    "## Information Loss"
   ]
  },
  {
   "cell_type": "markdown",
   "metadata": {
    "colab_type": "text",
    "id": "9_wnh6DxEP9g"
   },
   "source": [
    "When we generate grouped frequency distribution tables, there's an inevitable information loss. Let's consider this table:\n",
    "\n",
    "```python\n",
    ">> wnba['PTS'].value_counts(bins = 10)\n",
    "(1.417, 60.2]     30\n",
    "(60.2, 118.4]     24\n",
    "(118.4, 176.6]    17\n",
    "(176.6, 234.8]    20\n",
    "(234.8, 293.0]    17\n",
    "(293.0, 351.2]     8\n",
    "(351.2, 409.4]    10\n",
    "(409.4, 467.6]     8\n",
    "(467.6, 525.8]     4\n",
    "(525.8, 584.0]     5\n",
    "Name: PTS, dtype: int64\n",
    " ```\n",
    " \n",
    "Looking at the first interval, we can see there are 30 players who scored between 2 and 60 points (2 is the minimum value in our data set, and points in basketball can only be integers). However, because we grouped the values, we lost more granular information like:\n",
    "\n",
    "- How many players, if any, scored exactly 50 points.\n",
    "- How many players scored under 10 points.\n",
    "- How many players scored between 20 and 30 points, etc.\n",
    "\n",
    "To get back this granular information, we can increase the number of class intervals. However, if we do that, we end up again with a table that's lengthy and very difficult to analyze.\n",
    "\n",
    "On the other side, if we decrease the number of class intervals, we lose even more information:\n",
    "\n",
    "```python\n",
    "wnba['PTS'].value_counts(bins = 5).sort_index()\n",
    "(1.417, 118.4]    54\n",
    "(118.4, 234.8]    37\n",
    "(234.8, 351.2]    25\n",
    "(351.2, 467.6]    18\n",
    "(467.6, 584.0]     9\n",
    "Name: PTS, dtype: int64\n",
    "```\n",
    "\n",
    "There are 54 players that scored between 2 and 118 points. We can get this information from the first table above too, but there's some extra information there: among these 54 players, 30 scored between 2 and 60 points, and 24 scored between 61 and 118 points. We lost this information when we decreased the number of class intervals from 10 to 5.\n",
    "\n",
    "We can conclude there is a trade-off between the information in a table, and how comprehensible the table is.\n",
    "\n",
    "\n",
    "<img width=\"450\" src=\"https://drive.google.com/uc?export=view&id=1PtWCiK-ocbotjHqhFxmWL-3j_kAdP9au\">\n",
    "\n",
    "\n",
    "\n",
    "When we increase the number of class intervals, we can get more information, but the table becomes harder to analyze. When we decrease the number of class intervals, we get a boost in comprehensibility, but the amount of information in the table decreases.\n",
    "\n",
    "As a rule of thumb, 10 is a good number of class intervals to choose because it offers a good balance between information and comprehensibility.\n",
    "\n",
    "<img width=\"450\" src=\"https://drive.google.com/uc?export=view&id=1MaCcxrDyJhXd6smlAt-eK41rqRImqKyi\">\n",
    "\n",
    "\n",
    "**Exercise**\n",
    "\n",
    "\n",
    "<left><img width=\"100\" src=\"https://drive.google.com/uc?export=view&id=1E8tR7B9YYUXsU_rddJAyq0FrM0MSelxZ\"></left>\n",
    "\n",
    "\n",
    "\n",
    "Generate a grouped frequency distribution for the **MIN** variable (minutes played during the season), and experiment with the number of class intervals to get a sense for what conclusions you can draw as you vary the number of class intervals. Try to experiment with the following numbers of class intervals:\n",
    "- 1\n",
    "- 2\n",
    "- 3\n",
    "- 5\n",
    "- 10\n",
    "- 15\n",
    "- 20\n",
    "- 40"
   ]
  },
  {
   "cell_type": "code",
   "execution_count": null,
   "metadata": {
    "colab": {},
    "colab_type": "code",
    "id": "aalHcCmoGYuP"
   },
   "outputs": [],
   "source": [
    "# put your code here"
   ]
  },
  {
   "cell_type": "markdown",
   "metadata": {
    "colab_type": "text",
    "id": "pUzyuKd3EUAC"
   },
   "source": [
    "## Readability for Grouped Frequency Tables"
   ]
  },
  {
   "cell_type": "markdown",
   "metadata": {
    "colab_type": "text",
    "id": "QgCqGq7EGN7L"
   },
   "source": [
    "Pandas helps a lot when we need to explore quickly grouped frequency tables. However, the intervals pandas outputs are confusing at a first sight:\n",
    "\n",
    "```python\n",
    "wnba['PTS'].value_counts(bins = 5).sort_index()\n",
    "(1.417, 118.4]    54\n",
    "(118.4, 234.8]    37\n",
    "(234.8, 351.2]    25\n",
    "(351.2, 467.6]    18\n",
    "(467.6, 584.0]     9\n",
    "Name: PTS, dtype: int64\n",
    "```\n",
    "\n",
    "Imagine we'd have to publish the table above in a blog post or a scientific paper. The readers will have a hard time understanding the intervals we chose. They'll also be puzzled by the decimal numbers because points in basketball can only be integers.\n",
    "\n",
    "To fix this, we can define the intervals ourselves. For the table above, we can define six intervals of 100 points each, and then count how many values fit in each interval. We'd like to end with a table like this:\n",
    "\n",
    "\n",
    "```python\n",
    "(0,100]      49\n",
    "(100,200]    28\n",
    "(200,300]    32\n",
    "(300,400]    17\n",
    "(400,500]    10\n",
    "(500,600]     7\n",
    "```\n",
    "\n",
    "Next, we show one way to code the intervals. We start with creating the intervals using the [pd.interval_range()](http://pandas.pydata.org/pandas-docs/stable/generated/pandas.interval_range.html?highlight=interval_rang) function:\n",
    "\n",
    "```python\n",
    ">> intervals = pd.interval_range(start = 0, end = 600, freq = 100)\n",
    ">> intervals\n",
    "IntervalIndex([(0, 100], (100, 200], (200, 300], (300, 400], (400, 500], (500, 600]]\n",
    "              closed='right',\n",
    "              dtype='interval[int64]')\n",
    "```\n",
    "\n",
    "              \n",
    "Next, we create a new Series using the intervals as indices, and, for now, 0 as values:\n",
    "\n",
    "```python\n",
    ">> gr_freq_table = pd.Series([0,0,0,0,0,0], index = intervals)\n",
    ">> gr_freq_table\n",
    "(0, 100]      0\n",
    "(100, 200]    0\n",
    "(200, 300]    0\n",
    "(300, 400]    0\n",
    "(400, 500]    0\n",
    "(500, 600]    0\n",
    "dtype: int64\n",
    "```\n",
    "\n",
    "Next, we loop through the values of the **PTS** column, and for each value:\n",
    "\n",
    "- We loop through the intervals we defined previously, and for each interval:\n",
    "  - We check whether the current value from the PTS column belongs to that interval.\n",
    "  - If the value doesn't belong to an interval, we continue the inner loop over the intervals.\n",
    "  - If the value belongs to an interval:\n",
    "    - We update the counting for that interval in **gr_freq_table** by adding 1.\n",
    "    - We exit the inner loop over the intervals with **break** because a value can belong to one interval only, and it makes no sense to continue the loop (without using **break**, we'll get the same output but we'll do many redundant iterations).\n",
    "    \n",
    "    \n",
    "```python\n",
    ">> for value in wnba['PTS']:\n",
    "       for interval in intervals:\n",
    "           if value in interval:\n",
    "               gr_freq_table.loc[interval] += 1\n",
    "               break\n",
    ">> gr_freq_table\n",
    "(0, 100]      49\n",
    "(100, 200]    28\n",
    "(200, 300]    32\n",
    "(300, 400]    17\n",
    "(400, 500]    10\n",
    "(500, 600]     7\n",
    "dtype: int64\n",
    "```\n",
    "\n",
    "\n",
    "Now we do a quick sanity check of our work. There are 143 players in the data set, so the frequencies should add up to 143:\n",
    "\n",
    "```python\n",
    ">> gr_freq_table.sum()\n",
    "143\n",
    "```\n",
    "\n",
    "Note that we're not restricted by the minimum and maximum values of a variable when we define intervals. The minimum number of points is 2, and the maximum is 584, but our intervals range from 1 to 600.\n",
    "\n",
    "\n",
    "**Exercise**\n",
    "\n",
    "\n",
    "<left><img width=\"100\" src=\"https://drive.google.com/uc?export=view&id=1E8tR7B9YYUXsU_rddJAyq0FrM0MSelxZ\"></left>\n",
    "\n",
    "\n",
    "- Using the techniques above, generate a grouped frequency table for the **PTS** variable. The table should have the following characteristics:\n",
    "  - There are 10 class intervals.\n",
    "  - The first class interval starts at 0 (not included).\n",
    "  - The last class interval ends at 600 (included).\n",
    "  - Each interval has a range of 60 points.\n",
    "- Assign the table to a variable named **gr_freq_table_10**."
   ]
  },
  {
   "cell_type": "code",
   "execution_count": null,
   "metadata": {
    "colab": {},
    "colab_type": "code",
    "id": "aNCIWc8gG0eo"
   },
   "outputs": [],
   "source": [
    "# put your code here"
   ]
  },
  {
   "cell_type": "markdown",
   "metadata": {
    "colab_type": "text",
    "id": "uo0Qb2l_IZ75"
   },
   "source": [
    "## Frequency Tables and Continuous Variables\n"
   ]
  },
  {
   "cell_type": "markdown",
   "metadata": {
    "colab_type": "text",
    "id": "DOLArazU4k1H"
   },
   "source": [
    "Remember from the previous mission that a height of 175 cm is just an interval bounded by the real limits of 174.5 cm (lower real limit) and 175.5 (upper real limit). When we build frequency tables for continuous variables, we need to take into account that the values are intervals.\n",
    "\n",
    "The height of 175 cm has a frequency of 16 in the distribution of the **Height** variable:\n",
    "\n",
    "```python\n",
    ">> wnba['Height'].value_counts()[175]\n",
    "16\n",
    "```\n",
    "\n",
    "This doesn't mean that there are 16 players that are all exactly 175 cm tall. It rather means that there are 16 players with a height that's somewhere between 174.5 cm and 175.5 cm.\n",
    "\n",
    "A similar reasoning applies when we read grouped frequency tables. If we had an interval of (180, 190] for a continuous variable, 180 and 190 are not the real limits. Instead, the real limits are given by the interval (179.5, 190.5], with 179.5 being the lower real limit of 180, and 190.5 the upper real limit of 190.\n",
    "\n",
    "Continuous variables affect as well the way we read percentiles. For instance, the 50th percentile (middle quartile) in the distribution of the **Height** variable is 185 cm:\n",
    "\n",
    "\n",
    "```python\n",
    ">> wnba['Height'].describe().iloc[3:]\n",
    "min    165.0\n",
    "25%    176.5\n",
    "50%    185.0\n",
    "75%    191.0\n",
    "max    206.0\n",
    "Name: Height, dtype: float64\n",
    "```\n",
    "\n",
    "This means that 50% of the values are less or equal to 185.5 cm (the upper limit of 185 cm), not to 185 cm.\n",
    "\n",
    "\n"
   ]
  },
  {
   "cell_type": "markdown",
   "metadata": {
    "colab_type": "text",
    "id": "fQaUp50e47Hr"
   },
   "source": [
    "## Next Steps\n",
    "\n"
   ]
  },
  {
   "cell_type": "markdown",
   "metadata": {
    "colab_type": "text",
    "id": "SlMNgBBT55da"
   },
   "source": [
    "In this mission, we learned how to organize data in frequency and grouped frequency tables. Frequency tables allow us to transform large and incomprehensible amounts of data to a format we can understand.\n",
    "\n",
    "\n",
    "\n",
    "<img width=\"600\" src=\"https://drive.google.com/uc?export=view&id=1Zp0BuFcG3T0rk4MSaPfw8gpGPdlrQ68I\">\n",
    "\n",
    "Next in the course, we'll learn how to visualize frequency tables using bar plots and histograms.\n",
    "\n"
   ]
  },
  {
   "cell_type": "markdown",
   "metadata": {
    "colab_type": "text",
    "id": "PNzn4IpGBHae"
   },
   "source": [
    "# Visualizing Frequency Distributions"
   ]
  },
  {
   "cell_type": "markdown",
   "metadata": {
    "colab_type": "text",
    "id": "nkptnXR6BRFA"
   },
   "source": [
    "## Visualizing Distributions"
   ]
  },
  {
   "cell_type": "markdown",
   "metadata": {
    "colab_type": "text",
    "id": "XZcQgRvpBT5J"
   },
   "source": [
    "To find patterns in a frequency table we have to look up the frequency of each unique value or class interval and at the same time compare the frequencies. This process can get time consuming for tables with many unique values or class intervals, or when the frequency values are large and hard to compare against each other.\n",
    "\n",
    "We can solve this problem by **visualizing** the data in the tables with the help of graphs. Graphs make it much easier to scan and compare frequencies, providing us with a single picture of the entire distribution of a variable.\n",
    "\n",
    "Because they are easy to grasp and also eye-catching, graphs are a better choice over frequency tables if we need to present our findings to a non-technical audience.\n",
    "\n",
    "In this lesson, we'll learn about three kinds of graphs:\n",
    "\n",
    "- Bar plots.\n",
    "- Pie charts.\n",
    "- Histograms.\n",
    "\n",
    "By the end of the mission, we'll know how to generate ourselves the graphs below, and we'll know when it makes sense to use each:\n",
    "\n",
    "<center><img width=\"1000\" src=\"https://drive.google.com/uc?export=view&id=1Rxdp-_t01VXmbJayEqTs4WOn4_-SAL6t\"></center>\n",
    "\n",
    "We've already learned about bar plots and histograms in the EDA lessons. In this mission we build upon that knowledge and discuss the graphs in the context of statistics by learning for what kind of variables each graph is most suitable for.\n"
   ]
  },
  {
   "cell_type": "markdown",
   "metadata": {
    "colab_type": "text",
    "id": "YMHx4wBYBfQz"
   },
   "source": [
    "## Bar Plots"
   ]
  },
  {
   "cell_type": "markdown",
   "metadata": {
    "colab_type": "text",
    "id": "-qoHpwyoCk4o"
   },
   "source": [
    "For variables measured on a **nominal** or an **ordinal** scale it's common to use a **bar plot** to visualize their distribution. To generate a **bar plot** for the distribution of a variable we need two sets of values:\n",
    "\n",
    "- One set containing the unique values.\n",
    "- Another set containing the frequency for each unique value.\n",
    "\n",
    "We can get this data easily from a frequency table. We can use **Series.value_counts()** to generate the table, and then use the [Series.plot.bar()](https://pandas.pydata.org/pandas-docs/stable/generated/pandas.Series.plot.bar.html) method on the resulting table to generate a **bar plot**. Using the same WNBA dataset we've been working with for the past missions, this is how we'd do that for the Pos (player position) variable:\n",
    "\n",
    "```python\n",
    ">> wnba['Pos'].value_counts().plot.bar()\n",
    "```\n",
    "\n",
    "<center><img width=\"400\" src=\"https://drive.google.com/uc?export=view&id=1xPuz8XKNPPmGVdpMbqLcVNniySRGGuDc\"></center>\n",
    "\n",
    "The **Series.plot.bar()** method generates a vertical bar plot with the frequencies on the y-axis, and the unique values on the x-axis. To generate a horizontal bar plot, we can use the [Series.plot.barh() method](https://pandas.pydata.org/pandas-docs/stable/generated/pandas.Series.plot.barh.html):\n",
    "\n",
    "```python\n",
    ">> wnba['Pos'].value_counts().plot.barh()\n",
    "```\n",
    "<center><img width=\"400\" src=\"https://drive.google.com/uc?export=view&id=1jQCBSxV20rDElban00Shk08R6ykT0oXk\"></center>\n",
    "\n",
    "\n",
    "As we'll see in the next screen, horizontal bar plots are ideal to use when the labels of the unique values are long.\n",
    "\n",
    "\n",
    "**Exercise**\n",
    "\n",
    "<left><img width=\"100\" src=\"https://drive.google.com/uc?export=view&id=1E8tR7B9YYUXsU_rddJAyq0FrM0MSelxZ\"></left>\n",
    "\n",
    "\n",
    "- We've taken information from the **Experience** column, and created a new column named **Exp_ordinal**, which is measured on an ordinal scale. The new column has five unique labels, and each one corresponds to a number of years a player has played in WNBA:\n",
    "\n",
    "<img width=\"300\" src=\"https://drive.google.com/uc?export=view&id=1tqqE0d76Xk1baGCTWNEkYbJ9Muevfuw3\">\n",
    "\n",
    "- Create a **bar plot** to display the distribution of the **Exp_ordinal** variable:\n",
    "  - Generate a frequency table for the **Exp_ordinal** variable.\n",
    "  - Sort the table by unique labels in an ascending order using the techiques we learned in the previous mission.\n",
    "  - Generate a bar plot using the **Series.plot.bar()** method.\n",
    "  \n",
    "  \n",
    "  \n",
    "  "
   ]
  },
  {
   "cell_type": "code",
   "execution_count": null,
   "metadata": {
    "colab": {},
    "colab_type": "code",
    "id": "mDUEcS7LDCIo"
   },
   "outputs": [],
   "source": [
    "# put your code here"
   ]
  },
  {
   "cell_type": "markdown",
   "metadata": {
    "colab_type": "text",
    "id": "nMKBxeeVGvTc"
   },
   "source": [
    "## Horizontal Bar Plots"
   ]
  },
  {
   "cell_type": "markdown",
   "metadata": {
    "colab_type": "text",
    "id": "pJ8bE9MhHEym"
   },
   "source": [
    "One of the problems with the bar plot we built in the last exercise is that the tick labels of the x-axis are hard to read:\n",
    "\n",
    "<img width=\"400\" src=\"https://drive.google.com/uc?export=view&id=1gKTo1l94020_BBnk7ilS8WzllVFzYfFE\">\n",
    "\n",
    "\n",
    "To fix this we can rotate the labels, or we can switch to a horizontal bar plot. We can rotate the labels using the rot parameter of **Series.plot.bar()** method we used. The labels are already rotated at 90°, and we can tilt them a bit at 45°:\n",
    "\n",
    "```python\n",
    ">> wnba['Exp_ordinal'].value_counts().iloc[[3,0,2,1,4]].plot.bar(rot = 45)\n",
    "```\n",
    "\n",
    "<img width=\"400\" src=\"https://drive.google.com/uc?export=view&id=1wD2TvUAm0fyBrVwWeE5KnTxuz2IS6RKf\">\n",
    "\n",
    "Slightly better, but we can do a better job with a horizontal bar plot. If we wanted to publish this bar plot, we'd also have to make it more informative by adding a title. This is what we'll do in the next exercise, but for now this is how we could do that for the **Pos** variable (note that we use the [Series.plot.barh()](https://pandas.pydata.org/pandas-docs/stable/generated/pandas.Series.plot.barh.html) method, not **Series.plot.bar()**):\n",
    "\n",
    "```python\n",
    ">> wnba['Pos'].value_counts().plot.barh(title = 'Number of players in WNBA by position')\n",
    "```\n",
    "\n",
    "<img width=\"400\" src=\"https://drive.google.com/uc?export=view&id=1cNU5qtgeawYB-9ec-pC16XtN_6Rtb1Sd\">\n",
    "\n",
    "\n",
    "\n",
    "**Exercise**\n",
    "\n",
    "<left><img width=\"100\" src=\"https://drive.google.com/uc?export=view&id=1E8tR7B9YYUXsU_rddJAyq0FrM0MSelxZ\"></left>\n",
    "\n",
    "\n",
    "- Create a horizontal bar plot to visualize the distribution of the **Exp_ordinal** variable.\n",
    "  - Generate a frequency table for the **Exp_ordinal** variable.\n",
    "  - Sort the table by unique labels in an ascending order.\n",
    "  - Use the **Series.plot.barh()** method to generate the horizontal bar plot.\n",
    "  - Add the following title to the plot: **Number of players in WNBA by level of experience.**"
   ]
  },
  {
   "cell_type": "code",
   "execution_count": null,
   "metadata": {
    "colab": {},
    "colab_type": "code",
    "id": "VzVfMxeCHcH5"
   },
   "outputs": [],
   "source": [
    "# put your code here"
   ]
  },
  {
   "cell_type": "markdown",
   "metadata": {
    "colab_type": "text",
    "id": "skP7Zu_1JBD7"
   },
   "source": [
    "## Pie Charts"
   ]
  },
  {
   "cell_type": "markdown",
   "metadata": {
    "colab_type": "text",
    "id": "bIqY5OV2JGii"
   },
   "source": [
    "Another kind of graph we can use to visualize the distribution of **nominal** and **ordinal** variables is a **pie chart**.\n",
    "\n",
    "Just as the name suggests, a pie chart is structured pretty much like a regular pie: it takes the form of a circle and is divided in wedges. Each wedge in a pie chart represents a category (one of the unique labels), and the size of each wedge is given by the proportion (or percentage) of that category in the distribution.\n",
    "\n",
    "<img width=\"600\" src=\"https://drive.google.com/uc?export=view&id=1KKprkhfZaGe0CkLO0p3FzoJ6i71QrSv-\">\n",
    "\n",
    "\n",
    "We can generate pie charts using the [Series.plot.pie() method](https://pandas.pydata.org/pandas-docs/stable/generated/pandas.Series.plot.pie.html). This is how we'd do that for the **Pos** variable:\n",
    "\n",
    "```python\n",
    ">> wnba['Pos'].value_counts().plot.pie()\n",
    "```\n",
    "\n",
    "<img width=\"400\" src=\"https://drive.google.com/uc?export=view&id=1MvVv73TYBDN5VNZ2gELxp5I4O3bn6UJC\">\n",
    "\n",
    "\n",
    "The main advantage of pie charts over bar plots is that they provide a much better sense for the relative frequencies (proportions and percentages) in the distribution. Looking at a bar plot, we can see that categories are more or less numerous than others, but it's really hard to tell what proportion in the distribution each category takes.\n",
    "\n",
    "With pie charts, we can immediately get a visual sense for the proportion each category takes in a distribution. Just by eyeballing the pie chart above we can make a series of observations in terms of proportions:\n",
    "\n",
    "- Guards (\"G\") take about two fifths (2/5) of the distribution.\n",
    "- Forwards (\"F\") make up roughly a quarter (1/4) of the distribution.\n",
    "- Close to one fifth (1/5) of the distribution is made of centers (\"C\").\n",
    "- Combined positions (\"G/F\" and \"F/C\") together make up roughly one fifth (1/5) of the distribution.\n",
    "\n",
    "\n",
    "**Exercise**\n",
    "\n",
    "<left><img width=\"100\" src=\"https://drive.google.com/uc?export=view&id=1E8tR7B9YYUXsU_rddJAyq0FrM0MSelxZ\"></left>\n",
    "\n",
    "\n",
    "- Generate a pie chart to visualize the distribution of the **Exp_ordinal** variable.\n",
    "  - Generate a frequency table for the **Exp_ordinal** variable. Don't sort the table this time.\n",
    "  - Use the **Series.plot.pie()** method to generate the pie plot."
   ]
  },
  {
   "cell_type": "code",
   "execution_count": null,
   "metadata": {
    "colab": {},
    "colab_type": "code",
    "id": "enHJko8sXfWi"
   },
   "outputs": [],
   "source": [
    "# put your code here"
   ]
  },
  {
   "cell_type": "markdown",
   "metadata": {
    "colab_type": "text",
    "id": "fvXkTu59Jh_T"
   },
   "source": [
    "## Customizing a Pie Chart"
   ]
  },
  {
   "cell_type": "markdown",
   "metadata": {
    "colab_type": "text",
    "id": "BosraT_ZK0vI"
   },
   "source": [
    "The pie chart we generated in the previous exercise is more an ellipsis than a circle, and the **Exp_ordinal** label is unaesthetic and hard to read:\n",
    "\n",
    "<img width=\"400\" src=\"https://drive.google.com/uc?export=view&id=1tVBOULsftVpM-DH75lZvNGY09Jdavsik\">\n",
    "\n",
    "\n",
    "To give a pie chart the right shape, we need to specify equal values for height and width in the **figsize** parameter of **Series.plot.pie()**. The **Exp_ordinal** is the label of a hidden y-axis, which means we can use the **plt.ylabel()** function to remove it. This is how we can do this for the **Pos** variable:\n",
    "\n",
    "```python\n",
    ">> import matplotlib.pyplot as plt\n",
    ">> wnba['Pos'].value_counts().plot.pie(figsize = (6,6))\n",
    ">> plt.ylabel('')\n",
    "```\n",
    "\n",
    "<img width=\"250\" src=\"https://drive.google.com/uc?export=view&id=1-ER6QNonL-CTu6tBMnvdL4PPER17igTt\">\n",
    "\n",
    "\n",
    "Ideally, we'd have proportions or percentages displayed on each wedge of the pie chart. Fortunately, this is easy to get using the **autopct** parameter. This parameter accepts Python string formatting, and we'll use the string **'%.1f%%'** to have percentages displayed with a precision of one decimal place. Let's break down this string formatting:\n",
    "\n",
    "<center><img width=\"400\" src=\"https://drive.google.com/uc?export=view&id=1Q6E-FXJCl4qVDplM3tM2n71i21eDk7vi\"></center>\n",
    "  \n",
    "  \n",
    "This is how the process looks for the Pos variable:\n",
    "\n",
    "```ptyhon\n",
    ">> wnba['Pos'].value_counts().plot.pie(figsize = (6,6), autopct = '%.1f%%')\n",
    "```\n",
    "\n",
    "<img width=\"300\" src=\"https://drive.google.com/uc?export=view&id=1KnC3jlcoXgEXKcWMzQvS2hS6kxewrfLY\">\n",
    "\n",
    "\n",
    "Notice that the percentages were automatically determined under the hood, which means we don't have to transform to percentages ourselves using **Series.value_counts(normalize = True) * 100.**\n",
    "\n",
    "Other display formats are possible, and more documentation on the the syntax of string formatting in Python can be found [here](https://docs.python.org/3/library/string.html#format-specification-mini-language). Documentation on **autopct** and other nice customization parameters can be found [here](https://matplotlib.org/api/_as_gen/matplotlib.pyplot.pie.html).\n",
    "\n",
    "**Exercise**\n",
    "\n",
    "<left><img width=\"100\" src=\"https://drive.google.com/uc?export=view&id=1E8tR7B9YYUXsU_rddJAyq0FrM0MSelxZ\"></left>\n",
    "\n",
    "- Generate and customize a pie chart to visualize the distribution of the **Exp_ordinal** variable.\n",
    "  - Generate a frequency table for the **Exp_ordinal** variable. Don't sort the table this time.\n",
    "  - Use the **Series.plot.pie()** method to generate the **pie plot.**\n",
    "      - Use the **figsize** parameter to specify a **width** and a **height** of 6 inches each.\n",
    "      - Use the **autopct** parameter to have percentages displayed with a precision of 2 decimal places.\n",
    "      - Add the following title to the plot: **Percentage of players in WNBA by level of experience.**\n",
    "      - Remove the **Exp_ordinal** label.\n",
    "\n"
   ]
  },
  {
   "cell_type": "code",
   "execution_count": null,
   "metadata": {
    "colab": {},
    "colab_type": "code",
    "id": "p-uW6s5KK_wz"
   },
   "outputs": [],
   "source": [
    "# put your code here"
   ]
  },
  {
   "cell_type": "markdown",
   "metadata": {
    "colab_type": "text",
    "id": "b764O3ERXpAz"
   },
   "source": [
    "## Histograms"
   ]
  },
  {
   "cell_type": "markdown",
   "metadata": {
    "colab_type": "text",
    "id": "r-SJ17IeYWRD"
   },
   "source": [
    "Because of the special properties of variables measured on interval and ratio scales, we can describe distributions in more elaborate ways. Let's examine the **PTS** (total points) variable, which is discrete and measured on a ratio scale:\n",
    "\n",
    "```python\n",
    ">> wnba['PTS'].describe()\n",
    "count    143.000000\n",
    "mean     201.790210\n",
    "std      153.381548\n",
    "min        2.000000\n",
    "25%       75.000000\n",
    "50%      177.000000\n",
    "75%      277.500000\n",
    "max      584.000000\n",
    "Name: PTS, dtype: float64\n",
    "```\n",
    "\n",
    "We can see that 75% of the values are distributed within a relatively narrow interval (between 2 and 277), while the remaining 25% are distributed in an interval that's slightly larger.\n",
    "\n",
    "<img width=\"500\" src=\"https://drive.google.com/uc?export=view&id=1eKJa7moOQBWYg5iswrL5KZv6ZHJXZeNJ\">\n",
    "\n",
    "\n",
    "To visualize the distribution of the **PTS** variable, we need to use a graph that allows us to see immediately the patterns outlined above. The most commonly used graph for this scenario is the **histogram**.\n",
    "\n",
    "To generate a histogram for the **PTS** variable, we can use the **Series.plot.hist()** method directly on the **wnba['PTS']** column (we don't have to generate a frequency table in this case):\n",
    "\n",
    "```python\n",
    ">> wnba['PTS'].plot.hist()\n",
    "```\n",
    "\n",
    "<img width=\"500\" src=\"https://drive.google.com/uc?export=view&id=1Qa6ZdGR-918onl80zHS6ckoF5rMRuYOx\">\n",
    "\n",
    "In the next screen, we'll explain the statistics happening under the hood when we run **wnba['PTS'].plot.hist()** and discuss the histogram above in more detail. Until then, let's practice generating the histogram above ourselves.\n",
    "\n",
    "\n",
    "**Exercise**\n",
    "\n",
    "<left><img width=\"100\" src=\"https://drive.google.com/uc?export=view&id=1E8tR7B9YYUXsU_rddJAyq0FrM0MSelxZ\"></left>\n",
    "\n",
    "- Using **Series.plot.hist()**, generate a histogram to visualize the distribution of the **PTS** variable."
   ]
  },
  {
   "cell_type": "code",
   "execution_count": null,
   "metadata": {
    "colab": {},
    "colab_type": "code",
    "id": "pgEQ4a3mYfQ1"
   },
   "outputs": [],
   "source": [
    "# put your code here"
   ]
  },
  {
   "cell_type": "markdown",
   "metadata": {
    "colab_type": "text",
    "id": "2DhxpCUcaDSY"
   },
   "source": [
    "## The Statistics Behind Histograms"
   ]
  },
  {
   "cell_type": "markdown",
   "metadata": {
    "colab_type": "text",
    "id": "3Hvv7FCGaJ7P"
   },
   "source": [
    "Under the hood, the **wnba['PTS'].plot.hist()** method:\n",
    "\n",
    "- Generated a grouped frequency distribution table for the **PTS** variable with ten class intervals.\n",
    "- For each class interval it plotted a bar with a height corresponding to the frequency of the interval.\n",
    "\n",
    "Let's examine the grouped frequency distribution table of the **PTS** variable:\n",
    "\n",
    "```python\n",
    ">> wnba['PTS'].describe()\n",
    "count    143.000000\n",
    "mean     201.790210\n",
    "std      153.381548\n",
    "min        2.000000\n",
    "25%       75.000000\n",
    "50%      177.000000\n",
    "75%      277.500000\n",
    "max      584.000000\n",
    "Name: PTS, dtype: float64\n",
    "```\n",
    "\n",
    "Each bar in the histogram corresponds to one class interval. To show this is true, we'll generate below the same histogram as in the previous screen, but this time:\n",
    "\n",
    "- We'll add the values of the x-ticks manually using the xticks parameter.\n",
    "  - The values will be the limits of each class interval.\n",
    "  - We use the [arange()](https://docs.scipy.org/doc/numpy/reference/generated/numpy.arange.html?highlight=arange#numpy.arange) function from numpy to generate the values and avoid spending time with typing all the values ourselves.\n",
    "  - We start at 2, not at 1.417, because this is the actual minimum value of the first class interval (we discussed about this in more detail in the previous mission).\n",
    "- We'll add a **grid** line using the grid parameter to demarcate clearly each bar.\n",
    "- We'll rotate the tick labels of the x-axis using the rot parameter for better readability.\n",
    "\n",
    "```python\n",
    ">> from numpy import arange\n",
    ">> wnba['PTS'].plot.hist(grid = True, xticks = arange(2,585,58.2), rot = 30)\n",
    "```\n",
    "\n",
    "Looking on the histogram above, we can extract the same information as from the grouped frequency table. We can see that there are 20 players in the interval (176.6, 234.8], 10 players in the interval (351.2, 409.4], etc.\n",
    "\n",
    "More importantly, we can see the patterns we wanted to see in the last screen when we examined the output of **wnba['PTS'].describe()**.\n",
    "\n",
    "\n",
    "<img width=\"700\" src=\"https://drive.google.com/uc?export=view&id=1qQtYC5R9oylmOkpx_YjzpCZLv7cUo_5b\">\n",
    "\n",
    "\n",
    "\n",
    "From the output of **wnba['PTS'].describe()** we can see that most of the values (75%) are distributed within a relatively narrow interval (between 2 and 277). This tells us that:\n",
    "\n",
    "- The values are distributed unevenly across the 2 - 584 range (2 is the minimum value in the **PTS** variable, and 584 is the maximum).\n",
    "- Most values are clustered in the first (left) part of the the distribution's range.\n",
    "\n",
    "\n",
    "<img width=\"500\" src=\"https://drive.google.com/uc?export=view&id=178mhCdacbAzjXqwfDSbVZJtGQ0ucuqzW\">\n",
    "\n",
    "\n",
    "We can immediately see the same two patterns on the histogram above:\n",
    "\n",
    "- The distribution of values is uneven, with each class interval having a different frequency. If the distribution was even, all the class intervals would have the same frequency.\n",
    "- Most values (roughly three quarters) are clustered in the left half of the histogram.\n",
    "\n",
    "While it's easy and fast to make good estimates simply by looking at a histogram, it's always a good idea to add precision to our estimates using the percentile values we get from **Series.describe().**\n",
    "\n",
    "\n",
    "**Exercise**\n",
    "\n",
    "<left><img width=\"100\" src=\"https://drive.google.com/uc?export=view&id=1E8tR7B9YYUXsU_rddJAyq0FrM0MSelxZ\"></left>\n",
    "\n",
    "\n",
    "- Examine the distribution of the **Games Played** variable using the **Series.describe()** method. Just from the output of this method, predict how the histogram of the **Games Played** variable should look like.\n",
    "- Once you have a good idea of what histogram shape to expect, plot a histogram for the **Games Played** variable using **Series.plot.hist()**."
   ]
  },
  {
   "cell_type": "code",
   "execution_count": null,
   "metadata": {
    "colab": {},
    "colab_type": "code",
    "id": "xlfkexABacrm"
   },
   "outputs": [],
   "source": [
    "# put your code here"
   ]
  },
  {
   "cell_type": "markdown",
   "metadata": {
    "colab_type": "text",
    "id": "S00PsOzNcslc"
   },
   "source": [
    "## Histograms as Modified Bar Plots\n"
   ]
  },
  {
   "cell_type": "markdown",
   "metadata": {
    "colab_type": "text",
    "id": "ght-Oerqc1VZ"
   },
   "source": [
    "It should now be clear that a histogram is basically the visual form of a grouped frequency table. Structurally, a histogram can also be understood as a modified version of a bar plot. The main difference is that in the case of a histogram there are no gaps between bars, and each bar represents an interval, not a single value.\n",
    "\n",
    "The main reason we remove the gaps between bars in case of a histogram is that we want to show that the class intervals we plot are adjacent to one another. With the exception of the last interval, the ending point of an interval is the starting point of the next interval, and we want that to be seen on the graph.\n",
    "\n",
    "<img width=\"300\" src=\"https://drive.google.com/uc?export=view&id=15v9hcTmgnSArcOD5jwZSlKJQTfwoVtHt\">\n",
    "\n",
    "For bar plots we add gaps because in most cases we don't know whether the unique values of ordinal variables are adjacent to one another in the same way as two class intervals are. It's safer to assume that the values are not adjacent, and add gaps.\n",
    "\n",
    "\n",
    "<img width=\"600\" src=\"https://drive.google.com/uc?export=view&id=1Bdl2qABVrU1nGjT1jIha-qwK7B62Caga\">\n",
    "\n",
    "\n",
    "For nominal variables, values can't be numerically ajdacent in principle, and we add gaps to emphasize that the values are fundamentally distinct.\n",
    "\n",
    "Below we summarize what we've learned so far:\n",
    "\n",
    "\n",
    "<img width=\"400\" src=\"https://drive.google.com/uc?export=view&id=19NxFZUcKvnQFnXvvAQl5xjOpnF_reJD-\">"
   ]
  },
  {
   "cell_type": "markdown",
   "metadata": {
    "colab_type": "text",
    "id": "oST_wGnIdUeB"
   },
   "source": [
    "## Binning for Histograms"
   ]
  },
  {
   "cell_type": "markdown",
   "metadata": {
    "colab_type": "text",
    "id": "YLdUmyGtl_W-"
   },
   "source": [
    "You might have noticed that **Series.plot.hist()** splits a distribution by default into 10 class intervals. In the previous mission, we learned that 10 is a good number of class intervals to choose because it offers a good balance between information and comprehensibility.\n",
    "\n",
    "<img width=\"400\" src=\"https://drive.google.com/uc?export=view&id=1C8q5Zxpdkd_rILrIr4hqO7jCmoUgT10c\">\n",
    "\n",
    "With histograms, the breakdown point is generally larger than 10 because visualizing a picture is much easier than reading a grouped frequency table. However, once the number of class intervals goes over 30 or so, the granularity increases so much that for some intervals the frequency will be zero. This will result in a discontinued histogram from which is hard to discern patterns.\n",
    "\n",
    "Below, we can see how the histogram of the **PTS** variable changes as we vary the number of class intervals.\n",
    "\n",
    "\n",
    "<img width=\"600\" src=\"https://drive.google.com/uc?export=view&id=1yLJH1J-aXojOhzPg0FICmv6IQ9aXcpn8\">\n",
    "\n",
    "\n",
    "To modify the number of class intervals used for a histogram, we can use the **bins** parameter of **Series.plot.hist()**. A bin is the same thing as a class interval, and, when it comes to histograms, the term \"bin\" is used much more often.\n",
    "\n",
    "Also, we'll often want to avoid letting pandas work out the intervals, and use instead intervals that we think make more sense. We can do this in two steps:\n",
    "\n",
    "- We start with specifying the range of the entire distribution using the **range** parameter of **Series.plot.hist().**\n",
    "- Then we combine that with the number of bins to get the intervals we want.\n",
    "\n",
    "\n",
    "Let's say we want to get these three intervals for the distribution of the PTS variable:\n",
    "\n",
    "- [1, 200)\n",
    "- [200, 400)\n",
    "- [400, 600]\n",
    "\n",
    "If the histogram ranges from 1 to 600, and we specify that we want three bins, then the bins will automatically take the intervals above. This is because the bins must have equal interval lengths, and, at the same time, cover together the entire range between 1 and 600. To cover a range of 600 with three bins, we need each bin to cover 200 points, with the first bin starting at 1, and the last bin ending at 600.\n",
    "\n",
    "\n",
    "<img width=\"600\" src=\"https://drive.google.com/uc?export=view&id=1W8a-hbTW_ex0BI53go4xWvjKfMMP-WoO\">\n",
    "\n",
    "\n",
    "This is how we can generate a histogram with three bins and a 1 - 600 range for the **PTS** variable:\n",
    "\n",
    "```python\n",
    ">> wnba['PTS'].plot.hist(range = (1,600), bins = 3)\n",
    "```\n",
    "\n",
    "\n",
    "<img width=\"400\" src=\"https://drive.google.com/uc?export=view&id=1O-MfgUUOn1oEfTn1elEkpru5E49XP04c\">\n",
    "\n",
    "\n",
    "If we keep the same range, but change to six bins, then we'll get these six intervals: [1, 100), [100, 200), [200, 300), [300, 400), [400, 500), [500, 600].\n",
    "\n",
    "\n",
    "```python\n",
    ">> wnba['PTS'].plot.hist(range = (1,600), bins = 6)\n",
    "```\n",
    "\n",
    "\n",
    "**Exercise**\n",
    "\n",
    "<left><img width=\"100\" src=\"https://drive.google.com/uc?export=view&id=1E8tR7B9YYUXsU_rddJAyq0FrM0MSelxZ\"></left>\n",
    "\n",
    "\n",
    "- Generate a histogram for the **Games Played** variable, and customize it in the following way:\n",
    "  - Each bin must cover an interval of 4 games. The first bin must start at 1, the last bin must end at 32.\n",
    "  - Add the title \"The distribution of players by games played\".\n",
    "  - Add a label to the x-axis named \"Games played\"."
   ]
  },
  {
   "cell_type": "code",
   "execution_count": null,
   "metadata": {
    "colab": {},
    "colab_type": "code",
    "id": "LiuEBsOlmC3U"
   },
   "outputs": [],
   "source": [
    "# put your code here"
   ]
  },
  {
   "cell_type": "markdown",
   "metadata": {
    "colab_type": "text",
    "id": "fCSk8P3_ozOw"
   },
   "source": [
    "## Skewed Distributions"
   ]
  },
  {
   "cell_type": "markdown",
   "metadata": {
    "colab_type": "text",
    "id": "FmI8zVJgo1ph"
   },
   "source": [
    "There are a couple of histogram shapes that appear often in practice. So far, we've met two of these shapes:\n",
    "\n",
    "<img width=\"600\" src=\"https://drive.google.com/uc?export=view&id=1kosNk32RFOru1alq7taeD9u4DWMWanoi\">\n",
    "\n",
    "\n",
    "In the histogram on the left, we can see that:\n",
    "\n",
    "- Most values pile up toward the endpoint of the range (32 games played).\n",
    "- There are less and less values toward the opposite end (0 games played).\n",
    "\n",
    "On the right histogram, we can see that:\n",
    "\n",
    "- Most values pile up toward the starting point of the range (0 points).\n",
    "- There are less and less values toward the opposite end.\n",
    "\n",
    "Both these histograms show **skewed distributions**. In a skewed distribution:\n",
    "\n",
    "- The values pile up toward the end or the starting point of the range, making up the body of the distribution.\n",
    "- Then the values decrease in frequency toward the opposite end, forming the tail of the distribution.\n",
    "\n",
    "\n",
    "<img width=\"400\" src=\"https://drive.google.com/uc?export=view&id=1KR4lZFs4Z3D9GrEqpma9wRxRJbBvUzuC\">\n",
    "\n",
    "\n",
    "\n",
    "If the tail points to the left, then the distribution is said to be **left skewed**. When it points to the left, the tail points at the same time in the direction of negative numbers, and for this reason the distribution is sometimes also called **negatively skewed.**\n",
    "\n",
    "If the tail points to the right, then the distribution is **right skewed**. The distribution is sometimes also said to be **positively skewed** because the tail points in the direction of positive numbers.\n",
    "\n",
    "\n",
    "<img width=\"600\" src=\"https://drive.google.com/uc?export=view&id=1FIUz6XuJTcU74IHfJvJP6Il_JkUUXD3g\">\n",
    "\n",
    "\n",
    "**Exercise**\n",
    "\n",
    "<left><img width=\"100\" src=\"https://drive.google.com/uc?export=view&id=1E8tR7B9YYUXsU_rddJAyq0FrM0MSelxZ\"></left>\n",
    "\n",
    "\n",
    "- Examine the distribution of the following two variables:\n",
    "  - **AST** (number of assists).\n",
    "  - **FT%** (percentage of free throws made out of all attempts).\n",
    "- Depending on the shape of the distribution, assign the string **'left skewed'** or **'right skewed'** to the following variables:\n",
    "  - **assists_distro** for the **AST** column.\n",
    "  - **ft_percent_distro** for the **FT%** column.\n",
    "\n",
    "For instance, if you think the **AST** variable has a right skewed distribution, your answer should be **assists_distro = 'right skewed'.**"
   ]
  },
  {
   "cell_type": "code",
   "execution_count": null,
   "metadata": {
    "colab": {},
    "colab_type": "code",
    "id": "MsD16aFEo5P3"
   },
   "outputs": [],
   "source": [
    "# put your code here"
   ]
  },
  {
   "cell_type": "markdown",
   "metadata": {
    "colab_type": "text",
    "id": "ZlvUdwpwrhM7"
   },
   "source": [
    "## Symmetrical Distributions"
   ]
  },
  {
   "cell_type": "markdown",
   "metadata": {
    "colab_type": "text",
    "id": "uihaxRSVr3i9"
   },
   "source": [
    "Besides skewed distributions, we often see histograms with a shape that is more or less symmetrical. If we draw a vertical line exactly in the middle of a symmetrical histogram, then we'll divide the histogram in two halves that are mirror images of one another.\n",
    "\n",
    "\n",
    "\n",
    "<img width=\"500\" src=\"https://drive.google.com/uc?export=view&id=1FAOJOZTgCGv6FAQMfFH7ap2HjQok2ZEs\">\n",
    "\n",
    "\n",
    "If the shape of the histogram is **symmetrical**, then we say that we have a **symmetrical distribution.**\n",
    "\n",
    "A very common symmetrical distribution is one where the values pile up in the middle and gradually decrease in frequency toward both ends of the histogram. This pattern is specific to what we call a **normal distribution** (also called **Gaussian distribution**).\n",
    "\n",
    "\n",
    "\n",
    "<img width=\"500\" src=\"https://drive.google.com/uc?export=view&id=16AQYkLid4MnTqFLK8CID3wDWybbKvHgJ\">\n",
    "\n",
    "\n",
    "Another common symmetrical distribution is one where the values are distributed uniformly across the entire range. This pattern is specific to a **uniform distribution.**\n",
    "\n",
    "<img width=\"500\" src=\"https://drive.google.com/uc?export=view&id=1WvoDjqD-S-W9qOkqaPt9o3JZs438T9TJ\">\n",
    "\n",
    "\n",
    "In practice, we rarely see perfectly **symmetrical distributions**. However, it's common to use perfectly symmetrical distributions as baselines for describing the distributions we see in practice. For instance, we'd describe the distribution of the **Weight** variable as resembling closely a normal distribution:\n",
    "\n",
    "```python\n",
    ">> wnba['Weight'].plot.hist()\n",
    "```\n",
    "\n",
    "<img width=\"400\" src=\"https://drive.google.com/uc?export=view&id=1eoNnxKtW_V5PrdZ5V1P83_YKWKNh61bZ\">\n",
    "\n",
    "\n",
    "When we say that the distribution above resembles closely a normal distribution, we mean that most values pile up somewhere close to the middle and decrease in frequency more or less gradually toward both ends of the histogram.\n",
    "\n",
    "A similar reasoning applies to skewed distributions. We don't see very often clear-cut skewed distributions, and we use the left and right skewed distributions as baselines for comparison. For instance, we'd say that the distribution of the **BMI** variable is slightly **right skewed**:\n",
    "\n",
    "```python\n",
    ">> wnba['BMI'].plot.hist()\n",
    "```\n",
    "\n",
    "There's more to say about distribution shapes, and we'll continue this discussion in the next course when we'll learn new concepts. Until then, let's practice what we've learned.\n",
    "\n",
    "\n",
    "**Exercise**\n",
    "\n",
    "<left><img width=\"100\" src=\"https://drive.google.com/uc?export=view&id=1E8tR7B9YYUXsU_rddJAyq0FrM0MSelxZ\"></left>\n",
    "\n",
    "\n",
    "- Examine the distribution of the following variables, trying to determine which one resembles the most a normal distribution:\n",
    "  - Age\n",
    "  - Height\n",
    "  - MIN\n",
    "- Assign to the variable **normal_distribution** the name of the variable (as a string) whose distribution resembles the most a normal one.\n",
    "\n",
    "For instance, if you think the **MIN** variable is the correct answer, then your answer should be **normal_distribution = 'MIN'.**"
   ]
  },
  {
   "cell_type": "code",
   "execution_count": null,
   "metadata": {
    "colab": {},
    "colab_type": "code",
    "id": "z4n3ShPswd_i"
   },
   "outputs": [],
   "source": [
    "# put your code here"
   ]
  },
  {
   "cell_type": "markdown",
   "metadata": {
    "colab_type": "text",
    "id": "LQIDw4V9ymtG"
   },
   "source": [
    "## Next Steps"
   ]
  },
  {
   "cell_type": "markdown",
   "metadata": {
    "colab_type": "text",
    "id": "2R8PntqqysWf"
   },
   "source": [
    "In this mission, we learned about the graphs we can use to visualize the distributions of various kinds of variables. If a variable is measured on a nominal or ordinal scale, we can use a bar plot or a pie chart. If the variable is measured on an interval or ratio scale, then a histogram is good choice.\n",
    "\n",
    "Here's the summary table once again to help you recollect what we did in this mission:\n",
    "\n",
    "<img width=\"400\" src=\"https://drive.google.com/uc?export=view&id=19NxFZUcKvnQFnXvvAQl5xjOpnF_reJD-\">\n",
    "\n",
    "\n",
    "We're one mission away from finishing the workflow we set out to complete in the first mission. Next, we'll continue the discussion about data visualization by learning how to compare frequency distributions using graphs.\n",
    "\n",
    "\n",
    "<img width=\"600\" src=\"https://drive.google.com/uc?export=view&id=1U88LilHa2asEN9vnC_PQFXz9UtjmRIzh\">"
   ]
  },
  {
   "cell_type": "markdown",
   "metadata": {
    "colab_type": "text",
    "id": "molRlwPZPt78"
   },
   "source": [
    "# Comparing Frequency Distributions"
   ]
  },
  {
   "cell_type": "markdown",
   "metadata": {
    "colab_type": "text",
    "id": "s8I4cyo2QAxC"
   },
   "source": [
    "## Introduction"
   ]
  },
  {
   "cell_type": "markdown",
   "metadata": {
    "colab_type": "text",
    "id": "sFIzYqg_QJdC"
   },
   "source": [
    "In the previous mission, we learned **what graphs we can use to visualize the frequency distribution of any kind of variable**. In this mission, we'll learn about the graphs we can use to **compare** multiple frequency distributions at once.\n",
    "\n",
    "We'll continue to work with the WNBA data set. Below are the first five rows to help you recollect its structure:\n",
    "\n",
    "| _ | Name            | Team | Pos | Height | Weight | BMI       | Birth_Place | Birthdate         | Exp_ordinal       |\n",
    "|---|-----------------|------|-----|--------|--------|-----------|-------------|-------------------|-------------------|\n",
    "| 0 | Aerial Powers   | DAL  | F   | 183    | 71.0   | 21.200991 | US          | January 17, 1994  | Little experience |\n",
    "| 1 | Alana Beard     | LA   | G/F | 185    | 73.0   | 21.329438 | US          | May 14, 1982      | Veteran           |\n",
    "| 2 | Alex Bentley    | CON  | G   | 170    | 69.0   | 23.875433 | US          | October 27, 1990  | Experienced       |\n",
    "| 3 | Alex Montgomery | SAN  | G/F | 185    | 84.0   | 24.543462 | US          | December 11, 1988 | Very experienced  |\n",
    "| 4 | Alexis Jones    | MIN  | G   | 175    | 78.0   | 25.469388 | US          | August 5, 1994    | Rookie            |\n",
    "\n",
    "Notice in the table above that we've kept the **Exp_ordinal** variable we created in the previous mission. To remind you, this variable is measured on an **ordinal scale** and describes the level of experience of a player according to the following labeling convention:\n",
    "\n",
    "\n",
    "| Years in WNBA | Label             |\n",
    "|---------------|-------------------|\n",
    "| 0             | Rookie            |\n",
    "| 1-3           | Little experience |\n",
    "| 4-5           | Experienced       |\n",
    "| 5-10          | Very experienced  |\n",
    "| >10           | Veteran           |\n",
    "\n"
   ]
  },
  {
   "cell_type": "code",
   "execution_count": 2,
   "metadata": {
    "colab": {
     "base_uri": "https://localhost:8080/",
     "height": 119
    },
    "colab_type": "code",
    "executionInfo": {
     "elapsed": 767,
     "status": "ok",
     "timestamp": 1541550643225,
     "user": {
      "displayName": "Ivanovitch Silva",
      "photoUrl": "https://lh4.googleusercontent.com/-baHwkIBEacY/AAAAAAAAAAI/AAAAAAAAFo0/aWRaXNQgy7Q/s64/photo.jpg",
      "userId": "06428777505436195303"
     },
     "user_tz": 180
    },
    "id": "zoiBp_j4WkjK",
    "outputId": "3931f072-3de0-45ff-a476-936ff0e0a2bb"
   },
   "outputs": [
    {
     "data": {
      "text/plain": [
       "Little experience    42\n",
       "Very experienced     37\n",
       "Experienced          25\n",
       "rookie               23\n",
       "Veteran              16\n",
       "Name: Exp_ordinal, dtype: int64"
      ]
     },
     "execution_count": 2,
     "metadata": {},
     "output_type": "execute_result"
    }
   ],
   "source": [
    "import pandas as pd\n",
    "\n",
    "# read the dataset\n",
    "wnba = pd.read_csv(\"wnba.csv\")\n",
    "\n",
    "# cleaning the experience column\n",
    "wnba.loc[wnba.Experience == 'R',\"Experience\"] = 0\n",
    "wnba[\"Experience\"] = wnba[\"Experience\"].astype(int)\n",
    "\n",
    "# create exp_ordinal column\n",
    "wnba[\"Exp_ordinal\"] = pd.cut(wnba.Experience,\n",
    "       bins=[-1,0,3,5,10,100],\n",
    "       labels=[\"rookie\",\"Little experience\",\"Experienced\",\n",
    "              \"Very experienced\",\"Veteran\"])\n",
    "\n",
    "# verify the results\n",
    "wnba.Exp_ordinal.value_counts()"
   ]
  },
  {
   "cell_type": "markdown",
   "metadata": {
    "colab_type": "text",
    "id": "GK6qbEZWWjs8"
   },
   "source": [
    "\n",
    "Let's say we're interested in analyzing how the distribution of the **Pos** variable (**player position**) varies with the level of experience. In other words, we want to determine, for instance, what are the positions on the court that rookies play most as, and how do rookies compare to veterans with respect to positions on the field.\n",
    "\n",
    "Here's a series of steps we can take to achieve that:\n",
    "\n",
    "- Segment the players in the data set by level of experience.\n",
    "- For each segment, generate a frequency distribution table for the **Pos** variable.\n",
    "- Analyze the frequency distributions comparatively.\n",
    "\n",
    "In the cell below, we've already done the first step for you and segmented the players in the data set by level of experience. The next two steps are left for you as an exercise.\n",
    "\n",
    "**Exercise**\n",
    "\n",
    "<left><img width=\"100\" src=\"https://drive.google.com/uc?export=view&id=1E8tR7B9YYUXsU_rddJAyq0FrM0MSelxZ\"></left>\n",
    "\n",
    "- For each segment, generate a frequency distribution table for the **Pos** variable.\n",
    "  - For the **rookie** segment, assign the frequency distribution table to a variable named **rookie_distro**. tip: use df.value_counts() function.\n",
    "  - For the **Little experience** segment, assign the table to **little_xp_distro.**\n",
    "  - For the **Experienced** segment, assign the table to **experienced_distro.**\n",
    "  - For the **Very experienced** segment, assign the table to **very_xp_distro**.\n",
    "  - For the **Veteran** segment, assign the table to **veteran_distro.**\n",
    "- Print all the tables and analyze them comparatively to determine whether there are any clear patterns in the distribution of player position depending on the level of experience."
   ]
  },
  {
   "cell_type": "code",
   "execution_count": 3,
   "metadata": {
    "colab": {},
    "colab_type": "code",
    "id": "6D5-HZRuWYoV"
   },
   "outputs": [],
   "source": [
    "rookies = wnba[wnba['Exp_ordinal'] == 'Rookie']\n",
    "little_xp = wnba[wnba['Exp_ordinal'] == 'Little experience']\n",
    "experienced = wnba[wnba['Exp_ordinal'] == 'Experienced']\n",
    "very_xp = wnba[wnba['Exp_ordinal'] == 'Very experienced']\n",
    "veterans =  wnba[wnba['Exp_ordinal'] == 'Veteran']\n",
    "\n",
    "# put your code here"
   ]
  },
  {
   "cell_type": "markdown",
   "metadata": {
    "colab_type": "text",
    "id": "2FCO4tS1YHhj"
   },
   "source": [
    "## Grouped Bar Plots"
   ]
  },
  {
   "cell_type": "markdown",
   "metadata": {
    "colab_type": "text",
    "id": "FUraFtkBYSnJ"
   },
   "source": [
    "The purpose of the previous exercise was to give us a sense about how cumbersome really is to compare multiple distributions at once using frequency tables. Fortunately, we can make the comparison much quicker and more efficiently using graphs.\n",
    "\n",
    "All the five frequency tables we wanted to compare were for the **Pos** variable, which is measured on a nominal scale. Remember that one kind of graph we can use to visualize the distribution of a nominal variable is a bar plot. A simple solution to our problem is to generate a bar plot for each table, and then group all the bar plots on a single figure.\n",
    "\n",
    "This is where we'd like to arrive:\n",
    "\n",
    "<img width=\"600\" src=\"https://drive.google.com/uc?export=view&id=1xO1mMfvHCMhgglqAI0FrCBE-sE9gt9PZ\">\n",
    "\n",
    "\n",
    "Because we grouped all the bar plots together, the graph above is called a **grouped bar plot**. We can generate a grouped bar plot just like the one above using the [seaborn.countplot()](https://seaborn.pydata.org/generated/seaborn.countplot.html) function from the seaborn module, which you might already be familiar with from our visualization lessons. In the code snippet below, we will:\n",
    "\n",
    "- Import the **seaborn** module with the alias **sns**.\n",
    "- Generate the plot with **sns.countplot()**. We'll use the following parameters for this function:\n",
    "  - **x** — specifies as a string the name of the column we want on the x-axis. We'll place the **Exp_ordinal** column on the x-axis.\n",
    "  - **hue** — specifies as a string the name of the column we want the bar plots generated for. We want to generate the bar plots for the **Pos** column.\n",
    "  - **data** - specifies the name of the variable which stores the data set. We stored the data in a variable named **wnba**."
   ]
  },
  {
   "cell_type": "code",
   "execution_count": 18,
   "metadata": {
    "colab": {
     "base_uri": "https://localhost:8080/",
     "height": 432
    },
    "colab_type": "code",
    "executionInfo": {
     "elapsed": 838,
     "status": "ok",
     "timestamp": 1541550718716,
     "user": {
      "displayName": "Ivanovitch Silva",
      "photoUrl": "https://lh4.googleusercontent.com/-baHwkIBEacY/AAAAAAAAAAI/AAAAAAAAFo0/aWRaXNQgy7Q/s64/photo.jpg",
      "userId": "06428777505436195303"
     },
     "user_tz": 180
    },
    "id": "4v0P7J-NY3kx",
    "outputId": "255e6c7d-e43e-47cf-9715-210c36843cea"
   },
   "outputs": [
    {
     "data": {
      "text/plain": [
       "[Text(0,0,'rookie'),\n",
       " Text(0,0,'Little experience'),\n",
       " Text(0,0,'Experienced'),\n",
       " Text(0,0,'Very experienced'),\n",
       " Text(0,0,'Veteran')]"
      ]
     },
     "execution_count": 18,
     "metadata": {},
     "output_type": "execute_result"
    },
    {
     "data": {
      "image/png": "[encoded data removed]",
      "text/plain": [
       "<Figure size 432x288 with 1 Axes>"
      ]
     },
     "metadata": {},
     "output_type": "display_data"
    }
   ],
   "source": [
    "import seaborn as sns\n",
    "import matplotlib.pyplot as plt\n",
    "ax = sns.countplot(x = 'Exp_ordinal', hue = 'Pos', data = wnba)\n",
    "ax.set_xticklabels(ax.get_xticklabels(),rotation=45)"
   ]
  },
  {
   "cell_type": "markdown",
   "metadata": {
    "colab_type": "text",
    "id": "R8LC7UkfjF6W"
   },
   "source": [
    "Comparing the **five distributions** is now easier, and we can make a couple of observations:\n",
    "\n",
    "- There's only one **rookie** playing on a combined position **(F/C)**. This is significantly less compared to more experienced players, which suggests that combined positions (**F/C** and **G/F**) may require more complex skills on the field that rookies rarely have.\n",
    "- Rookies are the only category where we don't find players on all positions. We can see there are no rookies who play on a G/F position.\n",
    "- Guards predominate for every level of experience. This probably means that most players in a basketball team are guards. It's worth examining the distributions of a couple of teams to find whether this is true. If it's true, it might be interesting to find out why teams need so many guards.\n",
    "\n",
    "\n",
    "**Exercise**\n",
    "\n",
    "<left><img width=\"100\" src=\"https://drive.google.com/uc?export=view&id=1E8tR7B9YYUXsU_rddJAyq0FrM0MSelxZ\"></left>\n",
    "\n",
    "\n",
    "- Usng **sns.countplot()**, generate a grouped bar plot similar to the one above.\n",
    "\n",
    "  - Place the **Exp_ordinal** variable on the x-axis.\n",
    "  - Generate the bar plots for the **Pos** variable. The data set is stored in **wnba** variable.\n",
    "  - Using the **order** parameter of **sns.countplot()**, order the values on the x-axis in **descending** order. The **order** parameter takes in a list of strings, so you should use **order = ['Veteran', 'Very experienced', ..........]**.\n",
    "  - Using the **hue_order** parameter, order the bars of each bar plot in ascending alphabetic order. **hue_order** takes in a list of strings, so you can use **hue_order = ['C', 'F', ......].**"
   ]
  },
  {
   "cell_type": "code",
   "execution_count": null,
   "metadata": {
    "colab": {},
    "colab_type": "code",
    "id": "S_fKRx8HjzNs"
   },
   "outputs": [],
   "source": [
    "# put your code here"
   ]
  },
  {
   "cell_type": "markdown",
   "metadata": {
    "colab_type": "text",
    "id": "4WXoWBidk3e9"
   },
   "source": [
    "## Challenge: Do Older Players Play Less?\n"
   ]
  },
  {
   "cell_type": "markdown",
   "metadata": {
    "colab_type": "text",
    "id": "YoFzcAMEpHe3"
   },
   "source": [
    "When players get past a certain age, they become less and less physically fit as they get older. Intuitively, the fitness level of a player should directly affect how much she plays in a season. On average, a WNBA player played approximately 497 minutes in the 2016-2017 season:\n"
   ]
  },
  {
   "cell_type": "code",
   "execution_count": 33,
   "metadata": {
    "colab": {
     "base_uri": "https://localhost:8080/",
     "height": 34
    },
    "colab_type": "code",
    "executionInfo": {
     "elapsed": 652,
     "status": "ok",
     "timestamp": 1541551774535,
     "user": {
      "displayName": "Ivanovitch Silva",
      "photoUrl": "https://lh4.googleusercontent.com/-baHwkIBEacY/AAAAAAAAAAI/AAAAAAAAFo0/aWRaXNQgy7Q/s64/photo.jpg",
      "userId": "06428777505436195303"
     },
     "user_tz": 180
    },
    "id": "o8V9Ucd3pQMO",
    "outputId": "55b7109c-d686-42c5-e71a-c2462513d3a0"
   },
   "outputs": [
    {
     "data": {
      "text/plain": [
       "496.97202797202794"
      ]
     },
     "execution_count": 33,
     "metadata": {
      "tags": []
     },
     "output_type": "execute_result"
    }
   ],
   "source": [
    "wnba['MIN'].mean()"
   ]
  },
  {
   "cell_type": "markdown",
   "metadata": {
    "colab_type": "text",
    "id": "Glt-LLCJpSLi"
   },
   "source": [
    "Let's hypothesize that older players generally play less than this average of 497 minutes, while younger players generally play more. As a benchmark to distinguish between younger and older players, we'll take the mean age of players in our sample, which is approximately 27:"
   ]
  },
  {
   "cell_type": "code",
   "execution_count": 34,
   "metadata": {
    "colab": {
     "base_uri": "https://localhost:8080/",
     "height": 34
    },
    "colab_type": "code",
    "executionInfo": {
     "elapsed": 634,
     "status": "ok",
     "timestamp": 1541551819580,
     "user": {
      "displayName": "Ivanovitch Silva",
      "photoUrl": "https://lh4.googleusercontent.com/-baHwkIBEacY/AAAAAAAAAAI/AAAAAAAAFo0/aWRaXNQgy7Q/s64/photo.jpg",
      "userId": "06428777505436195303"
     },
     "user_tz": 180
    },
    "id": "Rl37jGIapau8",
    "outputId": "6413b40d-be0c-48f0-c272-0057300f4789"
   },
   "outputs": [
    {
     "data": {
      "text/plain": [
       "27.076923076923077"
      ]
     },
     "execution_count": 34,
     "metadata": {
      "tags": []
     },
     "output_type": "execute_result"
    }
   ],
   "source": [
    "wnba['Age'].mean()"
   ]
  },
  {
   "cell_type": "markdown",
   "metadata": {
    "colab_type": "text",
    "id": "37-K5Vrepghb"
   },
   "source": [
    "To test our hypothesis, we can generate a grouped bar plot to examine the frequency distribution of younger and older players that played under the average or as much as the average or above. Our hypothesis predicts that we should see a grouped bar plot that looks similar to this:\n",
    "\n",
    "<img width=\"600\" src=\"https://drive.google.com/uc?export=view&id=11S_m6RQAGChN_iOy7mS1qoEjCOWSEBDV\">\n",
    "\n",
    "\n",
    "To generate a graph like the one above, we'll first need to create two new variables:\n",
    "\n",
    "- An ordinal variable which labels each player as \"young\" or \"old\". If the player is 27 or over, we'll label her \"old\", otherwise the label is \"young\".\n",
    "- An ordinal variable which describes whether the minutes played is below or above average (or equal to the average). If a player played 497 minutes or more, we'll assign her the label \"average or above\", otherwise we'll assign \"below average\".\n",
    "\n",
    "In the code below, we'll use **lambda** functions to describe quickly the labeling logic above and **Series.apply()** to apply the **lambda** functions on the **Age** and **MIN** columns. We'll name the two resulting columns **age_mean_relative** and **min_mean_relative**.\n"
   ]
  },
  {
   "cell_type": "code",
   "execution_count": 35,
   "metadata": {
    "colab": {
     "base_uri": "https://localhost:8080/",
     "height": 204
    },
    "colab_type": "code",
    "executionInfo": {
     "elapsed": 614,
     "status": "ok",
     "timestamp": 1541552382667,
     "user": {
      "displayName": "Ivanovitch Silva",
      "photoUrl": "https://lh4.googleusercontent.com/-baHwkIBEacY/AAAAAAAAAAI/AAAAAAAAFo0/aWRaXNQgy7Q/s64/photo.jpg",
      "userId": "06428777505436195303"
     },
     "user_tz": 180
    },
    "id": "Jf0Bew4Pp7EU",
    "outputId": "91605fee-6ffe-489f-9c01-0b81a1cfb53d"
   },
   "outputs": [
    {
     "data": {
      "text/html": [
       "<div>\n",
       "<style scoped>\n",
       "    .dataframe tbody tr th:only-of-type {\n",
       "        vertical-align: middle;\n",
       "    }\n",
       "\n",
       "    .dataframe tbody tr th {\n",
       "        vertical-align: top;\n",
       "    }\n",
       "\n",
       "    .dataframe thead th {\n",
       "        text-align: right;\n",
       "    }\n",
       "</style>\n",
       "<table border=\"1\" class=\"dataframe\">\n",
       "  <thead>\n",
       "    <tr style=\"text-align: right;\">\n",
       "      <th></th>\n",
       "      <th>Name</th>\n",
       "      <th>Age</th>\n",
       "      <th>age_mean_relative</th>\n",
       "      <th>MIN</th>\n",
       "      <th>min_mean_relative</th>\n",
       "    </tr>\n",
       "  </thead>\n",
       "  <tbody>\n",
       "    <tr>\n",
       "      <th>0</th>\n",
       "      <td>Aerial Powers</td>\n",
       "      <td>23</td>\n",
       "      <td>young</td>\n",
       "      <td>173</td>\n",
       "      <td>below average</td>\n",
       "    </tr>\n",
       "    <tr>\n",
       "      <th>1</th>\n",
       "      <td>Alana Beard</td>\n",
       "      <td>35</td>\n",
       "      <td>old</td>\n",
       "      <td>947</td>\n",
       "      <td>average or above</td>\n",
       "    </tr>\n",
       "    <tr>\n",
       "      <th>2</th>\n",
       "      <td>Alex Bentley</td>\n",
       "      <td>26</td>\n",
       "      <td>young</td>\n",
       "      <td>617</td>\n",
       "      <td>average or above</td>\n",
       "    </tr>\n",
       "    <tr>\n",
       "      <th>3</th>\n",
       "      <td>Alex Montgomery</td>\n",
       "      <td>28</td>\n",
       "      <td>old</td>\n",
       "      <td>721</td>\n",
       "      <td>average or above</td>\n",
       "    </tr>\n",
       "    <tr>\n",
       "      <th>4</th>\n",
       "      <td>Alexis Jones</td>\n",
       "      <td>23</td>\n",
       "      <td>young</td>\n",
       "      <td>137</td>\n",
       "      <td>below average</td>\n",
       "    </tr>\n",
       "  </tbody>\n",
       "</table>\n",
       "</div>"
      ],
      "text/plain": [
       "              Name  Age age_mean_relative  MIN min_mean_relative\n",
       "0    Aerial Powers   23             young  173     below average\n",
       "1      Alana Beard   35               old  947  average or above\n",
       "2     Alex Bentley   26             young  617  average or above\n",
       "3  Alex Montgomery   28               old  721  average or above\n",
       "4     Alexis Jones   23             young  137     below average"
      ]
     },
     "execution_count": 35,
     "metadata": {
      "tags": []
     },
     "output_type": "execute_result"
    }
   ],
   "source": [
    "wnba['age_mean_relative'] = wnba['Age'].apply(lambda x: 'old' if x >= 27 else 'young')\n",
    "wnba['min_mean_relative'] = wnba['MIN'].apply(lambda x: 'average or above' if x >= 497 else\n",
    "                                              'below average')\n",
    "cols = [\"Name\",\"Age\",\"age_mean_relative\",\"MIN\",\"min_mean_relative\"]\n",
    "wnba[cols].head()"
   ]
  },
  {
   "cell_type": "markdown",
   "metadata": {
    "colab_type": "text",
    "id": "ifhDhs76rp_k"
   },
   "source": [
    "**Exercise**\n",
    "\n",
    "<left><img width=\"100\" src=\"https://drive.google.com/uc?export=view&id=1E8tR7B9YYUXsU_rddJAyq0FrM0MSelxZ\"></left>\n",
    "\n",
    "\n",
    "- Generate a grouped bar plot to confirm or reject our hypothesis. Using **sns.countplot()**:\n",
    "  - Place the **age_mean_relative** variable on the x-axis. The **age_mean_relative** and **min_mean_relative** are already defined.\n",
    "  - Generate the frequency distributions for the **min_mean_relative variable.**\n",
    "- Analyze the graph and determine whether the data confirms or rejects our hypothesis. If it's a confirmation assign the string **'confirmation'** to a variable named **result**. If it's a rejection, assign the string **'rejection'** to the variable **result.**"
   ]
  },
  {
   "cell_type": "code",
   "execution_count": null,
   "metadata": {
    "colab": {},
    "colab_type": "code",
    "id": "gesr-86PvZxu"
   },
   "outputs": [],
   "source": [
    "# put your code here"
   ]
  },
  {
   "cell_type": "markdown",
   "metadata": {
    "colab_type": "text",
    "id": "zQNpeRmKvfa7"
   },
   "source": [
    "## Comparing Histograms"
   ]
  },
  {
   "cell_type": "markdown",
   "metadata": {
    "colab_type": "text",
    "id": "3wbt6EU4wBm8"
   },
   "source": [
    "Contrary to what our hypothesis predicted, the grouped bar plot we built showed that among old players the \"average or above\" category is the most numerous. Among young players we saw an opposite pattern: there are more players who played below the average number of minutes.\n",
    "\n",
    "A shortcoming of our analysis so far is that the **min_mean_relative** variable doesn't show much granularity. We can see that more **old players** belong to the **\"average or above\"** category than to **\"below average\"**, but we can't tell, for instance, whether **old players** generally play much more than the average. For all we know, they could have all played exactly 497 minutes (which is the average).\n",
    "\n",
    "The **min_mean_relative** variable is ordinal, and it was derived from the **MIN** variable, which is measured on a ratio scale. The information provided by the **MIN** variable is much more granular, and we can plot the distribution of this variable instead. Because the **MIN** variable is measured on a ratio scale, we'll need to use histograms instead of bar plots.\n",
    "\n",
    "The easiest way to **compare two histograms** is to superimpose one on top of the other. We can do that by using the pandas visualization methods we learned in the previous mission:"
   ]
  },
  {
   "cell_type": "code",
   "execution_count": 52,
   "metadata": {
    "colab": {
     "base_uri": "https://localhost:8080/",
     "height": 364
    },
    "colab_type": "code",
    "executionInfo": {
     "elapsed": 666,
     "status": "ok",
     "timestamp": 1541553791078,
     "user": {
      "displayName": "Ivanovitch Silva",
      "photoUrl": "https://lh4.googleusercontent.com/-baHwkIBEacY/AAAAAAAAAAI/AAAAAAAAFo0/aWRaXNQgy7Q/s64/photo.jpg",
      "userId": "06428777505436195303"
     },
     "user_tz": 180
    },
    "id": "TMnltjWRw7qn",
    "outputId": "d2d5daef-af25-4b4a-e37a-8a855f6fa52b"
   },
   "outputs": [
    {
     "data": {
      "text/plain": [
       "<matplotlib.axes._subplots.AxesSubplot at 0x1a16eac940>"
      ]
     },
     "execution_count": 52,
     "metadata": {},
     "output_type": "execute_result"
    },
    {
     "data": {
      "image/png": "[encoded data removed]",
      "text/plain": [
       "<Figure size 432x288 with 1 Axes>"
      ]
     },
     "metadata": {},
     "output_type": "display_data"
    }
   ],
   "source": [
    "wnba[wnba.Age >= 27]['MIN'].plot.hist(label = 'Old', legend = True)\n",
    "wnba[wnba.Age < 27]['MIN'].plot.hist(label = 'Young', legend = True)"
   ]
  },
  {
   "cell_type": "markdown",
   "metadata": {
    "colab_type": "text",
    "id": "QnQWaVZGxB1U"
   },
   "source": [
    "We can now see that most of the **old players** that belong to the **\"average or above\"** category play significantly more than average. The main downside of the visualization above is that the histogram for **young players** covers a large part of the other histogram. We can fix this easily by plotting only the shape of the histograms. We can do this using the **histtype** parameter and choose the **'step'** type:\n",
    "\n"
   ]
  },
  {
   "cell_type": "code",
   "execution_count": 43,
   "metadata": {
    "colab": {
     "base_uri": "https://localhost:8080/",
     "height": 364
    },
    "colab_type": "code",
    "executionInfo": {
     "elapsed": 839,
     "status": "ok",
     "timestamp": 1541554049318,
     "user": {
      "displayName": "Ivanovitch Silva",
      "photoUrl": "https://lh4.googleusercontent.com/-baHwkIBEacY/AAAAAAAAAAI/AAAAAAAAFo0/aWRaXNQgy7Q/s64/photo.jpg",
      "userId": "06428777505436195303"
     },
     "user_tz": 180
    },
    "id": "tbee7KFnxnHE",
    "outputId": "f3f7388d-0303-4683-bb55-4e3a235ddc33"
   },
   "outputs": [
    {
     "data": {
      "text/plain": [
       "<matplotlib.axes._subplots.AxesSubplot at 0x7fca732d4dd8>"
      ]
     },
     "execution_count": 43,
     "metadata": {
      "tags": []
     },
     "output_type": "execute_result"
    },
    {
     "data": {
      "image/png": "[encoded data removed]",
      "text/plain": [
       "<matplotlib.figure.Figure at 0x7fca731daa90>"
      ]
     },
     "metadata": {
      "tags": []
     },
     "output_type": "display_data"
    }
   ],
   "source": [
    "sns.set_style(\"white\")\n",
    "wnba[wnba.Age >= 27]['MIN'].plot.hist(histtype = 'step', \n",
    "                                      label = 'Old', \n",
    "                                      legend = True,color=\"red\")\n",
    "\n",
    "\n",
    "wnba[wnba.Age < 27]['MIN'].plot.hist(histtype = 'step', label = 'Young', legend = True,color=\"blue\")"
   ]
  },
  {
   "cell_type": "markdown",
   "metadata": {
    "colab_type": "text",
    "id": "1co9KIQKxp8Y"
   },
   "source": [
    "**Exercise**\n",
    "\n",
    "<left><img width=\"100\" src=\"https://drive.google.com/uc?export=view&id=1E8tR7B9YYUXsU_rddJAyq0FrM0MSelxZ\"></left>\n",
    "\n",
    "\n",
    "- Looking on our graph above, it's not easy to visualize where the average number of minutes is. Using the [plt.axvline()](https://matplotlib.org/api/_as_gen/matplotlib.pyplot.axvline.html) function, add a vertical line to demarcate the average point:\n",
    "  - The vertical line should be at point 497 on the x-axis.\n",
    "  - Use the label parameter of **plt.axvline()** to label it **'Average'**. Display the label by running **plt.legend()**."
   ]
  },
  {
   "cell_type": "code",
   "execution_count": null,
   "metadata": {
    "colab": {},
    "colab_type": "code",
    "id": "9UD1sMoGyZ-v"
   },
   "outputs": [],
   "source": [
    "# put your code here"
   ]
  },
  {
   "cell_type": "markdown",
   "metadata": {
    "colab_type": "text",
    "id": "qkGRfrn5yhgZ"
   },
   "source": [
    "## Kernel Density Estimate Plots\n"
   ]
  },
  {
   "cell_type": "markdown",
   "metadata": {
    "colab_type": "text",
    "id": "-549n8Jc01yJ"
   },
   "source": [
    "The step-type histograms we built made it possible to see clearly both distributions. The graph looked a bit overcrowded though, and the legend was not ideally positioned.\n",
    "\n",
    "<img width=\"500\" src=\"https://drive.google.com/uc?export=view&id=1Oogmu0kyhTgtK-N1zqsdzYGisTM2D6bE\">\n",
    "\n",
    "If we added more histograms to the graph above, it would become highly unreadable, and it'd be difficult to see any clear patterns. One solution to this problem is to smooth out the shape of the histograms to make them look less dense on the graph. This is how a single histogram would look smoothed out:\n",
    "\n",
    "\n",
    "<img width=\"500\" src=\"https://drive.google.com/uc?export=view&id=1us30ptyKArBL7GvemVRzYvBlGOD3KuMR\">\n",
    "\n",
    "We can smooth out our two histograms above for old and young players using the [Series.plot.kde()](https://pandas.pydata.org/pandas-docs/stable/generated/pandas.Series.plot.kde.html) function:\n"
   ]
  },
  {
   "cell_type": "code",
   "execution_count": 47,
   "metadata": {
    "colab": {
     "base_uri": "https://localhost:8080/",
     "height": 364
    },
    "colab_type": "code",
    "executionInfo": {
     "elapsed": 849,
     "status": "ok",
     "timestamp": 1541555032316,
     "user": {
      "displayName": "Ivanovitch Silva",
      "photoUrl": "https://lh4.googleusercontent.com/-baHwkIBEacY/AAAAAAAAAAI/AAAAAAAAFo0/aWRaXNQgy7Q/s64/photo.jpg",
      "userId": "06428777505436195303"
     },
     "user_tz": 180
    },
    "id": "GsVemyup09BU",
    "outputId": "a29f1e7d-62da-49c6-9c00-6acf8dd6c3b5"
   },
   "outputs": [
    {
     "data": {
      "text/plain": [
       "<matplotlib.axes._subplots.AxesSubplot at 0x7fca7309fef0>"
      ]
     },
     "execution_count": 47,
     "metadata": {
      "tags": []
     },
     "output_type": "execute_result"
    },
    {
     "data": {
      "image/png": "[encoded data removed]",
      "text/plain": [
       "<matplotlib.figure.Figure at 0x7fca730ae898>"
      ]
     },
     "metadata": {
      "tags": []
     },
     "output_type": "display_data"
    }
   ],
   "source": [
    "wnba[wnba.Age >= 27]['MIN'].plot.kde(label = 'Old', legend = True)\n",
    "wnba[wnba.Age < 27]['MIN'].plot.kde(label = 'Young', legend = True)"
   ]
  },
  {
   "cell_type": "markdown",
   "metadata": {
    "colab_type": "text",
    "id": "mv7RT9Gc1w04"
   },
   "source": [
    "Each of the smoothed histograms above is called a **kernel density estimate** plot or, shorter, **kernel density plot**. Unlike histograms, **kernel density** plots display densities on the y-axis instead of frequencies. The density values are actually probability values — which we'll be able to understand more about after the probability courses. All you need to know for now is that we can use kernel density plots to get a much clear picture about the shape of a distribution.\n",
    "\n",
    "\n",
    "**Exercise**\n",
    "\n",
    "<left><img width=\"100\" src=\"https://drive.google.com/uc?export=view&id=1E8tR7B9YYUXsU_rddJAyq0FrM0MSelxZ\"></left>\n",
    "\n",
    "\n",
    "- Reproduce the kernel density plots above, and add a vertical line to demarcate the average point.\n",
    "  - The vertical line should be at point 497 on the x-axis.\n",
    "  - Label the vertical line **'Average'** and make sure the label is displayed in the legend.\n",
    "- Can we still see that most of the old players that belong to the **\"average or above\"** category play significantly more than average? If so, is the pattern more obvious (faster to observe) than in the case of the step-type histograms?"
   ]
  },
  {
   "cell_type": "code",
   "execution_count": null,
   "metadata": {
    "colab": {},
    "colab_type": "code",
    "id": "4aeD2UhB2HXZ"
   },
   "outputs": [],
   "source": [
    "# put your code here"
   ]
  },
  {
   "cell_type": "markdown",
   "metadata": {
    "colab_type": "text",
    "id": "5aQBIQSN2mWU"
   },
   "source": [
    "## Drawbacks of Kernel Density Plots"
   ]
  },
  {
   "cell_type": "markdown",
   "metadata": {
    "colab_type": "text",
    "id": "mw-p3Uh1293i"
   },
   "source": [
    "As data scientists, we'll often need to compare more than two distributions. In fact, previously in this mission we compared five distributions on a grouped bar plot:\n",
    "\n",
    "\n",
    "<img width=\"400\" src=\"https://drive.google.com/uc?export=view&id=1nSTEDf8EAAE8fQSqxs5dwrlqoU7PF9Gx\">\n",
    "\n",
    "Grouped bar plots are ideal for variables measured on nominal and ordinal scales. For variables measured on a ratio or interval scale, we learned that kernel density plots are a good solution when we have many distributions to compare. However, kernel density plots tend to become unreadable as we reach five distributions or more.\n",
    "\n",
    "Let's say we're interested in analyzing the distribution of player height as a function of player position. In other words, we want to figure out, for instance, whether centers are generally taller than forwards, whether forwards are generally shorter than guards, and so on. In the code below, we'll segment the data set by player position, and for each segment we'll generate a kernel density plot for the distribution of the **Height** variable:"
   ]
  },
  {
   "cell_type": "code",
   "execution_count": 51,
   "metadata": {
    "colab": {
     "base_uri": "https://localhost:8080/",
     "height": 364
    },
    "colab_type": "code",
    "executionInfo": {
     "elapsed": 1315,
     "status": "ok",
     "timestamp": 1541555607859,
     "user": {
      "displayName": "Ivanovitch Silva",
      "photoUrl": "https://lh4.googleusercontent.com/-baHwkIBEacY/AAAAAAAAAAI/AAAAAAAAFo0/aWRaXNQgy7Q/s64/photo.jpg",
      "userId": "06428777505436195303"
     },
     "user_tz": 180
    },
    "id": "-C6bbEnh3EDZ",
    "outputId": "188da570-22b8-45cf-9410-4aa2cf785848"
   },
   "outputs": [
    {
     "data": {
      "text/plain": [
       "<matplotlib.axes._subplots.AxesSubplot at 0x7fca72f16ef0>"
      ]
     },
     "execution_count": 51,
     "metadata": {
      "tags": []
     },
     "output_type": "execute_result"
    },
    {
     "data": {
      "image/png": "[encoded data removed]",
      "text/plain": [
       "<matplotlib.figure.Figure at 0x7fca72f27da0>"
      ]
     },
     "metadata": {
      "tags": []
     },
     "output_type": "display_data"
    }
   ],
   "source": [
    "wnba[wnba.Pos == 'F']['Height'].plot.kde(label = 'F', legend = True)\n",
    "wnba[wnba.Pos == 'C']['Height'].plot.kde(label = 'C', legend = True)\n",
    "wnba[wnba.Pos == 'G']['Height'].plot.kde(label = 'G', legend = True)\n",
    "wnba[wnba.Pos == 'G/F']['Height'].plot.kde(label = 'G/F', legend = True)\n",
    "wnba[wnba.Pos == 'F/C']['Height'].plot.kde(label = 'F/C', legend = True)\n"
   ]
  },
  {
   "cell_type": "markdown",
   "metadata": {
    "colab_type": "text",
    "id": "fdeh9aOX3uqM"
   },
   "source": [
    "If we look very closely, we can see a couple of clear patterns: the shortest players are generally guards, the tallest players are generally centers, mid-height players are generally forwards or play in a combined position, etc.\n",
    "\n",
    "Having to look very closely to a graph to identify obvious patterns is far from ideal. If there's any pattern, we want to see it immediately. To overcome this problem, we can use other kinds of graphs, which present the same information in a more readable way. For the rest of this mission, we'll explore two such alternatives.\n"
   ]
  },
  {
   "cell_type": "markdown",
   "metadata": {
    "colab_type": "text",
    "id": "5d4hHHgb4Qnm"
   },
   "source": [
    "## Strip Plots"
   ]
  },
  {
   "cell_type": "markdown",
   "metadata": {
    "colab_type": "text",
    "id": "YJWvOLd34Uom"
   },
   "source": [
    "This is one alternative we can use to visualize the distribution of **heights** as a function of **player** position:\n",
    "\n",
    "\n",
    "<img width=\"400\" src=\"https://drive.google.com/uc?export=view&id=1aQYZGHJg1IDb0C5dUxaSE1coWb3ZI6Dp\">\n",
    "\n",
    "\n",
    "The **Pos** variable is represented on the x-axis, while **Height** is on the y-axis. Each of the five vertical lines made of distinctly colored bullets represents a distribution. These are the logical steps we'd take to build a plot like the one above:\n",
    "\n",
    "- Segment the data set by player position.\n",
    "- For every segment:\n",
    "    - List all the values in the **Height** variable.\n",
    "    - For every value in that list, draw a bullet point on a graph. The x-coordinate of the bullet point is given by the player position, and the y-coordinate by the player's height.\n",
    "    \n",
    "    \n",
    "<img width=\"500\" src=\"https://drive.google.com/uc?export=view&id=1Cp_Pd3uSY-9nE7mPw9oGz788ZPsrMUpJ\">\n",
    "\n",
    "\n",
    "Because we segment by player position, for every segment the player position values will be identical for every player while their heights will vary more or less. Because of the segmentation, the player position is also guaranteed to be different from segment to segment. After drawing all the bullet points for all the segments, we'll inevitably end up with five narrow vertical strips, one above each unique value on the x-axis. Because of this, each of the five plots is called a **strip plot**.\n",
    "\n",
    "To generate the first graph above with five strip plots, we can use the [sns.stripplot()](https://seaborn.pydata.org/generated/seaborn.stripplot.html?highlight=stripplot#seaborn.stripplot) function from the seaborn module. We place the **Pos** variable on the x-axis and **Height** on the y-axis:\n",
    "\n",
    "\n",
    "\n"
   ]
  },
  {
   "cell_type": "code",
   "execution_count": 20,
   "metadata": {
    "colab": {
     "base_uri": "https://localhost:8080/",
     "height": 378
    },
    "colab_type": "code",
    "executionInfo": {
     "elapsed": 686,
     "status": "ok",
     "timestamp": 1541556087196,
     "user": {
      "displayName": "Ivanovitch Silva",
      "photoUrl": "https://lh4.googleusercontent.com/-baHwkIBEacY/AAAAAAAAAAI/AAAAAAAAFo0/aWRaXNQgy7Q/s64/photo.jpg",
      "userId": "06428777505436195303"
     },
     "user_tz": 180
    },
    "id": "vcVqYdrz4YQ1",
    "outputId": "100f6277-a142-4166-a96d-c7093a20b3f2"
   },
   "outputs": [
    {
     "data": {
      "text/plain": [
       "<matplotlib.axes._subplots.AxesSubplot at 0x1a16878ef0>"
      ]
     },
     "execution_count": 20,
     "metadata": {},
     "output_type": "execute_result"
    },
    {
     "data": {
      "image/png": "[encoded data removed]",
      "text/plain": [
       "<Figure size 432x288 with 1 Axes>"
      ]
     },
     "metadata": {},
     "output_type": "display_data"
    }
   ],
   "source": [
    "sns.stripplot(x = 'Pos', y = 'Height', data = wnba)"
   ]
  },
  {
   "cell_type": "markdown",
   "metadata": {
    "colab_type": "text",
    "id": "BPum6AHx5yZ4"
   },
   "source": [
    "Patterns are now immediately visible. We can see on the graph that the **shortest players are guards** — in fact, all players under 180 cm are guards. The **tallest players are centers** — this is the only category with players above 2 meters. Among combined positions, we can see that **F/C has slightly taller representatives** — most likely because it requires center qualities (and we've seen that the tallest players are generally centers).\n",
    "\n",
    "A **big downside** of strip plots is that the bullet **points overlap**. We can **fix** this by adding a bit of **jitter** to each distribution. We can do this by setting the jitter parameter to **True:**"
   ]
  },
  {
   "cell_type": "code",
   "execution_count": 19,
   "metadata": {
    "colab": {
     "base_uri": "https://localhost:8080/",
     "height": 378
    },
    "colab_type": "code",
    "executionInfo": {
     "elapsed": 1621,
     "status": "ok",
     "timestamp": 1541556234643,
     "user": {
      "displayName": "Ivanovitch Silva",
      "photoUrl": "https://lh4.googleusercontent.com/-baHwkIBEacY/AAAAAAAAAAI/AAAAAAAAFo0/aWRaXNQgy7Q/s64/photo.jpg",
      "userId": "06428777505436195303"
     },
     "user_tz": 180
    },
    "id": "S97zw2FS6R44",
    "outputId": "027a0c5c-87eb-41b1-925b-963a84df5a4b"
   },
   "outputs": [
    {
     "data": {
      "text/plain": [
       "<matplotlib.axes._subplots.AxesSubplot at 0x1a16ff2f60>"
      ]
     },
     "execution_count": 19,
     "metadata": {},
     "output_type": "execute_result"
    },
    {
     "data": {
      "image/png": "[encoded data removed]",
      "text/plain": [
       "<Figure size 432x288 with 1 Axes>"
      ]
     },
     "metadata": {},
     "output_type": "display_data"
    }
   ],
   "source": [
    "sns.stripplot(x = 'Pos', y = 'Height', data = wnba, jitter = True)"
   ]
  },
  {
   "cell_type": "markdown",
   "metadata": {
    "colab_type": "text",
    "id": "jRG4rpvz6WKo"
   },
   "source": [
    "On a side note, you might have noticed that strip plots are similar to the scatter plots we learned about in the visualization courses. **In fact, strip plots are actually scatter plots.** When one of the variables is nominal or ordinal, a scatter plot will generally take the form of a series of narrow strips (the number of narrow strips will be the same as the number of unique values in the nominal or ordinal variable).\n",
    "\n",
    "**Exercise**\n",
    "\n",
    "<left><img width=\"100\" src=\"https://drive.google.com/uc?export=view&id=1E8tR7B9YYUXsU_rddJAyq0FrM0MSelxZ\"></left>\n",
    "\n",
    "\n",
    "- Using strip plots, examine the distribution of player **weight** (not height) as a function of player **position**. The graph should have the following properties:\n",
    "  - The **Pos** variable in on the x-axis and the **Weight** variable on the y-axis.\n",
    "  - Each **strip** plot has **jitter** added to it. The amount of jitter to apply is the one specific to **jitter = True.**\n",
    "- Do you see any similarity with the distributions of the **Height** variable? If so, how could this be explained?"
   ]
  },
  {
   "cell_type": "code",
   "execution_count": null,
   "metadata": {
    "colab": {},
    "colab_type": "code",
    "id": "Ai9Nv3Um6p2a"
   },
   "outputs": [],
   "source": [
    "# put your code here"
   ]
  },
  {
   "cell_type": "markdown",
   "metadata": {
    "colab_type": "text",
    "id": "_-16bb-77Omv"
   },
   "source": [
    "## Box plots"
   ]
  },
  {
   "cell_type": "markdown",
   "metadata": {
    "colab_type": "text",
    "id": "tRpQfNku8RP4"
   },
   "source": [
    "Besides strip plots, there's another kind of graph we can use to display many distributions at once and make sure everything is still readable. Below, we use this kind of graph to plot again the distribution of player height as a function of player position:\n",
    "\n",
    "\n",
    "<img width=\"400\" src=\"https://drive.google.com/uc?export=view&id=1YM9kJ-0f8eMvYEvI1C11TpvwQlqSuyRa\">\n",
    "\n",
    "Each individual plot above shows a distribution. Let's isolate the height distribution of guards and understand it by comparing it with a histogram showing the same distribution:\n",
    "\n",
    "<img width=\"800\" src=\"https://drive.google.com/uc?export=view&id=1ubAeLqYPthw2jJpN_ApMc30qM1BjSXpN\">\n",
    "\n",
    "In a nutshell, the graph on the right shows the range of the distribution and its three quartiles (the 25th, the 50th and the 75th percentile). This allows us to get a good visual intuition about the proportion of values that fall under a certain quartile, between any two quartiles, or between a quartile and the minimum or the maximum value in the distribution:\n",
    "\n",
    "\n",
    "<img width=\"800\" src=\"https://drive.google.com/uc?export=view&id=1Y0H3DLjHVbZOZSzOq8htlinzCxEAQW_R\">\n",
    "\n",
    "\n",
    "The two lines extending upwards and downwards out of the box in the middle look a bit like two whiskers, reason for which we call this plot a **box-and-whisker** plot, or, more convenient, just **box plot.**\n",
    "\n",
    "We can generate the five box plots above using the [sns.boxplot()](https://seaborn.pydata.org/generated/seaborn.boxplot.html) function. On the x-axis we want the **Pos** variable, and on the y-axis the **Height** variable.\n",
    "\n"
   ]
  },
  {
   "cell_type": "code",
   "execution_count": 51,
   "metadata": {
    "colab": {
     "base_uri": "https://localhost:8080/",
     "height": 432
    },
    "colab_type": "code",
    "executionInfo": {
     "elapsed": 667,
     "status": "ok",
     "timestamp": 1541557272484,
     "user": {
      "displayName": "Ivanovitch Silva",
      "photoUrl": "https://lh4.googleusercontent.com/-baHwkIBEacY/AAAAAAAAAAI/AAAAAAAAFo0/aWRaXNQgy7Q/s64/photo.jpg",
      "userId": "06428777505436195303"
     },
     "user_tz": 180
    },
    "id": "06YEoa0W8W42",
    "outputId": "f1fe7c35-58ff-4c76-adb5-8b2d0dbcaa71"
   },
   "outputs": [
    {
     "data": {
      "text/plain": [
       "<matplotlib.axes._subplots.AxesSubplot at 0x1a17bb7940>"
      ]
     },
     "execution_count": 51,
     "metadata": {},
     "output_type": "execute_result"
    },
    {
     "data": {
      "image/png": "[encoded data removed]",
      "text/plain": [
       "<Figure size 432x288 with 1 Axes>"
      ]
     },
     "metadata": {},
     "output_type": "display_data"
    }
   ],
   "source": [
    "sns.boxplot(x = 'Pos', y = 'Height', data = wnba)"
   ]
  },
  {
   "cell_type": "markdown",
   "metadata": {
    "colab_type": "text",
    "id": "ODb44RO8-Qc9"
   },
   "source": [
    "You might wonder what is the meaning of those few dots for the box plots of centers and guards/forwards (G/F), and **why some box plots seem to lack some of the quartiles**. We'll discuss this in the next screen. Now, let's practice generating box plots.\n",
    "\n",
    "**Exercise**\n",
    "\n",
    "<left><img width=\"100\" src=\"https://drive.google.com/uc?export=view&id=1E8tR7B9YYUXsU_rddJAyq0FrM0MSelxZ\"></left>\n",
    "\n",
    "- Using **sns.boxplot()**, generate a series of box plots to examine the distribution of player weight as a function of player position. Place the **Pos** variable on the x-axis and the **Weight** variable on the y-axis."
   ]
  },
  {
   "cell_type": "code",
   "execution_count": null,
   "metadata": {
    "colab": {},
    "colab_type": "code",
    "id": "CV_jILuT-hXh"
   },
   "outputs": [],
   "source": [
    "# put your code here"
   ]
  },
  {
   "cell_type": "markdown",
   "metadata": {
    "colab_type": "text",
    "id": "pCXUOoFP-7me"
   },
   "source": [
    "## Outliers"
   ]
  },
  {
   "cell_type": "markdown",
   "metadata": {
    "colab_type": "text",
    "id": "TgQBx0Hn_F7e"
   },
   "source": [
    "The few dots we see for the box plots of centers and guards/forwards (G/F) represent values in the distribution that are much larger or much lower than the rest of the values. A value that is much lower or much larger than the rest of the values in a distribution is called an **outlier.**\n",
    "\n",
    "<img width=\"400\" src=\"https://drive.google.com/uc?export=view&id=1WoZ6rZWu8bIFhJaPwQ5mDvoo2pU0dzLa\">\n",
    "\n",
    "\n",
    "A value is an **outlier** if:\n",
    "\n",
    "- It's larger than the upper quartile by 1.5 times the difference between the upper quartile and the lower quartile (the difference is also called the interquartile range).\n",
    "- It's lower than the lower quartile by 1.5 times the difference between the upper quartile and the lower quartile (the difference is also called the interquartile range).\n",
    "\n",
    "<img width=\"600\" src=\"https://drive.google.com/uc?export=view&id=1NminuWMq8htgOFD5TeAyiLFhXdCtHQjJ\">\n",
    "\n",
    "Probably this is not yet crystal clear, so let's walk through an example. Let's consider the box plot for centers:\n",
    "\n",
    "<img width=\"800\" src=\"https://drive.google.com/uc?export=view&id=1krahzq8cce3FQmzXVekQM0UumStTIq8l\">\n",
    "\n",
    "\n",
    "From the output of **wnba[wnba['Pos'] == 'C']['Height'].describe()**, we can see that the upper quartile (the 75th percentile) is 196 and the lower quartile (the 25th percentile) is 193. Hence, the interquartile range is 3.\n",
    "\n",
    "\n",
    "$$\n",
    "\\text{interquartile range} = \\text{upper quartile} - \\text{lower quartil}\n",
    "$$\n",
    "\n",
    "\n",
    "Every value that is $3 \\times 1.5$  bigger than the upper quartile is considered an outlier. $3 \\times 1.5 = 4.5$, and the upper quartile is 196. This means that any value greater than $196 + 4.5 = 200.5$  is considered an outlier.\n",
    "\n",
    "Similarly, every value that is  $3 \\times 1.5$ lower that the lower quartile is an outlier. $3 \\times 1.5 = 4.5$, and the upper quartile is 193. This means that any value less than $193 - 4.5 = 188.5$ is an outlier.\n",
    "\n",
    "\n",
    "<img width=\"500\" src=\"https://drive.google.com/uc?export=view&id=18HtBhxsTPDtuhq4W0YoXfCs8Rx1gz-yQ\">\n",
    "\n",
    "\n",
    "This formal definition of an outlier is arbitrary, and it could be changed if we wanted to. For any given distribution, the upper and lower quartiles, and the interquartile range remain constant. However, the 1.5 factor can vary. If the factor is increased, then the range outside which values are considered outliers increases as well. If the factor is decreased, the range outside which values are considered outlier decreases as well.\n",
    "\n",
    "When we generate boxplots, we can increase or decrease this factor by using the **whis** parameter of the **sns.boxplot()** function. This is the same height distribution for centers without any outliers:\n",
    "\n",
    "\n"
   ]
  },
  {
   "cell_type": "code",
   "execution_count": 50,
   "metadata": {
    "colab": {
     "base_uri": "https://localhost:8080/",
     "height": 401
    },
    "colab_type": "code",
    "executionInfo": {
     "elapsed": 643,
     "status": "ok",
     "timestamp": 1541558672688,
     "user": {
      "displayName": "Ivanovitch Silva",
      "photoUrl": "https://lh4.googleusercontent.com/-baHwkIBEacY/AAAAAAAAAAI/AAAAAAAAFo0/aWRaXNQgy7Q/s64/photo.jpg",
      "userId": "06428777505436195303"
     },
     "user_tz": 180
    },
    "id": "GEU9c7vH_LUw",
    "outputId": "91edc6d7-4404-4b77-b46f-7f7298967b98"
   },
   "outputs": [
    {
     "data": {
      "text/plain": [
       "<matplotlib.axes._subplots.AxesSubplot at 0x1a18180208>"
      ]
     },
     "execution_count": 50,
     "metadata": {},
     "output_type": "execute_result"
    },
    {
     "data": {
      "image/png": "[encoded data removed]",
      "text/plain": [
       "<Figure size 432x288 with 1 Axes>"
      ]
     },
     "metadata": {},
     "output_type": "display_data"
    }
   ],
   "source": [
    "sns.boxplot(wnba[wnba['Pos'] == 'C']['Height'], whis = 4,\n",
    "              orient = 'vertical', width = .45)"
   ]
  },
  {
   "cell_type": "markdown",
   "metadata": {
    "colab_type": "text",
    "id": "M0g8HA1yDpos"
   },
   "source": [
    "**Exercise**\n",
    "\n",
    "<left><img width=\"100\" src=\"https://drive.google.com/uc?export=view&id=1E8tR7B9YYUXsU_rddJAyq0FrM0MSelxZ\"></left>\n",
    "\n",
    "- Consider the quartiles of the **Games Played** variable:\n",
    "\n",
    "```python\n",
    ">> wnba['Games Played'].describe()\n",
    "count    143.000000\n",
    "mean      24.356643\n",
    "std        7.104259\n",
    "min        2.000000\n",
    "25%       22.000000\n",
    "50%       27.000000\n",
    "75%       29.000000\n",
    "max       32.000000\n",
    "Name: Games Played, dtype: float64\n",
    "```\n",
    "\n",
    "- Find the interquartile range, and assign the result to a variable named **iqr**.\n",
    "- Using a factor of 1.5, calculate the lower and upper bound outside which values are considered outliers.\n",
    "    - Assign the value of the lower bound to a variable named **lower_bound**.\n",
    "    - Assign the upper bound to a variable named **upper_bound.**\n",
    "- Find how many values in the distribution are outliers.\n",
    "    - Assign the number of outliers below the lower bound to a variable named **outliers_low.**\n",
    "    - Assign the number of outliers below the upper bound to a variable named **outliers_high.**\n",
    "- Plot a boxplot to check whether your answers are sensible.\n",
    "\n",
    "\n"
   ]
  },
  {
   "cell_type": "code",
   "execution_count": null,
   "metadata": {
    "colab": {},
    "colab_type": "code",
    "id": "gzs1kjoLE0kX"
   },
   "outputs": [],
   "source": [
    "# put your code here"
   ]
  },
  {
   "cell_type": "markdown",
   "metadata": {
    "colab_type": "text",
    "id": "GfyIiVn0F1A8"
   },
   "source": [
    "## Next Steps"
   ]
  },
  {
   "cell_type": "markdown",
   "metadata": {
    "colab_type": "text",
    "id": "MzxEpz9YGAq-"
   },
   "source": [
    "In this mission, we learned how to compare frequency distributions using graphs. Grouped bar plots are ideal to compare the frequency distributions of nominal or ordinal variables. For variables measured on an interval or ratio scale, we can use step-type histograms, kernel density plots, or, for better readability, strip plots or box plots.\n",
    "\n",
    "<img width=\"400\" src=\"https://drive.google.com/uc?export=view&id=1J7n1gvx8sQpJ-WNZF5do8VPQk_vf2ORb\">\n",
    "\n",
    "\n",
    "We've come a long way in this course from learning about sampling to visualizing multiple frequency distributions. We've made great progress so far and completed the workflow we set out to do in the first mission.\n",
    "\n",
    "\n",
    "<img width=\"600\" src=\"https://drive.google.com/uc?export=view&id=1XQ_nPiVB1pMBaS0ikBE6IPeifOYbDG11\">\n"
   ]
  }
 ],
 "metadata": {
  "colab": {
   "name": "Lesson 20 - Frequency Distributions.ipynb",
   "provenance": [],
   "version": "0.3.2"
  },
  "kernelspec": {
   "display_name": "Python 3",
   "language": "python",
   "name": "python3"
  },
  "language_info": {
   "codemirror_mode": {
    "name": "ipython",
    "version": 3
   },
   "file_extension": ".py",
   "mimetype": "text/x-python",
   "name": "python",
   "nbconvert_exporter": "python",
   "pygments_lexer": "ipython3",
   "version": "3.6.5"
  }
 },
 "nbformat": 4,
 "nbformat_minor": 2
}
