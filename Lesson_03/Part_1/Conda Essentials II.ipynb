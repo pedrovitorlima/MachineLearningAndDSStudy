{
 "cells": [
  {
   "cell_type": "markdown",
   "metadata": {},
   "source": [
    "# Working with environments\n",
    "\n",
    "Conda **environments** allow multiple incompatible versions of the same (software) package to coexist on your system. An **environment** is simply a filepath containing a collection of mutually compatible packages. By isolating distinct versions of a given package (and their dependencies) in distinct **environments**, those versions are all available to work on particular projects or tasks.\n",
    "\n",
    "There are a large number of reasons why it is best practice to use **environments**, whether as a data scientist, software developer, or domain specialist. Without the concept of **environments**, users essentially rely on and are restricted to whichever particular package versions are installed globally (or in their own user accounts) on a particular machine. Even when one user moves scripts between machines (or shares them with a colleague), the configuration is often inconsistent in ways that interfere with seamless functionality. Conda **environments** solve both these problems. You can easily maintain and switch between as many **environments** as you like, and each one has exactly the collection of packages that you want.\n",
    "\n",
    "For example, you may develop a project comprising scripts, notebooks, libraries, or other resources that depend on a particular collection of package versions. You later want to be able to switch flexibly to newer versions of those packages and to ensure the project continues to function properly before switching wholly. Or likewise, you may want to share code with colleagues who are required to use certain package versions. In this context, an **environment** is a way of documenting a known set of packages that correctly support your project.\n",
    "\n",
    ">Conda environments allow for flexible version management of packages.\n"
   ]
  },
  {
   "cell_type": "markdown",
   "metadata": {},
   "source": [
    "# Which environment am I using?\n",
    "\n",
    "When using **conda**, you are always in some environment, but it may be the default (called the **base** or **root** environment). Your current environment has a name and contains a collection of packages currently associated with that environment. There are a few ways to determine the current environment.\n",
    "\n",
    "Most obviously, at a terminal prompt, the name of the current environment is usually prepended to the rest of your prompt in parentheses. Alternatively, the subcommand **conda env list** displays a list of all environments on your current system; the currently activated one is marked with an asterisk in the middle column. The subcommands of **conda env** (sometimes with suitable switches) encompass most of your needs for working with environments.\n",
    "\n",
    "The output of **conda env list** shows that each environment is associated with a particular directory. This is **not** the same as your current working directory for a given project; being \"in\" an environment is completely independent of the directory you are working in. Indeed, you often wish to preserve a certain Conda environment and edit resources across multiple project directories (all of which rely on the same environment). The environment directory displayed by **conda env list** is simply the top-level filepath in which all resources associated with that environment are stored; you need never manipulate those environment directories directly (other than via the **conda** command); indeed, it is much safer to leave those directories alone!\n",
    "\n",
    "For example, here is output you might see in a particular terminal:\n",
    "\n",
    "```bash\n",
    "(test-project) $ conda env list\n",
    "# conda environments:\n",
    "#\n",
    "base                     /home/repl/miniconda\n",
    "py1.0                    /home/repl/miniconda/envs/py1.0\n",
    "stats-research           /home/repl/miniconda/envs/stats-research\n",
    "test-project          *  /home/repl/miniconda/envs/test-project\n",
    "```"
   ]
  },
  {
   "cell_type": "code",
   "execution_count": 1,
   "metadata": {},
   "outputs": [
    {
     "name": "stdout",
     "output_type": "stream",
     "text": [
      "# conda environments:\n",
      "#\n",
      "base                  *  /anaconda3\n",
      "\n"
     ]
    }
   ],
   "source": [
    "!conda env list"
   ]
  },
  {
   "cell_type": "markdown",
   "metadata": {},
   "source": [
    "# What packages are installed in an environment?\n",
    "\n",
    "The command **conda list** seen previously displays all packages installed in the current environment. You can reduce this list by appending the particular package you want as an option. The package can be specified either as a simple name, or as a regular expression pattern. This still displays the version (and channel) associated with the installed package(s). For example:\n",
    "\n",
    "```bash\n",
    "(test-env) $ conda list 'numpy|pandas'\n",
    "# packages in environment at /home/repl/miniconda/envs/test-env:\n",
    "#\n",
    "# Name                    Version                   Build  Channel\n",
    "numpy                     1.11.3                   py35_0\n",
    "pandas                    0.18.1              np111py35_0\n",
    "```\n",
    "\n",
    "Without specifying __'numpy|pandas'__, these same two lines would be printed, simply interspersed with many others for the various other installed packages. Notice that the output displays the filepath associated with the current environment first: in this case, **/home/repl/miniconda/envs/test-env** as **test-env** is the active environment (as also shown at the prompt)."
   ]
  },
  {
   "cell_type": "code",
   "execution_count": 3,
   "metadata": {},
   "outputs": [
    {
     "name": "stdout",
     "output_type": "stream",
     "text": [
      "# packages in environment at /anaconda3:\n",
      "#\n",
      "# Name                    Version                   Build  Channel\n",
      "numpy                     1.15.1          py36_blas_openblashd3ea46f_1  [blas_openblas]  conda-forge\n",
      "numpy-base                1.15.1           py36ha711998_0  \n",
      "numpydoc                  0.8.0                    py36_0  \n",
      "pandas                    0.23.0           py36h1702cab_0  \n"
     ]
    }
   ],
   "source": [
    "!conda list 'numpy|pandas'"
   ]
  },
  {
   "cell_type": "markdown",
   "metadata": {},
   "source": [
    "It is often useful to query a different environment's configuration (i.e., as opposed to the currently active environment). You might do this simply to verify the package versions in that environment that you need for a given project. Or you may wish to find out what versions you or a colleague used in some prior project (developed in that other environment). The switch __--name__ or **-n** allows you to query another environment. For example,\n",
    "\n",
    "```bash\n",
    "(course-env) $ conda list --name test-env 'numpy|pandas'\n",
    "# packages in environment at /home/repl/miniconda/envs/test-env:\n",
    "#\n",
    "# Name                    Version                   Build  Channel\n",
    "numpy                     1.11.3                   py35_0\n",
    "pandas                    0.18.1              np111py35_0\n",
    "```\n",
    "\n",
    "Without specifying the **--name** argument, the command conda list would run in the current environment. The output would then be the versions of **numpy** and **pandas** present in the current environment."
   ]
  },
  {
   "cell_type": "markdown",
   "metadata": {},
   "source": [
    "# Switch between environments\n",
    "\n",
    "Simply having different environments is not of much use; you need to be able to switch between environments. Most typically this is done at the command line, using the **conda** command. With some other interfaces (like Anaconda Navigator or Jupyter with **nb_conda** installed), other techniques for selecting environment are available. But for this course, you will learn about command-line use.\n",
    "\n",
    "To activate an environment, you simply use conda activate ENVNAME. To deactivate an environment, you use **conda deactivate**, which returns you to the root/base environment.\n",
    "\n",
    "If you used **conda** outside this course, and prior to version 4.4, you may have seen a more platform specific style. On older versions, Windows users would type **activate ENVNAME** and **deactivate**, while Linux and OSX users would type **source activate ENVNAME** and **source deactivate**. The unified style across platforms is more friendly. Related to the change to **conda activate**, version 4.4 and above use a special environment called base that is equivalent to what was called **root** in older versions. However, in old versions of **conda** you would not typically see an environment listed on the terminal prompt when you were in the root environment."
   ]
  },
  {
   "cell_type": "markdown",
   "metadata": {},
   "source": [
    "# Remove an environment\n",
    "\n",
    "From time to time, it is worth cleaning up the environments you have accumulated just to make management easier. Doing so is not pressing; as they use little space or resources. But it's definitely useful to be able to see a list of only as many environments as are actually useful for you.\n",
    "\n",
    "The command to remove an environment is:\n",
    "\n",
    "```bash\n",
    "conda env remove --name ENVNAME\n",
    "```\n",
    "\n",
    "You may also use the shorter **-n** switch instead."
   ]
  },
  {
   "cell_type": "markdown",
   "metadata": {},
   "source": [
    "# Create a new environment\n",
    "\n",
    "This course you are working in has come configured with several environments, but in your use you will need to create environments meeting your own purposes. The basic command for creating environments is **conda create**. You will always need to specify a name for your environment, using **--name** (or short form **-n**), and you may optionally specify packages (with optional versions) that you want in that environment intially. You do not need to specify any packages when creating; either way you can add or remove whatever packages you wish from an environment later.\n",
    "\n",
    "The general syntax is similar to:\n",
    "\n",
    "```bash\n",
    "conda create --name recent-pd python=3.6 pandas=0.22 scipy statsmodels\n",
    "```\n",
    "\n",
    "This command will perform consistency resolution on those packages and versions indicated, in the same manner as a **conda install** will. Notice that even though this command works with environments it is **conda create** rather than a **conda env ...** command."
   ]
  },
  {
   "cell_type": "code",
   "execution_count": 4,
   "metadata": {},
   "outputs": [
    {
     "name": "stdout",
     "output_type": "stream",
     "text": [
      "Solving environment: done\n",
      "\n",
      "## Package Plan ##\n",
      "\n",
      "  environment location: /anaconda3/envs/course-env\n",
      "\n",
      "  added / updated specs: \n",
      "    - numpy=1.15.1\n",
      "    - pandas=0.23.4\n",
      "    - python=3.6\n",
      "    - scikit-learn=0.19.2\n",
      "\n",
      "\n",
      "The following packages will be downloaded:\n",
      "\n",
      "    package                    |            build\n",
      "    ---------------------------|-----------------\n",
      "    tk-8.6.8                   |       ha92aebf_0         3.0 MB  conda-forge\n",
      "    setuptools-40.4.0          |           py36_0         554 KB  conda-forge\n",
      "    sqlite-3.25.1              |       hb1c47c0_0         1.8 MB  conda-forge\n",
      "    ------------------------------------------------------------\n",
      "                                           Total:         5.3 MB\n",
      "\n",
      "The following NEW packages will be INSTALLED:\n",
      "\n",
      "    blas:            1.1-openblas                          conda-forge\n",
      "    bzip2:           1.0.6-1                               conda-forge\n",
      "    ca-certificates: 2018.8.24-ha4d7672_0                  conda-forge\n",
      "    certifi:         2018.8.24-py36_1                      conda-forge\n",
      "    libffi:          3.2.1-hfc679d8_5                      conda-forge\n",
      "    libgfortran:     3.0.0-1                               conda-forge\n",
      "    ncurses:         6.1-hfc679d8_1                        conda-forge\n",
      "    numpy:           1.15.1-py36_blas_openblashd3ea46f_1   conda-forge [blas_openblas]\n",
      "    openblas:        0.2.20-8                              conda-forge\n",
      "    openssl:         1.0.2p-h470a237_0                     conda-forge\n",
      "    pandas:          0.23.4-py36hf8a1672_0                 conda-forge\n",
      "    pip:             18.0-py36_1                           conda-forge\n",
      "    python:          3.6.6-h5001a0f_0                      conda-forge\n",
      "    python-dateutil: 2.7.3-py_0                            conda-forge\n",
      "    pytz:            2018.5-py_0                           conda-forge\n",
      "    readline:        7.0-haf1bffa_1                        conda-forge\n",
      "    scikit-learn:    0.19.2-py36_blas_openblasha84fab4_201 conda-forge [blas_openblas]\n",
      "    scipy:           1.1.0-py36_blas_openblash7943236_201  conda-forge [blas_openblas]\n",
      "    setuptools:      40.4.0-py36_0                         conda-forge\n",
      "    six:             1.11.0-py36_1                         conda-forge\n",
      "    sqlite:          3.25.1-hb1c47c0_0                     conda-forge\n",
      "    tk:              8.6.8-ha92aebf_0                      conda-forge\n",
      "    wheel:           0.31.1-py36_1                         conda-forge\n",
      "    xz:              5.2.4-h470a237_1                      conda-forge\n",
      "    zlib:            1.2.11-h470a237_3                     conda-forge\n",
      "\n",
      "\n",
      "Downloading and Extracting Packages\n",
      "tk-8.6.8             | 3.0 MB    | ##################################### | 100% \n",
      "setuptools-40.4.0    | 554 KB    | ##################################### | 100% \n",
      "sqlite-3.25.1        | 1.8 MB    | ##################################### | 100% \n",
      "Preparing transaction: done\n",
      "Verifying transaction: done\n",
      "Executing transaction: done\n",
      "#\n",
      "# To activate this environment, use\n",
      "#\n",
      "#     $ conda activate course-env\n",
      "#\n",
      "# To deactivate an active environment, use\n",
      "#\n",
      "#     $ conda deactivate\n",
      "\n"
     ]
    }
   ],
   "source": [
    "# create an environment using latest packages\n",
    "!conda create --name course-env -c conda-forge python=3.6 pandas=0.23.4 numpy=1.15.1 scikit-learn=0.19.2 -y"
   ]
  },
  {
   "cell_type": "code",
   "execution_count": 5,
   "metadata": {},
   "outputs": [
    {
     "name": "stdout",
     "output_type": "stream",
     "text": [
      "# conda environments:\n",
      "#\n",
      "base                  *  /anaconda3\n",
      "course-env               /anaconda3/envs/course-env\n",
      "\n"
     ]
    }
   ],
   "source": [
    "!conda env list"
   ]
  },
  {
   "cell_type": "markdown",
   "metadata": {},
   "source": [
    "# Export an environment\n",
    "\n",
    "Using **conda list** provides useful information about the packages that are installed. However, the format it describes packages in is not immediately usable to let a colleague or yourself to recreate exactly the same environment on a different machine. For that you want the **conda env export** command.\n",
    "\n",
    "There are several optional switches to this command. If you specify **-n** or **--name** you can export an environment other than the active one. Without that switch it chooses the active environment. If you specify **-f** or **--file** you can output the environment specification to a file rather than just to the terminal output. If you are familiar with piping, you might prefer to pipe the output to a file rather than use the **--file** switch. By convention, the name **environment.yml** is used for environment, but any name can be used (but the extension **.yml** is strongly encouraged).\n",
    "\n",
    "Without saving to a file, the output might look similar to the below. Notice that this gives **exact** versions of packages, not simply ranges or prefixes. This assures exact reproducibility of computation within the same environment on a different machine.\n",
    "\n",
    "```bash\n",
    "$ conda env export -n pd-2015\n",
    "name: pd-2015\n",
    "channels:\n",
    "  - defaults\n",
    "dependencies:\n",
    "  - certifi=2018.1.18=py35_0\n",
    "  - libffi=3.2.1=hd88cf55_4\n",
    "  - libgcc-ng=7.2.0=h7cc24e2_2\n",
    "  - libgfortran-ng=7.2.0=h9f7466a_2\n",
    "  - mkl=2018.0.1=h19d6760_4\n",
    "  - numpy=1.9.3=py35hff6eb55_3\n",
    "  - openssl=1.0.2n=hb7f436b_0\n",
    "  - pandas=0.17.1=np19py35_0\n",
    "  - pip=9.0.1=py35h7e7da9d_4\n",
    "  - python=3.5.4=h417fded_24\n",
    "  - python-dateutil=2.6.1=py35h90d5b31_1\n",
    "  - pytz=2017.3=py35hb13c558_0\n",
    "  - readline=7.0=ha6073c6_4\n",
    "  - setuptools=38.4.0=py35_0\n",
    "  - six=1.11.0=py35h423b573_1\n",
    "  - xz=5.2.3=h55aa19d_2\n",
    "  - zlib=1.2.11=ha838bed_2\n",
    "  - pip:\n",
    "    - chardet==3.0.4\n",
    "    - pexpect==4.2.1\n",
    "    - urllib3==1.22\n",
    "prefix: /home/repl/miniconda/envs/pd-2015\n",
    "```"
   ]
  },
  {
   "cell_type": "code",
   "execution_count": 6,
   "metadata": {},
   "outputs": [],
   "source": [
    "!conda env export -n base -f base.yml "
   ]
  },
  {
   "cell_type": "code",
   "execution_count": null,
   "metadata": {},
   "outputs": [],
   "source": [
    "!conda env export -n course-env -f course-env.yml"
   ]
  },
  {
   "cell_type": "markdown",
   "metadata": {},
   "source": [
    "# Create an environment from a shared specification\n",
    "\n",
    "You may recreate an environment from one of the YAML (Yet Another Markup Language) format files produced by **conda env export**. However, it is also easy to hand write an environment specification with less detail. For example, you might describe an environment you need and want to share with colleagues as follows:\n",
    "\n",
    "```bash\n",
    "$ cat shared-project.yml\n",
    "name: shared-project\n",
    "channels:\n",
    "  - defaults\n",
    "dependencies:\n",
    "  - python=3.6\n",
    "  - pandas>=0.21\n",
    "  - scikit-learn\n",
    "  - statsmodels\n",
    "```\n",
    "\n",
    "\n",
    "\n",
    "Clearly this version is much less specific than what **conda env export** produces. But it indicates the general tools, with some version specification, that will be required to work on a shared project. Actually creating an environment from this sketched out specification will fill in all the dependencies of those large projects whose packages are named, and this will install dozens of packages not explicitly listed. Often you are happy to have other dependencies in the manner **conda** decides is best.\n",
    "\n",
    "Of course, a fully fleshed out specification like we saw in the previous exercise are equally usable. Non-relevant details like the path to the environment on the local system are ignored when installing to a different machine—or indeed to a different platform altogether, which will work equally well.\n",
    "\n",
    "To create an environment from **file-name.yml**, you can use the following command:\n",
    "\n",
    "```bash\n",
    "conda env create --name my-env --file file-name.yml\n",
    "```\n",
    "\n",
    "As a special convention, if you use the plain command **conda env create** without specifying a YAML file, it will assume you mean the file **environment.yml** that lives in the local directory."
   ]
  },
  {
   "cell_type": "code",
   "execution_count": null,
   "metadata": {},
   "outputs": [],
   "source": [
    "!c"
   ]
  }
 ],
 "metadata": {
  "kernelspec": {
   "display_name": "Python 3",
   "language": "python",
   "name": "python3"
  },
  "language_info": {
   "codemirror_mode": {
    "name": "ipython",
    "version": 3
   },
   "file_extension": ".py",
   "mimetype": "text/x-python",
   "name": "python",
   "nbconvert_exporter": "python",
   "pygments_lexer": "ipython3",
   "version": "3.6.5"
  }
 },
 "nbformat": 4,
 "nbformat_minor": 2
}
