{
 "cells": [
  {
   "cell_type": "markdown",
   "metadata": {
    "colab_type": "text",
    "id": "9xwkIPyqwMt0"
   },
   "source": [
    "# Upload files"
   ]
  },
  {
   "cell_type": "code",
   "execution_count": 1,
   "metadata": {
    "colab": {
     "base_uri": "https://localhost:8080/",
     "height": 86,
     "resources": {
      "http://localhost:8080/nbextensions/google.colab/files.js": {
       "data": "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",
       "headers": [
        [
         "content-type",
         "application/javascript"
        ]
       ],
       "ok": true,
       "status": 200,
       "status_text": ""
      }
     }
    },
    "colab_type": "code",
    "executionInfo": {
     "elapsed": 23129,
     "status": "ok",
     "timestamp": 1539513070387,
     "user": {
      "displayName": "Ivanovitch Silva",
      "photoUrl": "",
      "userId": "06428777505436195303"
     },
     "user_tz": 180
    },
    "id": "ILce_K6dwiyE",
    "outputId": "a766e66f-de57-4309-dfcf-49581e76c434"
   },
   "outputs": [
    {
     "data": {
      "text/html": [
       "\n",
       "     <input type=\"file\" id=\"files-b039d8b8-d9db-44a9-a565-8c9d69da26fb\" name=\"files[]\" multiple disabled />\n",
       "     <output id=\"result-b039d8b8-d9db-44a9-a565-8c9d69da26fb\">\n",
       "      Upload widget is only available when the cell has been executed in the\n",
       "      current browser session. Please rerun this cell to enable.\n",
       "      </output>\n",
       "      <script src=\"/nbextensions/google.colab/files.js\"></script> "
      ],
      "text/plain": [
       "<IPython.core.display.HTML object>"
      ]
     },
     "metadata": {
      "tags": []
     },
     "output_type": "display_data"
    },
    {
     "name": "stdout",
     "output_type": "stream",
     "text": [
      "Saving auto.csv to auto.csv\n",
      "User uploaded file \"auto.csv\" with length 14080 bytes\n"
     ]
    }
   ],
   "source": [
    "#\n",
    "# If you use colab.\n",
    "#\n",
    "# Uploading files from your local file system\n",
    "\n",
    "from google.colab import files\n",
    "\n",
    "uploaded = files.upload()\n",
    "\n",
    "for fn in uploaded.keys():\n",
    "  print('User uploaded file \"{name}\" with length {length} bytes'.format(\n",
    "      name=fn, length=len(uploaded[fn])))"
   ]
  },
  {
   "cell_type": "markdown",
   "metadata": {
    "colab_type": "text",
    "id": "fDzsloXeJE3f"
   },
   "source": [
    "# Classification\n"
   ]
  },
  {
   "cell_type": "markdown",
   "metadata": {
    "colab_type": "text",
    "id": "fqkGKXzvJFv5"
   },
   "source": [
    "\n",
    "In the previous lessons, we explored a supervised machine learning technique called **linear regression**. Linear regression works well when the target column we're trying to predict, the dependent variable, is ordered and continuous. **If the target column instead contains discrete values, then linear regression isn't a good fit**.\n",
    "\n",
    "In this lesson, we'll explore how to build a predictive model for these types of problems, which are known as **classification problems**. In classification, our target column has a finite set of possible values which represent different categories a row can belong to. We use integers to represent the different categories so we can continue to use mathematical functions to describe how the independent variables map to the dependent variable. Here are a few examples of classification problems:\n",
    "\n",
    "| Problem                                                                   | Sample Features                                    | Type        | Categories           | Numerical Categories |\n",
    "|---------------------------------------------------------------------------|----------------------------------------------------|-------------|----------------------|----------------------|\n",
    "| Should we accept this student based on their graduate school application? | College GPA, SAT Score, Quality of Recommendations | Binary      | Don't Accept, Accept | 0, 1                 |\n",
    "| What is the most likely blood type of 2 parent's offspring?               | Parent 1's blood type, Parent 2's blood type.      | Multi-class | A, B, AB, O          | 1, 2, 3, 4           |\n",
    "\n",
    "\n",
    "We'll focus on **binary classification** for now, where the only 2 options for values are:\n",
    "\n",
    "- **0** for the False condition,\n",
    "- **1** for the True condition.\n",
    "\n",
    "Before we dive into classification, let's understand the data we'll be working with."
   ]
  },
  {
   "cell_type": "markdown",
   "metadata": {
    "colab_type": "text",
    "id": "2wMlyd4AITqv"
   },
   "source": [
    "## Introduction to the data\n"
   ]
  },
  {
   "cell_type": "markdown",
   "metadata": {
    "colab_type": "text",
    "id": "MW5u3eDhNRD1"
   },
   "source": [
    "\n",
    "\n",
    "Every year high school student and college students apply to various universities and programs. Each student has a unique set of test scores, grades, and backgrounds. Somehow, the admission commitees must decide which applicants to accept or reject from their program. In this case a binary classification algorithm can be used to accept or reject applicants. To grasp the concepts of classification, we'll try to predict whether an applicant will be admitted to a graduate program in a U.S. university.\n",
    "\n",
    "We'll be working with a dataset containing data on 644 applicants with the following columns:\n",
    "\n",
    "- **gre** - applicant's score on the Graduate Record Exam, a generalized test for prospective graduate students.\n",
    "    - Score ranges from 200 to 800.\n",
    "- **gpa** - college grade point average.\n",
    "    - Continuous between 0.0 and 4.0.\n",
    "- **admit** - binary value\n",
    "    - Binary value, 0 or 1, where 1 means the applicant was admitted to the program and 0 means the applicant was rejected.\n",
    "\n",
    "Here's a preview of the dataset:\n",
    "\n",
    "| admit | gpa      | gre        |\n",
    "|-------|----------|------------|\n",
    "| 0     | 3.177277 | 594.102992 |\n",
    "| 0     | 3.412655 | 631.528607 |\n",
    "| 0     | 2.728097 | 553.714399 |\n",
    "| 0     | 3.093559 | 551.089985 |\n",
    "| 0     | 3.141923 | 537.184894 |\n",
    "\n",
    "\n",
    "While we can use both the **gpa** and **gre** columns to predict the **admit** column, we'll focus on using just the **gpa** column to keep things simple. Let's read the data into Pandas and visualize the relationship between **gpa** and **admit**.\n",
    "\n",
    "\n",
    "**Exercise Start**\n",
    "\n",
    "<left><img width=\"100\" alt=\"creating a repo\" src=\"https://drive.google.com/uc?export=view&id=1E8tR7B9YYUXsU_rddJAyq0FrM0MSelxZ\"></left>\n",
    "\n",
    "\n",
    "- Read **admissions.csv** into a Dataframe named **admissions**.\n",
    "- Use the Matplotlib method [scatter](http://matplotlib.org/api/pyplot_api.html#matplotlib.pyplot.scatter) to generate a scatter plot with the:\n",
    "  - **gpa** column on the x-axis.\n",
    "  - **admit** column on the y-axis.\n",
    "- Use **plt.show()** to display the scatter plot."
   ]
  },
  {
   "cell_type": "code",
   "execution_count": 3,
   "metadata": {
    "colab": {},
    "colab_type": "code",
    "id": "UgrKdj-OPk5y"
   },
   "outputs": [
    {
     "data": {
      "image/png": "[encoded data removed]",
      "text/plain": [
       "<Figure size 432x288 with 1 Axes>"
      ]
     },
     "metadata": {},
     "output_type": "display_data"
    }
   ],
   "source": [
    "# put your code here\n",
    "import pandas as pd\n",
    "import matplotlib.pyplot as plt\n",
    "\n",
    "admissions = pd.read_csv(\"admissions.csv\")\n",
    "plt.scatter(admissions[\"gpa\"], admissions[\"admit\"])\n",
    "plt.plot()\n",
    "plt.show()"
   ]
  },
  {
   "cell_type": "markdown",
   "metadata": {
    "colab_type": "text",
    "id": "WyHKyDYIITq3"
   },
   "source": [
    "## Logistic regression\n"
   ]
  },
  {
   "cell_type": "markdown",
   "metadata": {
    "colab_type": "text",
    "id": "QTp1elcUP_qp"
   },
   "source": [
    "\n",
    "\n",
    "In the previous scatter plot, you'll notice that the **gpa** column and the **admit** column do not have a clear linear relationship. Recall that the **admit** column only contains the values 0 and 1 and are used to represent binary values and the numbers themselves don't carry any weight. When numbers are used to represent different options or categories, they are referred to as **categorical values**. Classification focuses on estimating the relationship between the independent variables (x) and the dependent (y), **categorical variable**.\n",
    "\n",
    "In this lesson, we'll focus on a classification technique called **logistic regression**. While a **linear regression** model outputs a real number as the label, a **logistic regression** model outputs a probability value. In binary classification, if the probability value is larger than a certain threshold probability, we assign the label for that row to 1 or 0 otherwise.\n",
    "\n",
    "This threshold probability is something we select, and we'll learn about how to select a good threshold probability in later classes. For now, let's dive more into how logistic regression works."
   ]
  },
  {
   "cell_type": "markdown",
   "metadata": {
    "colab_type": "text",
    "id": "2S3hN_IBITq4"
   },
   "source": [
    "## Logistic function\n"
   ]
  },
  {
   "cell_type": "markdown",
   "metadata": {
    "colab_type": "text",
    "id": "wLg8sv2yfLzh"
   },
   "source": [
    "\n",
    "\n",
    "In **linear regression**, we used the linear function $y = mx + b$ to represent the relationship between the independent variables and the dependent variable. In logistic regression, we use the **logistic function**, which is a version of the linear function that is adapted for classification.\n",
    "\n",
    "Let's explore some of the **logistic function's** properties to better understand why it's useful for **classification** tasks. Unlike in linear regression, where the output can be any real value, in **logistic regression** the output has to be a real value between 0 and 1, since the output represents a probability value. Note that the model can't output a negative value or it would violate this criteria.\n",
    "\n",
    "Here's the mathematical representation of the logistic function:\n",
    "\n",
    "$$\\sigma(t)=\\frac{1}{1+e^{-t}}$$\n",
    "\n",
    "In the following code cell, we plotted the **logistic function** to visualize its properties. Specifically, we:\n",
    "\n",
    "- define the **logistic()** function using the [NumPy exp](http://docs.scipy.org/doc/numpy-1.10.1/reference/generated/numpy.exp.html) function,\n",
    "- generate equally spaced values, between **-6** and **6** to represent the x-axis,\n",
    "- calculate the y-axis values by feeding each value in x to the **logistic()** function,\n",
    "- creating a line plot to visualize x and y.\n"
   ]
  },
  {
   "cell_type": "code",
   "execution_count": 4,
   "metadata": {
    "colab": {
     "base_uri": "https://localhost:8080/",
     "height": 361
    },
    "colab_type": "code",
    "executionInfo": {
     "elapsed": 810,
     "status": "ok",
     "timestamp": 1539460245041,
     "user": {
      "displayName": "Ivanovitch Silva",
      "photoUrl": "",
      "userId": "06428777505436195303"
     },
     "user_tz": 180
    },
    "id": "k2dqahgyITq5",
    "outputId": "710d0ab0-c8f7-4e16-c945-f1197ed145b7"
   },
   "outputs": [
    {
     "data": {
      "image/png": "[encoded data removed]",
      "text/plain": [
       "<Figure size 432x288 with 1 Axes>"
      ]
     },
     "metadata": {},
     "output_type": "display_data"
    }
   ],
   "source": [
    "import numpy as np\n",
    "import matplotlib.pyplot as plt\n",
    "%matplotlib inline\n",
    "\n",
    "# Logistic Function\n",
    "def logistic(x):\n",
    "    # np.exp(x) raises x to the exponential power, ie e^x. e ~= 2.71828\n",
    "    return 1 / (1 + np.exp(-x)) \n",
    "    \n",
    "# Generate 50 real values, evenly spaced, between -6 and 6.\n",
    "x = np.linspace(-6,6,50, dtype=float)\n",
    "\n",
    "# Transform each number in t using the logistic function.\n",
    "y = logistic(x)\n",
    "\n",
    "# Plot the resulting data.\n",
    "plt.plot(x, y)\n",
    "plt.ylabel(\"Probability\")\n",
    "plt.xlabel(\"x\")\n",
    "plt.show()"
   ]
  },
  {
   "cell_type": "markdown",
   "metadata": {
    "colab_type": "text",
    "id": "GK2U83O6ITq8"
   },
   "source": [
    "## Training a logistic regression model\n"
   ]
  },
  {
   "cell_type": "markdown",
   "metadata": {
    "colab_type": "text",
    "id": "9J3J8YMt-91T"
   },
   "source": [
    "\n",
    "\n",
    "Let's now move onto training the logistic regression model using our dataset. We won't dive into the math and the steps required to fit a logistic regression model to the training data in this pratice. We'll instead focus on using the **scikit-learn** library to fit a model between the **gpa** and **admit** columns. Recall that the **gpa** column contains the GPA of each applicant as a real value between **0.0** and **4.0** and the **admit** column specifies if that applicant was admitted (0 if not admitted and 1 if admitted). Since we're only working with one feature, **gpa**, this is referred to as a univariate model.\n",
    "\n",
    "Training a **logistic regression** model in **scikit-learn** is similar to training a **linear regression** model, with the key difference that we use the **LogisticRegression class** instead of the **LinearRegression class**. Scikit-learn was designed to make it easy to swap out models by keeping the syntax and notation as consistent as possible across it's different classes.\n",
    "\n",
    "\n",
    "**Exercise Start**\n",
    "\n",
    "<left><img width=\"100\" alt=\"creating a repo\" src=\"https://drive.google.com/uc?export=view&id=1E8tR7B9YYUXsU_rddJAyq0FrM0MSelxZ\"></left>\n",
    "\n",
    "\n",
    "\n",
    "- Import the **LogisticRegression class** and instantiate a model named **logistic_model**.\n",
    "- Use the LogisticRegression method **fit** to fit the model to the data. We're only interested in constructing a model that uses **gpa** values to predict **admit** values.\n",
    "- View the [documentation](http://scikit-learn.org/stable/modules/generated/sklearn.linear_model.LogisticRegression.html) for the **LogisticRegression class** if you get stuck."
   ]
  },
  {
   "cell_type": "code",
   "execution_count": 5,
   "metadata": {
    "colab": {},
    "colab_type": "code",
    "id": "JCQgfgfSAKdi"
   },
   "outputs": [
    {
     "name": "stderr",
     "output_type": "stream",
     "text": [
      "C:\\Users\\Pedro\\Anaconda3\\lib\\site-packages\\sklearn\\linear_model\\logistic.py:433: FutureWarning: Default solver will be changed to 'lbfgs' in 0.22. Specify a solver to silence this warning.\n",
      "  FutureWarning)\n"
     ]
    },
    {
     "data": {
      "text/plain": [
       "LogisticRegression(C=1.0, class_weight=None, dual=False, fit_intercept=True,\n",
       "          intercept_scaling=1, max_iter=100, multi_class='warn',\n",
       "          n_jobs=None, penalty='l2', random_state=None, solver='warn',\n",
       "          tol=0.0001, verbose=0, warm_start=False)"
      ]
     },
     "execution_count": 5,
     "metadata": {},
     "output_type": "execute_result"
    }
   ],
   "source": [
    "# put your code here\n",
    "from sklearn.linear_model import LogisticRegression\n",
    "\n",
    "logistic_model = LogisticRegression()\n",
    "logistic_model.fit(admissions[[\"gpa\"]], admissions[\"admit\"])"
   ]
  },
  {
   "cell_type": "markdown",
   "metadata": {
    "colab_type": "text",
    "id": "wE1B6LGUITrB"
   },
   "source": [
    "## Plotting probabilities\n"
   ]
  },
  {
   "cell_type": "markdown",
   "metadata": {
    "colab_type": "text",
    "id": "Z-znddS5AeLk"
   },
   "source": [
    "\n",
    "\n",
    "We mentioned earlier that the output of a logistic regression model is the probability that the row should be labelled as **True**, or in our case **1**. We can use the trained model to return the predicted probability for each row in the training data.\n",
    "\n",
    "To return the predicted probability, use the [predict_proba method](http://scikit-learn.org/stable/modules/generated/sklearn.linear_model.LogisticRegression.html#sklearn.linear_model.LogisticRegression.predict_proba). The only required parameter for this method is the **num_features** by **num_sample** matrix of observations we want scikit-learn to return predicted probabilities for. For each input row, scikit-learn will return a NumPy array with 2 probability values:\n",
    "\n",
    "- the probability that the row should be labelled 0,\n",
    "- the probability that the row should be labelled 1.\n",
    "\n",
    "Since 0 and 1 are the only 2 possible categories and represent the entire outcome space, these 2 probabilities will always add upto 1.\n",
    "\n",
    "```python\n",
    "probabilities = logistic_model.predict_proba(admissions[[\"gpa\"]])\n",
    "# Probability that the row belongs to label `0`.\n",
    "probabilities[:,0]\n",
    "# Probabililty that the row belongs to label `1`.\n",
    "probabilities[:,1]\n",
    "```\n",
    "\n",
    "Let's use this method to return the probability for each student that they would be admitted and then visualize the results on a scatter plot.\n",
    "\n",
    "\n",
    "**Exercise Start**\n",
    "\n",
    "<left><img width=\"100\" alt=\"creating a repo\" src=\"https://drive.google.com/uc?export=view&id=1E8tR7B9YYUXsU_rddJAyq0FrM0MSelxZ\"></left>\n",
    "\n",
    "\n",
    "- Use the **LogisticRegression** method **predict_proba** to return the predicted probabilities for the data in the **gpa** column. Assign the returned probabilities to **pred_probs**.\n",
    "\n",
    "- Create and display a scatter plot using the [Matplotlib scatter](http://matplotlib.org/api/pyplot_api.html#matplotlib.pyplot.scatter) function where:\n",
    "  - the x-axis is the values in the **gpa** column,\n",
    "  - the y-axis is the **probability** of being classified as label 1.\n",
    "\n"
   ]
  },
  {
   "cell_type": "code",
   "execution_count": 6,
   "metadata": {
    "colab": {},
    "colab_type": "code",
    "id": "B-R8imA3Cc2x"
   },
   "outputs": [
    {
     "data": {
      "image/png": "[encoded data removed]",
      "text/plain": [
       "<Figure size 432x288 with 1 Axes>"
      ]
     },
     "metadata": {},
     "output_type": "display_data"
    }
   ],
   "source": [
    "# put your code here\n",
    "pred_probs = logistic_model.predict_proba(admissions[[\"gpa\"]])\n",
    "plt.scatter(x=admissions[\"gpa\"], y=pred_probs[:,1])\n",
    "plt.show()"
   ]
  },
  {
   "cell_type": "markdown",
   "metadata": {
    "colab_type": "text",
    "id": "-ddVEF6eITrF"
   },
   "source": [
    "## Predict labels\n"
   ]
  },
  {
   "cell_type": "markdown",
   "metadata": {
    "colab_type": "text",
    "id": "GSqKRALwC1TD"
   },
   "source": [
    "\n",
    "You'll notice that the **scatter plot** suggests a **linear relationship** between the **gpa** values and the **probability** of being admitted. This is because logistic regression is really just an adapted version of linear regression for classification problems. Both logistic and linear regression are used to capture linear relationships between the independent variables and the dependent variable.\n",
    "\n",
    "Let's now use the **predict** method to return the label predictions for each row in our training dataset.\n",
    "\n",
    "**Exercise Start**\n",
    "\n",
    "<left><img width=\"100\" alt=\"creating a repo\" src=\"https://drive.google.com/uc?export=view&id=1E8tR7B9YYUXsU_rddJAyq0FrM0MSelxZ\"></left>\n",
    "\n",
    "- Use the **LogisticRegression** method [predict](http://scikit-learn.org/stable/modules/generated/sklearn.linear_model.LogisticRegression.html#sklearn.linear_model.LogisticRegression.predict) to return the predicted for each label in the training set.\n",
    "  - The parameter for the **predict** method matches that of the **predict_proba** method:\n",
    "    - X: rows of data to use for prediction.\n",
    "  - Assign the result to **fitted_labels.**\n",
    "-  Create and display a scatter plot using the [Matplotlib scatter](http://matplotlib.org/api/pyplot_api.html#matplotlib.pyplot.scatter) function where:\n",
    "  - the x-axis is the values in the **gpa** column,\n",
    "  - the y-axis is the **fitted_labels** variable.\n"
   ]
  },
  {
   "cell_type": "code",
   "execution_count": 7,
   "metadata": {
    "colab": {},
    "colab_type": "code",
    "id": "Zjcg2QInDqbV"
   },
   "outputs": [
    {
     "data": {
      "text/plain": [
       "<matplotlib.collections.PathCollection at 0x26150a9d198>"
      ]
     },
     "execution_count": 7,
     "metadata": {},
     "output_type": "execute_result"
    },
    {
     "data": {
      "image/png": "[encoded data removed]",
      "text/plain": [
       "<Figure size 432x288 with 1 Axes>"
      ]
     },
     "metadata": {},
     "output_type": "display_data"
    }
   ],
   "source": [
    "# put your code here\n",
    "fitted_labels = logistic_model.predict(admissions[[\"gpa\"]])\n",
    "plt.scatter(x=admissions[\"gpa\"], y=fitted_labels)"
   ]
  },
  {
   "cell_type": "markdown",
   "metadata": {
    "colab_type": "text",
    "id": "mNAMPvaKITrK"
   },
   "source": [
    "# Introduction to evaluating binary classifiers\n",
    "\n"
   ]
  },
  {
   "cell_type": "markdown",
   "metadata": {
    "colab_type": "text",
    "id": "HB8Gm2fvLdmY"
   },
   "source": [
    "\n",
    "In the previous section, we learned about **classification**, logistic regression, and how to use **scikit-learn** to fit a **logistic regression** model to a dataset on graduate school admissions. We'll continue to work with the dataset.\n",
    "\n",
    "\n",
    "**Exercise Start**\n",
    "\n",
    "<left><img width=\"100\" alt=\"creating a repo\" src=\"https://drive.google.com/uc?export=view&id=1E8tR7B9YYUXsU_rddJAyq0FrM0MSelxZ\"></left>\n",
    "\n",
    "\n",
    "\n",
    "- Use the **LogisticRegression** method **predict** to return the label for each observation in the dataset, **admissions**. Assign the returned list to **labels**.\n",
    "- Add a new column to the **admissions** Dataframe named **predicted_label** that contains the values from **labels**.\n",
    "- Use the **Series** method **value_counts** and the print function to display the distribution of the values in the **predicted_label** column.\n",
    "- Use the **Dataframe** method **head** and the print function to display the first 5 rows in **admissions**."
   ]
  },
  {
   "cell_type": "code",
   "execution_count": 8,
   "metadata": {
    "colab": {},
    "colab_type": "code",
    "id": "1Rj7vvFfGfmQ"
   },
   "outputs": [
    {
     "data": {
      "text/html": [
       "<div>\n",
       "<style scoped>\n",
       "    .dataframe tbody tr th:only-of-type {\n",
       "        vertical-align: middle;\n",
       "    }\n",
       "\n",
       "    .dataframe tbody tr th {\n",
       "        vertical-align: top;\n",
       "    }\n",
       "\n",
       "    .dataframe thead th {\n",
       "        text-align: right;\n",
       "    }\n",
       "</style>\n",
       "<table border=\"1\" class=\"dataframe\">\n",
       "  <thead>\n",
       "    <tr style=\"text-align: right;\">\n",
       "      <th></th>\n",
       "      <th>admit</th>\n",
       "      <th>gpa</th>\n",
       "      <th>gre</th>\n",
       "      <th>predicted_label</th>\n",
       "    </tr>\n",
       "  </thead>\n",
       "  <tbody>\n",
       "    <tr>\n",
       "      <th>0</th>\n",
       "      <td>0</td>\n",
       "      <td>3.177277</td>\n",
       "      <td>594.102992</td>\n",
       "      <td>0</td>\n",
       "    </tr>\n",
       "    <tr>\n",
       "      <th>1</th>\n",
       "      <td>0</td>\n",
       "      <td>3.412655</td>\n",
       "      <td>631.528607</td>\n",
       "      <td>0</td>\n",
       "    </tr>\n",
       "    <tr>\n",
       "      <th>2</th>\n",
       "      <td>0</td>\n",
       "      <td>2.728097</td>\n",
       "      <td>553.714399</td>\n",
       "      <td>0</td>\n",
       "    </tr>\n",
       "    <tr>\n",
       "      <th>3</th>\n",
       "      <td>0</td>\n",
       "      <td>3.093559</td>\n",
       "      <td>551.089985</td>\n",
       "      <td>0</td>\n",
       "    </tr>\n",
       "    <tr>\n",
       "      <th>4</th>\n",
       "      <td>0</td>\n",
       "      <td>3.141923</td>\n",
       "      <td>537.184894</td>\n",
       "      <td>0</td>\n",
       "    </tr>\n",
       "  </tbody>\n",
       "</table>\n",
       "</div>"
      ],
      "text/plain": [
       "   admit       gpa         gre  predicted_label\n",
       "0      0  3.177277  594.102992                0\n",
       "1      0  3.412655  631.528607                0\n",
       "2      0  2.728097  553.714399                0\n",
       "3      0  3.093559  551.089985                0\n",
       "4      0  3.141923  537.184894                0"
      ]
     },
     "execution_count": 8,
     "metadata": {},
     "output_type": "execute_result"
    }
   ],
   "source": [
    "# put your ocde here\n",
    "labels = logistic_model.predict(admissions[[\"gpa\"]])\n",
    "admissions[\"predicted_label\"] = labels\n",
    "admissions[\"predicted_label\"].value_counts()\n",
    "admissions.head(5)"
   ]
  },
  {
   "cell_type": "markdown",
   "metadata": {
    "colab_type": "text",
    "id": "F0lz2_SPGxTJ"
   },
   "source": [
    "## Accuracy\n"
   ]
  },
  {
   "cell_type": "markdown",
   "metadata": {
    "colab_type": "text",
    "id": "ohnI2nxELxDy"
   },
   "source": [
    "\n",
    "The **admissions** Dataframe now contains the predicted value for that row, in the **predicted_label** column, and the actual value for that row, in the **admit** column. This format makes it easier for us to calculate how effective the model was on the training data. The simplest way to determine the effectiveness of a classification model is **prediction accuracy**. Accuracy helps us answer the question:\n",
    "\n",
    "- **What fraction of the predictions were correct (actual label matched predicted label)**?\n",
    "\n",
    "\n",
    "Prediction accuracy boils down to the number of labels that were correctly predicted divided by the total number of observations:\n",
    "\n",
    "$$Accuracy=\\frac{\\text{#correct predictions}}{\\text{#observations}}$$\n",
    "\n",
    "\n",
    "In **logistic regression**, recall that the model's output is a probability between 0 and 1. To decide who gets admitted, we set a threshold and accept all of the students where their computed probability exceeds that threshold. This threshold is called the **discrimination threshold** and **scikit-learn** sets it to 0.5 by default when predicting labels. If the predicted probability is greater than 0.5, the label for that observation is 1. If it is instead less than 0.5, the label for that observation is 0.\n",
    "\n",
    "An accuracy of 1.0 means that the model predicted 100% of admissions correctly for the given discrimination threshold. An accuracy of 0.2 means that the model predicted 20% of the admissions correctly. Let's calculate the accuracy for the predictions the **logistic regression** model made.\n",
    "\n",
    "\n",
    "**Exercise Start**\n",
    "\n",
    "<left><img width=\"100\" alt=\"creating a repo\" src=\"https://drive.google.com/uc?export=view&id=1E8tR7B9YYUXsU_rddJAyq0FrM0MSelxZ\"></left>\n",
    "\n",
    "\n",
    "- Rename the **admit** column from the **admissions** Dataframe to **actual_label** so it's more clear which column contains the predicted labels (**predicted_label**) and which column contains the actual labels (**actual_label**).\n",
    "- Compare the **predicted_label** column with the **actual_label** column.\n",
    "  - Use a double equals sign (**==**) to compare the two Series objects and assign the resulting **Series** object to **matches**.\n",
    "- Use conditional filtering to filter **admissions** to just the rows where matches is **True**. Assign the resulting Dataframe to **correct_predictions**.\n",
    "- Display the first 5 rows in **correct_predictions** to make sure the values in the **predicted_label** and **actual_label** columns are equal.\n",
    "- Calculate the **accuracy** and assign the resulting float value to **accuracy**.\n",
    "- Display accuracy using the print function."
   ]
  },
  {
   "cell_type": "code",
   "execution_count": 9,
   "metadata": {
    "colab": {},
    "colab_type": "code",
    "id": "TICnUgw9PFly"
   },
   "outputs": [
    {
     "name": "stdout",
     "output_type": "stream",
     "text": [
      "0.6459627329192547\n"
     ]
    }
   ],
   "source": [
    "# put your code here\n",
    "admissions = admissions.rename(index=str, columns={\"admit\":\"actual_label\"})\n",
    "matches = admissions[\"actual_label\"] == admissions[\"predicted_label\"]\n",
    "correct_predictions = admissions[matches]\n",
    "correct_predictions.head(5)\n",
    "accuracy = len(correct_predictions)/len(admissions)\n",
    "print(accuracy)"
   ]
  },
  {
   "cell_type": "markdown",
   "metadata": {
    "colab_type": "text",
    "id": "LYHJh_TjGxTO"
   },
   "source": [
    "## Binary classification outcomes\n"
   ]
  },
  {
   "cell_type": "markdown",
   "metadata": {
    "colab_type": "text",
    "id": "qwFAJG_hSxHl"
   },
   "source": [
    "\n",
    "\n",
    "It looks like the raw accuracy is around **64.6%** which is better than randomly guessing the label (which would result in around a **50% accuracy**). Calculating the accuracy of a model on the dataset used for training is a useful **initial step just to make sure the model at least beats randomly** assigning a label for each observation. However, **prediction accuracy doesn't tell us much more**.\n",
    "\n",
    "The accuracy doesn't tell us how the model performs on data it wasn't trained on. A model that returns a 100% accuracy when evaluated on it's training set doesn't tell us how well the model works on data it's never seen before (and wasn't trained on). Accuracy also doesn't help us discriminate between the different types of outcomes a binary classification model can make. In a later section we'll learn how to evaluate a model's effectiveness on new, unseen data. In this section, we'll focus on the principles of evaluating binary classification models by testing our model's effectiveness on the training data.\n",
    "\n",
    "To start, let's discuss the four different outcomes of a binary classification model:\n",
    "\n",
    "| Prediction   | Observation       |         |\n",
    "|--------------|---------------------|---------------------|\n",
    "|       | |      Admitted (1)       |         Rejected (0) |\n",
    "| Admitted (1) | True Positive (TP)  | False Positive (FP) |\n",
    "| Rejected (0) | False Negative (FN) | True Negative (TN)  |\n",
    "\n",
    "By segmenting a model's predictions into these different outcome categories, we can start to think about other measures of effectiveness that give us more granularity than simple accuracy.\n",
    "\n",
    "We can define these outcomes as:\n",
    "\n",
    "- **True Positive** - The model correctly predicted that the student would be admitted.\n",
    "\n",
    "    - Said another way, the model predicted that the **label** would be **Positive**, and that **ended up** being **True**.\n",
    "    - In our case, Positive refers to being admitted and maps to the label 1 in the dataset.\n",
    "    - For this dataset, a **true positive** is whenever **predicted_label** is 1 and **actual_label** is 1.\n",
    "- **True Negative** - The model correctly predicted that the student would be rejected.\n",
    "\n",
    "    - Said another way, the model predicted that the **label** would be **Negative**, and that **ended** up being **True**.\n",
    "    - In our case, Negative refers to being rejected and maps to the label 0 in the dataset.\n",
    "    - For this dataset, a **true negative** is whenever **predicted_label** is 0 and **actual_label** is 0.\n",
    "- **False Positive** - The model incorrectly predicted that the student would be admitted even though the student was actually rejected.\n",
    "\n",
    "    - Said another way, the model predicted that the label would be Positive, but that was False (the actual label was False).\n",
    "    - For this dataset, a false positive is whenever **predicted_label** is 1 but the **actual_label** is 0.\n",
    "- **False Negative** - The model incorrectly predicted that the student would be rejected even though the student was actually admitted.\n",
    "\n",
    "    - Said another way, the model predicted that the would be Negative, but that was False (the actual value was True).\n",
    "    - For this dataset, a false negative is whenever **predicted_label** is 0 but the **actual_label** is 1.\n",
    "    \n",
    "Let's calculate the number of observations that fall into some of these outcome categories.\n",
    "\n",
    "\n",
    "**Exercise Start**\n",
    "\n",
    "<left><img width=\"100\" alt=\"creating a repo\" src=\"https://drive.google.com/uc?export=view&id=1E8tR7B9YYUXsU_rddJAyq0FrM0MSelxZ\"></left>\n",
    "\n",
    "\n",
    "- Extract all of the rows where **predicted_label** and **actual_label** both equal 1. Then, calculate the number of **true positives** and assign to **true_positives**.\n",
    "- Extract all of the rows where **predicted_label** and **actual_label** both equal 0. Then, calculate the number of **true negatives** and assign to **true_negatives**.\n",
    "- Display both **true_positives** and **true_negatives**."
   ]
  },
  {
   "cell_type": "code",
   "execution_count": 10,
   "metadata": {
    "colab": {},
    "colab_type": "code",
    "id": "cvlAWXaAdYjY"
   },
   "outputs": [
    {
     "name": "stdout",
     "output_type": "stream",
     "text": [
      "     actual_label       gpa         gre  predicted_label\n",
      "409             1  3.968276  621.354786                1\n",
      "412             1  3.880944  628.912737                1\n",
      "417             1  3.757647  678.265356                1\n",
      "434             1  3.742518  593.281550                1\n",
      "446             1  3.747203  620.451065                1\n",
      "461             1  3.804744  681.492196                1\n",
      "480             1  3.936366  560.642932                1\n",
      "495             1  3.763281  701.220609                1\n",
      "501             1  3.780530  577.110313                1\n",
      "502             1  3.807618  617.107327                1\n",
      "507             1  3.695104  652.875375                1\n",
      "516             1  4.000000  544.159398                1\n",
      "529             1  3.824678  732.246233                1\n",
      "547             1  4.000000  574.482912                1\n",
      "553             1  4.000000  677.899597                1\n",
      "557             1  3.725919  641.372775                1\n",
      "558             1  3.691227  570.622972                1\n",
      "574             1  3.673019  649.650931                1\n",
      "581             1  3.999329  553.349300                1\n",
      "588             1  3.817265  620.428042                1\n",
      "589             1  3.709951  580.006364                1\n",
      "590             1  3.743524  616.073209                1\n",
      "592             1  3.674243  637.922531                1\n",
      "593             1  3.828586  679.943759                1\n",
      "608             1  3.774355  717.463598                1\n",
      "614             1  3.865961  758.201732                1\n",
      "617             1  3.922458  593.824578                1\n",
      "621             1  3.738325  632.076120                1\n",
      "628             1  3.764032  611.945766                1\n",
      "634             1  3.785356  633.641188                1\n",
      "636             1  3.868572  658.912044                1\n",
      "     actual_label       gpa         gre  predicted_label\n",
      "0               0  3.177277  594.102992                0\n",
      "1               0  3.412655  631.528607                0\n",
      "2               0  2.728097  553.714399                0\n",
      "3               0  3.093559  551.089985                0\n",
      "4               0  3.141923  537.184894                0\n",
      "5               0  3.599108  442.763567                0\n",
      "6               0  3.238972  667.472189                0\n",
      "7               0  3.420177  561.713905                0\n",
      "8               0  3.562482  590.340371                0\n",
      "9               0  3.910495  463.470183                1\n",
      "10              0  3.264341  636.453166                0\n",
      "11              0  3.308623  604.405558                0\n",
      "12              0  3.018922  567.714830                0\n",
      "13              0  3.151834  503.307298                0\n",
      "14              0  3.298133  628.178205                0\n",
      "15              0  2.652201  644.300261                0\n",
      "16              0  3.115603  533.479810                0\n",
      "17              0  3.105242  562.939715                0\n",
      "18              0  3.212380  545.878970                0\n",
      "19              0  3.010654  537.029102                0\n",
      "20              0  3.520870  534.127500                0\n",
      "21              0  2.907485  532.514699                0\n",
      "22              0  3.014995  472.636769                0\n",
      "23              0  3.400368  693.314506                0\n",
      "24              0  2.848408  390.363563                0\n",
      "25              0  3.443319  629.367403                0\n",
      "26              0  3.242584  648.493892                0\n",
      "27              0  3.122304  714.245338                0\n",
      "28              0  2.621257  622.092646                0\n",
      "29              0  2.782772  585.699533                0\n",
      "..            ...       ...         ...              ...\n",
      "607             1  3.252482  662.340801                0\n",
      "609             1  3.647134  736.683178                0\n",
      "610             1  3.310672  670.372319                0\n",
      "611             1  3.571314  597.688183                0\n",
      "612             1  3.511204  618.929875                0\n",
      "613             1  3.455577  767.477376                0\n",
      "615             1  3.302553  650.450324                0\n",
      "616             1  3.045052  711.235436                0\n",
      "618             1  3.037396  665.090554                0\n",
      "619             1  3.307640  735.271839                0\n",
      "620             1  3.412468  724.141783                0\n",
      "622             1  3.313218  665.475028                0\n",
      "623             1  3.492179  590.032019                0\n",
      "624             1  3.410395  551.311711                0\n",
      "625             1  3.532418  677.019051                0\n",
      "626             1  3.486941  667.265346                0\n",
      "627             1  2.929348  749.633740                0\n",
      "629             1  2.944457  624.275140                0\n",
      "630             1  3.583556  657.689211                0\n",
      "631             1  3.567503  570.997409                0\n",
      "632             1  2.948845  683.353304                0\n",
      "633             1  3.088400  644.033320                0\n",
      "635             1  2.947545  712.822653                0\n",
      "637             1  3.440105  702.458099                0\n",
      "638             1  3.257304  689.773376                0\n",
      "639             1  3.381359  720.718438                0\n",
      "640             1  3.083956  556.918021                0\n",
      "641             1  3.114419  734.297679                0\n",
      "642             1  3.549012  604.697503                0\n",
      "643             1  3.532753  588.986175                0\n",
      "\n",
      "[613 rows x 4 columns]\n"
     ]
    }
   ],
   "source": [
    "# put your code here\n",
    "true_positives = admissions[(admissions[\"predicted_label\"] == admissions[\"actual_label\"]) & admissions[\"actual_label\"] == 1]\n",
    "true_negatives = admissions[(admissions[\"predicted_label\"] == admissions[\"actual_label\"]) & admissions[\"actual_label\"] == 0]\n",
    "\n",
    "print(true_positives)\n",
    "print(true_negatives)"
   ]
  },
  {
   "cell_type": "markdown",
   "metadata": {
    "colab_type": "text",
    "id": "ErZVqMlFGxTS"
   },
   "source": [
    "## Sensitivity\n"
   ]
  },
  {
   "cell_type": "markdown",
   "metadata": {
    "colab_type": "text",
    "id": "EgG9TGibdspE"
   },
   "source": [
    "\n",
    "\n",
    "Let's now look at a few measures that are much more insightful than simple accuracy. Let's start with **sensitivity**:\n",
    "\n",
    "- **Sensitivity** or **True Positive Rate** - The proportion of applicants that were correctly admitted:\n",
    "\n",
    "$$TPR=\\frac{\\text{#true positives}}{\\text{#true positives + #false negatives}}$$\n",
    "\n",
    "\n",
    "From all the students that should have been admitted (True Positives + False Negatives), what fraction did the model correctly admit (True Positives)? More generally, this measure helps us answer the question:\n",
    "\n",
    "- **How effective is this model at identifying positive outcomes?**\n",
    "\n",
    "In our case, the positive outcome (label of 1) is admitting a student. If the True Positive Rate is low, it means that the model isn't effective at catching positive cases. **For certain problems, high sensitivity is incredibly important.** If we're building a model to predict which patients have cancer, every patient that is missed by the model could mean a loss of life. We want a **highly sensitive** model that is able to \"catch\" all of the positive cases (in this case, the positive case is a patient with cancer).\n",
    "\n",
    "Let's calculate the sensitivity for the model we're working with.\n",
    "\n",
    "**Exercise Start**\n",
    "\n",
    "<left><img width=\"100\" alt=\"creating a repo\" src=\"https://drive.google.com/uc?export=view&id=1E8tR7B9YYUXsU_rddJAyq0FrM0MSelxZ\"></left>\n",
    "\n",
    "\n",
    "- Calculate the number of **false negatives** (where the model predicted rejected but the student was actually admitted) and assign to **false_negatives**.\n",
    "- Calculate the **sensitivity** and assign the computed value to **sensitivity**.\n",
    "- Display **sensitivity**."
   ]
  },
  {
   "cell_type": "code",
   "execution_count": 11,
   "metadata": {
    "colab": {},
    "colab_type": "code",
    "id": "s0ilAnoefsDk"
   },
   "outputs": [
    {
     "data": {
      "text/plain": [
       "0.12704918032786885"
      ]
     },
     "execution_count": 11,
     "metadata": {},
     "output_type": "execute_result"
    }
   ],
   "source": [
    "# put your code here\n",
    "false_negatives = len(admissions[ (admissions[\"predicted_label\"] == 0) & (admissions[\"actual_label\"] == 1)  ])\n",
    "sensivity = len(true_positives)/(len(true_positives) +false_negatives)\n",
    "sensivity"
   ]
  },
  {
   "cell_type": "markdown",
   "metadata": {
    "colab_type": "text",
    "id": "4fEj13JQGxTX"
   },
   "source": [
    "## Specificity\n",
    "\n",
    "Looks like the sensitivity of the model is around **12.7%** and only about 1 in 8 students that should have been admitted were actually admitted. In the context of predicting student admissions, this probably isn't too bad of a thing. Graduate schools can only admit a select number of students into their programs and by definition they end up rejecting many qualified students that would have succeeded.\n",
    "\n",
    "In the healthcare context, however, low sensitivity could mean a severe loss of life. If a classification model is only catching **12.7%** of positive cases for an illness, then around 7 of 8 people are going undiagnosed (being classified as false negatives). Hopefully you're beginning to acquire a sense for the tradeoffs predictive models make and the importance of understanding the various measures.\n",
    "\n",
    "Let's now learn about **specificity**:\n",
    "\n",
    "- **Specificity** or **True Negative Rate** - The proportion of applicants that were correctly rejected:\n",
    "\n",
    "$$TNR=\\frac{\\text{#true negatives}}{\\text{#true negatives + #false positives}}$$\n",
    "\n",
    "This helps us answer the question:\n",
    "\n",
    "How effective is this model at identifying negative outcomes?\n",
    "In our case, the specificity tells us the proportion of applicants who should be rejected (**actual_label** equal to 0, which consists of False Positives + True Negatives) that were correctly rejected (just True Negatives). **A high specificity means that the model is really good at predicting which applicants should be rejected**.\n",
    "\n",
    "Let's calculate the specificity of our model.\n",
    "\n",
    "**Exercise Start**\n",
    "\n",
    "<left><img width=\"100\" alt=\"creating a repo\" src=\"https://drive.google.com/uc?export=view&id=1E8tR7B9YYUXsU_rddJAyq0FrM0MSelxZ\"></left>\n",
    "\n",
    "\n",
    "- Calculate the number of **false positives** (where the model predicted admitted but the student was actually rejected) and assign to **false_positives**.\n",
    "- Calculate the **specificity** and assign the computed value to **specificity.**\n",
    "- Display **specificity**."
   ]
  },
  {
   "cell_type": "code",
   "execution_count": 12,
   "metadata": {
    "colab": {},
    "colab_type": "code",
    "id": "UA2PLDLAs-DJ"
   },
   "outputs": [
    {
     "data": {
      "text/plain": [
       "0.9761146496815286"
      ]
     },
     "execution_count": 12,
     "metadata": {},
     "output_type": "execute_result"
    }
   ],
   "source": [
    "# put your code here\n",
    "false_positives = len(admissions[ (admissions[\"predicted_label\"] == 1) & (admissions[\"actual_label\"] == 0)  ])\n",
    "specificity = len(true_negatives)/(len(true_negatives) +false_positives)\n",
    "specificity"
   ]
  },
  {
   "cell_type": "markdown",
   "metadata": {
    "colab_type": "text",
    "id": "3sjEe825GxTa"
   },
   "source": [
    "## Next steps\n"
   ]
  },
  {
   "cell_type": "markdown",
   "metadata": {
    "colab_type": "text",
    "id": "toODOr8AtI64"
   },
   "source": [
    "\n",
    "\n",
    "It looks like the specificity of the model is **96.25%**. This means that **the model is really good at knowing which applicants to reject**. Since around only 7% of applicants were accepted that applied, it's important that the model reject people correctly who wouldn't have otherwise been accepted.\n",
    "\n",
    "In this mission, we learned about some of the different ways of evaluating how well a binary classification model performs. The different measures we learned about have very similar names and it's easy to confuse them. Don't fret! The important takeaway is the ability to frame the question you want to answer and working backwards from that to formulate the correct calculation.\n",
    "\n",
    "If you want to know how well a binary classification model is at catching positive cases, you should have the intuition to divide the correctly predicted positive cases by all actually positive cases. There are 2 outcomes associated with an admitted student (positive case), a false negative and a true positive. Therefore, by dividing the number of true positives by the sum of false negatives and true positives, you'll have the proportion corresponding to the model's effectiveness of identifying positive cases. While this proportion is referred to as the sensitivity, the word itself is secondary to the concept and being able to work backwards to the formula!\n",
    "\n",
    "These measures are just a starting point, however, and aren't super useful by themselves. In the next section, we'll dive into **cross-validation**, where we'll evaluate our model's accuracy on new data that it wasn't trained on. In addition, we'll explore how varying the discrimination threshold affects the measures we learned about in this lesson. These important techniques help us gain a much more complete understanding of a classification model's performance."
   ]
  },
  {
   "cell_type": "markdown",
   "metadata": {
    "colab_type": "text",
    "id": "NRv5iWbNuPsh"
   },
   "source": [
    "# Multiclass classification\n",
    "\n"
   ]
  },
  {
   "cell_type": "markdown",
   "metadata": {
    "colab_type": "text",
    "id": "-HyiZmNLFbfe"
   },
   "source": [
    "## Introduction to the data\n"
   ]
  },
  {
   "cell_type": "markdown",
   "metadata": {
    "colab_type": "text",
    "id": "xpoQ3eg4Fp4D"
   },
   "source": [
    "The dataset we will be working with contains information on various cars. For each car we have information about the technical aspects of the vehicle such as the motor's displacement, the weight of the car, the miles per gallon, and how fast the car accelerates. Using this information we will predict the origin of the vehicle, either North America, Europe, or Asia. We can see, that unlike our previous classification datasets, we have three categories to choose from, making our task slightly more challenging.\n",
    "\n",
    "Here's a preview of the data:\n",
    "\n",
    "```python\n",
    "18.0   8   307.0      130.0      3504.      12.0   70  1    \"chevrolet chevelle malibu\"\n",
    "15.0   8   350.0      165.0      3693.      11.5   70  1    \"buick skylark 320\"\n",
    "18.0   8   318.0      150.0      3436.      11.0   70  1    \"plymouth satellite\"\n",
    "```\n",
    "\n",
    "The dataset is hosted by the **University of California Irvine** on their machine learning [repository](https://archive.ics.uci.edu/ml/datasets/Auto+MPG). As a side note, the UCI Machine Learning repository contains many small datasets which are useful when getting your hands dirty with machine learning.\n",
    "\n",
    "You'll notice that the **Data Folder** contains a few different files. We'll be working with **auto-mpg.data**, which omits the 8 rows containing missing values for fuel efficiency (mpg column). We've converted this data into a CSV file named **auto.csv** for you.\n",
    "\n",
    "Here are the columns in the dataset:\n",
    "\n",
    "- **mpg** -- Miles per gallon, Continuous.\n",
    "- **cylinders** -- Number of cylinders in the motor, Integer, Ordinal, and Categorical.\n",
    "- **displacement** -- Size of the motor, Continuous.\n",
    "- **horsepower** -- Horsepower produced, Continuous.\n",
    "- **weight** -- Weights of the car, Continuous.\n",
    "- **acceleration** -- Acceleration, Continuous.\n",
    "- **year** -- Year the car was built, Integer and Categorical.\n",
    "- **origin** -- Integer and Categorical. 1: North America, 2: Europe, 3: Asia.\n",
    "- **car_name** -- Name of the car.\n",
    "\n",
    "**Exercise Start**\n",
    "\n",
    "<left><img width=\"100\" alt=\"creating a repo\" src=\"https://drive.google.com/uc?export=view&id=1E8tR7B9YYUXsU_rddJAyq0FrM0MSelxZ\"></left>\n",
    "\n",
    "- Import the Pandas library and read **auto.csv** into a Dataframe named **cars**.\n",
    "- Use the **Series.unique()** method to assign the unique elements in the column **origin** to **unique_regions**. Then use the **print** function to display **unique_regions.**"
   ]
  },
  {
   "cell_type": "code",
   "execution_count": 13,
   "metadata": {
    "colab": {},
    "colab_type": "code",
    "id": "cKKTMfzHHqr2"
   },
   "outputs": [
    {
     "name": "stdout",
     "output_type": "stream",
     "text": [
      "[1 3 2]\n"
     ]
    }
   ],
   "source": [
    "# put your code here\n",
    "import pandas as pd\n",
    "cars = pd.read_csv(\"auto.csv\")\n",
    "unique_regions = cars[\"origin\"].unique()\n",
    "print(unique_regions)"
   ]
  },
  {
   "cell_type": "markdown",
   "metadata": {
    "colab_type": "text",
    "id": "RIvksHd9Io_3"
   },
   "source": [
    "## Dummy Variables"
   ]
  },
  {
   "cell_type": "markdown",
   "metadata": {
    "colab_type": "text",
    "id": "5ZayyljpI0r_"
   },
   "source": [
    "In previous classification sections, **categorical variables** have been represented in the dataset using **integer values** (like 0 and 1) for us already. In many cases, like with this dataset, you'll have to create numeric representation of categorical values yourself. For this dataset, **categorical variables exist** in three columns, **cylinders**, **year**, and **origin**. The **cylinders** and **year** columns must be converted to numeric values so we can use them to predict label **origin**. Even though the column **year** is a number, we’re going to treat them like categories. The year 71 is unlikely to relate to the year 70 in the same way those two numbers do numerically, but rather just as two different labels. In these instances, it is always safer to treat discrete values as categorical variables.\n",
    "\n",
    "We must use **dummy variables** for columns containing categorical values. Whenever we have more than 2 categories, we need to create more columns to represent the categories. Since we have 5 different categories of cylinders, we could use 3, 4, 5, 6, and 8 to represent the different categories. We can split the column into separate binary columns:\n",
    "\n",
    "\n",
    "- **cyl_3** -- Does the car have 3 cylinders? 0 if **False**, 1 if **True.**\n",
    "- **cyl_4** -- Does the car have 4 cylinders? 0 if **False**, 1 if **True.**\n",
    "- **cyl_5** -- Does the car have 5 cylinders? 0 if **False**, 1 if **True.**\n",
    "- **cyl_6** -- Does the car have 6 cylinders? 0 if **False**, 1 if **True.**\n",
    "- **cyl_8** -- Does the car have 8 cylinders? 0 if **False**, 1 if **True.**\n",
    "\n",
    "\n",
    "We can use the [pandas.get_dummies()](http://pandas.pydata.org/pandas-docs/stable/generated/pandas.get_dummies.html) function to return a Dataframe containing binary columns from the values in the **cylinders** column. In addition, if we set the prefix parameter to **cyl**, Pandas will prepend the column names to match the style we'd like:\n",
    "\n",
    "```python\n",
    "18.0   8   307.0      130.0      3504.      12.0   70  1    \"chevrolet chevelle malibu\"\n",
    "15.0   8   350.0      165.0      3693.      11.5   70  1    \"buick skylark 320\"\n",
    "18.0   8   318.0      150.0      3436.      11.0   70  1    \"plymouth satellite\"\n",
    "dummy_df = pd.get_dummies(cars[\"cylinders\"], prefix=\"cyl\")\n",
    "```\n",
    "\n",
    "We then use the [pandas.concat()](http://pandas.pydata.org/pandas-docs/stable/generated/pandas.concat.html) function to add the columns from this Dataframe back to cars:\n",
    "\n",
    "```python\n",
    "cars = pd.concat([cars, dummy_df], axis=1)\n",
    "```\n",
    "\n",
    "Now it's your turn! Repeat the same process for the **year** column.\n",
    "\n",
    "**Exercise Start**\n",
    "\n",
    "<left><img width=\"100\" alt=\"creating a repo\" src=\"https://drive.google.com/uc?export=view&id=1E8tR7B9YYUXsU_rddJAyq0FrM0MSelxZ\"></left>\n",
    "\n",
    "- Use the **pandas.get_dummies()** function to create dummy values from the **year** column.\n",
    "  - Use the **prefix** attribute to prepend **year** to each of the resulting column names.\n",
    "  - Assign the resulting Dataframe to **dummy_years**.\n",
    "- Use the **pandas.concat()** function to concatenate the columns from **dummy_years** to **cars**.\n",
    "- Use the **DataFrame.drop()** method to drop the **year** and **cylinders** columns from **cars.**\n",
    "- Display the first 5 rows of the new cars Dataframe to confirm."
   ]
  },
  {
   "cell_type": "code",
   "execution_count": 14,
   "metadata": {
    "colab": {
     "base_uri": "https://localhost:8080/",
     "height": 224
    },
    "colab_type": "code",
    "executionInfo": {
     "elapsed": 825,
     "status": "ok",
     "timestamp": 1539517426949,
     "user": {
      "displayName": "Ivanovitch Silva",
      "photoUrl": "",
      "userId": "06428777505436195303"
     },
     "user_tz": 180
    },
    "id": "1gca6nHCLNOA",
    "outputId": "ec933732-5991-4ce3-c4e0-4729dd825bf3"
   },
   "outputs": [
    {
     "data": {
      "text/html": [
       "<div>\n",
       "<style scoped>\n",
       "    .dataframe tbody tr th:only-of-type {\n",
       "        vertical-align: middle;\n",
       "    }\n",
       "\n",
       "    .dataframe tbody tr th {\n",
       "        vertical-align: top;\n",
       "    }\n",
       "\n",
       "    .dataframe thead th {\n",
       "        text-align: right;\n",
       "    }\n",
       "</style>\n",
       "<table border=\"1\" class=\"dataframe\">\n",
       "  <thead>\n",
       "    <tr style=\"text-align: right;\">\n",
       "      <th></th>\n",
       "      <th>mpg</th>\n",
       "      <th>displacement</th>\n",
       "      <th>horsepower</th>\n",
       "      <th>weight</th>\n",
       "      <th>acceleration</th>\n",
       "      <th>origin</th>\n",
       "      <th>cyl_3</th>\n",
       "      <th>cyl_4</th>\n",
       "      <th>cyl_5</th>\n",
       "      <th>cyl_6</th>\n",
       "      <th>...</th>\n",
       "      <th>year_73</th>\n",
       "      <th>year_74</th>\n",
       "      <th>year_75</th>\n",
       "      <th>year_76</th>\n",
       "      <th>year_77</th>\n",
       "      <th>year_78</th>\n",
       "      <th>year_79</th>\n",
       "      <th>year_80</th>\n",
       "      <th>year_81</th>\n",
       "      <th>year_82</th>\n",
       "    </tr>\n",
       "  </thead>\n",
       "  <tbody>\n",
       "    <tr>\n",
       "      <th>0</th>\n",
       "      <td>18.0</td>\n",
       "      <td>307.0</td>\n",
       "      <td>130.0</td>\n",
       "      <td>3504.0</td>\n",
       "      <td>12.0</td>\n",
       "      <td>1</td>\n",
       "      <td>0</td>\n",
       "      <td>0</td>\n",
       "      <td>0</td>\n",
       "      <td>0</td>\n",
       "      <td>...</td>\n",
       "      <td>0</td>\n",
       "      <td>0</td>\n",
       "      <td>0</td>\n",
       "      <td>0</td>\n",
       "      <td>0</td>\n",
       "      <td>0</td>\n",
       "      <td>0</td>\n",
       "      <td>0</td>\n",
       "      <td>0</td>\n",
       "      <td>0</td>\n",
       "    </tr>\n",
       "    <tr>\n",
       "      <th>1</th>\n",
       "      <td>15.0</td>\n",
       "      <td>350.0</td>\n",
       "      <td>165.0</td>\n",
       "      <td>3693.0</td>\n",
       "      <td>11.5</td>\n",
       "      <td>1</td>\n",
       "      <td>0</td>\n",
       "      <td>0</td>\n",
       "      <td>0</td>\n",
       "      <td>0</td>\n",
       "      <td>...</td>\n",
       "      <td>0</td>\n",
       "      <td>0</td>\n",
       "      <td>0</td>\n",
       "      <td>0</td>\n",
       "      <td>0</td>\n",
       "      <td>0</td>\n",
       "      <td>0</td>\n",
       "      <td>0</td>\n",
       "      <td>0</td>\n",
       "      <td>0</td>\n",
       "    </tr>\n",
       "    <tr>\n",
       "      <th>2</th>\n",
       "      <td>18.0</td>\n",
       "      <td>318.0</td>\n",
       "      <td>150.0</td>\n",
       "      <td>3436.0</td>\n",
       "      <td>11.0</td>\n",
       "      <td>1</td>\n",
       "      <td>0</td>\n",
       "      <td>0</td>\n",
       "      <td>0</td>\n",
       "      <td>0</td>\n",
       "      <td>...</td>\n",
       "      <td>0</td>\n",
       "      <td>0</td>\n",
       "      <td>0</td>\n",
       "      <td>0</td>\n",
       "      <td>0</td>\n",
       "      <td>0</td>\n",
       "      <td>0</td>\n",
       "      <td>0</td>\n",
       "      <td>0</td>\n",
       "      <td>0</td>\n",
       "    </tr>\n",
       "    <tr>\n",
       "      <th>3</th>\n",
       "      <td>16.0</td>\n",
       "      <td>304.0</td>\n",
       "      <td>150.0</td>\n",
       "      <td>3433.0</td>\n",
       "      <td>12.0</td>\n",
       "      <td>1</td>\n",
       "      <td>0</td>\n",
       "      <td>0</td>\n",
       "      <td>0</td>\n",
       "      <td>0</td>\n",
       "      <td>...</td>\n",
       "      <td>0</td>\n",
       "      <td>0</td>\n",
       "      <td>0</td>\n",
       "      <td>0</td>\n",
       "      <td>0</td>\n",
       "      <td>0</td>\n",
       "      <td>0</td>\n",
       "      <td>0</td>\n",
       "      <td>0</td>\n",
       "      <td>0</td>\n",
       "    </tr>\n",
       "    <tr>\n",
       "      <th>4</th>\n",
       "      <td>17.0</td>\n",
       "      <td>302.0</td>\n",
       "      <td>140.0</td>\n",
       "      <td>3449.0</td>\n",
       "      <td>10.5</td>\n",
       "      <td>1</td>\n",
       "      <td>0</td>\n",
       "      <td>0</td>\n",
       "      <td>0</td>\n",
       "      <td>0</td>\n",
       "      <td>...</td>\n",
       "      <td>0</td>\n",
       "      <td>0</td>\n",
       "      <td>0</td>\n",
       "      <td>0</td>\n",
       "      <td>0</td>\n",
       "      <td>0</td>\n",
       "      <td>0</td>\n",
       "      <td>0</td>\n",
       "      <td>0</td>\n",
       "      <td>0</td>\n",
       "    </tr>\n",
       "  </tbody>\n",
       "</table>\n",
       "<p>5 rows × 24 columns</p>\n",
       "</div>"
      ],
      "text/plain": [
       "    mpg  displacement  horsepower  weight  acceleration  origin  cyl_3  cyl_4  \\\n",
       "0  18.0         307.0       130.0  3504.0          12.0       1      0      0   \n",
       "1  15.0         350.0       165.0  3693.0          11.5       1      0      0   \n",
       "2  18.0         318.0       150.0  3436.0          11.0       1      0      0   \n",
       "3  16.0         304.0       150.0  3433.0          12.0       1      0      0   \n",
       "4  17.0         302.0       140.0  3449.0          10.5       1      0      0   \n",
       "\n",
       "   cyl_5  cyl_6   ...     year_73  year_74  year_75  year_76  year_77  \\\n",
       "0      0      0   ...           0        0        0        0        0   \n",
       "1      0      0   ...           0        0        0        0        0   \n",
       "2      0      0   ...           0        0        0        0        0   \n",
       "3      0      0   ...           0        0        0        0        0   \n",
       "4      0      0   ...           0        0        0        0        0   \n",
       "\n",
       "   year_78  year_79  year_80  year_81  year_82  \n",
       "0        0        0        0        0        0  \n",
       "1        0        0        0        0        0  \n",
       "2        0        0        0        0        0  \n",
       "3        0        0        0        0        0  \n",
       "4        0        0        0        0        0  \n",
       "\n",
       "[5 rows x 24 columns]"
      ]
     },
     "execution_count": 14,
     "metadata": {},
     "output_type": "execute_result"
    }
   ],
   "source": [
    "dummy_cylinders = pd.get_dummies(cars[\"cylinders\"], prefix=\"cyl\")\n",
    "cars = pd.concat([cars, dummy_cylinders], axis=1)\n",
    "cars.head()\n",
    "\n",
    "# put your code here\n",
    "dummy_years = pd.get_dummies(cars[\"year\"], prefix=\"year\")\n",
    "cars = pd.concat([cars, dummy_years], axis=1)\n",
    "cars = cars.drop(columns=[\"year\", \"cylinders\"])\n",
    "cars.head(5)\n"
   ]
  },
  {
   "cell_type": "markdown",
   "metadata": {
    "colab_type": "text",
    "id": "XGU7dwEZYUIZ"
   },
   "source": [
    "## Multiclass classification"
   ]
  },
  {
   "cell_type": "markdown",
   "metadata": {
    "colab_type": "text",
    "id": "7W2JjPtbZFYn"
   },
   "source": [
    "In previous sections, we explored **binary classification**, where there were only two possible categories, or classes. When we have three or more categories, we call the problem a **multiclass classification problem**. There are a few different methods of doing multiclass classification and in this section, we'll focus on the **one-versus-all method**.\n",
    "\n",
    "The **one-versus-all** method is a technique where we choose a single category as the Positive case and group the rest of the categories as the False case. **We're essentially splitting the problem into multiple binary classification problems.** For each observation, the model will then output the probability of belonging to each category.\n",
    "\n",
    "To start let's split our data into a training and test set. We've randomized the **cars** Dataframe for you already to start things off and assigned the shuffled Dataframe to **shuffled_cars**.\n",
    "\n",
    "\n",
    "**Exercise Start**\n",
    "\n",
    "<left><img width=\"100\" alt=\"creating a repo\" src=\"https://drive.google.com/uc?export=view&id=1E8tR7B9YYUXsU_rddJAyq0FrM0MSelxZ\"></left>\n",
    "\n",
    "- Split the **shuffled_cars** Dataframe into two Dataframes: **train** and **test**.\n",
    "  - Assign the first 70% of the **shuffled_cars** to **train.**\n",
    "  - Assign the last 30% of the **shuffled_cars** to **test**."
   ]
  },
  {
   "cell_type": "code",
   "execution_count": 15,
   "metadata": {
    "colab": {},
    "colab_type": "code",
    "id": "2iBuxy8tZsej"
   },
   "outputs": [],
   "source": [
    "from sklearn.model_selection import train_test_split\n",
    "import numpy as np\n",
    "\n",
    "shuffled_rows = np.random.permutation(cars.index)\n",
    "shuffled_cars = cars.iloc[shuffled_rows]\n",
    "\n",
    "# put your code here\n",
    "train, test = train_test_split(shuffled_cars, test_size=0.3)\n"
   ]
  },
  {
   "cell_type": "markdown",
   "metadata": {
    "colab_type": "text",
    "id": "3mdQbGcRaoTI"
   },
   "source": [
    "## Training a multiclass logistic regression model"
   ]
  },
  {
   "cell_type": "markdown",
   "metadata": {
    "colab_type": "text",
    "id": "OIgx8OFea0Dk"
   },
   "source": [
    "In the **one-vs-all** approach, we're essentially **converting an n-class** (in our case n is 3) classification problem **into n binary classification problems**. For our case, we'll need to train 3 models:\n",
    "\n",
    "- A model where all cars built in **North America** are considered **Positive (1)** and those built in **Europe** and **Asia** are considered **Negative (0)**.\n",
    "- A model where all cars built in **Europe** are considered **Positive (1)** and those built in **North America** and **Asia** are considered **Negative (0)**.\n",
    "- A model where all cars built in **Asia** are labeled **Positive (1)** and those built in **North America** and **Europe** are considered **Negative (0)**.\n",
    "\n",
    "**Each of these models is a binary classification model** that will return a probability between 0 and 1. When we apply this model on new data, a probability value will be returned from each model (3 total). **For each observation, we choose the label corresponding to the model that predicted the highest probability.**\n",
    "\n",
    "We'll use the dummy variables we created from the **cylinders** and **year** columns to train 3 models using the LogisticRegression class from scikit-learn.\n",
    "\n",
    "**Exercise Start**\n",
    "\n",
    "<left><img width=\"100\" alt=\"creating a repo\" src=\"https://drive.google.com/uc?export=view&id=1E8tR7B9YYUXsU_rddJAyq0FrM0MSelxZ\"></left>\n",
    "\n",
    "- For each value in **unique_origins**, train a **logistic regression** model with the following parameters:\n",
    "  - X: Dataframe containing just the **cylinder** & **year** binary columns.\n",
    "  - y: list (or Series) of Boolean values:\n",
    "    - **True** if observation's value for **origin** matches the current iterator variable.\n",
    "    - **False** if observation's value for **origin** doesn't match the current iterator variable.\n",
    "- Add each model to the models dictionary with the following structure:\n",
    "  - **key**: origin value (1, 2, or 3),\n",
    "  - **value**: relevant **LogistcRegression model** instance."
   ]
  },
  {
   "cell_type": "code",
   "execution_count": 16,
   "metadata": {
    "colab": {},
    "colab_type": "code",
    "id": "fjMkBCjUbOdA"
   },
   "outputs": [
    {
     "name": "stderr",
     "output_type": "stream",
     "text": [
      "C:\\Users\\Pedro\\Anaconda3\\lib\\site-packages\\sklearn\\linear_model\\logistic.py:433: FutureWarning: Default solver will be changed to 'lbfgs' in 0.22. Specify a solver to silence this warning.\n",
      "  FutureWarning)\n",
      "C:\\Users\\Pedro\\Anaconda3\\lib\\site-packages\\sklearn\\linear_model\\logistic.py:433: FutureWarning: Default solver will be changed to 'lbfgs' in 0.22. Specify a solver to silence this warning.\n",
      "  FutureWarning)\n",
      "C:\\Users\\Pedro\\Anaconda3\\lib\\site-packages\\sklearn\\linear_model\\logistic.py:433: FutureWarning: Default solver will be changed to 'lbfgs' in 0.22. Specify a solver to silence this warning.\n",
      "  FutureWarning)\n"
     ]
    }
   ],
   "source": [
    "from sklearn.linear_model import LogisticRegression\n",
    "\n",
    "train_bin = train.drop(columns=[\"mpg\", \"displacement\", \"horsepower\", \"weight\", \"acceleration\", \"origin\"], axis=1)\n",
    "\n",
    "unique_origins = cars[\"origin\"].unique()\n",
    "unique_origins.sort()\n",
    "\n",
    "models = {}\n",
    "\n",
    "# put your code here\n",
    "j = 1\n",
    "for i in unique_origins:\n",
    "    lr = LogisticRegression()\n",
    "    lr.fit(X=train_bin, y=(train[\"origin\"] == i))\n",
    "    models[i] = lr\n",
    "    j = j+1"
   ]
  },
  {
   "cell_type": "markdown",
   "metadata": {
    "colab_type": "text",
    "id": "cBW4-kCId9-1"
   },
   "source": [
    "## Testing the models\n",
    "\n"
   ]
  },
  {
   "cell_type": "markdown",
   "metadata": {
    "colab_type": "text",
    "id": "IWKLoUCLfiAg"
   },
   "source": [
    "Now that we have a model for each category, we can run our test dataset through the models and evaluate how well they performed.\n",
    "\n",
    "**Exercise Start**\n",
    "\n",
    "<left><img width=\"100\" alt=\"creating a repo\" src=\"https://drive.google.com/uc?export=view&id=1E8tR7B9YYUXsU_rddJAyq0FrM0MSelxZ\"></left>\n",
    "\n",
    "- For each **origin** value from **unique_origins**:\n",
    "  - Use the **LogisticRegression predict_proba** function to return the three lists of predicted probabilities for the **test set** and add to the **testing_probs** Dataframe."
   ]
  },
  {
   "cell_type": "code",
   "execution_count": 21,
   "metadata": {
    "colab": {},
    "colab_type": "code",
    "id": "jqZuBhY_hHp2"
   },
   "outputs": [
    {
     "ename": "ValueError",
     "evalue": "Expected 2D array, got 1D array instead:\narray=[].\nReshape your data either using array.reshape(-1, 1) if your data has a single feature or array.reshape(1, -1) if it contains a single sample.",
     "output_type": "error",
     "traceback": [
      "\u001b[1;31m---------------------------------------------------------------------------\u001b[0m",
      "\u001b[1;31mValueError\u001b[0m                                Traceback (most recent call last)",
      "\u001b[1;32m<ipython-input-21-786b0cc0caa6>\u001b[0m in \u001b[0;36m<module>\u001b[1;34m()\u001b[0m\n\u001b[0;32m      6\u001b[0m \u001b[1;32mfor\u001b[0m \u001b[0morigin\u001b[0m \u001b[1;32min\u001b[0m \u001b[0munique_origins\u001b[0m\u001b[1;33m:\u001b[0m\u001b[1;33m\u001b[0m\u001b[0m\n\u001b[0;32m      7\u001b[0m     \u001b[1;31m#print(testing_probs[origin])\u001b[0m\u001b[1;33m\u001b[0m\u001b[1;33m\u001b[0m\u001b[0m\n\u001b[1;32m----> 8\u001b[1;33m     \u001b[0mx\u001b[0m \u001b[1;33m=\u001b[0m \u001b[0mmodels\u001b[0m\u001b[1;33m[\u001b[0m\u001b[0mi\u001b[0m\u001b[1;33m]\u001b[0m\u001b[1;33m.\u001b[0m\u001b[0mpredict_proba\u001b[0m\u001b[1;33m(\u001b[0m\u001b[0mtesting_probs\u001b[0m\u001b[1;33m[\u001b[0m\u001b[0morigin\u001b[0m\u001b[1;33m]\u001b[0m\u001b[1;33m)\u001b[0m\u001b[1;33m\u001b[0m\u001b[0m\n\u001b[0m\u001b[0;32m      9\u001b[0m     \u001b[0mi\u001b[0m \u001b[1;33m=\u001b[0m \u001b[0mi\u001b[0m\u001b[1;33m+\u001b[0m\u001b[1;36m1\u001b[0m\u001b[1;33m\u001b[0m\u001b[0m\n",
      "\u001b[1;32m~\\Anaconda3\\lib\\site-packages\\sklearn\\linear_model\\logistic.py\u001b[0m in \u001b[0;36mpredict_proba\u001b[1;34m(self, X)\u001b[0m\n\u001b[0;32m   1406\u001b[0m                                                 self.solver == 'liblinear')))\n\u001b[0;32m   1407\u001b[0m         \u001b[1;32mif\u001b[0m \u001b[0movr\u001b[0m\u001b[1;33m:\u001b[0m\u001b[1;33m\u001b[0m\u001b[0m\n\u001b[1;32m-> 1408\u001b[1;33m             \u001b[1;32mreturn\u001b[0m \u001b[0msuper\u001b[0m\u001b[1;33m(\u001b[0m\u001b[0mLogisticRegression\u001b[0m\u001b[1;33m,\u001b[0m \u001b[0mself\u001b[0m\u001b[1;33m)\u001b[0m\u001b[1;33m.\u001b[0m\u001b[0m_predict_proba_lr\u001b[0m\u001b[1;33m(\u001b[0m\u001b[0mX\u001b[0m\u001b[1;33m)\u001b[0m\u001b[1;33m\u001b[0m\u001b[0m\n\u001b[0m\u001b[0;32m   1409\u001b[0m         \u001b[1;32melse\u001b[0m\u001b[1;33m:\u001b[0m\u001b[1;33m\u001b[0m\u001b[0m\n\u001b[0;32m   1410\u001b[0m             \u001b[0mdecision\u001b[0m \u001b[1;33m=\u001b[0m \u001b[0mself\u001b[0m\u001b[1;33m.\u001b[0m\u001b[0mdecision_function\u001b[0m\u001b[1;33m(\u001b[0m\u001b[0mX\u001b[0m\u001b[1;33m)\u001b[0m\u001b[1;33m\u001b[0m\u001b[0m\n",
      "\u001b[1;32m~\\Anaconda3\\lib\\site-packages\\sklearn\\linear_model\\base.py\u001b[0m in \u001b[0;36m_predict_proba_lr\u001b[1;34m(self, X)\u001b[0m\n\u001b[0;32m    293\u001b[0m         \u001b[0mmulticlass\u001b[0m \u001b[1;32mis\u001b[0m \u001b[0mhandled\u001b[0m \u001b[0mby\u001b[0m \u001b[0mnormalizing\u001b[0m \u001b[0mthat\u001b[0m \u001b[0mover\u001b[0m \u001b[0mall\u001b[0m \u001b[0mclasses\u001b[0m\u001b[1;33m.\u001b[0m\u001b[1;33m\u001b[0m\u001b[0m\n\u001b[0;32m    294\u001b[0m         \"\"\"\n\u001b[1;32m--> 295\u001b[1;33m         \u001b[0mprob\u001b[0m \u001b[1;33m=\u001b[0m \u001b[0mself\u001b[0m\u001b[1;33m.\u001b[0m\u001b[0mdecision_function\u001b[0m\u001b[1;33m(\u001b[0m\u001b[0mX\u001b[0m\u001b[1;33m)\u001b[0m\u001b[1;33m\u001b[0m\u001b[0m\n\u001b[0m\u001b[0;32m    296\u001b[0m         \u001b[0mprob\u001b[0m \u001b[1;33m*=\u001b[0m \u001b[1;33m-\u001b[0m\u001b[1;36m1\u001b[0m\u001b[1;33m\u001b[0m\u001b[0m\n\u001b[0;32m    297\u001b[0m         \u001b[0mnp\u001b[0m\u001b[1;33m.\u001b[0m\u001b[0mexp\u001b[0m\u001b[1;33m(\u001b[0m\u001b[0mprob\u001b[0m\u001b[1;33m,\u001b[0m \u001b[0mprob\u001b[0m\u001b[1;33m)\u001b[0m\u001b[1;33m\u001b[0m\u001b[0m\n",
      "\u001b[1;32m~\\Anaconda3\\lib\\site-packages\\sklearn\\linear_model\\base.py\u001b[0m in \u001b[0;36mdecision_function\u001b[1;34m(self, X)\u001b[0m\n\u001b[0;32m    255\u001b[0m                                  \"yet\" % {'name': type(self).__name__})\n\u001b[0;32m    256\u001b[0m \u001b[1;33m\u001b[0m\u001b[0m\n\u001b[1;32m--> 257\u001b[1;33m         \u001b[0mX\u001b[0m \u001b[1;33m=\u001b[0m \u001b[0mcheck_array\u001b[0m\u001b[1;33m(\u001b[0m\u001b[0mX\u001b[0m\u001b[1;33m,\u001b[0m \u001b[0maccept_sparse\u001b[0m\u001b[1;33m=\u001b[0m\u001b[1;34m'csr'\u001b[0m\u001b[1;33m)\u001b[0m\u001b[1;33m\u001b[0m\u001b[0m\n\u001b[0m\u001b[0;32m    258\u001b[0m \u001b[1;33m\u001b[0m\u001b[0m\n\u001b[0;32m    259\u001b[0m         \u001b[0mn_features\u001b[0m \u001b[1;33m=\u001b[0m \u001b[0mself\u001b[0m\u001b[1;33m.\u001b[0m\u001b[0mcoef_\u001b[0m\u001b[1;33m.\u001b[0m\u001b[0mshape\u001b[0m\u001b[1;33m[\u001b[0m\u001b[1;36m1\u001b[0m\u001b[1;33m]\u001b[0m\u001b[1;33m\u001b[0m\u001b[0m\n",
      "\u001b[1;32m~\\Anaconda3\\lib\\site-packages\\sklearn\\utils\\validation.py\u001b[0m in \u001b[0;36mcheck_array\u001b[1;34m(array, accept_sparse, accept_large_sparse, dtype, order, copy, force_all_finite, ensure_2d, allow_nd, ensure_min_samples, ensure_min_features, warn_on_dtype, estimator)\u001b[0m\n\u001b[0;32m    550\u001b[0m                     \u001b[1;34m\"Reshape your data either using array.reshape(-1, 1) if \"\u001b[0m\u001b[1;33m\u001b[0m\u001b[0m\n\u001b[0;32m    551\u001b[0m                     \u001b[1;34m\"your data has a single feature or array.reshape(1, -1) \"\u001b[0m\u001b[1;33m\u001b[0m\u001b[0m\n\u001b[1;32m--> 552\u001b[1;33m                     \"if it contains a single sample.\".format(array))\n\u001b[0m\u001b[0;32m    553\u001b[0m \u001b[1;33m\u001b[0m\u001b[0m\n\u001b[0;32m    554\u001b[0m         \u001b[1;31m# in the future np.flexible dtypes will be handled like object dtypes\u001b[0m\u001b[1;33m\u001b[0m\u001b[1;33m\u001b[0m\u001b[0m\n",
      "\u001b[1;31mValueError\u001b[0m: Expected 2D array, got 1D array instead:\narray=[].\nReshape your data either using array.reshape(-1, 1) if your data has a single feature or array.reshape(1, -1) if it contains a single sample."
     ]
    }
   ],
   "source": [
    "testing_probs = pd.DataFrame(columns=unique_origins)\n",
    "\n",
    "# put your code here\n",
    "#mpg displacement horsepower weight acceleration origin\n",
    "i=1\n",
    "for origin in unique_origins:\n",
    "    #print(testing_probs[origin])\n",
    "    x = models[i].predict_proba(testing_probs[origin])\n",
    "    i = i+1\n"
   ]
  },
  {
   "cell_type": "markdown",
   "metadata": {
    "colab_type": "text",
    "id": "HpuI3rs-hoJ3"
   },
   "source": [
    "## Choose the origin"
   ]
  },
  {
   "cell_type": "markdown",
   "metadata": {
    "colab_type": "text",
    "id": "zFk_OZ_nh5lN"
   },
   "source": [
    "Now that we trained the models and computed the probabilities in each origin we can classify each observation. **To classify each observation we want to select the origin with the highest probability of classification for that observation.**\n",
    "\n",
    "While each column in our dataframe **testing_probs** represents an origin we just need to choose the one with the largest probability. We can use the Dataframe method [idxmax()](http://pandas.pydata.org/pandas-docs/stable/generated/pandas.DataFrame.idxmax.html) to return a Series where each value corresponds to the column or where the maximum value occurs for that observation. We need to make sure to set the axis paramater to 1 since we want to calculate the maximum value across columns. Since each column maps directly to an origin the resulting Series will be the classification from our model.\n",
    "\n",
    "**Exercise Start**\n",
    "\n",
    "<left><img width=\"100\" alt=\"creating a repo\" src=\"https://drive.google.com/uc?export=view&id=1E8tR7B9YYUXsU_rddJAyq0FrM0MSelxZ\"></left>\n",
    "\n",
    "\n",
    "- Classify each observation in the test set using the **testing_probs** Dataframe.\n",
    "- Assign the predicted origins to **predicted_origins** and use the **print** function to display it.\n"
   ]
  },
  {
   "cell_type": "code",
   "execution_count": null,
   "metadata": {
    "colab": {},
    "colab_type": "code",
    "id": "mwz2cPvci8Sp"
   },
   "outputs": [],
   "source": [
    "# put your code here"
   ]
  }
 ],
 "metadata": {
  "colab": {
   "name": "Logistic regression.ipynb",
   "provenance": [],
   "toc_visible": true,
   "version": "0.3.2"
  },
  "kernelspec": {
   "display_name": "Python 3",
   "language": "python",
   "name": "python3"
  },
  "language_info": {
   "codemirror_mode": {
    "name": "ipython",
    "version": 3
   },
   "file_extension": ".py",
   "mimetype": "text/x-python",
   "name": "python",
   "nbconvert_exporter": "python",
   "pygments_lexer": "ipython3",
   "version": "3.6.5"
  }
 },
 "nbformat": 4,
 "nbformat_minor": 2
}
