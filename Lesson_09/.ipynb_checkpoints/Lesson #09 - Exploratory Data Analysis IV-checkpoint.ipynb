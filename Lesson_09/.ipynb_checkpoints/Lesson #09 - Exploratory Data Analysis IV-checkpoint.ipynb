{
 "cells": [
  {
   "cell_type": "markdown",
   "metadata": {
    "colab_type": "text",
    "id": "-gVSsA2Wz8Zq",
    "toc-hr-collapsed": true
   },
   "source": [
    "# Advanced Pandas Working with Missing Data\n"
   ]
  },
  {
   "cell_type": "markdown",
   "metadata": {},
   "source": [
    "## Introduction"
   ]
  },
  {
   "cell_type": "markdown",
   "metadata": {
    "colab_type": "text",
    "id": "LUv-dd_E3XLA"
   },
   "source": [
    "In this section, we'll clean and analyze data on passenger survival from the [Titanic](https://en.wikipedia.org/wiki/RMS_Titanic). Each row contains information for a specific Titanic passenger.\n",
    "\n",
    "Here are the first few rows of the dataset:\n",
    "\n",
    "\n",
    "| PassengerId | Survived | Pclass | Name                                                | Sex    | Age  | SibSp | Parch | Ticket           | Fare    | Cabin | Embarked |\n",
    "|-------------|----------|--------|-----------------------------------------------------|--------|------|-------|-------|------------------|---------|-------|----------|\n",
    "| 1           | 0        | 3      | Braund, Mr. Owen Harris                             | male   | 22.0 | 1     | 0     | A/5 21171        | 7.2500  |    -   | S        |\n",
    "| 2           | 1        | 1      | Cumings, Mrs. John Bradley (Florence Briggs Thayer) | female | 38.0 | 1     | 0     | PC 17599         | 71.2833 | C85   | C        |\n",
    "| 3           | 1        | 3      | Heikkinen, Miss. Laina                              | female | 26.0 | 0     | 0     | STON/O2. 3101282 | 7.9250  |    -   | S        |\n",
    "\n",
    "\n",
    "Lets take a closer look at a few of the key columns:\n",
    "\n",
    "- **pclass** - The passenger's cabin class from 1 to 3 where 1 was the highest class\n",
    "- **survived** - 1 if the passenger survived, and 0 if they did not.\n",
    "- **sex** - The passenger's gender\n",
    "- **age** - The passenger's age\n",
    "- **fare** - The amount the passenger paid for their ticket\n",
    "- **embarked** - Either C, Q, or S, to indicate which port the passenger boarded the ship from.\n",
    "\n",
    "\n",
    "Many of the columns, such as **sex** and **age**, have missing values.\n",
    "\n",
    "Because missing values can cause errors in numerical functions, we'll need to deal with them before we can analyze the data. For instance, finding the mean of a column with a missing value will fail because it's impossible to average a missing value. Addressing missing values will let us perform calculations on the entire data set."
   ]
  },
  {
   "cell_type": "markdown",
   "metadata": {
    "colab_type": "text",
    "id": "LUv-dd_E3XLA"
   },
   "source": [
    "## Importing the data"
   ]
  },
  {
   "cell_type": "markdown",
   "metadata": {
    "colab_type": "text",
    "id": "LUv-dd_E3XLA"
   },
   "source": [
    "Let's import the data set into pandas. You may notice at the start of the code, we import pandas differently from how we have previously.\n",
    "\n",
    "```python\n",
    "import pandas as pd\n",
    "```\n",
    "\n",
    "This gives the pandas library the alias **pd**, so that instead of typing pandas every time we want to use a function, we can instead type **pd**, for example **pd.read_csv()**.\n",
    "\n",
    "**Exercise**\n",
    "\n",
    "<left><img width=\"100\" src=\"https://drive.google.com/uc?export=view&id=1E8tR7B9YYUXsU_rddJAyq0FrM0MSelxZ\"></left>\n",
    "\n",
    "1. Read the file **titanic_survival.csv** into a dataframe called **titanic_survival**."
   ]
  },
  {
   "cell_type": "code",
   "execution_count": null,
   "metadata": {
    "colab": {},
    "colab_type": "code",
    "id": "ODGluhsw0I1m"
   },
   "outputs": [],
   "source": [
    "# put your code here"
   ]
  },
  {
   "cell_type": "markdown",
   "metadata": {
    "colab_type": "text",
    "id": "i_oNC80Yz8Zs"
   },
   "source": [
    "## Finding the missing data\n"
   ]
  },
  {
   "cell_type": "markdown",
   "metadata": {
    "colab_type": "text",
    "id": "WaABdi1S48I5"
   },
   "source": [
    "\n",
    "Missing data can take a few different forms:\n",
    "\n",
    "- In Python, the **None** keyword and type indicates no value.\n",
    "- The Pandas library uses **NaN**, which stands for **\"not a number\"**, to indicate a missing value.\n",
    "- In general terms, both **NaN** and **None** can be called null values.\n",
    "\n",
    "If we want to see which values are **NaN**, we can use the [pd.isnull()](http://pandas.pydata.org/pandas-docs/stable/generated/pandas.isnull.html) function which takes a pandas series and returns a series of **True** and **False** values, the same way that NumPy did when we compared arrays.\n",
    "\n",
    "\n",
    "```python\n",
    "sex = titanic_survival[\"sex\"]\n",
    "sex_is_null = pd.isnull(sex)\n",
    "```\n",
    "\n",
    "We can use this resultant series to select only the rows that have null values.\n",
    "\n",
    "```python\n",
    "sex_null_true = sex[sex_is_null]\n",
    "```\n",
    "\n",
    "We'll use this structure to look at the null values for the **\"age\"** column.\n",
    "\n",
    "**Exercise**\n",
    "\n",
    "<left><img width=\"100\" src=\"https://drive.google.com/uc?export=view&id=1E8tR7B9YYUXsU_rddJAyq0FrM0MSelxZ\"></left>\n",
    "\n",
    "1. Count how many values in the **\"age\"** column have null values:\n",
    "    - Use **pandas.isnull()** on **age** variable to create a Series of **True** and **False** values. \n",
    "    - Use the resulting series to select only the elements in age that are null, and assign the result to **age_null_true**\n",
    "    - Assign the length of **age_null_true** to **age_null_count**.\n",
    "2. Print **age_null_count** to see how many null values are in the **\"age\"** column."
   ]
  },
  {
   "cell_type": "code",
   "execution_count": 4,
   "metadata": {
    "colab": {},
    "colab_type": "code",
    "id": "WqocZ5nG5m1s"
   },
   "outputs": [],
   "source": [
    "# put your code here"
   ]
  },
  {
   "cell_type": "markdown",
   "metadata": {
    "toc-hr-collapsed": true
   },
   "source": [
    "## missingno\n",
    "\n",
    "Messy datasets? Missing values? [missingno](https://github.com/ResidentMario/missingno) provides a small toolset of flexible and easy-to-use missing data visualizations and utilities that allows you to get a quick visual summary of the completeness (or lack thereof) of your dataset. "
   ]
  },
  {
   "cell_type": "code",
   "execution_count": 3,
   "metadata": {},
   "outputs": [
    {
     "name": "stdout",
     "output_type": "stream",
     "text": [
      "Solving environment: done\n",
      "\n",
      "## Package Plan ##\n",
      "\n",
      "  environment location: /anaconda3\n",
      "\n",
      "  added / updated specs: \n",
      "    - missingno\n",
      "\n",
      "\n",
      "The following packages will be downloaded:\n",
      "\n",
      "    package                    |            build\n",
      "    ---------------------------|-----------------\n",
      "    scikit-learn-0.19.2        |   py36h4f467ca_0         4.8 MB\n",
      "    conda-4.5.11               |        py36_1000         651 KB  conda-forge\n",
      "    missingno-0.4.1            |             py_0          10 KB  conda-forge\n",
      "    numpy-1.14.6               |   py36h648b28d_4          46 KB\n",
      "    openssl-1.0.2p             |       h470a237_1         2.9 MB  conda-forge\n",
      "    ca-certificates-2018.10.15 |       ha4d7672_0         135 KB  conda-forge\n",
      "    numpy-base-1.14.6          |   py36h8a80b8c_4         4.0 MB\n",
      "    scipy-1.1.0                |   py36hf1f7d93_0        15.4 MB\n",
      "    certifi-2018.10.15         |        py36_1000         138 KB  conda-forge\n",
      "    mkl-2019.0                 |              118       154.4 MB\n",
      "    ------------------------------------------------------------\n",
      "                                           Total:       182.5 MB\n",
      "\n",
      "The following NEW packages will be INSTALLED:\n",
      "\n",
      "    missingno:       0.4.1-py_0                            conda-forge\n",
      "\n",
      "The following packages will be UPDATED:\n",
      "\n",
      "    ca-certificates: 2018.03.07-0                                      --> 2018.10.15-ha4d7672_0 conda-forge\n",
      "    certifi:         2018.8.24-py36_1                                  --> 2018.10.15-py36_1000  conda-forge\n",
      "    conda:           4.5.11-py36_0                                     --> 4.5.11-py36_1000      conda-forge\n",
      "    mkl:             2018.0.2-1                                        --> 2019.0-118                       \n",
      "    openssl:         1.0.2p-h1de35cc_0                                 --> 1.0.2p-h470a237_1     conda-forge\n",
      "\n",
      "The following packages will be DOWNGRADED:\n",
      "\n",
      "    blas:            1.1-openblas                          conda-forge --> 1.0-mkl                          \n",
      "    numpy:           1.15.1-py36_blas_openblashd3ea46f_1   conda-forge [blas_openblas] --> 1.14.6-py36h648b28d_4            \n",
      "    numpy-base:      1.15.1-py36ha711998_0                             --> 1.14.6-py36h8a80b8c_4            \n",
      "    scikit-learn:    0.19.2-py36_blas_openblasha84fab4_201 conda-forge [blas_openblas] --> 0.19.2-py36h4f467ca_0            \n",
      "    scipy:           1.1.0-py36_blas_openblash7943236_201  conda-forge [blas_openblas] --> 1.1.0-py36hf1f7d93_0             \n",
      "\n",
      "\n",
      "Downloading and Extracting Packages\n",
      "scikit-learn-0.19.2  | 4.8 MB    | ##################################### | 100% \n",
      "conda-4.5.11         | 651 KB    | ##################################### | 100% \n",
      "missingno-0.4.1      | 10 KB     | ##################################### | 100% \n",
      "numpy-1.14.6         | 46 KB     | ##################################### | 100% \n",
      "openssl-1.0.2p       | 2.9 MB    | ##################################### | 100% \n",
      "ca-certificates-2018 | 135 KB    | ##################################### | 100% \n",
      "numpy-base-1.14.6    | 4.0 MB    | ##################################### | 100% \n",
      "scipy-1.1.0          | 15.4 MB   | ##################################### | 100% \n",
      "certifi-2018.10.15   | 138 KB    | ##################################### | 100% \n",
      "mkl-2019.0           | 154.4 MB  | ##################################### | 100% \n",
      "Preparing transaction: done\n",
      "Verifying transaction: done\n",
      "Executing transaction: done\n"
     ]
    }
   ],
   "source": [
    "!conda install -c conda-forge missingno -y"
   ]
  },
  {
   "cell_type": "markdown",
   "metadata": {},
   "source": [
    "### Matrix"
   ]
  },
  {
   "cell_type": "markdown",
   "metadata": {},
   "source": [
    "The **msno.matrix** nullity matrix is a data-dense display which lets you quickly visually pick out patterns in data completion."
   ]
  },
  {
   "cell_type": "code",
   "execution_count": 3,
   "metadata": {},
   "outputs": [
    {
     "data": {
      "text/plain": [
       "<matplotlib.axes._subplots.AxesSubplot at 0x1a23e987b8>"
      ]
     },
     "execution_count": 3,
     "metadata": {},
     "output_type": "execute_result"
    },
    {
     "data": {
      "image/png": "[encoded data removed]",
      "text/plain": [
       "<Figure size 1800x720 with 2 Axes>"
      ]
     },
     "metadata": {},
     "output_type": "display_data"
    }
   ],
   "source": [
    "import missingno as msno\n",
    "import matplotlib.pyplot as plt\n",
    "\n",
    "# the sparkline at right summarizes the general shape of the data completeness \n",
    "# and points out the maximum and minimum rows. Note that last row is all NaN\n",
    "msno.matrix(titanic_survival)"
   ]
  },
  {
   "cell_type": "markdown",
   "metadata": {},
   "source": [
    "### Heatmap"
   ]
  },
  {
   "cell_type": "markdown",
   "metadata": {},
   "source": [
    "The missingno correlation heatmap measures nullity correlation: how strongly the presence or absence of one variable affects the presence of another.\n",
    "\n",
    "Nullity correlation ranges from -1 (if one variable appears the other definitely does not) to 0 (variables appearing or not appearing have no effect on one another) to 1 (if one variable appears the other definitely also does).\n",
    "\n",
    "Variables that are always full or always empty have no meaningful correlation, and so are silently removed from the visualization."
   ]
  },
  {
   "cell_type": "code",
   "execution_count": 4,
   "metadata": {},
   "outputs": [
    {
     "data": {
      "text/plain": [
       "<matplotlib.axes._subplots.AxesSubplot at 0x1a24235278>"
      ]
     },
     "execution_count": 4,
     "metadata": {},
     "output_type": "execute_result"
    },
    {
     "data": {
      "image/png": "[encoded data removed]",
      "text/plain": [
       "<Figure size 1440x864 with 1 Axes>"
      ]
     },
     "metadata": {},
     "output_type": "display_data"
    }
   ],
   "source": [
    "msno.heatmap(titanic_survival)"
   ]
  },
  {
   "cell_type": "markdown",
   "metadata": {},
   "source": [
    "### Dendrogram"
   ]
  },
  {
   "cell_type": "markdown",
   "metadata": {},
   "source": [
    "The dendrogram allows you to more fully correlate variable completion, revealing trends deeper than the pairwise ones visible in the correlation heatmap:"
   ]
  },
  {
   "cell_type": "code",
   "execution_count": 5,
   "metadata": {},
   "outputs": [
    {
     "data": {
      "text/plain": [
       "pclass          1\n",
       "survived        1\n",
       "name            1\n",
       "sex             1\n",
       "age           264\n",
       "sibsp           1\n",
       "parch           1\n",
       "ticket          1\n",
       "fare            2\n",
       "cabin        1015\n",
       "embarked        3\n",
       "boat          824\n",
       "body         1189\n",
       "home.dest     565\n",
       "dtype: int64"
      ]
     },
     "execution_count": 5,
     "metadata": {},
     "output_type": "execute_result"
    }
   ],
   "source": [
    "titanic_survival.isnull().sum()"
   ]
  },
  {
   "cell_type": "code",
   "execution_count": 6,
   "metadata": {},
   "outputs": [
    {
     "data": {
      "text/plain": [
       "<matplotlib.axes._subplots.AxesSubplot at 0x1a2475bdd8>"
      ]
     },
     "execution_count": 6,
     "metadata": {},
     "output_type": "execute_result"
    },
    {
     "data": {
      "image/png": "[encoded data removed]",
      "text/plain": [
       "<Figure size 1800x720 with 1 Axes>"
      ]
     },
     "metadata": {},
     "output_type": "display_data"
    }
   ],
   "source": [
    "msno.dendrogram(titanic_survival)"
   ]
  },
  {
   "cell_type": "markdown",
   "metadata": {
    "colab_type": "text",
    "id": "3aSmRBD8z8Zt"
   },
   "source": [
    "## Whats The Big Deal With Missing Data?\n",
    "\n"
   ]
  },
  {
   "cell_type": "markdown",
   "metadata": {
    "colab_type": "text",
    "id": "ECVoudsQ7Onj"
   },
   "source": [
    "\n",
    "So, we know that quite a few values are missing from the **\"age\"** column, and other columns are missing data too. But why is this a problem?\n",
    "\n",
    "Lets look at a typical approach to calculate the average for the **\"age\"** column:\n",
    "\n",
    "```python\n",
    "mean_age = sum(titanic_survival[\"age\"]) / len(titanic_survival[\"age\"])\n",
    "```\n",
    "\n",
    "The result of this is that **mean_age** would be **nan**. This is because any calculations we do with a null value also result in a null value. This makes sense when you think about it -- how can you add a null value to a known value?\n",
    "\n",
    "Instead, we have to filter out the missing values before we calculate the mean.\n",
    "\n",
    "**Exercise**\n",
    "\n",
    "<left><img width=\"100\" src=\"https://drive.google.com/uc?export=view&id=1E8tR7B9YYUXsU_rddJAyq0FrM0MSelxZ\"></left>\n",
    "\n",
    "\n",
    "1. Use **age_is_null** to create a vector that only contains values from the **\"age\"** column that aren't **NaN**.\n",
    "```python\n",
    "age_is_null = pd.isnull(titanic_survival[\"age\"])\n",
    "```\n",
    "2. Calculate the mean of the new vector, and assign the result to **correct_mean_age**.\n"
   ]
  },
  {
   "cell_type": "code",
   "execution_count": null,
   "metadata": {
    "colab": {},
    "colab_type": "code",
    "id": "FasxsZHKAGnd"
   },
   "outputs": [],
   "source": [
    "# put your code here"
   ]
  },
  {
   "cell_type": "markdown",
   "metadata": {
    "colab_type": "text",
    "id": "RwJzTTBiz8Zu"
   },
   "source": [
    "## Easier Ways To Do Math\n"
   ]
  },
  {
   "cell_type": "markdown",
   "metadata": {
    "colab_type": "text",
    "id": "HwriBV0mAzNL"
   },
   "source": [
    "\n",
    "Luckily, missing data is so common that many pandas methods automatically filter for it. For example, if we use use the [Series.mean()](http://pandas.pydata.org/pandas-docs/stable/generated/pandas.Series.mean.html) method to calculate the mean of a column, missing values will not be included in the calculation.\n",
    "\n",
    "To calculate the mean age that we did earlier, we can replace all of our code with one line\n",
    "\n",
    "```python\n",
    "correct_mean_age = titanic_survival[\"age\"].mean()\n",
    "```\n",
    "\n",
    "Using the built in method is much easier, but it's import to understand what is happening behind the scenes.\n",
    "\n",
    "**Exercise**\n",
    "\n",
    "<left><img width=\"100\" src=\"https://drive.google.com/uc?export=view&id=1E8tR7B9YYUXsU_rddJAyq0FrM0MSelxZ\"></left>\n",
    "\n",
    "1. Assign the mean of the **\"fare\"** column to **correct_mean_fare**."
   ]
  },
  {
   "cell_type": "code",
   "execution_count": null,
   "metadata": {
    "colab": {},
    "colab_type": "code",
    "id": "ZhfqlbUoA6XH"
   },
   "outputs": [],
   "source": [
    "# put your code here"
   ]
  },
  {
   "cell_type": "markdown",
   "metadata": {
    "colab_type": "text",
    "id": "NJAuwmUyz8Zu"
   },
   "source": [
    "## Calculating Summary Statistics\n"
   ]
  },
  {
   "cell_type": "markdown",
   "metadata": {
    "colab_type": "text",
    "id": "juhqTxnHBr-i"
   },
   "source": [
    "\n",
    "\n",
    "Let's calculate more summary statistics for the data. The **pclass** column indicates the cabin class for each passenger, which was either first **class (1)**, **second class (2)**, or **third class (3)**. You'll use the list **passenger_classes**, which contains these values, in the following exercise.\n",
    "\n",
    "**Exercise**\n",
    "\n",
    "<left><img width=\"100\" src=\"https://drive.google.com/uc?export=view&id=1E8tR7B9YYUXsU_rddJAyq0FrM0MSelxZ\"></left>\n",
    "\n",
    "\n",
    "1. Use a for loop to iterate over **passenger_classes**. \n",
    "```python\n",
    "passenger_classes = [1, 2, 3]\n",
    "fares_by_class = {}\n",
    "```\n",
    "    - Within the for loop:\n",
    "        - Select just the rows in **titanic_survival** where the **pclass** value is equivalent to the current iterator value (class).\n",
    "        - Select just the **fare** column for the current subset of rows.\n",
    "        - Use the **Series.mean** method to calculate the mean of this subset.\n",
    "        - Add the mean of the class to the **fares_by_class** dictionary with class as the key.\n",
    "2. Once the loop completes, the dictionary **fares_by_class** should have **1, 2, and 3** as keys, with the average fares as the corresponding values.\n"
   ]
  },
  {
   "cell_type": "code",
   "execution_count": 13,
   "metadata": {
    "colab": {},
    "colab_type": "code",
    "id": "nwHWEy1aCCVy"
   },
   "outputs": [],
   "source": [
    "# put your code here"
   ]
  },
  {
   "cell_type": "markdown",
   "metadata": {
    "colab_type": "text",
    "id": "IYr1QHy3z8Zv"
   },
   "source": [
    "## Making Pivot Tables\n"
   ]
  },
  {
   "cell_type": "markdown",
   "metadata": {
    "colab_type": "text",
    "id": "UY1k1jYwEEdX"
   },
   "source": [
    "\n",
    "[Pivot tables](https://en.wikipedia.org/wiki/Pivot_table) provide an easy way to subset by one column and then apply a calculation like a sum or a mean. The concept of Pivot tables was popularized with the introduction of the 'PivotTable' feature in Microsoft Excel in the mid 1990's.\n",
    "\n",
    "Pivot tables first group and then apply a calculation. In the previous screen, we actually made a pivot table manually by grouping by the column **\"pclass\"** and then calculating the mean of the **\"fare\"** column for each class.\n",
    "\n",
    "Luckily, we can use the [Dataframe.pivot_table()](http://pandas.pydata.org/pandas-docs/stable/generated/pandas.pivot_table.html) method instead, which simplifies the kind of work we did on the last screen. To produce the same data, we could use one line.\n",
    "\n",
    "```python\n",
    "passenger_class_fares = titanic_survival.pivot_table(index=\"pclass\", values=\"fare\", aggfunc=np.mean)\n",
    "```\n",
    "\n",
    "\n",
    "\n",
    "The first parameter of the method, index tells the method which column to group by. The second parameter values is the column that we want to apply the calculation to, and aggfunc specifies the calculation we want to perform. The default for the **aggfunc** parameter is actually the mean, so if we're calculating this we can omit this parameter.\n",
    "\n",
    "**Exercise**\n",
    "\n",
    "<left><img width=\"100\" src=\"https://drive.google.com/uc?export=view&id=1E8tR7B9YYUXsU_rddJAyq0FrM0MSelxZ\"></left>\n",
    "\n",
    "\n",
    "**Description**:\n",
    "\n",
    "1. Use the **DataFrame.pivot_table()** method to calculate the **mean age** for each passenger class (**\"pclass\"**).\n",
    "2. Assign the result to **passenger_age**.\n",
    "3. Display the **passenger_age** pivot table using the **print()** function."
   ]
  },
  {
   "cell_type": "code",
   "execution_count": null,
   "metadata": {
    "colab": {},
    "colab_type": "code",
    "id": "Rnnk8M0bF68D"
   },
   "outputs": [],
   "source": [
    "# put your code here"
   ]
  },
  {
   "cell_type": "markdown",
   "metadata": {
    "colab_type": "text",
    "id": "8t-JNboDz8Zv"
   },
   "source": [
    "## More complex pivot tables\n"
   ]
  },
  {
   "cell_type": "markdown",
   "metadata": {
    "colab_type": "text",
    "id": "MRv3IanTFQjs"
   },
   "source": [
    "\n",
    "We can use the **DataFrame.pivot_table()** method to perform even more advanced tasks. If we pass a list of column names to the values parameter instead of a single value, we can perform calculations on multiple columns at once.\n",
    "\n",
    "We can also specify a custom calculation to be made. For instance, if we pass **np.sum** to the **aggfunc** parameter it will total the values in each column.\n",
    "\n",
    "**Exercise**\n",
    "\n",
    "<left><img width=\"100\" src=\"https://drive.google.com/uc?export=view&id=1E8tR7B9YYUXsU_rddJAyq0FrM0MSelxZ\"></left>\n",
    "\n",
    "\n",
    "\n",
    "**Description**:\n",
    "\n",
    "1. Make a pivot table that calculates the total fares collected (**\"fare\"**) and total number of survivors (**\"survived\"**) for each embarkation port (**\"embarked\"**).\n",
    "2. Assign the result to **port_stats**.\n",
    "3. Display **port_stats** using the **print()** function."
   ]
  },
  {
   "cell_type": "code",
   "execution_count": null,
   "metadata": {
    "colab": {},
    "colab_type": "code",
    "id": "SCNU7GagHTpb"
   },
   "outputs": [],
   "source": [
    "# put your code here"
   ]
  },
  {
   "cell_type": "markdown",
   "metadata": {
    "colab_type": "text",
    "id": "Yv2q7mfrz8Zx"
   },
   "source": [
    "## Droping missing values\n"
   ]
  },
  {
   "cell_type": "markdown",
   "metadata": {
    "colab_type": "text",
    "id": "3vOV2HLLIYs0"
   },
   "source": [
    "\n",
    "We learned how to remove the missing values in a vector of data, but how about in a matrix?\n",
    "\n",
    "We can use the [DataFrame.dropna()](http://pandas.pydata.org/pandas-docs/stable/generated/pandas.DataFrame.dropna.html) method on pandas **DataFrames** to do this. The method will drop any rows that contain missing values.\n",
    "\n",
    "The **dropna()** method takes an axis parameter, which indicates whether you would like to drop rows or columns. Specifying **axis=0** or **axis='index'** will drop any rows that have null values, while specifying **axis=1** or **axis='columns'** will drop any columns that have null values. We will use 0 and 1 since they're more commonly used, but you can use either.\n",
    "\n",
    "The code below will drop all rows in **titanic_survival** that have null values.\n",
    "\n",
    "```python\n",
    "drop_na_rows = titanic_survival.dropna(axis=0)\n",
    "```\n",
    "\n",
    "There is also a parameter that allows you to specify a list of columns or rows to look at when using **dropna()**. You will need to use this in the next exercise - take a look at the [documentation](http://pandas.pydata.org/pandas-docs/stable/generated/pandas.DataFrame.dropna.html) to work out the name of this parameter and how it works.\n",
    "\n",
    "**Exercise**\n",
    "\n",
    "<left><img width=\"100\" src=\"https://drive.google.com/uc?export=view&id=1E8tR7B9YYUXsU_rddJAyq0FrM0MSelxZ\"></left>\n",
    "\n",
    "\n",
    "**Description**:\n",
    "\n",
    "1. Drop all columns in **titanic_survival** that have missing values and assign the result to **drop_na_columns**.\n",
    "2. Drop all rows in **titanic_survival** where the columns **\"age\"** or **\"sex\"** have missing values and assign the result to **new_titanic_survival**.\n"
   ]
  },
  {
   "cell_type": "code",
   "execution_count": null,
   "metadata": {
    "colab": {},
    "colab_type": "code",
    "id": "9ralxmbKNoRe"
   },
   "outputs": [],
   "source": [
    "# put your code here"
   ]
  },
  {
   "cell_type": "markdown",
   "metadata": {
    "colab_type": "text",
    "id": "pe1lsdQrJ3eO"
   },
   "source": [
    "## Guided Challenge"
   ]
  },
  {
   "cell_type": "code",
   "execution_count": 43,
   "metadata": {
    "colab": {},
    "colab_type": "code",
    "id": "jOOBWYBmz8aH"
   },
   "outputs": [],
   "source": [
    "titanic_survival[\"agecat\"] = pd.cut(titanic_survival.age,\n",
    "                        bins=[0,5,10,18,30,50,65,100],\n",
    "                        labels=[\"Infant\",\"Child\",\"Teenager\",\n",
    "                                \"Young adult\",\"Adult\",\"Senior adult\",\"Senior\"])\n"
   ]
  },
  {
   "cell_type": "code",
   "execution_count": 48,
   "metadata": {},
   "outputs": [],
   "source": [
    "# clean the columns if necessary\n",
    "# titanic_survival.dropna(subset=[\"age\"],inplace=True)"
   ]
  },
  {
   "cell_type": "code",
   "execution_count": 49,
   "metadata": {
    "colab": {
     "base_uri": "https://localhost:8080/",
     "height": 498
    },
    "colab_type": "code",
    "executionInfo": {
     "elapsed": 690,
     "status": "ok",
     "timestamp": 1537282473759,
     "user": {
      "displayName": "Ivanovitch Silva",
      "photoUrl": "//lh4.googleusercontent.com/-baHwkIBEacY/AAAAAAAAAAI/AAAAAAAAFo0/aWRaXNQgy7Q/s50-c-k-no/photo.jpg",
      "userId": "116628038672433119071"
     },
     "user_tz": 180
    },
    "id": "7eDQwA_uz8aK",
    "outputId": "6889bfac-0534-4952-eccb-b790ec4b2bf8"
   },
   "outputs": [
    {
     "data": {
      "text/html": [
       "<div>\n",
       "<style scoped>\n",
       "    .dataframe tbody tr th:only-of-type {\n",
       "        vertical-align: middle;\n",
       "    }\n",
       "\n",
       "    .dataframe tbody tr th {\n",
       "        vertical-align: top;\n",
       "    }\n",
       "\n",
       "    .dataframe thead th {\n",
       "        text-align: right;\n",
       "    }\n",
       "</style>\n",
       "<table border=\"1\" class=\"dataframe\">\n",
       "  <thead>\n",
       "    <tr style=\"text-align: right;\">\n",
       "      <th></th>\n",
       "      <th></th>\n",
       "      <th>count</th>\n",
       "    </tr>\n",
       "    <tr>\n",
       "      <th>agecat</th>\n",
       "      <th>survived</th>\n",
       "      <th></th>\n",
       "    </tr>\n",
       "  </thead>\n",
       "  <tbody>\n",
       "    <tr>\n",
       "      <th rowspan=\"2\" valign=\"top\">Young adult</th>\n",
       "      <th>0.0</th>\n",
       "      <td>19</td>\n",
       "    </tr>\n",
       "    <tr>\n",
       "      <th>1.0</th>\n",
       "      <td>37</td>\n",
       "    </tr>\n",
       "    <tr>\n",
       "      <th rowspan=\"2\" valign=\"top\">Infant</th>\n",
       "      <th>0.0</th>\n",
       "      <td>17</td>\n",
       "    </tr>\n",
       "    <tr>\n",
       "      <th>1.0</th>\n",
       "      <td>13</td>\n",
       "    </tr>\n",
       "    <tr>\n",
       "      <th rowspan=\"2\" valign=\"top\">Adult</th>\n",
       "      <th>0.0</th>\n",
       "      <td>62</td>\n",
       "    </tr>\n",
       "    <tr>\n",
       "      <th>1.0</th>\n",
       "      <td>45</td>\n",
       "    </tr>\n",
       "    <tr>\n",
       "      <th rowspan=\"2\" valign=\"top\">Senior adult</th>\n",
       "      <th>0.0</th>\n",
       "      <td>263</td>\n",
       "    </tr>\n",
       "    <tr>\n",
       "      <th>1.0</th>\n",
       "      <td>153</td>\n",
       "    </tr>\n",
       "    <tr>\n",
       "      <th rowspan=\"2\" valign=\"top\">Senior</th>\n",
       "      <th>0.0</th>\n",
       "      <td>201</td>\n",
       "    </tr>\n",
       "    <tr>\n",
       "      <th>1.0</th>\n",
       "      <td>141</td>\n",
       "    </tr>\n",
       "    <tr>\n",
       "      <th rowspan=\"2\" valign=\"top\">Teenager</th>\n",
       "      <th>0.0</th>\n",
       "      <td>49</td>\n",
       "    </tr>\n",
       "    <tr>\n",
       "      <th>1.0</th>\n",
       "      <td>36</td>\n",
       "    </tr>\n",
       "    <tr>\n",
       "      <th rowspan=\"2\" valign=\"top\">Child</th>\n",
       "      <th>0.0</th>\n",
       "      <td>8</td>\n",
       "    </tr>\n",
       "    <tr>\n",
       "      <th>1.0</th>\n",
       "      <td>2</td>\n",
       "    </tr>\n",
       "  </tbody>\n",
       "</table>\n",
       "</div>"
      ],
      "text/plain": [
       "                       count\n",
       "agecat       survived       \n",
       "Young adult  0.0          19\n",
       "             1.0          37\n",
       "Infant       0.0          17\n",
       "             1.0          13\n",
       "Adult        0.0          62\n",
       "             1.0          45\n",
       "Senior adult 0.0         263\n",
       "             1.0         153\n",
       "Senior       0.0         201\n",
       "             1.0         141\n",
       "Teenager     0.0          49\n",
       "             1.0          36\n",
       "Child        0.0           8\n",
       "             1.0           2"
      ]
     },
     "execution_count": 49,
     "metadata": {},
     "output_type": "execute_result"
    }
   ],
   "source": [
    "titanic_pivot = titanic_survival.pivot_table(index=[\"agecat\",\"survived\"],\n",
    "                             values=\"age\",\n",
    "                             aggfunc=\"count\").rename(columns={\"age\": \"count\"})\n",
    "titanic_pivot"
   ]
  },
  {
   "cell_type": "code",
   "execution_count": 53,
   "metadata": {
    "colab": {
     "base_uri": "https://localhost:8080/",
     "height": 498
    },
    "colab_type": "code",
    "executionInfo": {
     "elapsed": 674,
     "status": "ok",
     "timestamp": 1537282960677,
     "user": {
      "displayName": "Ivanovitch Silva",
      "photoUrl": "//lh4.googleusercontent.com/-baHwkIBEacY/AAAAAAAAAAI/AAAAAAAAFo0/aWRaXNQgy7Q/s50-c-k-no/photo.jpg",
      "userId": "116628038672433119071"
     },
     "user_tz": 180
    },
    "id": "AOAbbHWzz8aO",
    "outputId": "47e64c1a-645f-4813-afec-7072ea000a11"
   },
   "outputs": [
    {
     "data": {
      "text/html": [
       "<div>\n",
       "<style scoped>\n",
       "    .dataframe tbody tr th:only-of-type {\n",
       "        vertical-align: middle;\n",
       "    }\n",
       "\n",
       "    .dataframe tbody tr th {\n",
       "        vertical-align: top;\n",
       "    }\n",
       "\n",
       "    .dataframe thead th {\n",
       "        text-align: right;\n",
       "    }\n",
       "</style>\n",
       "<table border=\"1\" class=\"dataframe\">\n",
       "  <thead>\n",
       "    <tr style=\"text-align: right;\">\n",
       "      <th></th>\n",
       "      <th></th>\n",
       "      <th>survived_rate</th>\n",
       "    </tr>\n",
       "    <tr>\n",
       "      <th>agecat</th>\n",
       "      <th>survived</th>\n",
       "      <th></th>\n",
       "    </tr>\n",
       "  </thead>\n",
       "  <tbody>\n",
       "    <tr>\n",
       "      <th rowspan=\"2\" valign=\"top\">Young adult</th>\n",
       "      <th>0.0</th>\n",
       "      <td>0.018164</td>\n",
       "    </tr>\n",
       "    <tr>\n",
       "      <th>1.0</th>\n",
       "      <td>0.035373</td>\n",
       "    </tr>\n",
       "    <tr>\n",
       "      <th rowspan=\"2\" valign=\"top\">Infant</th>\n",
       "      <th>0.0</th>\n",
       "      <td>0.016252</td>\n",
       "    </tr>\n",
       "    <tr>\n",
       "      <th>1.0</th>\n",
       "      <td>0.012428</td>\n",
       "    </tr>\n",
       "    <tr>\n",
       "      <th rowspan=\"2\" valign=\"top\">Adult</th>\n",
       "      <th>0.0</th>\n",
       "      <td>0.059273</td>\n",
       "    </tr>\n",
       "    <tr>\n",
       "      <th>1.0</th>\n",
       "      <td>0.043021</td>\n",
       "    </tr>\n",
       "    <tr>\n",
       "      <th rowspan=\"2\" valign=\"top\">Senior adult</th>\n",
       "      <th>0.0</th>\n",
       "      <td>0.251434</td>\n",
       "    </tr>\n",
       "    <tr>\n",
       "      <th>1.0</th>\n",
       "      <td>0.146272</td>\n",
       "    </tr>\n",
       "    <tr>\n",
       "      <th rowspan=\"2\" valign=\"top\">Senior</th>\n",
       "      <th>0.0</th>\n",
       "      <td>0.192161</td>\n",
       "    </tr>\n",
       "    <tr>\n",
       "      <th>1.0</th>\n",
       "      <td>0.134799</td>\n",
       "    </tr>\n",
       "    <tr>\n",
       "      <th rowspan=\"2\" valign=\"top\">Teenager</th>\n",
       "      <th>0.0</th>\n",
       "      <td>0.046845</td>\n",
       "    </tr>\n",
       "    <tr>\n",
       "      <th>1.0</th>\n",
       "      <td>0.034417</td>\n",
       "    </tr>\n",
       "    <tr>\n",
       "      <th rowspan=\"2\" valign=\"top\">Child</th>\n",
       "      <th>0.0</th>\n",
       "      <td>0.007648</td>\n",
       "    </tr>\n",
       "    <tr>\n",
       "      <th>1.0</th>\n",
       "      <td>0.001912</td>\n",
       "    </tr>\n",
       "  </tbody>\n",
       "</table>\n",
       "</div>"
      ],
      "text/plain": [
       "                       survived_rate\n",
       "agecat       survived               \n",
       "Young adult  0.0            0.018164\n",
       "             1.0            0.035373\n",
       "Infant       0.0            0.016252\n",
       "             1.0            0.012428\n",
       "Adult        0.0            0.059273\n",
       "             1.0            0.043021\n",
       "Senior adult 0.0            0.251434\n",
       "             1.0            0.146272\n",
       "Senior       0.0            0.192161\n",
       "             1.0            0.134799\n",
       "Teenager     0.0            0.046845\n",
       "             1.0            0.034417\n",
       "Child        0.0            0.007648\n",
       "             1.0            0.001912"
      ]
     },
     "execution_count": 53,
     "metadata": {},
     "output_type": "execute_result"
    }
   ],
   "source": [
    "titanic_survival.pivot_table(index=[\"agecat\",\"survived\"],\n",
    "                 values=\"age\",\n",
    "                 aggfunc=lambda x: len(x)/len(titanic_survival)).rename(columns={\"age\":\"survived_rate\"})"
   ]
  },
  {
   "cell_type": "code",
   "execution_count": 86,
   "metadata": {
    "colab": {},
    "colab_type": "code",
    "id": "Pc9vQSrFz8aS"
   },
   "outputs": [],
   "source": [
    "# other way\n",
    "titanic_pivot[\"survived_rate\"] = titanic_pivot[\"count\"]/titanic_pivot[\"count\"].sum()"
   ]
  },
  {
   "cell_type": "code",
   "execution_count": 87,
   "metadata": {},
   "outputs": [
    {
     "data": {
      "text/html": [
       "<div>\n",
       "<style scoped>\n",
       "    .dataframe tbody tr th:only-of-type {\n",
       "        vertical-align: middle;\n",
       "    }\n",
       "\n",
       "    .dataframe tbody tr th {\n",
       "        vertical-align: top;\n",
       "    }\n",
       "\n",
       "    .dataframe thead th {\n",
       "        text-align: right;\n",
       "    }\n",
       "</style>\n",
       "<table border=\"1\" class=\"dataframe\">\n",
       "  <thead>\n",
       "    <tr style=\"text-align: right;\">\n",
       "      <th></th>\n",
       "      <th></th>\n",
       "      <th>count</th>\n",
       "      <th>survived_rate</th>\n",
       "    </tr>\n",
       "    <tr>\n",
       "      <th>agecat</th>\n",
       "      <th>survived</th>\n",
       "      <th></th>\n",
       "      <th></th>\n",
       "    </tr>\n",
       "  </thead>\n",
       "  <tbody>\n",
       "    <tr>\n",
       "      <th rowspan=\"2\" valign=\"top\">Young adult</th>\n",
       "      <th>0.0</th>\n",
       "      <td>19</td>\n",
       "      <td>0.018164</td>\n",
       "    </tr>\n",
       "    <tr>\n",
       "      <th>1.0</th>\n",
       "      <td>37</td>\n",
       "      <td>0.035373</td>\n",
       "    </tr>\n",
       "    <tr>\n",
       "      <th rowspan=\"2\" valign=\"top\">Infant</th>\n",
       "      <th>0.0</th>\n",
       "      <td>17</td>\n",
       "      <td>0.016252</td>\n",
       "    </tr>\n",
       "    <tr>\n",
       "      <th>1.0</th>\n",
       "      <td>13</td>\n",
       "      <td>0.012428</td>\n",
       "    </tr>\n",
       "    <tr>\n",
       "      <th rowspan=\"2\" valign=\"top\">Adult</th>\n",
       "      <th>0.0</th>\n",
       "      <td>62</td>\n",
       "      <td>0.059273</td>\n",
       "    </tr>\n",
       "    <tr>\n",
       "      <th>1.0</th>\n",
       "      <td>45</td>\n",
       "      <td>0.043021</td>\n",
       "    </tr>\n",
       "    <tr>\n",
       "      <th rowspan=\"2\" valign=\"top\">Senior adult</th>\n",
       "      <th>0.0</th>\n",
       "      <td>263</td>\n",
       "      <td>0.251434</td>\n",
       "    </tr>\n",
       "    <tr>\n",
       "      <th>1.0</th>\n",
       "      <td>153</td>\n",
       "      <td>0.146272</td>\n",
       "    </tr>\n",
       "    <tr>\n",
       "      <th rowspan=\"2\" valign=\"top\">Senior</th>\n",
       "      <th>0.0</th>\n",
       "      <td>201</td>\n",
       "      <td>0.192161</td>\n",
       "    </tr>\n",
       "    <tr>\n",
       "      <th>1.0</th>\n",
       "      <td>141</td>\n",
       "      <td>0.134799</td>\n",
       "    </tr>\n",
       "    <tr>\n",
       "      <th rowspan=\"2\" valign=\"top\">Teenager</th>\n",
       "      <th>0.0</th>\n",
       "      <td>49</td>\n",
       "      <td>0.046845</td>\n",
       "    </tr>\n",
       "    <tr>\n",
       "      <th>1.0</th>\n",
       "      <td>36</td>\n",
       "      <td>0.034417</td>\n",
       "    </tr>\n",
       "    <tr>\n",
       "      <th rowspan=\"2\" valign=\"top\">Child</th>\n",
       "      <th>0.0</th>\n",
       "      <td>8</td>\n",
       "      <td>0.007648</td>\n",
       "    </tr>\n",
       "    <tr>\n",
       "      <th>1.0</th>\n",
       "      <td>2</td>\n",
       "      <td>0.001912</td>\n",
       "    </tr>\n",
       "  </tbody>\n",
       "</table>\n",
       "</div>"
      ],
      "text/plain": [
       "                       count  survived_rate\n",
       "agecat       survived                      \n",
       "Young adult  0.0          19       0.018164\n",
       "             1.0          37       0.035373\n",
       "Infant       0.0          17       0.016252\n",
       "             1.0          13       0.012428\n",
       "Adult        0.0          62       0.059273\n",
       "             1.0          45       0.043021\n",
       "Senior adult 0.0         263       0.251434\n",
       "             1.0         153       0.146272\n",
       "Senior       0.0         201       0.192161\n",
       "             1.0         141       0.134799\n",
       "Teenager     0.0          49       0.046845\n",
       "             1.0          36       0.034417\n",
       "Child        0.0           8       0.007648\n",
       "             1.0           2       0.001912"
      ]
     },
     "execution_count": 87,
     "metadata": {},
     "output_type": "execute_result"
    }
   ],
   "source": [
    "titanic_pivot"
   ]
  },
  {
   "cell_type": "code",
   "execution_count": 95,
   "metadata": {},
   "outputs": [
    {
     "data": {
      "text/plain": [
       "19"
      ]
     },
     "execution_count": 95,
     "metadata": {},
     "output_type": "execute_result"
    }
   ],
   "source": [
    "# access elements in a multi-index\n",
    "titanic_pivot.loc[\"Young adult\",\"count\"].loc[0]"
   ]
  },
  {
   "cell_type": "markdown",
   "metadata": {
    "toc-hr-collapsed": true
   },
   "source": [
    "# Storytelling from Seaborn"
   ]
  },
  {
   "cell_type": "markdown",
   "metadata": {
    "colab_type": "text",
    "id": "xweld19qjUzM"
   },
   "source": [
    "## Introduction to Seaborn\n"
   ]
  },
  {
   "cell_type": "markdown",
   "metadata": {
    "colab_type": "text",
    "id": "bhtVqUaqj-KK"
   },
   "source": [
    "\n",
    "So far, we've mostly worked with plots that are quick to analyze and make sense of. Line charts, scatter plots, and bar plots allow us to convey a few nuggets of insights to the reader. We've also explored how we can combine those plots in interesting ways to convey deeper insights and continue to extend the storytelling power of data visualization. In this mission, we'll explore how to quickly create plots that are suitable to statistical analysis using a specific library for this purpose.  \n",
    "\n",
    "We'll be working with the [seaborn](http://seaborn.pydata.org/) visualization library, which is built on top of matplotlib. Seaborn has good support for more complex plots, attractive default styles, and integrates well with the pandas library. Here are some examples of some complex plots that can be created using seaborn:\n",
    "\n",
    "<img width=\"800\" alt=\"creating a repo\" src=\"https://drive.google.com/uc?export=view&id=0BxhVm1REqwr0WS1ZUnpCeE1xTms\">\n",
    "\n",
    "**Seaborn** aims to make visualization a central part of exploring and understanding data. The plotting functions operate on dataframes and arrays containing a whole dataset and internally perform the necessary aggregation and statistical model-fitting to produce informative plots. If matplotlib “tries to make easy things easy and hard things possible”, seaborn tries to make a well-defined set of hard things easy too.\n",
    "\n",
    "The plotting functions try to do something useful when called with a minimal set of arguments, and they expose a number of customizable options through additional parameters. Some of the functions plot directly into a matplotlib axes object, while others operate on an entire figure and produce plots with several panels. In the latter case, the plot is drawn using a Grid object that links the structure of the figure to the structure of the dataset.\n",
    "\n",
    "Seaborn should be thought of as a complement to matplotlib, not a replacement for it. When using seaborn, it is likely that you will often invoke matplotlib functions directly to draw simpler plots already available through the pyplot namespace. Further, the seaborn functions aim to make plots that are reasonably “production ready” (including extracting semantic information from Pandas objects to add informative labels), but full customization will require changing attributes on the matplotlib objects directly. The combination of seaborn’s high-level interface and matplotlib’s customizability and wide range of backends makes it easy to generate publication-quality figures.\n",
    "\n"
   ]
  },
  {
   "cell_type": "code",
   "execution_count": 60,
   "metadata": {},
   "outputs": [
    {
     "name": "stdout",
     "output_type": "stream",
     "text": [
      "Solving environment: done\n",
      "\n",
      "## Package Plan ##\n",
      "\n",
      "  environment location: /anaconda3\n",
      "\n",
      "  added / updated specs: \n",
      "    - seaborn\n",
      "\n",
      "\n",
      "The following packages will be downloaded:\n",
      "\n",
      "    package                    |            build\n",
      "    ---------------------------|-----------------\n",
      "    seaborn-0.9.0              |             py_0         159 KB  conda-forge\n",
      "\n",
      "The following packages will be UPDATED:\n",
      "\n",
      "    seaborn: 0.8.1-py36h595ecd9_0 --> 0.9.0-py_0 conda-forge\n",
      "\n",
      "\n",
      "Downloading and Extracting Packages\n",
      "seaborn-0.9.0        | 159 KB    | ##################################### | 100% \n",
      "Preparing transaction: done\n",
      "Verifying transaction: done\n",
      "Executing transaction: done\n"
     ]
    }
   ],
   "source": [
    "!conda install -c conda-forge seaborn -y"
   ]
  },
  {
   "cell_type": "markdown",
   "metadata": {
    "colab_type": "text",
    "id": "ylh7kk0Q1k6W"
   },
   "source": [
    "\n",
    "## Getting started\n"
   ]
  },
  {
   "cell_type": "markdown",
   "metadata": {
    "colab_type": "text",
    "id": "Pe0nVHLb1oME"
   },
   "source": [
    "\n",
    "There are interesting tutorals over the internet about seaborn. In this mission is not our goal to give a complete course about seaborn. We just use the fuctions acoording to need. \n",
    "\n",
    "- https://elitedatascience.com/python-seaborn-tutorial\n",
    "- http://seaborn.pydata.org/tutorial.html\n",
    "- https://gist.github.com/mwaskom/8224591\n",
    "- https://s3.amazonaws.com/assets.datacamp.com/blog_assets/Python_Seaborn_Cheat_Sheet.pdf\n",
    "- https://www.datacamp.com/community/tutorials/seaborn-python-tutorial"
   ]
  },
  {
   "cell_type": "markdown",
   "metadata": {
    "colab_type": "text",
    "id": "9jpFV43E1rAr"
   },
   "source": [
    "**Exercise**\n",
    "\n",
    "<left><img width=\"100\" src=\"https://drive.google.com/uc?export=view&id=1E8tR7B9YYUXsU_rddJAyq0FrM0MSelxZ\"></left>\n",
    "\n",
    "\n",
    "\n",
    "1. Read **titanic_survival.csv** into a DataFrame named **titanic**. Keep only the following columns:\n",
    "    - **survived**\n",
    "    - **pclass**\n",
    "    - **sex**\n",
    "    - **age**\n",
    "    - **sibsp**\n",
    "    - **parch**\n",
    "    - **fare**\n",
    "    - **embarked**\n"
   ]
  },
  {
   "cell_type": "code",
   "execution_count": null,
   "metadata": {
    "colab": {},
    "colab_type": "code",
    "id": "l5skepr92YGA"
   },
   "outputs": [],
   "source": [
    "# put your code here"
   ]
  },
  {
   "cell_type": "markdown",
   "metadata": {
    "colab_type": "text",
    "id": "rlCNpAB1jUzP"
   },
   "source": [
    "## Creating histogram in seaborn\n"
   ]
  },
  {
   "cell_type": "markdown",
   "metadata": {
    "colab_type": "text",
    "id": "OPreWo5W2rAF"
   },
   "source": [
    "\n",
    "Seaborn works similarly to the **pyplot** module from **matplotlib**. We primarily use seaborn interactively, by calling functions in its top level namespace. Like the **pyplot** module from matplotlib, seaborn creates a matplotlib figure or adds to the current, existing figure each time we generate a plot. When we're ready to display the plots, we call **pyplot.show()**.\n",
    "\n",
    "To get familiar with seaborn, we'll start by creating the familiar histogram. We can generate a histogram of the **Fare** column using the [seaborn.distplot()](http://seaborn.pydata.org/generated/seaborn.distplot.html#seaborn.distplot) function. \n",
    "\n",
    "**seaborn.distplot()**  flexibly plot a univariate distribution of observations. This function combines the matplotlib hist function (with automatic calculation of a good default bin size) with the seaborn [kdeplot()](http://seaborn.pydata.org/generated/seaborn.kdeplot.html#seaborn.kdeplot) and [rugplot()](http://seaborn.pydata.org/generated/seaborn.rugplot.html#seaborn.rugplot) functions. It can also fit **scipy.stats** distributions and plot the estimated PDF over the data."
   ]
  },
  {
   "cell_type": "code",
   "execution_count": 103,
   "metadata": {
    "colab": {},
    "colab_type": "code",
    "id": "nAX4cyQYjUzP",
    "scrolled": true
   },
   "outputs": [
    {
     "data": {
      "image/png": "[encoded data removed]",
      "text/plain": [
       "<Figure size 432x288 with 1 Axes>"
      ]
     },
     "metadata": {},
     "output_type": "display_data"
    }
   ],
   "source": [
    "# seaborn is commonly imported as `sns`.\n",
    "import matplotlib.pyplot as plt\n",
    "import seaborn as sns\n",
    "\n",
    "titanic.dropna(subset=[\"fare\"],inplace=True)\n",
    "\n",
    "#call seaborn default colors\n",
    "sns.set()\n",
    "\n",
    "# Contexts: paper, notebook, talk, and poster\n",
    "sns.set_context(\"notebook\")\n",
    "\n",
    "# plot a univariate distribution of observations.\n",
    "sns.distplot(titanic[\"fare\"],kde=False,\n",
    "            bins=20)\n",
    "\n",
    "plt.show()"
   ]
  },
  {
   "cell_type": "markdown",
   "metadata": {
    "colab_type": "text",
    "id": "xmWAefs6jUzT"
   },
   "source": [
    "Under the hood, seaborn creates a histogram using matplotlib, scales the axes values, and styles it. In addition, seaborn uses a technique called kernel density estimation, or KDE for short, to create a smoothed line chart over the histogram. If you're interested in learning about how KDE works, you can read more on [Wikipedia](https://en.wikipedia.org/wiki/Kernel_density_estimation).\n",
    "\n",
    "What you need to know for now is that the resulting line is a smoother version of the histogram, called a **kernel density plot**. Kernel density plots are especially helpful when we're comparing distributions, which we'll explore later in this mission. When viewing a histogram, our visual processing systems influence us to smooth out the bars into a continuous line.\n",
    "\n",
    "\n",
    "\n",
    "**Exercise**\n",
    "\n",
    "<left><img width=\"100\" src=\"https://drive.google.com/uc?export=view&id=1E8tR7B9YYUXsU_rddJAyq0FrM0MSelxZ\"><left>\n",
    "\n",
    "1. Import **seaborn** as **sns** and **matplotlib.pyplot** as **plt**.\n",
    "2. Use the **seaborn.distplot()** function to visualize the distribution of the **\"age\"** column.\n",
    "3. Display the plot using **pyplot.show()**."
   ]
  },
  {
   "cell_type": "code",
   "execution_count": null,
   "metadata": {
    "colab": {},
    "colab_type": "code",
    "id": "sVanYQUB3dxx"
   },
   "outputs": [],
   "source": [
    "# put your code here"
   ]
  },
  {
   "cell_type": "markdown",
   "metadata": {
    "colab_type": "text",
    "id": "OWMZ87r1jUzT"
   },
   "source": [
    "## Generating A Kernel Density Plot\n"
   ]
  },
  {
   "cell_type": "markdown",
   "metadata": {
    "colab_type": "text",
    "id": "zlpaZQpd3iPm"
   },
   "source": [
    "\n",
    "While having both the histogram and the kernel density plot is useful when we want to explore the data, it can be overwhelming for someone who's trying to understand the distribution. To generate just the kernel density plot, we use the **seaborn.kdeplot()** function:"
   ]
  },
  {
   "cell_type": "code",
   "execution_count": 109,
   "metadata": {
    "colab": {},
    "colab_type": "code",
    "id": "yQMJndwrjUzU",
    "outputId": "0f72efdd-127c-4102-dc9a-06889b60026f",
    "scrolled": true
   },
   "outputs": [
    {
     "data": {
      "image/png": "[encoded data removed]",
      "text/plain": [
       "<Figure size 432x288 with 1 Axes>"
      ]
     },
     "metadata": {},
     "output_type": "display_data"
    }
   ],
   "source": [
    "sns.kdeplot(titanic[\"age\"])\n",
    "plt.show()"
   ]
  },
  {
   "cell_type": "markdown",
   "metadata": {
    "colab_type": "text",
    "id": "Ijbca75JjUza"
   },
   "source": [
    "While the distribution of data is displayed in a smoother fashion, it's now more difficult to visually estimate the area under the curve using just the line chart. When we also had the histogram, the bars provided a way to understand and compare proportions visually.\n",
    "\n",
    "To bring back some of the ability to easily compare proportions, we can shade the area under the line using a single color. When calling the **seaborn.kdeplot()** function, we can shade the area under the line by setting the **shade** parameter to **True**.\n",
    "\n",
    "\n",
    "**Exercise**\n",
    "\n",
    "<left><img width=\"100\" src=\"https://drive.google.com/uc?export=view&id=1E8tR7B9YYUXsU_rddJAyq0FrM0MSelxZ\"></left>\n",
    "\n",
    "\n",
    "1. Generate a kernel density plot:\n",
    "    - Using the values in the **\"age\"** column\n",
    "    - With the area under the curve shaded\n",
    "2. Set the x-axis label to **\"age\"** using **pyplot.xlabel()**."
   ]
  },
  {
   "cell_type": "code",
   "execution_count": null,
   "metadata": {
    "colab": {},
    "colab_type": "code",
    "id": "xkNUlHSu4MKT"
   },
   "outputs": [],
   "source": [
    "# put your code here"
   ]
  },
  {
   "cell_type": "markdown",
   "metadata": {
    "colab_type": "text",
    "id": "OTDrGvuKjUzb"
   },
   "source": [
    "## Modifying The Appearance Of The Plots\n"
   ]
  },
  {
   "cell_type": "markdown",
   "metadata": {
    "colab_type": "text",
    "id": "giGrakuk3-KW"
   },
   "source": [
    "\n",
    "From the plots in the previous step, you'll notice that seaborn:\n",
    "\n",
    "- Sets the x-axis label based on the column name passed through **plt.xlabel()** function\n",
    "- Sets the background color to a light gray color\n",
    "- Hides the x-axis and y-axis ticks\n",
    "- Displays the coordinate grid\n",
    "\n",
    "\n",
    "In the last few missions, we explored some general aesthetics guidelines for plots. The default seaborn style sheet gets some things right, like hiding axis ticks, and some things wrong, like displaying the coordinate grid and keeping all of the axis spines. We can use the **seaborn.set_style()** function to change the default seaborn style sheet. Seaborn comes with a few style sheets:\n",
    "\n",
    "- **darkgrid**: Coordinate grid displayed, dark background color\n",
    "- **whitegrid**: Coordinate grid displayed, white background color\n",
    "- **dark**: Coordinate grid hidden, dark background color\n",
    "- **white**: Coordinate grid hidden, white background color\n",
    "- **ticks**: Coordinate grid hidden, white background color, ticks visible\n",
    "\n",
    "Here's a diagram that compares the same plot across all styles:\n",
    "\n",
    "<img width=\"800\" alt=\"creating a repo\" src=\"https://drive.google.com/uc?export=view&id=0BxhVm1REqwr0OVQ1bDFuc2FuZmc\">\n",
    "\n",
    "\n",
    "By default, the seaborn style is set to **\"darkgrid\"**:\n",
    "\n",
    "```python\n",
    "sns.set_style(\"darkgrid\")\n",
    "```\n",
    "\n",
    "If we change the style sheet using this method, all future plots will match that style in your current session. This means you need to set the style before generating the plot.\n",
    "\n",
    "You can also personalize the seaborn style using an axes property according your preferences. \n",
    "\n",
    "```python\n",
    "sns.axes_style()\n",
    "\n",
    "{'axes.facecolor': 'white',\n",
    " 'axes.edgecolor': '.15',\n",
    " 'axes.grid': False,\n",
    " 'axes.axisbelow': True,\n",
    " 'axes.labelcolor': '.15',\n",
    " 'figure.facecolor': 'white',\n",
    " 'grid.color': '.8',\n",
    " 'grid.linestyle': '-',\n",
    " 'text.color': '.15',\n",
    " 'xtick.color': '.15',\n",
    " 'ytick.color': '.15',\n",
    " 'xtick.direction': 'out',\n",
    " 'ytick.direction': 'out',\n",
    " 'lines.solid_capstyle': 'round',\n",
    " 'patch.edgecolor': 'w',\n",
    " 'image.cmap': 'rocket',\n",
    " 'font.family': ['sans-serif'],\n",
    " 'font.sans-serif': ['Arial',\n",
    "  'DejaVu Sans',\n",
    "  'Liberation Sans',\n",
    "  'Bitstream Vera Sans',\n",
    "  'sans-serif'],\n",
    " 'patch.force_edgecolor': True,\n",
    " 'xtick.bottom': False,\n",
    " 'xtick.top': False,\n",
    " 'ytick.left': True,\n",
    " 'ytick.right': False,\n",
    " 'axes.spines.left': True,\n",
    " 'axes.spines.bottom': True,\n",
    " 'axes.spines.right': True,\n",
    " 'axes.spines.top': True}\n",
    "```\n",
    "\n",
    "For example, if you can keep the xtick bottom available, then:\n",
    "\n",
    "```python\n",
    "sns.set_style(\"darkgrid\",{'xtick.bottom': True})\n",
    "```\n",
    "\n",
    "\n",
    "To remove the axis spines for the top and right axes, we use the **seaborn.despine()** function:\n",
    "\n",
    "```python\n",
    "sns.despine()\n",
    "```\n",
    "\n",
    "By default, only the top and right axes will be **despined**, or have their spines removed. To despine the other two axes, we need to set the **left** and **bottom** parameters to **True**.\n",
    "\n",
    "\n",
    "**Exercise**\n",
    "\n",
    "<left><img width=\"100\" src=\"https://drive.google.com/uc?export=view&id=1E8tR7B9YYUXsU_rddJAyq0FrM0MSelxZ\"></left>\n",
    "\n",
    "\n",
    "- Set the style to **\"ticks\"** and remove xtick bottom and ytick left. \n",
    "- Generate a kernel density plot of the **\"age\"** column, with the area under the curve shaded.\n",
    "- Set the x-axis label to **\"age\"**.\n",
    "- Despine all of the axes.\n"
   ]
  },
  {
   "cell_type": "code",
   "execution_count": null,
   "metadata": {
    "colab": {},
    "colab_type": "code",
    "id": "sCClaKJ64Sbf"
   },
   "outputs": [],
   "source": [
    "# put your code here"
   ]
  },
  {
   "cell_type": "markdown",
   "metadata": {
    "colab_type": "text",
    "id": "O6nmOPEtjUzc"
   },
   "source": [
    "## Conditional Distributions Using A Single Condition\n"
   ]
  },
  {
   "cell_type": "markdown",
   "metadata": {
    "colab_type": "text",
    "id": "4HLgh19F4Wgf"
   },
   "source": [
    "\n",
    "\n",
    "In the last few missions, we created a [small multiple](https://en.wikipedia.org/wiki/Small_multiple), which is a group of plots that have the same axis scales so the viewer can compare plots effectively. We accomplished this by subsetting the data manually and generating a plot using matplotlib for each one.\n",
    "\n",
    "In seaborn, we can create a small multiple by specifying the conditioning criteria and the type of data visualization we want. For example, we can visualize the differences in age distributions between passengers who survived and those who didn't by creating a pair of kernel density plots. One kernel density plot would visualize the distribution of values in the **\"age\"** column where **survived** equalled 0 and the other would visualize the distribution of values in the **\"age\"** column where **survived** equalled 1.\n",
    "\n",
    "The code to generate the pair of plots, is short and sweet:"
   ]
  },
  {
   "cell_type": "code",
   "execution_count": 154,
   "metadata": {
    "colab": {},
    "colab_type": "code",
    "id": "YSCp5ht5jUzd",
    "outputId": "13402d45-a9df-499a-9450-7a2a9d218dd0",
    "scrolled": false
   },
   "outputs": [
    {
     "data": {
      "image/png": "[encoded data removed]",
      "text/plain": [
       "<Figure size 576x288 with 2 Axes>"
      ]
     },
     "metadata": {},
     "output_type": "display_data"
    }
   ],
   "source": [
    "# set the style\n",
    "sns.set_style(\"darkgrid\")\n",
    "\n",
    "# Condition on unique values of the \"survived\" column.\n",
    "g = sns.FacetGrid(titanic, col=\"survived\", height=4)\n",
    "\n",
    "# Generate a KDE plot to \"age\" column.\n",
    "g.map(sns.kdeplot, \"age\", shade=True)\n",
    "\n",
    "# remove left and bottom spines\n",
    "g.despine(left=True, bottom=True)\n",
    "\n",
    "# Plot the graph\n",
    "plt.show()"
   ]
  },
  {
   "cell_type": "markdown",
   "metadata": {
    "colab_type": "text",
    "id": "4HW8APHojUzi"
   },
   "source": [
    "Seaborn handled:\n",
    "\n",
    "- subsetting the data into rows where **survived** is 0 and where **survived** is 1\n",
    "- creating both Axes objects, ensuring the same axis scales\n",
    "- plotting both kernel density plots\n",
    "\n",
    "\n",
    "Instead of subsetting the data and generating each plot ourselves, seaborn allows us to express the plots we want as parameter values. The [seaborn.FacetGrid](http://seaborn.pydata.org/generated/seaborn.FacetGrid.html#seaborn.FacetGrid) object is used to represent the layout of the plots in the grid and the columns used for subsetting the data. The word **\"facet\"** from **FacetGrid** is another word for **\"subset\"**. Setting the col parameter to **\"survived\"** specifies a separate plot for each unique value in the **survived** column. Setting the size parameter to 6 specifies a height of 6 inches for each plot.\n",
    "\n",
    "Once we've created the grid, we use the **FacetGrid.map()** method to specify the plot we want for each unique value of **survived**. Seaborn generated one kernel density plot for the ages of passengers that survived and one kernel density plot for the ages of passengers that didn't survive.\n",
    "\n",
    "The function that's passed into **FacetGrid.map()** has to be a valid matplotlib or seaborn function. For example, we can map matplotlib histograms to the grid:\n",
    "\n",
    "```python\n",
    "g = sns.FacetGrid(titanic, col=\"survived\", height=4)\n",
    "g.map(plt.hist, \"age\")\n",
    "```\n",
    "\n",
    "Let's create a grid of plots that displays the age distributions for each class.\n",
    "\n",
    "\n",
    "**Exercise**\n",
    "\n",
    "<left><img width=\"100\" src=\"https://drive.google.com/uc?export=view&id=1E8tR7B9YYUXsU_rddJAyq0FrM0MSelxZ\"></left>\n",
    "\n",
    "\n",
    "1. Use a **FacetGrid** instance to generate three plots on the same row:\n",
    "    - One for each unique value of **pclass**.\n",
    "    - Each plot should be a kernel density plot of the **\"age\"** column, with the area under the curve shaded.\n",
    "    - Each plot should have a height of **4** inches.\n",
    "2. Remove all of the spines using **seaborn.despine()**.\n",
    "3. Display the plots.\n"
   ]
  },
  {
   "cell_type": "code",
   "execution_count": null,
   "metadata": {
    "colab": {},
    "colab_type": "code",
    "id": "RaTnuRQc44fu"
   },
   "outputs": [],
   "source": [
    "# put your code here"
   ]
  },
  {
   "cell_type": "markdown",
   "metadata": {
    "colab_type": "text",
    "id": "aJEXztzxjUzi"
   },
   "source": [
    "## Creating Conditional Plots Using Two Conditions\n"
   ]
  },
  {
   "cell_type": "markdown",
   "metadata": {
    "colab_type": "text",
    "id": "y8-JF1fB5Pwf"
   },
   "source": [
    "\n",
    "We can use two conditions to generate a grid of plots, each containing a subset of the data with a unique combination of each condition. When creating a  **FacetGrid**, we use the **row** parameter to specify the column in the dataframe we want used to subset across the rows in the grid. The best way to understand this is to see a working example.\n",
    "\n",
    "The starter code subsets the dataframe on different combinations of unique values in both the **pclass** and **survived** columns. \n",
    "\n",
    "\n",
    "**Exercise**\n",
    "\n",
    "<left><img width=\"100\" src=\"https://drive.google.com/uc?export=view&id=1E8tR7B9YYUXsU_rddJAyq0FrM0MSelxZ\"></left>\n",
    "\n",
    "\n",
    "- Try changing the conditions to see the resulting plots."
   ]
  },
  {
   "cell_type": "code",
   "execution_count": null,
   "metadata": {},
   "outputs": [],
   "source": [
    "# put your code here"
   ]
  },
  {
   "cell_type": "markdown",
   "metadata": {
    "colab_type": "text",
    "id": "d_JVxm1jjUzn"
   },
   "source": [
    "\n",
    "## Creating Conditional Plots Using Three Conditions\n"
   ]
  },
  {
   "cell_type": "markdown",
   "metadata": {
    "colab_type": "text",
    "id": "xAx4yXFs5bgv"
   },
   "source": [
    "\n",
    "When subsetting data using two conditions, the rows in the grid represented one condition while the columns represented another. We can express a third condition by generating multiple plots on the same subplot in the grid and color them differently. Thankfully, we can add a condition just by setting the **hue** parameter to the column name from the dataframe.\n",
    "\n",
    "Let's add a new condition to the grid of plots we generated in the last step and see what this grid of plots would look like.\n",
    "\n",
    "\n",
    "**Exercise**\n",
    "\n",
    "<left><img width=\"100\" src=\"https://drive.google.com/uc?export=view&id=1E8tR7B9YYUXsU_rddJAyq0FrM0MSelxZ\"></left>\n",
    "\n",
    "\n",
    "\n",
    "1. Use a **FacetGrid** instance to generate a grid of plots using the following conditions:\n",
    "    - The **survived** column across the columns in the grid.\n",
    "    - The **pclass** column across the rows in the grid.\n",
    "    - The **sex** column using different hues.\n",
    "2. Each plot should be a kernel density plot of the **\"age\"** column, with the area under the curve shaded.\n",
    "3. Each plot should have a height of **3** inches.\n",
    "4. Remove all of the spines using **seaborn.despine()**.\n",
    "5. Display the plots."
   ]
  },
  {
   "cell_type": "code",
   "execution_count": null,
   "metadata": {
    "colab": {},
    "colab_type": "code",
    "id": "PZ9VW4wW5jWk"
   },
   "outputs": [],
   "source": [
    "# put your code here"
   ]
  },
  {
   "cell_type": "markdown",
   "metadata": {
    "colab_type": "text",
    "id": "owHEpqDgjUzo"
   },
   "source": [
    "## Adding a legend"
   ]
  },
  {
   "cell_type": "markdown",
   "metadata": {
    "colab_type": "text",
    "id": "SpbhdJpw5mjv"
   },
   "source": [
    "\n",
    "Now that we're coloring plots, we need a legend to keep track of which value each color represents. As a challenge to you, we won't specify how exactly to generate a legend in seaborn. Instead, we encourage you to use the examples from the [page](http://seaborn.pydata.org/generated/seaborn.FacetGrid.html#seaborn.FacetGrid) on plotting using the FacetGrid instance.\n",
    "\n",
    "\n",
    "**Exercise**\n",
    "\n",
    "<left><img width=\"100\" src=\"https://drive.google.com/uc?export=view&id=1E8tR7B9YYUXsU_rddJAyq0FrM0MSelxZ\"></left>\n",
    "\n",
    "\n",
    "1. Use a **FacetGrid** instance to generate a grid of plots using the following conditions:\n",
    "    - The **survived** column across the columns in the grid.\n",
    "    - The **pclass** column across the rows in the grid.\n",
    "    - The **sex** column using different hues.\n",
    "2. Each plot should be a kernel density plot of the **\"age\"** column, with the area under the curve shaded.\n",
    "3. Each plot should have a height of 3 inches.\n",
    "4. Add a legend for the **sex** column.\n",
    "5. Remove all of the spines using **seaborn.despine()**.\n",
    "6. Display the plots."
   ]
  },
  {
   "cell_type": "code",
   "execution_count": null,
   "metadata": {
    "colab": {},
    "colab_type": "code",
    "id": "-NdUrXTt5oxc"
   },
   "outputs": [],
   "source": [
    "# put your code here"
   ]
  }
 ],
 "metadata": {
  "kernelspec": {
   "display_name": "Python 3",
   "language": "python",
   "name": "python3"
  },
  "language_info": {
   "codemirror_mode": {
    "name": "ipython",
    "version": 3
   },
   "file_extension": ".py",
   "mimetype": "text/x-python",
   "name": "python",
   "nbconvert_exporter": "python",
   "pygments_lexer": "ipython3",
   "version": "3.6.5"
  }
 },
 "nbformat": 4,
 "nbformat_minor": 2
}
