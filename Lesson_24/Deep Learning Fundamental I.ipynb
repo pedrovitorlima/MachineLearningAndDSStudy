{
 "cells": [
  {
   "cell_type": "markdown",
   "metadata": {
    "toc-hr-collapsed": true
   },
   "source": [
    "# Representing Neural Network"
   ]
  },
  {
   "cell_type": "markdown",
   "metadata": {},
   "source": [
    "## Nonlinear models"
   ]
  },
  {
   "cell_type": "markdown",
   "metadata": {},
   "source": [
    "In the previous few lessons, we explored the following machine learning models in depth:\n",
    "\n",
    "<img width=\"600\" alt=\"creating a repo\" src=\"https://drive.google.com/uc?export=view&id=1Bz9MLQ0bAD6J5YQIClImSH8DsMFw8P7O\">\n",
    "\n",
    "Because these are all supervised machine learning models, we repeated a similar process when using each model:\n",
    "\n",
    "<img width=\"600\" alt=\"creating a repo\" src=\"https://drive.google.com/uc?export=view&id=1irRyfFn0GkxXQE0Nf9I72d46oi_I2y1F\">\n",
    "\n",
    "In this lesson, we'll add a new type of model to our toolbelt called **artificial neural networks**. Artificial neural networks (or neural networks for short) draw some inspiration from [biological neural networks](https://en.wikipedia.org/wiki/Neural_circuit), which describe how the cells in most brains (including ours) are connected and how they work together. Each cell in a neural network is called a neuron and is connected to multiple neurons. Neurons in human (and mammalian) brains communicate by sending electrical signals between each other.\n",
    "\n",
    "<img width=\"900\" alt=\"creating a repo\" src=\"https://drive.google.com/uc?export=view&id=1Sv-FzVZ2OPhPd1_KiqVBNYgOOHZdtq4E\">\n",
    "\n",
    "Neural network models were inspired by the structure of neurons in our brain and message passing between neurons, but the similarities between how biological neural networks and artificial neural networks end here.\n",
    "\n",
    "A **deep neural network** is a specific type of neural network that excels at capturing nonlinear relationships in data. Deep neural networks have broken many benchmarks in audio and image classification. Previously, linear models were often used with nonlinear transformations that were discovered by hand through research.\n",
    "\n",
    "<img width=\"800\" alt=\"creating a repo\" src=\"https://drive.google.com/uc?export=view&id=1Pu5kxAyn3-vMY-NJ92lkcsJ9wA5sXnzc\">\n",
    "\n",
    "Deep neural networks have some ability to discover how to structure the nonlinear transformations during the training process automatically and have grown to become a helpful tool for many problems.\n",
    "\n",
    "In the first part of this lesson, we'll focus on becoming familiar with how **neural networks** are represented and how to represent **linear regression** and **logistic regression** models in that representation. In later sections, we'll learn how to introduce **nonlinearity** in our networks, how to fit complex neural networks, and some real world **best practices.**"
   ]
  },
  {
   "cell_type": "markdown",
   "metadata": {},
   "source": [
    "## Introduction to graphs"
   ]
  },
  {
   "cell_type": "markdown",
   "metadata": {},
   "source": [
    "**Neural networks** are usually represented as **graphs**. A graph is a data structure that consists of **nodes** (represented as circles) that are connected by **edges** (represented as lines).\n",
    "\n",
    "<img width=\"600\" alt=\"creating a repo\" src=\"https://drive.google.com/uc?export=view&id=16Mo9QntoF9jVptcWjsAPubaYtxanWvze\">\n",
    "\n",
    "Graphs are commonly used to represent how components of a system are related or linked. For example, the [Facebook Social Graph](https://en.wikipedia.org/wiki/Social_graph) describes how all of the users on Facebook are connected to each other (and this graph is changing constantly as friends are added and removed). Google Maps uses graphs to represent locations in the physical world as nodes and roads as edges.\n",
    "\n",
    "<img width=\"600\" alt=\"creating a repo\" src=\"https://drive.google.com/uc?export=view&id=1EPKmyDL_W4r6GuC2oVKxobyw6Glx0TMg\">\n",
    "\n",
    "Graphs are a highly flexible data structure; you can even represent a list of values as a graph. Graphs are often categorized by their properties, which act as constraints. You can read about the many different ways graphs can be categorized on [Wikipedia](https://en.wikipedia.org/wiki/Graph_%28discrete_mathematics%29#Types_of_graphs).\n",
    "\n",
    "One way graphs can be categorized is the presence of edge direction.\n",
    "\n",
    "<img width=\"400\" alt=\"creating a repo\" src=\"https://drive.google.com/uc?export=view&id=1PaiEzXZpvo15dK9Z5X1_0n75n6CbmpY7\">\n",
    "\n",
    "Within directed graphs, graphs are either cyclic or acyclic.\n",
    "\n",
    "<img width=\"400\" alt=\"creating a repo\" src=\"https://drive.google.com/uc?export=view&id=1eQsM0eMKZ8dgW0_L2V9N-v2YVE0i-0tL\">"
   ]
  },
  {
   "cell_type": "markdown",
   "metadata": {},
   "source": [
    "## Computational Graphs"
   ]
  },
  {
   "cell_type": "markdown",
   "metadata": {},
   "source": [
    "Graphs provide a mental model for thinking and reasoning about a specific class of models -- those that consist of a series of functions that are executed in a specific order. In the context of neural networks, graphs let us compactly express a pipeline of functions that we want to be executed in succession. Later in this lesson, we'll explore the math behind the following example:\n",
    "\n",
    "<img width=\"500\" alt=\"creating a repo\" src=\"https://drive.google.com/uc?export=view&id=1GO38dSY4Ere8lg6BqQFOwOx8dVa2_NSg\">\n",
    "\n",
    "This pipeline has 2 stages of functions that happen in sequence:\n",
    "\n",
    "- In the first stage, $L1$ is computed: $L_1 = Xa_1^T$\n",
    "- In the second stage, $L2$ is computed: $L_2 = L_1a_2^T$\n",
    "\n",
    "The second stage can't happen without the first stage, because $L_1$ is an input to the second stage. As we'll learn in the next lessons, at the heart of **neural network** models is the successive computation of functions. This is known as a **computational graph**. A computational graph uses **nodes** to describe **variables** and **edges** to describe **how variables are combined**. Here's a simple example:\n",
    "\n",
    "<img width=\"150\" alt=\"creating a repo\" src=\"https://drive.google.com/uc?export=view&id=1GpFyPVyGXZKyTZK7wwoPi-ut0r3x8T1t\">\n",
    "\n",
    "The **computational graph** is a powerful representation, as it allows us to compactly represent models with many layers of nesting. In fact, a **decision tree** is really a specific type of computational graph. There's no compact way to express a decision tree model using just equations and standard algebraic notation.\n",
    "\n",
    "<img width=\"500\" alt=\"creating a repo\" src=\"https://drive.google.com/uc?export=view&id=1zpPbFAgTMD81eydwmMSyi0ORku6ZYfxu\">\n",
    "\n",
    "To get more familiar with this representation, **we'll represent a linear regression model using neural network notation**. This will help you get more comfortable with this unique representation and allow us to explore some of the neural network terminology as well."
   ]
  },
  {
   "cell_type": "markdown",
   "metadata": {},
   "source": [
    "## A Neural Network That Performs Linear Regression"
   ]
  },
  {
   "cell_type": "markdown",
   "metadata": {},
   "source": [
    "If you recall, a linear regression model is represented as:\n",
    "    \n",
    "$$\n",
    "\\hat{y} = a_0 + a_1x_1 + a_2x_2 + \\ldots + a_nx_n\n",
    "$$\n",
    "\n",
    "Where:\n",
    "\n",
    "- $a_0$ represents the intercept (also known as the **bias**)\n",
    "- $a_1$ to $a_n$ represent the trained model weights\n",
    "- $x_1$ to $x_n$  represent the features\n",
    "- $\\hat{y}$ represents the predicted value\n",
    "\n",
    "The first step is to rewrite this model using linear algebra notation, as a product of two vectors:\n",
    "\n",
    "$$\n",
    "Xa^T = \\hat{y}\n",
    "$$\n",
    "\n",
    "Here's a concrete example of this model:\n",
    "\n",
    "<img width=\"200\" alt=\"creating a repo\" src=\"https://drive.google.com/uc?export=view&id=1IPjnXF5aY7BQnWtF0wlrRKxGIRvLW60C\">\n",
    "\n",
    "\n",
    "In the **neural network** representation of this model:\n",
    "\n",
    "- each feature column in a data set is represented as an **input neuron**\n",
    "- each **weight value** is represented as an **arrow** from the feature column it multiples to the **output neuron**\n",
    "\n",
    "The **neurons** and **arrows** act as a visual metaphor for the weighted sum, which is how the feature columns and weights are combined.\n",
    "\n",
    "<img width=\"200\" alt=\"creating a repo\" src=\"https://drive.google.com/uc?export=view&id=1LH9ra2PBRKhEr9T91VvWdu0s00LMDDLQ\">\n",
    "\n",
    "Inspired by **biological neural networks**, an **activation function** determines if the neuron fires or not. In a neural network model, the activation function transforms the weighted sum of the input values. For this network, the activation function is the [identity function](https://en.wikipedia.org/wiki/Identity_function). The identity function returns the same value that was passed in:\n",
    "\n",
    "$$\n",
    "f(x) = x\n",
    "$$\n",
    "\n",
    "<img width=\"200\" alt=\"creating a repo\" src=\"https://drive.google.com/uc?export=view&id=1PxtytfRIju0kIL3z-gcN3a2S3VOFpBEt\">\n",
    "\n",
    "While the activation function isn't interesting for a network that performs linear regression, it's useful for logistic regression and more complex networks. Here's a comparison of both representations of the same linear regression model:\n",
    "\n",
    "<img width=\"500\" alt=\"creating a repo\" src=\"https://drive.google.com/uc?export=view&id=1bfneZhm7F7pV1CNzDe1JdmG_adgl-2ie\">\n"
   ]
  },
  {
   "cell_type": "markdown",
   "metadata": {},
   "source": [
    "## Generating Regression Data"
   ]
  },
  {
   "cell_type": "markdown",
   "metadata": {},
   "source": [
    "In this lesson, we'll work with data that we'll generate ourselves, instead of an external data set. Generating data ourselves gives us more control of the properties of the data set (e.g. like the number of features, observations, and the noise in the features). Data sets where neural networks excel contain the same non-linearity, so we can generalize the learnings to real data sets as well.\n",
    "\n",
    "Scikit-learn contains the following convenience functions for generating data:\n",
    "\n",
    "- [sklearn.datasets.make_regression()](http://scikit-learn.org/stable/modules/generated/sklearn.datasets.make_regression.html)\n",
    "- [sklearn.datasets.make_classification()](http://scikit-learn.org/stable/modules/generated/sklearn.datasets.make_classification.html)\n",
    "- [sklearn.datasets.make_moons()](http://scikit-learn.org/stable/modules/generated/sklearn.datasets.make_moons.html#sklearn.datasets.make_moons)\n",
    "\n",
    "The following codes generates a regression data set with 3 features, 1000 observations, and a random seed of 1:\n",
    "\n",
    "\n"
   ]
  },
  {
   "cell_type": "code",
   "execution_count": 1,
   "metadata": {},
   "outputs": [
    {
     "data": {
      "text/plain": [
       "tuple"
      ]
     },
     "execution_count": 1,
     "metadata": {},
     "output_type": "execute_result"
    }
   ],
   "source": [
    "from sklearn.datasets import make_regression\n",
    "\n",
    "# make_regression return a tuple\n",
    "# data[0].shape  (1000,3) -> features\n",
    "# data[1].shape  (1000,) -> target\n",
    "data = make_regression(n_samples=1000, n_features=3, random_state=1)\n",
    "\n",
    "type(data)"
   ]
  },
  {
   "cell_type": "code",
   "execution_count": 3,
   "metadata": {},
   "outputs": [
    {
     "name": "stdout",
     "output_type": "stream",
     "text": [
      "(array([[ 0.93514778,  1.81252782,  0.14010988],\n",
      "       [-3.06414136,  0.11537031,  0.31742716],\n",
      "       [-0.42914228,  1.20845633,  1.1157018 ],\n",
      "       ...,\n",
      "       [-0.42109689,  1.01057371,  0.20722995],\n",
      "       [ 2.18697965,  0.44136444, -0.10015523],\n",
      "       [ 0.440956  ,  0.32948997, -0.29257894]]), array([ 2.55521349e+02, -2.24416730e+02,  1.77695808e+02, -1.78288470e+02,\n",
      "       -6.31736749e+01, -5.52369226e+01, -2.33255554e+01, -8.81410996e+01,\n",
      "       -1.75571964e+02,  1.06048917e+01,  7.07568627e+01,  2.86371625e+02,\n",
      "        5.16498098e+01,  6.30335452e+01, -3.74052804e+01, -2.61021036e+01,\n",
      "       -3.34342431e+02, -1.09937106e+02,  8.96587234e+01,  7.20794820e+01,\n",
      "       -2.04994896e+01, -1.90522835e+02, -3.76747882e+01,  1.24207322e+02,\n",
      "        1.22818864e+02,  9.82673181e+01,  1.25550746e+01,  8.12238384e+01,\n",
      "       -2.82221383e+02, -5.09657028e+01, -4.07424094e+01,  1.82183576e+02,\n",
      "        1.27148442e+02,  9.84596015e+00,  7.37488205e+01, -5.85440633e+01,\n",
      "       -2.48974720e+02,  2.60489965e+02,  1.18244898e+02,  1.87292643e+02,\n",
      "       -2.36524636e+01, -1.17916762e+02,  1.44583090e+02,  2.35490206e+01,\n",
      "        1.94229588e+02, -3.25057896e+02,  3.26904165e+01, -2.33455200e+02,\n",
      "        2.48809961e+02,  1.44454275e+02, -4.68715652e+01,  1.67075050e+02,\n",
      "        1.01547266e+01, -8.37364464e+01, -3.09822885e+01, -2.13460518e+01,\n",
      "       -1.22830866e+02,  5.54367779e+01,  4.04233976e+01, -1.48222249e+02,\n",
      "        4.41154240e+01, -2.10228649e+02, -4.72241063e+01,  1.19579396e+02,\n",
      "       -9.34499324e+01, -8.75466585e-01,  8.74812594e+01, -3.55173736e+02,\n",
      "       -1.18699118e+02,  1.46535244e+02, -2.46208042e+02,  1.51420281e+01,\n",
      "       -9.58108494e+01, -1.97236752e+01,  8.72006826e+01, -9.36641617e+01,\n",
      "       -2.12431563e+02, -4.35300297e+01,  8.58603934e+01,  1.79646273e+00,\n",
      "       -1.81691295e+02, -6.90496662e+01,  3.44315706e+01,  1.70261447e+02,\n",
      "       -6.15671398e+01,  1.15028112e+02,  7.18432863e+01, -5.74800674e+01,\n",
      "       -9.91556889e+00,  4.54184192e+01, -1.72467166e+02,  1.68303158e+02,\n",
      "       -1.58264459e+02,  1.15224350e+02, -3.47184203e+02, -5.95470605e+01,\n",
      "        1.39826154e+02, -1.12816943e+02, -2.53951043e+01, -4.41802919e+02,\n",
      "       -1.04278857e+02, -2.81732783e+01,  6.51571856e+01,  1.81059190e+00,\n",
      "       -3.68466631e+01,  9.18650942e+01,  1.25837537e+02,  8.38603559e+01,\n",
      "       -1.69824903e+02,  1.01943184e+00,  1.89818527e+02, -2.14635149e+02,\n",
      "        1.88508017e+02,  7.76391406e+01,  2.95534530e+00,  1.37577074e+02,\n",
      "        9.41600619e+01, -1.58905407e+02,  4.95378487e+00, -1.22485129e+02,\n",
      "       -1.44103952e+02, -7.59899518e+01,  4.94194577e-01, -2.13571685e+02,\n",
      "       -3.96942657e+01,  3.68083812e+01,  2.72527157e+02, -3.56891417e+01,\n",
      "        4.11577778e-01, -1.26261464e+02,  1.06235830e+02,  8.37817222e+01,\n",
      "       -8.40976056e+01,  1.45351285e+02,  8.40942238e+01,  1.55447114e+02,\n",
      "       -1.36681891e+02,  9.55103053e+00,  1.37198523e+02, -2.58992415e+01,\n",
      "       -1.04329080e+02, -7.95204471e+01, -1.89568731e+02, -3.51234776e+02,\n",
      "       -1.30892635e+02, -1.40562206e+02,  2.46092406e+02,  6.44658289e+00,\n",
      "        7.42692339e+01, -1.22520770e+02,  1.22115626e+02, -7.47778895e+01,\n",
      "       -4.28350301e+01,  1.97788477e+02, -1.86761942e+02,  6.96573805e+01,\n",
      "       -4.79850664e+01,  4.03429475e+02,  7.89144262e+00, -1.18770330e+02,\n",
      "       -6.71796583e+01,  1.52284286e+02, -1.89092964e+01,  1.92033554e+02,\n",
      "       -1.41313662e+02, -5.52941553e+01, -1.40433088e+02, -1.70015183e+02,\n",
      "       -2.07234088e+02,  2.54361622e+02, -2.04525463e+02, -2.36832252e+02,\n",
      "        3.94492478e+01,  2.09766019e+02, -2.42224133e+02, -7.04547212e+01,\n",
      "       -2.12878730e+02,  1.61877631e+01,  3.68107898e+01, -1.54636080e+02,\n",
      "       -1.46393305e+02, -1.07145937e+02,  1.20038333e+02,  2.00103383e+02,\n",
      "        1.72295591e+02,  4.50591262e+01,  2.00006209e+02,  2.45280222e+02,\n",
      "        5.06061493e+02,  2.12394416e+02, -2.14645957e+02, -5.95181758e+01,\n",
      "        1.71040936e+02, -4.69540861e+01, -1.53023395e+02, -3.27753510e+02,\n",
      "       -1.65917005e+02, -1.18858360e+02,  4.62136327e+01, -1.09805391e+01,\n",
      "        6.02240090e+01,  1.34604646e+02, -3.82985595e+01,  2.53031009e+01,\n",
      "       -3.48814075e+01,  1.63192137e+02,  8.62030228e+01, -3.06771152e-01,\n",
      "        8.83843356e+01, -3.13924019e+01,  1.23078402e+02,  3.22889836e+01,\n",
      "       -7.97344814e+01, -9.80299876e+01, -1.26960462e+02, -3.43084008e+01,\n",
      "       -8.58770323e+01,  3.06358601e+01,  1.25224169e+02,  3.53748260e+01,\n",
      "       -5.02958212e+01, -7.56070776e+01, -1.73756219e+02,  1.32190883e+02,\n",
      "        2.11235768e+02, -7.08857145e+01, -1.99849236e+02, -1.20521564e+02,\n",
      "       -4.07899345e+01, -5.14604387e+02,  2.31853667e+01, -1.23062333e+02,\n",
      "        1.74095928e+02, -2.36095336e+01, -2.63833026e+02, -5.03524077e+01,\n",
      "       -2.07000843e+00,  5.55818497e+01, -3.54394172e+00, -7.91554167e+01,\n",
      "       -7.63245614e+01, -1.94213705e+00,  2.25373756e+02, -1.21484051e+01,\n",
      "       -3.12183168e+02,  4.03566792e+01,  6.04693007e+01, -1.59081230e+02,\n",
      "       -9.94682347e+01,  9.27178528e+01, -3.06435278e+02, -5.90366327e+02,\n",
      "       -1.95509068e+01, -1.34036384e+02,  5.32437207e+01, -7.12254962e+01,\n",
      "       -1.00033028e+02,  3.55340466e+02,  6.81134325e+01,  1.83394390e+02,\n",
      "        1.97034076e+01, -7.18237431e+01, -3.20530720e+02, -1.00795789e+02,\n",
      "       -1.47482930e+02, -1.49517792e+02, -1.60771246e+02, -8.25562732e-01,\n",
      "       -1.23873722e+02, -2.03383649e+02, -8.06107935e+01, -7.31023568e+01,\n",
      "       -8.10262972e+01,  9.18365273e+01,  1.30557273e+02, -4.71540868e+01,\n",
      "       -1.69236459e+02,  2.46600531e+02, -2.24453887e+02, -4.94587674e+00,\n",
      "        3.74933213e+01,  1.02396395e+02,  2.81475382e+02,  1.53726039e+02,\n",
      "        1.23966497e+01,  1.39923558e+02,  1.63895700e+02,  1.42758969e+02,\n",
      "        1.37296882e+02, -1.92211966e+02, -5.02927659e+01, -1.49325852e+02,\n",
      "       -2.21276716e+02, -2.66827361e+02, -1.65670731e+02, -1.89521569e+02,\n",
      "       -8.72678335e+01, -7.14431609e+01,  1.21433903e+02,  2.80267337e+01,\n",
      "        1.09672456e+02, -1.77004127e+01, -1.69285972e+00,  5.83255584e+01,\n",
      "       -1.79785572e+01, -2.52966206e+02,  2.13849059e+02, -1.42557529e+01,\n",
      "       -1.18784798e+02,  5.74284321e+01,  1.73753968e+02, -2.66847363e+02,\n",
      "        2.47287779e+02,  2.04234084e+02, -1.23205670e+02,  2.86024912e+01,\n",
      "        1.00632914e+02,  2.17241393e+02, -9.24260895e+01, -1.74576868e+02,\n",
      "        1.10088290e+02, -2.56539238e+01,  5.09206147e+00, -4.23613541e+01,\n",
      "       -2.07147207e+01,  4.85544476e+01, -2.41387997e+02,  5.09353526e+01,\n",
      "        2.95573147e+02, -1.21353521e+02,  1.30486889e+02, -5.24494816e+01,\n",
      "        1.15600039e+02,  1.09668943e+02, -1.77671629e+01,  1.14114349e+02,\n",
      "        2.63441261e+02,  2.09529595e+02,  1.42899120e+02,  6.61350750e+01,\n",
      "       -5.53335442e+01, -7.09459823e+01, -1.52574928e+00, -3.26146446e+02,\n",
      "        3.33675283e+02,  1.97817944e+02, -9.97396716e+00,  8.88152529e+01,\n",
      "        1.31246814e+02,  1.62771303e+02,  1.65437581e+02, -5.09920997e+01,\n",
      "       -7.10585483e+01,  2.56366446e+01, -1.39044355e+02,  1.74006507e+01,\n",
      "       -5.16963005e+01, -8.55996740e+01, -8.06327177e+01,  7.73587625e+01,\n",
      "       -3.94092680e+01,  2.56750467e+02,  2.79538285e+02, -3.36743213e+02,\n",
      "       -8.73774524e+01,  2.15513296e+01,  1.39893087e+02, -1.07743912e+02,\n",
      "        2.31259283e+02,  1.99933477e+01,  1.87502300e+01, -1.20382111e+02,\n",
      "        2.57548586e+02,  1.03330147e+01, -2.26613556e+01, -7.63422634e+01,\n",
      "        3.22031902e+02, -1.32591920e+02,  4.84425673e+01,  1.83872249e+02,\n",
      "       -5.03574763e+01, -2.39097752e+02, -1.33940940e+02,  1.06178857e+02,\n",
      "        7.34920380e+01,  1.51784822e+02,  1.85719331e+02, -1.21105598e+02,\n",
      "        1.45852888e+02,  2.38823423e+02, -7.69171457e+01,  1.88008563e+01,\n",
      "       -3.28491557e+01,  2.59566126e+01, -2.07318789e+02, -2.47469593e+02,\n",
      "       -2.62760946e+02, -1.51946343e+02,  1.21224650e+02, -4.30742455e+02,\n",
      "        2.77270410e+02,  1.47695039e+02, -2.62866044e+02, -8.92777266e+01,\n",
      "        9.93028014e+01,  4.71477676e+01,  1.17900786e+02,  2.70453058e+01,\n",
      "       -8.43089413e+01,  1.37863303e+02, -8.35731444e+01,  9.47854466e+01,\n",
      "        2.25628917e+02, -1.01915404e+02,  4.08624147e+02, -8.49365686e+01,\n",
      "       -2.98089885e+02,  2.82359756e+01, -6.35402557e+00,  1.32374553e+02,\n",
      "        1.36799584e+02, -1.70221536e+02,  5.87541815e+01,  2.71889042e+01,\n",
      "        5.47937019e+01, -2.53954976e+02, -2.33878548e+02,  1.43971969e+02,\n",
      "        3.53329806e+02,  2.00919038e+02,  2.48416229e+01,  9.01181052e+01,\n",
      "        1.24620892e+02,  3.76463435e+01,  1.91463990e+02, -3.94616383e+01,\n",
      "        7.81793782e+01,  1.06459915e+02, -9.83270657e+01, -3.27301986e+01,\n",
      "       -1.83124801e+02,  5.28343788e+02,  2.09473913e+02, -2.48995418e+01,\n",
      "        1.77335756e+02,  6.62261429e+01,  5.26663603e+01,  4.32467264e+01,\n",
      "        1.81159784e+02, -2.88115867e+02,  9.54376794e+01,  4.89441257e+01,\n",
      "       -3.18723381e+01,  7.82479904e+01,  4.88450263e+01, -1.87789737e+02,\n",
      "       -4.35388623e+01, -4.11987182e+01,  2.40088904e+02, -7.41463001e+01,\n",
      "        1.96141745e+02,  7.53271492e+01,  1.26730254e+01, -1.22899278e+02,\n",
      "       -6.13150416e+01,  8.11210343e+01,  2.53824726e+01, -1.35155839e+01,\n",
      "       -5.61364876e+01,  5.70465160e+01, -2.96131876e+01, -2.21244712e+02,\n",
      "       -3.80038953e+00, -2.26202634e+02, -2.29536449e+01, -1.19175736e+02,\n",
      "       -2.04292512e+02,  9.89730182e+00, -5.05464433e+01, -1.67198345e+01,\n",
      "       -1.81349408e+01,  1.87027023e+02, -2.38948724e+02, -1.11469636e+02,\n",
      "       -1.25139637e+02, -9.79692668e+00,  1.23549234e+02, -2.10562750e+02,\n",
      "        2.04265486e+02,  8.50977335e+01, -2.20556314e+00,  1.15303388e+02,\n",
      "       -4.44218939e+01, -9.35381222e+01,  7.75975109e+00,  1.85446544e+02,\n",
      "        7.22903018e+00,  1.93319611e+01, -1.55791330e+02, -1.60139203e+02,\n",
      "        2.92481386e+02,  1.93739821e+02,  4.19550857e+02, -1.15306414e+02,\n",
      "       -1.22043300e+02,  3.27081464e+02,  7.83291992e+00,  1.04007784e+02,\n",
      "       -8.21508646e+01,  9.48023495e+00,  2.42254215e+02,  1.28095369e+02,\n",
      "        1.57190742e+02,  1.96712020e+02,  1.47520752e+02, -1.61309647e+02,\n",
      "        8.87018466e+01, -1.02500636e+02,  2.60643497e+02, -8.82639049e+01,\n",
      "       -4.66376702e+01,  1.11383019e+02,  3.00376215e+00, -7.56547858e+00,\n",
      "        1.65710791e+02,  2.07868631e+02,  1.22701601e+02, -1.12145753e+02,\n",
      "       -3.01495145e+01,  2.00633605e+02,  1.01194888e+02,  1.27799603e+02,\n",
      "       -1.82919546e+02, -4.51652230e+01,  1.93356167e+02, -9.69204196e+01,\n",
      "       -1.95075315e+02,  2.27607281e+02, -1.80960694e+01, -9.63467627e+01,\n",
      "        1.03485977e+02,  1.03405610e+02,  7.36197024e+01,  5.52604506e+01,\n",
      "       -4.61052200e+01, -2.41796083e+02,  2.25854519e+02,  1.52785064e+02,\n",
      "        6.57572141e+01, -1.05514877e+02, -8.15550099e+01,  7.41744493e+00,\n",
      "        5.40925464e+01, -2.21495054e+01, -1.51323609e+02, -3.52307413e+01,\n",
      "        4.80470858e+01,  1.55346292e+02, -2.93080697e+01, -1.46381060e+02,\n",
      "       -2.63047577e+02, -8.40713918e+01,  3.84568241e+01,  1.76170664e+02,\n",
      "       -7.62207644e+01,  2.03290233e+02, -1.07420916e+02, -2.51801638e+02,\n",
      "        5.03462940e+01, -8.72320011e+01,  2.95012464e+02,  7.27525256e+00,\n",
      "        1.02261087e+01,  5.29037162e+01,  8.08539018e+01, -7.42636223e+01,\n",
      "        1.10044541e+01,  3.39943893e+02,  7.35342142e+01,  2.76523964e+01,\n",
      "        6.55639022e+01, -7.49776643e+00, -2.73819233e+02, -1.78319383e+01,\n",
      "        9.24980313e+01,  1.27204795e+01, -3.01177810e+02, -1.62512478e+01,\n",
      "        3.21920565e+02, -1.38399927e+02,  3.28603560e+02, -1.74683178e+02,\n",
      "       -2.88220022e+01, -2.16622270e+01,  1.11108040e+02, -2.23944195e+02,\n",
      "        3.34466848e+02, -3.03668708e+02, -6.33794632e+01,  9.30973066e+01,\n",
      "       -1.30348935e+02, -3.95453163e+01, -7.58918301e+01, -1.15526319e+02,\n",
      "        1.79831809e+02, -1.76154114e+02, -4.09872292e+00,  2.38266332e+02,\n",
      "        2.59955488e+01, -2.70317571e+02,  6.52201978e+01,  1.18653157e+02,\n",
      "       -1.09324393e+01, -2.21222060e+02, -1.48246263e+01, -1.51228067e+01,\n",
      "       -3.38752147e+02,  1.91222328e+02,  3.58747744e+02, -3.41605156e+01,\n",
      "        7.95928533e+01,  2.82601885e+02, -2.61229116e+02, -1.32461839e+02,\n",
      "        1.38613514e+02,  4.66702479e+01,  1.44371273e+02, -5.79163271e+01,\n",
      "        1.50858587e+02,  4.12006319e+02, -4.17048483e+01,  2.33880750e+02,\n",
      "       -1.43809742e+02,  3.36446870e+02, -1.32380232e+02, -3.04117300e+00,\n",
      "       -4.09447487e+01, -9.42057748e+01, -5.76003170e+00,  4.28655939e+01,\n",
      "        9.65540430e+01, -5.56952413e+01,  2.45631177e+02, -8.70460211e+00,\n",
      "       -3.49121763e+01, -3.38314961e+01,  3.24862949e+02,  1.11397532e+01,\n",
      "        1.39006006e+02,  7.18691607e+01,  2.80783136e+02, -2.24379479e+02,\n",
      "       -1.94829724e+02,  2.63544552e+02, -1.26074344e+02, -1.91512912e+02,\n",
      "       -1.07806959e+02,  1.07400450e+02,  1.37859265e+02, -1.00436918e+02,\n",
      "        1.13196927e+02,  1.60213437e+02, -1.62211342e+02,  1.20984840e+02,\n",
      "       -8.75463349e+00, -1.49820106e+01,  1.64092266e+02,  3.28392977e+01,\n",
      "        4.43505034e+02,  1.49059778e+01,  5.04699255e+01,  1.12418884e+02,\n",
      "       -1.02058714e+01,  1.33286246e+02,  8.90867712e+01,  3.96754356e+01,\n",
      "       -2.36783386e+02,  2.26428573e+02, -9.47944476e+01,  1.48267880e+02,\n",
      "        9.55711734e+01,  2.48921629e+02, -1.46018163e+02,  2.52112301e+01,\n",
      "        1.32810592e+02,  2.54151874e+02, -6.14454511e+01, -1.16552603e+02,\n",
      "       -1.36218241e+02,  2.56081216e+02, -5.72191280e+01,  2.43969496e+02,\n",
      "        1.10756465e+02,  1.04402591e+01, -2.35787234e+02, -1.78391595e+02,\n",
      "       -2.50419288e+02, -1.76826346e+02,  1.20907186e+02, -7.84163246e+01,\n",
      "        1.42551703e+02,  1.47671804e+02,  4.41282770e+01, -5.19626038e+01,\n",
      "        1.97743378e+02, -1.26553102e+02,  2.20515331e+02,  2.38010783e+02,\n",
      "        3.22935002e+00,  1.05076210e+02,  4.58723628e+01, -2.23621227e+02,\n",
      "        2.11470879e+02, -1.71060188e+02, -1.31426961e+02,  1.52937807e+02,\n",
      "       -1.36493406e+02, -4.59768200e+01,  1.57358940e+02, -1.47826693e+02,\n",
      "        5.34158379e+01, -2.52545037e+02, -6.72799797e+01, -2.25875783e+01,\n",
      "        2.02645809e+02,  6.97011786e+01,  4.01632565e+01, -4.02653150e+01,\n",
      "        1.66121941e+01,  3.17612457e+01, -2.05746700e+02, -1.13709218e+01,\n",
      "        1.88521513e+02,  3.22187420e+01,  9.71377940e+01, -1.36213974e+02,\n",
      "        8.52551644e+01, -2.14230619e+02, -2.68729104e+02,  8.24781284e+01,\n",
      "        6.03586178e+00, -7.74293667e+01,  6.07458960e+01, -8.16080104e+01,\n",
      "        3.09459757e+00,  4.68377452e+01,  2.47222387e+02,  9.06256487e+01,\n",
      "        1.10549465e+02,  2.83948549e+00,  1.04456821e+02, -9.45923384e+01,\n",
      "       -8.55600447e+01,  1.39867840e+02, -6.12268509e+00, -8.97462278e+00,\n",
      "       -2.44916455e+01,  7.90261343e+01, -1.92357434e+02,  5.79325940e+01,\n",
      "       -2.62981688e+02, -1.65269227e+02, -8.24419621e+01, -4.52859122e+01,\n",
      "       -1.52384421e+02,  1.70409956e+02,  3.00586944e+01, -1.81938231e+02,\n",
      "       -1.74928884e+01,  5.87582213e+01,  2.37674476e+02, -1.11076475e+02,\n",
      "       -1.43184291e+02,  1.82333515e+01,  1.22442750e+02, -9.73359938e+01,\n",
      "        7.99608866e+00,  1.72094153e+02, -1.73923310e+02,  8.58615182e+01,\n",
      "        1.36351982e+02, -4.16088006e+02,  1.14843209e+02,  1.03609235e+02,\n",
      "        3.20530183e+02,  1.82793918e+02,  1.82139960e+02,  1.31342204e+01,\n",
      "        9.01922749e+01, -2.53955442e+02, -5.37337148e+01, -1.99995941e+02,\n",
      "        2.62783771e+02, -3.06901216e+00,  5.38242990e+00, -9.00508517e+01,\n",
      "       -1.43741916e+02, -9.70128469e+01, -9.64606668e+01,  2.58055531e+02,\n",
      "        1.45683438e+02,  1.84570422e+01, -2.20152345e+02, -7.08097926e+01,\n",
      "        2.44910041e+02,  4.16518760e+01, -4.31812797e+01, -1.40455898e+02,\n",
      "        8.61344866e+01,  1.80475377e+02, -6.04782409e+01,  1.37357506e+02,\n",
      "        2.22496171e+02,  1.92060900e+02,  2.72532057e+02, -6.69303811e+00,\n",
      "       -4.42971725e+01, -9.00050940e+01,  2.90098144e+01,  5.41030336e+01,\n",
      "       -1.18749185e+02,  1.05394269e+02, -1.01552442e+00,  1.14849282e+02,\n",
      "        1.95957799e+02,  1.40679095e+02, -9.37282606e+01, -9.41933345e+01,\n",
      "        1.53823046e+02, -2.20431559e+02, -3.58803909e+00, -2.77815256e+02,\n",
      "        8.39629995e+01,  2.26790358e+02,  2.41840687e+02,  1.39044409e+02,\n",
      "        1.15342410e+02, -3.34447931e+02,  1.92862121e+02, -4.29490830e+01,\n",
      "       -6.74210475e+01, -7.75231345e+01, -2.19161819e+02, -2.18100020e+02,\n",
      "        1.23006191e+02, -5.71098571e+01, -1.13478549e+01,  1.32983830e+02,\n",
      "       -2.84611017e+02,  1.24620138e+02,  3.25430988e+01,  1.10245368e+02,\n",
      "       -5.17422386e+00,  7.73159014e+01,  1.36717642e+02,  1.14111845e+02,\n",
      "        1.47381607e+02, -8.19341960e+01, -6.42452391e+00, -1.08433348e+02,\n",
      "       -1.33572865e+01,  9.50514050e+01, -1.04558381e+02,  3.66134802e+02,\n",
      "       -2.61935251e+02, -2.97805234e+02, -1.59154359e+02, -1.59440009e+01,\n",
      "       -2.25954818e+02, -1.33343775e+02, -2.52541553e+01,  9.38037712e+01,\n",
      "        3.88267848e+01, -2.13614603e+02, -2.01213252e+01,  1.78600901e+02,\n",
      "       -7.43028059e+01,  7.56019307e+01,  5.40725967e+01,  1.39928569e+02,\n",
      "        3.67893074e+01,  2.82660587e+01,  2.61314333e+01, -9.34040810e+01,\n",
      "        2.78782407e+02, -1.62478330e+02,  9.38219592e+00, -9.75003414e+01,\n",
      "       -5.74695517e+01, -2.37620176e+02,  9.99700177e+00,  1.61788460e+02,\n",
      "        7.49359291e+01,  1.28122491e+02,  1.60387668e+02, -6.98666648e-01,\n",
      "        5.75007264e+01, -1.18712171e+02, -2.64064622e+02,  8.56406868e+01,\n",
      "       -2.40684625e+02, -1.04744627e+01,  9.68551231e+01, -7.33492447e+01,\n",
      "       -2.24135925e+00,  3.52425004e+01,  2.51664470e+02, -1.78433790e+02,\n",
      "        4.88455944e+01,  2.64578873e+01, -1.19275759e+02, -6.77819880e+01,\n",
      "       -1.75845940e+02,  7.39432904e+01, -5.39888873e+01,  5.94964665e+01,\n",
      "       -6.53331456e+00, -1.03825450e+02,  3.28595376e+02, -2.67177645e+01,\n",
      "       -1.81022903e+02, -1.30297295e+02,  4.97411560e+01,  1.00637866e+02,\n",
      "        1.97589168e+02, -5.79852954e+01,  2.04537571e+02, -2.94131518e+02,\n",
      "       -5.59243519e+00, -1.78845129e+02,  1.99078041e+02, -6.93712552e+01,\n",
      "       -7.79756845e+01,  9.88714512e+01,  9.60000617e+01,  8.38704271e+01,\n",
      "        3.89598147e+02,  1.03569448e+02,  1.14493646e+02,  1.24410879e+02,\n",
      "       -1.92123008e+02, -6.13322487e+01, -7.81149741e+01,  2.09620799e+02,\n",
      "       -9.74730117e+01, -9.94149317e+01,  4.26741890e+01,  1.38209331e+00,\n",
      "       -1.56667368e+02, -2.37772817e+02,  3.64750884e+01,  1.12224499e+02,\n",
      "        8.12845938e+01,  4.41825895e+01,  3.86917111e+01,  1.84546609e+02,\n",
      "        3.40687882e+01, -7.19666480e+01, -1.07915661e+02,  4.76917811e+00,\n",
      "        3.66332549e+01, -1.04438266e+01, -7.55543225e+01, -1.12634081e+02,\n",
      "       -2.06555167e+00, -6.68446865e+01,  1.80898782e+02,  1.29088062e+02,\n",
      "        1.38183182e+01, -1.28359048e+02,  1.11893802e+02, -8.01661105e+01,\n",
      "       -4.48226181e+01, -1.10449897e+02,  1.90028692e+02, -4.95657208e+01,\n",
      "       -5.36924131e+01, -2.09073068e+02,  7.00393301e+01, -5.98914943e+01,\n",
      "        2.99702747e+02, -7.38320267e+01, -2.38437890e+02, -1.23449719e+02,\n",
      "        3.36130733e+01, -2.67823475e+02,  1.21279169e+00, -2.62440408e+02,\n",
      "        1.32486453e+02, -1.93414037e+02, -2.75702376e+01, -1.00678877e+01,\n",
      "        2.05169507e+02, -1.52978767e+02,  1.18361239e+01, -2.97505169e+02,\n",
      "       -2.40169605e+02,  7.33158364e+01,  2.18888903e+02,  3.92751308e+01]))\n"
     ]
    }
   ],
   "source": [
    "data[0].shape\n",
    "print(data)"
   ]
  },
  {
   "cell_type": "code",
   "execution_count": 4,
   "metadata": {},
   "outputs": [
    {
     "data": {
      "text/plain": [
       "(1000,)"
      ]
     },
     "execution_count": 4,
     "metadata": {},
     "output_type": "execute_result"
    }
   ],
   "source": [
    "data[1].shape"
   ]
  },
  {
   "cell_type": "code",
   "execution_count": 5,
   "metadata": {},
   "outputs": [
    {
     "data": {
      "text/plain": [
       "array([[ 0.93514778,  1.81252782,  0.14010988],\n",
       "       [-3.06414136,  0.11537031,  0.31742716],\n",
       "       [-0.42914228,  1.20845633,  1.1157018 ],\n",
       "       [-0.59384307, -0.34390071, -1.00016919],\n",
       "       [ 0.91208686, -0.85882315, -0.68327072]])"
      ]
     },
     "execution_count": 5,
     "metadata": {},
     "output_type": "execute_result"
    }
   ],
   "source": [
    "data[0][:5]"
   ]
  },
  {
   "cell_type": "code",
   "execution_count": 6,
   "metadata": {},
   "outputs": [
    {
     "data": {
      "text/plain": [
       "array([ 255.52134901, -224.41673037,  177.69580838, -178.28847036,\n",
       "        -63.17367487])"
      ]
     },
     "execution_count": 6,
     "metadata": {},
     "output_type": "execute_result"
    }
   ],
   "source": [
    "data[1][:5]"
   ]
  },
  {
   "cell_type": "markdown",
   "metadata": {},
   "source": [
    "We can then use the pandas.DataFrame() constructor to create dataframes:\n",
    "\n",
    "```python\n",
    "features = pd.DataFrame(data[0])\n",
    "```\n",
    "\n",
    "Let's generate some data for the network we're building."
   ]
  },
  {
   "cell_type": "markdown",
   "metadata": {},
   "source": [
    "**Exercise Start**\n",
    "\n",
    "<left><img width=\"100\" alt=\"creating a repo\" src=\"https://drive.google.com/uc?export=view&id=1E8tR7B9YYUXsU_rddJAyq0FrM0MSelxZ\"></left>\n",
    "\n",
    "- Generate a data set for regression:\n",
    "    - with 100 observations\n",
    "    - with 3 features\n",
    "    - using the random seed 1\n",
    "- Convert the NumPy array of generated features into a pandas dataframe and assign to **features**.\n",
    "- Convert the NumPy array of generated labels into a pandas series and assign to **labels**.\n"
   ]
  },
  {
   "cell_type": "code",
   "execution_count": 12,
   "metadata": {},
   "outputs": [
    {
     "data": {
      "text/html": [
       "<div>\n",
       "<style scoped>\n",
       "    .dataframe tbody tr th:only-of-type {\n",
       "        vertical-align: middle;\n",
       "    }\n",
       "\n",
       "    .dataframe tbody tr th {\n",
       "        vertical-align: top;\n",
       "    }\n",
       "\n",
       "    .dataframe thead th {\n",
       "        text-align: right;\n",
       "    }\n",
       "</style>\n",
       "<table border=\"1\" class=\"dataframe\">\n",
       "  <thead>\n",
       "    <tr style=\"text-align: right;\">\n",
       "      <th></th>\n",
       "      <th>0</th>\n",
       "      <th>1</th>\n",
       "      <th>2</th>\n",
       "    </tr>\n",
       "  </thead>\n",
       "  <tbody>\n",
       "    <tr>\n",
       "      <th>0</th>\n",
       "      <td>1.293226</td>\n",
       "      <td>-0.617362</td>\n",
       "      <td>-0.110447</td>\n",
       "    </tr>\n",
       "    <tr>\n",
       "      <th>1</th>\n",
       "      <td>-2.793085</td>\n",
       "      <td>0.366332</td>\n",
       "      <td>1.937529</td>\n",
       "    </tr>\n",
       "    <tr>\n",
       "      <th>2</th>\n",
       "      <td>0.801861</td>\n",
       "      <td>-0.186570</td>\n",
       "      <td>0.046567</td>\n",
       "    </tr>\n",
       "    <tr>\n",
       "      <th>3</th>\n",
       "      <td>0.129102</td>\n",
       "      <td>0.502741</td>\n",
       "      <td>1.616950</td>\n",
       "    </tr>\n",
       "    <tr>\n",
       "      <th>4</th>\n",
       "      <td>-0.691661</td>\n",
       "      <td>-0.687173</td>\n",
       "      <td>-0.396754</td>\n",
       "    </tr>\n",
       "    <tr>\n",
       "      <th>5</th>\n",
       "      <td>-0.754398</td>\n",
       "      <td>0.512930</td>\n",
       "      <td>1.252868</td>\n",
       "    </tr>\n",
       "    <tr>\n",
       "      <th>6</th>\n",
       "      <td>1.904659</td>\n",
       "      <td>0.659050</td>\n",
       "      <td>1.111057</td>\n",
       "    </tr>\n",
       "    <tr>\n",
       "      <th>7</th>\n",
       "      <td>0.201830</td>\n",
       "      <td>1.792158</td>\n",
       "      <td>0.661020</td>\n",
       "    </tr>\n",
       "    <tr>\n",
       "      <th>8</th>\n",
       "      <td>0.042214</td>\n",
       "      <td>-1.100619</td>\n",
       "      <td>0.582815</td>\n",
       "    </tr>\n",
       "    <tr>\n",
       "      <th>9</th>\n",
       "      <td>-1.396496</td>\n",
       "      <td>-0.504466</td>\n",
       "      <td>-1.444114</td>\n",
       "    </tr>\n",
       "    <tr>\n",
       "      <th>10</th>\n",
       "      <td>-0.310117</td>\n",
       "      <td>1.038825</td>\n",
       "      <td>-2.434838</td>\n",
       "    </tr>\n",
       "    <tr>\n",
       "      <th>11</th>\n",
       "      <td>0.836005</td>\n",
       "      <td>0.758806</td>\n",
       "      <td>1.543359</td>\n",
       "    </tr>\n",
       "    <tr>\n",
       "      <th>12</th>\n",
       "      <td>-0.084508</td>\n",
       "      <td>0.417302</td>\n",
       "      <td>-0.297362</td>\n",
       "    </tr>\n",
       "    <tr>\n",
       "      <th>13</th>\n",
       "      <td>-0.890556</td>\n",
       "      <td>1.956079</td>\n",
       "      <td>-1.119115</td>\n",
       "    </tr>\n",
       "    <tr>\n",
       "      <th>14</th>\n",
       "      <td>-0.935769</td>\n",
       "      <td>0.530355</td>\n",
       "      <td>-0.267888</td>\n",
       "    </tr>\n",
       "    <tr>\n",
       "      <th>15</th>\n",
       "      <td>1.558806</td>\n",
       "      <td>-1.219744</td>\n",
       "      <td>0.109403</td>\n",
       "    </tr>\n",
       "    <tr>\n",
       "      <th>16</th>\n",
       "      <td>0.810952</td>\n",
       "      <td>-0.400878</td>\n",
       "      <td>1.044442</td>\n",
       "    </tr>\n",
       "    <tr>\n",
       "      <th>17</th>\n",
       "      <td>0.043669</td>\n",
       "      <td>1.331457</td>\n",
       "      <td>-0.226314</td>\n",
       "    </tr>\n",
       "    <tr>\n",
       "      <th>18</th>\n",
       "      <td>0.742044</td>\n",
       "      <td>-0.887629</td>\n",
       "      <td>-0.191836</td>\n",
       "    </tr>\n",
       "    <tr>\n",
       "      <th>19</th>\n",
       "      <td>0.169382</td>\n",
       "      <td>-0.953701</td>\n",
       "      <td>0.740556</td>\n",
       "    </tr>\n",
       "    <tr>\n",
       "      <th>20</th>\n",
       "      <td>-1.615772</td>\n",
       "      <td>0.408901</td>\n",
       "      <td>1.121418</td>\n",
       "    </tr>\n",
       "    <tr>\n",
       "      <th>21</th>\n",
       "      <td>2.190700</td>\n",
       "      <td>-0.646917</td>\n",
       "      <td>-1.896361</td>\n",
       "    </tr>\n",
       "    <tr>\n",
       "      <th>22</th>\n",
       "      <td>1.399844</td>\n",
       "      <td>-0.437509</td>\n",
       "      <td>-0.781912</td>\n",
       "    </tr>\n",
       "    <tr>\n",
       "      <th>23</th>\n",
       "      <td>0.824006</td>\n",
       "      <td>1.954878</td>\n",
       "      <td>-0.562305</td>\n",
       "    </tr>\n",
       "    <tr>\n",
       "      <th>24</th>\n",
       "      <td>1.744812</td>\n",
       "      <td>0.319039</td>\n",
       "      <td>-0.761207</td>\n",
       "    </tr>\n",
       "    <tr>\n",
       "      <th>25</th>\n",
       "      <td>-1.525680</td>\n",
       "      <td>-0.374438</td>\n",
       "      <td>0.795026</td>\n",
       "    </tr>\n",
       "    <tr>\n",
       "      <th>26</th>\n",
       "      <td>-1.305727</td>\n",
       "      <td>-0.230840</td>\n",
       "      <td>-0.344987</td>\n",
       "    </tr>\n",
       "    <tr>\n",
       "      <th>27</th>\n",
       "      <td>-0.101746</td>\n",
       "      <td>0.750412</td>\n",
       "      <td>0.868886</td>\n",
       "    </tr>\n",
       "    <tr>\n",
       "      <th>28</th>\n",
       "      <td>-1.331952</td>\n",
       "      <td>-1.650721</td>\n",
       "      <td>-1.760689</td>\n",
       "    </tr>\n",
       "    <tr>\n",
       "      <th>29</th>\n",
       "      <td>-1.272559</td>\n",
       "      <td>0.503185</td>\n",
       "      <td>0.313548</td>\n",
       "    </tr>\n",
       "    <tr>\n",
       "      <th>...</th>\n",
       "      <td>...</td>\n",
       "      <td>...</td>\n",
       "      <td>...</td>\n",
       "    </tr>\n",
       "    <tr>\n",
       "      <th>70</th>\n",
       "      <td>-0.498214</td>\n",
       "      <td>-0.001891</td>\n",
       "      <td>-0.310985</td>\n",
       "    </tr>\n",
       "    <tr>\n",
       "      <th>71</th>\n",
       "      <td>-1.627438</td>\n",
       "      <td>0.420282</td>\n",
       "      <td>0.602319</td>\n",
       "    </tr>\n",
       "    <tr>\n",
       "      <th>72</th>\n",
       "      <td>-0.845206</td>\n",
       "      <td>-0.012665</td>\n",
       "      <td>-0.671246</td>\n",
       "    </tr>\n",
       "    <tr>\n",
       "      <th>73</th>\n",
       "      <td>-0.326499</td>\n",
       "      <td>1.114383</td>\n",
       "      <td>-1.342676</td>\n",
       "    </tr>\n",
       "    <tr>\n",
       "      <th>74</th>\n",
       "      <td>0.931102</td>\n",
       "      <td>0.885141</td>\n",
       "      <td>0.285587</td>\n",
       "    </tr>\n",
       "    <tr>\n",
       "      <th>75</th>\n",
       "      <td>0.863345</td>\n",
       "      <td>-0.603921</td>\n",
       "      <td>-0.180920</td>\n",
       "    </tr>\n",
       "    <tr>\n",
       "      <th>76</th>\n",
       "      <td>-0.200758</td>\n",
       "      <td>0.410052</td>\n",
       "      <td>0.186561</td>\n",
       "    </tr>\n",
       "    <tr>\n",
       "      <th>77</th>\n",
       "      <td>0.198300</td>\n",
       "      <td>-0.670662</td>\n",
       "      <td>0.119009</td>\n",
       "    </tr>\n",
       "    <tr>\n",
       "      <th>78</th>\n",
       "      <td>0.529465</td>\n",
       "      <td>0.077821</td>\n",
       "      <td>0.137701</td>\n",
       "    </tr>\n",
       "    <tr>\n",
       "      <th>79</th>\n",
       "      <td>-0.586524</td>\n",
       "      <td>0.875839</td>\n",
       "      <td>-1.236853</td>\n",
       "    </tr>\n",
       "    <tr>\n",
       "      <th>80</th>\n",
       "      <td>-0.636996</td>\n",
       "      <td>2.100255</td>\n",
       "      <td>0.190915</td>\n",
       "    </tr>\n",
       "    <tr>\n",
       "      <th>81</th>\n",
       "      <td>-0.056824</td>\n",
       "      <td>-0.680678</td>\n",
       "      <td>0.492337</td>\n",
       "    </tr>\n",
       "    <tr>\n",
       "      <th>82</th>\n",
       "      <td>-0.623531</td>\n",
       "      <td>-1.144341</td>\n",
       "      <td>0.520576</td>\n",
       "    </tr>\n",
       "    <tr>\n",
       "      <th>83</th>\n",
       "      <td>0.618380</td>\n",
       "      <td>0.682551</td>\n",
       "      <td>0.232495</td>\n",
       "    </tr>\n",
       "    <tr>\n",
       "      <th>84</th>\n",
       "      <td>-0.638730</td>\n",
       "      <td>0.077340</td>\n",
       "      <td>0.423494</td>\n",
       "    </tr>\n",
       "    <tr>\n",
       "      <th>85</th>\n",
       "      <td>-0.136445</td>\n",
       "      <td>0.017409</td>\n",
       "      <td>-0.119054</td>\n",
       "    </tr>\n",
       "    <tr>\n",
       "      <th>86</th>\n",
       "      <td>0.134048</td>\n",
       "      <td>0.284748</td>\n",
       "      <td>1.202055</td>\n",
       "    </tr>\n",
       "    <tr>\n",
       "      <th>87</th>\n",
       "      <td>0.377564</td>\n",
       "      <td>1.129484</td>\n",
       "      <td>0.121821</td>\n",
       "    </tr>\n",
       "    <tr>\n",
       "      <th>88</th>\n",
       "      <td>-0.208894</td>\n",
       "      <td>0.838983</td>\n",
       "      <td>0.586623</td>\n",
       "    </tr>\n",
       "    <tr>\n",
       "      <th>89</th>\n",
       "      <td>-1.440876</td>\n",
       "      <td>-0.254180</td>\n",
       "      <td>1.232253</td>\n",
       "    </tr>\n",
       "    <tr>\n",
       "      <th>90</th>\n",
       "      <td>0.784771</td>\n",
       "      <td>0.585910</td>\n",
       "      <td>-0.955425</td>\n",
       "    </tr>\n",
       "    <tr>\n",
       "      <th>91</th>\n",
       "      <td>0.095425</td>\n",
       "      <td>0.060750</td>\n",
       "      <td>0.921450</td>\n",
       "    </tr>\n",
       "    <tr>\n",
       "      <th>92</th>\n",
       "      <td>0.884909</td>\n",
       "      <td>-0.867787</td>\n",
       "      <td>-0.877282</td>\n",
       "    </tr>\n",
       "    <tr>\n",
       "      <th>93</th>\n",
       "      <td>-1.099891</td>\n",
       "      <td>-0.877858</td>\n",
       "      <td>-0.172428</td>\n",
       "    </tr>\n",
       "    <tr>\n",
       "      <th>94</th>\n",
       "      <td>1.131629</td>\n",
       "      <td>2.185575</td>\n",
       "      <td>1.519817</td>\n",
       "    </tr>\n",
       "    <tr>\n",
       "      <th>95</th>\n",
       "      <td>1.198918</td>\n",
       "      <td>-0.375285</td>\n",
       "      <td>0.185156</td>\n",
       "    </tr>\n",
       "    <tr>\n",
       "      <th>96</th>\n",
       "      <td>-1.116470</td>\n",
       "      <td>-0.186579</td>\n",
       "      <td>0.080927</td>\n",
       "    </tr>\n",
       "    <tr>\n",
       "      <th>97</th>\n",
       "      <td>2.186980</td>\n",
       "      <td>-0.100155</td>\n",
       "      <td>0.441364</td>\n",
       "    </tr>\n",
       "    <tr>\n",
       "      <th>98</th>\n",
       "      <td>0.562761</td>\n",
       "      <td>0.280665</td>\n",
       "      <td>0.240737</td>\n",
       "    </tr>\n",
       "    <tr>\n",
       "      <th>99</th>\n",
       "      <td>-0.700399</td>\n",
       "      <td>0.242669</td>\n",
       "      <td>-0.203394</td>\n",
       "    </tr>\n",
       "  </tbody>\n",
       "</table>\n",
       "<p>100 rows × 3 columns</p>\n",
       "</div>"
      ],
      "text/plain": [
       "           0         1         2\n",
       "0   1.293226 -0.617362 -0.110447\n",
       "1  -2.793085  0.366332  1.937529\n",
       "2   0.801861 -0.186570  0.046567\n",
       "3   0.129102  0.502741  1.616950\n",
       "4  -0.691661 -0.687173 -0.396754\n",
       "5  -0.754398  0.512930  1.252868\n",
       "6   1.904659  0.659050  1.111057\n",
       "7   0.201830  1.792158  0.661020\n",
       "8   0.042214 -1.100619  0.582815\n",
       "9  -1.396496 -0.504466 -1.444114\n",
       "10 -0.310117  1.038825 -2.434838\n",
       "11  0.836005  0.758806  1.543359\n",
       "12 -0.084508  0.417302 -0.297362\n",
       "13 -0.890556  1.956079 -1.119115\n",
       "14 -0.935769  0.530355 -0.267888\n",
       "15  1.558806 -1.219744  0.109403\n",
       "16  0.810952 -0.400878  1.044442\n",
       "17  0.043669  1.331457 -0.226314\n",
       "18  0.742044 -0.887629 -0.191836\n",
       "19  0.169382 -0.953701  0.740556\n",
       "20 -1.615772  0.408901  1.121418\n",
       "21  2.190700 -0.646917 -1.896361\n",
       "22  1.399844 -0.437509 -0.781912\n",
       "23  0.824006  1.954878 -0.562305\n",
       "24  1.744812  0.319039 -0.761207\n",
       "25 -1.525680 -0.374438  0.795026\n",
       "26 -1.305727 -0.230840 -0.344987\n",
       "27 -0.101746  0.750412  0.868886\n",
       "28 -1.331952 -1.650721 -1.760689\n",
       "29 -1.272559  0.503185  0.313548\n",
       "..       ...       ...       ...\n",
       "70 -0.498214 -0.001891 -0.310985\n",
       "71 -1.627438  0.420282  0.602319\n",
       "72 -0.845206 -0.012665 -0.671246\n",
       "73 -0.326499  1.114383 -1.342676\n",
       "74  0.931102  0.885141  0.285587\n",
       "75  0.863345 -0.603921 -0.180920\n",
       "76 -0.200758  0.410052  0.186561\n",
       "77  0.198300 -0.670662  0.119009\n",
       "78  0.529465  0.077821  0.137701\n",
       "79 -0.586524  0.875839 -1.236853\n",
       "80 -0.636996  2.100255  0.190915\n",
       "81 -0.056824 -0.680678  0.492337\n",
       "82 -0.623531 -1.144341  0.520576\n",
       "83  0.618380  0.682551  0.232495\n",
       "84 -0.638730  0.077340  0.423494\n",
       "85 -0.136445  0.017409 -0.119054\n",
       "86  0.134048  0.284748  1.202055\n",
       "87  0.377564  1.129484  0.121821\n",
       "88 -0.208894  0.838983  0.586623\n",
       "89 -1.440876 -0.254180  1.232253\n",
       "90  0.784771  0.585910 -0.955425\n",
       "91  0.095425  0.060750  0.921450\n",
       "92  0.884909 -0.867787 -0.877282\n",
       "93 -1.099891 -0.877858 -0.172428\n",
       "94  1.131629  2.185575  1.519817\n",
       "95  1.198918 -0.375285  0.185156\n",
       "96 -1.116470 -0.186579  0.080927\n",
       "97  2.186980 -0.100155  0.441364\n",
       "98  0.562761  0.280665  0.240737\n",
       "99 -0.700399  0.242669 -0.203394\n",
       "\n",
       "[100 rows x 3 columns]"
      ]
     },
     "execution_count": 12,
     "metadata": {},
     "output_type": "execute_result"
    }
   ],
   "source": [
    "# put your code here\n",
    "import pandas as pd\n",
    "data = make_regression(n_samples=100, n_features=3, random_state=1)\n",
    "\n",
    "features = pd.DataFrame(data[0])\n",
    "labels = pd.DataFrame(data[1])\n",
    "\n",
    "features\n"
   ]
  },
  {
   "cell_type": "markdown",
   "metadata": {},
   "source": [
    "## Fitting A Linear Regression Neural Network"
   ]
  },
  {
   "cell_type": "markdown",
   "metadata": {},
   "source": [
    "Because the inputs from one layer of neurons feed to the next layer of the single, output neuron, this is known as a [feedforward network](https://en.wikipedia.org/wiki/Feedforward_neural_network). In the language of graphs, a feedforward network is a **directed, acyclic graph**.\n",
    "\n",
    "<left><img width=\"600\" alt=\"creating a repo\" src=\"https://drive.google.com/uc?export=view&id=1uc69vU4xRi1XlBT-cQGXSm_QnMQ0awtO\"></left>\n",
    "\n",
    "There are some neural network architectures that don't follow this pattern, but we won't be exploring those in this first lesson.\n",
    "\n",
    "### Fitting A Network\n",
    "\n",
    "In the **Linear Regression lesson**, we explored two different approaches to training a linear regression model: **gradient descent** and **ordinary least squares**. Gradient descent is the most common technique for fitting neural network models and we'll explore it in further details later. Because we've implemented gradient descent before in the Linear Regression lesson, we'll rely on the scikit-learn implementation of gradient descent in this time.\n",
    "\n",
    "This implementation lives in the [SGDRegressor class](http://scikit-learn.org/stable/modules/generated/sklearn.linear_model.SGDRegressor.html). We use it the same we do with the LinearRegression class:\n",
    "\n",
    "```python\n",
    "from sklearn.linear_model import SGDRegressor\n",
    "lr = linear_model.SGDRegressor()\n",
    "lr.fit(X,y)\n",
    "```\n",
    "\n",
    "We now have everything we need to implement this network. Because we're focusing on building intuition, we'll be training and testing on the same data set. In real life scenarios, you always want to use a cross validation technique of some kind.\n",
    "\n",
    "**Exercise Start**\n",
    "\n",
    "<left><img width=\"100\" alt=\"creating a repo\" src=\"https://drive.google.com/uc?export=view&id=1E8tR7B9YYUXsU_rddJAyq0FrM0MSelxZ\"></left>\n",
    "\n",
    "\n",
    "- Add a **\"bias\"** column containing the value 1 for each row into **features** dataframe.\n",
    "- Import **SGDRegressor** from **sklearn.linear_model**.\n",
    "- Define two functions:\n",
    "    - **train(features, labels)**: takes in the **features** dataframe and **labels** series and performs model fitting.\n",
    "        - Use the SGDRegressor class from scikit-learn to handle model fitting.\n",
    "        - This function should return just an **NumPy 2D array of weights** for the linear regression model.\n",
    "    - **feedforward(features, weights):** takes in the **features** dataframe and the **weights** NumPy array.\n",
    "        - Perform matrix multiplication between **features** (100 rows by 4 columns) and **weights** (4 rows by 1 column) and assign the result to **predictions**.\n",
    "        - Return **predictions**. We'll skip implementing the identity function, since it just returns the same value that was passed in.\n",
    "    - Uncomment the code we have added for you and run the **train()** and **feedforward()** functions. The final predictions will be stored in **linear_predictions**."
   ]
  },
  {
   "cell_type": "code",
   "execution_count": null,
   "metadata": {},
   "outputs": [],
   "source": [
    "from sklearn.datasets import make_regression\n",
    "import numpy as np\n",
    "data = make_regression(n_samples=100, n_features=3, random_state=1)\n",
    "features = pd.DataFrame(data[0])\n",
    "labels = pd.Series(data[1])\n",
    "\n",
    "# put your code here\n",
    "\n",
    "# Uncomment after you've implemented train() and feedforward()\n",
    "# train_weights = train(features, labels)\n",
    "# train_predictions = feedforward(features, train_weights)"
   ]
  },
  {
   "cell_type": "markdown",
   "metadata": {},
   "source": [
    "## Generating Classification Data"
   ]
  },
  {
   "cell_type": "markdown",
   "metadata": {},
   "source": [
    "To generate sample data friendly for classification, we can use the [make_classification()](http://scikit-learn.org/stable/modules/generated/sklearn.datasets.make_classification.html) function from scikit-learn.\n",
    "\n",
    "The following codes generates a regression data set with 4 features, 1000 observations, 2 classes (default value) and a random seed of 1:"
   ]
  },
  {
   "cell_type": "code",
   "execution_count": 25,
   "metadata": {},
   "outputs": [
    {
     "data": {
      "text/plain": [
       "tuple"
      ]
     },
     "execution_count": 25,
     "metadata": {},
     "output_type": "execute_result"
    }
   ],
   "source": [
    "from sklearn.datasets import make_classification\n",
    "class_data = make_classification(n_samples=1000, \n",
    "                                 n_features=4, \n",
    "                                 random_state=1)\n",
    "type(class_data)"
   ]
  },
  {
   "cell_type": "code",
   "execution_count": 26,
   "metadata": {},
   "outputs": [
    {
     "data": {
      "text/plain": [
       "array([[ 1.91518414,  1.14995454, -1.52847073,  0.79430654],\n",
       "       [ 1.4685668 ,  0.80644722, -1.04912964,  0.74652026],\n",
       "       [ 1.47102089,  0.90060386, -1.20228498,  0.57845433],\n",
       "       [ 1.07642824, -0.1813636 ,  0.49116807,  1.95642108],\n",
       "       [-5.34139911, -2.29763222,  2.77907005, -3.87463248]])"
      ]
     },
     "execution_count": 26,
     "metadata": {},
     "output_type": "execute_result"
    }
   ],
   "source": [
    "# Features\n",
    "class_features = class_data[0]\n",
    "class_features[:5]\n",
    "\n"
   ]
  },
  {
   "cell_type": "code",
   "execution_count": 28,
   "metadata": {},
   "outputs": [
    {
     "data": {
      "text/plain": [
       "array([1, 1, 1, 1, 0])"
      ]
     },
     "execution_count": 28,
     "metadata": {},
     "output_type": "execute_result"
    }
   ],
   "source": [
    "# Labels\n",
    "class_labels = class_data[1]\n",
    "class_labels[:5]"
   ]
  },
  {
   "cell_type": "markdown",
   "metadata": {},
   "source": [
    "We can then use the **pandas.DataFrame()** constructor to create dataframes:\n",
    "\n",
    "```python\n",
    "features = pd.DataFrame(data[0])\n",
    "```\n",
    "\n",
    "Let's generate some classification data for the network we're building.\n",
    "\n",
    "**Exercise Start**\n",
    "\n",
    "<left><img width=\"100\" alt=\"creating a repo\" src=\"https://drive.google.com/uc?export=view&id=1E8tR7B9YYUXsU_rddJAyq0FrM0MSelxZ\"></left>\n",
    "\n",
    "- Generate a data set for classification:\n",
    "    - with 100 observations\n",
    "    - with 4 features\n",
    "    - using the random seed 1\n",
    "- Convert the NumPy array of generated features into a pandas dataframe and assign to **class_features**.\n",
    "- Convert the NumPy array of generated labels into a pandas series and assign to **class_labels**."
   ]
  },
  {
   "cell_type": "code",
   "execution_count": 48,
   "metadata": {},
   "outputs": [],
   "source": [
    "# put your code here"
   ]
  },
  {
   "cell_type": "markdown",
   "metadata": {},
   "source": [
    "## Implementing A Neural Network That Performs Classification"
   ]
  },
  {
   "cell_type": "markdown",
   "metadata": {},
   "source": [
    "**In the last few sections, we replicated linear regression as a feedforward neural network** model and learned about nonlinear activation functions. We now have a better idea of what defines a neural network. So far, we know that neural networks need:\n",
    "\n",
    "- a network structure (how are the nodes connected? which direction does the data and computation flow?)\n",
    "- a feedforward function (how are the node weights and observation values combined?)\n",
    "- an activation function (what transformations on the data are performed?)\n",
    "- a model fitting function (how is the model fit?)\n",
    "\n",
    "We'll now explore how to **build a neural network that replicates a logistic regression model**. We'll start with a quick recap.\n",
    "\n",
    "### Binary Classification and Logistic Regression\n",
    "\n",
    "In **binary classification**, we're interested in finding a model that can differentiate between two categorical values (usually 0 and 1 are used). The values 0 and 1 don't have any numerical weight and are instead act as numerical placeholders for the two categories. We can instead try to learn the probability that a given observation belongs in either category.\n",
    "\n",
    "In the language of conditional probability, we're interested in the probability that a given observation $x$  belongs to each category:\n",
    "\n",
    "$$\n",
    "P(y=0|x) = 0.3 \\\\\n",
    "P(y=1|x) = 0.7\n",
    "$$\n",
    " \n",
    "Because the universe of possibilities only consists of these two categories, the probabilities for both must add up to 1. This lets us simplify what we want a binary classification model to learn:\n",
    "\n",
    "$$\n",
    "P(y=1|x) = ? \n",
    "$$\n",
    " \n",
    "If $P(y=1|x) > 0.5$, we want the model to assign it to category 1. If $P(y=0|x) < 0.5$, we want the model to assign it to category 0.\n",
    "\n",
    "### Implementing A Logistic Regression Model\n",
    "\n",
    "A logistic regression model consists of two main components:\n",
    "\n",
    "- Computing the weighted linear combination of weights and features (just like in a linear regression model): $Xa^T$\n",
    "- Applying a transformation function to squash the result so it varies between 0 and 1: $\\sigma(Xa^T)$\n",
    "\n",
    "Combining these two steps yields the following definition of a logistic regression model:\n",
    "\n",
    "$$\n",
    "\\hat{y} = \\sigma(Xa^T)\n",
    "$$\n",
    "\n",
    "In neural networks literature, this function is usually referred to as the [sigmoid function](https://en.wikipedia.org/wiki/Sigmoid_function):\n",
    "\n",
    "$$\n",
    "S(x) = \\frac{1}{1 + e^{-x}}\n",
    "$$\n",
    "\n",
    "Here's a plot of the sigmoid function:\n",
    "\n",
    "\n"
   ]
  },
  {
   "cell_type": "code",
   "execution_count": 71,
   "metadata": {},
   "outputs": [
    {
     "data": {
      "text/plain": [
       "[<matplotlib.lines.Line2D at 0x1178cfba8>]"
      ]
     },
     "execution_count": 71,
     "metadata": {},
     "output_type": "execute_result"
    },
    {
     "data": {
      "image/png": "[encoded data removed]",
      "text/plain": [
       "<Figure size 432x288 with 1 Axes>"
      ]
     },
     "metadata": {},
     "output_type": "display_data"
    }
   ],
   "source": [
    "import matplotlib.pyplot as plt\n",
    "import numpy as np\n",
    "\n",
    "sigmoid = lambda x: 1b/(1 + np.exp(-x))\n",
    "x=np.linspace(-10,10,100)\n",
    "\n",
    "plt.plot(x,sigmoid(x))"
   ]
  },
  {
   "cell_type": "markdown",
   "metadata": {},
   "source": [
    "You'll notice that the sigmoid function has horizontal asymptotes at 0 and 1, which means any input value will always output a value between 0 and 1.\n",
    "\n",
    "To implement a network that performs classification, the only thing we need to change from the **linear regression network** we implemented is the **activation function**. Instead of using the identity function, we need to use the sigmoid function.\n",
    "\n",
    "Here's a diagram of this network:\n",
    "\n",
    "<left><img width=\"250\" alt=\"creating a repo\" src=\"https://drive.google.com/uc?export=view&id=1Onsw_cuy7cUxh4MhJflkeyOOhgOTbBsT\"></left>\n",
    "\n",
    "\n",
    "**Exercise Start**\n",
    "\n",
    "<left><img width=\"100\" alt=\"creating a repo\" src=\"https://drive.google.com/uc?export=view&id=1E8tR7B9YYUXsU_rddJAyq0FrM0MSelxZ\"></left>\n",
    "\n",
    "- Add a bias column containing the value 1 for each row named **\"bias\"** to the **class_features** dataframe.\n",
    "- Define three functions:\n",
    "    - **log_train(class_features, class_labels)**: takes in the **class_features** dataframe and **class_labels** series and performs model fitting.\n",
    "        - Use the [SGDClassifier](http://scikit-learn.org/stable/modules/generated/sklearn.linear_model.SGDClassifier.html) class from scikit-learn to handle model fitting.\n",
    "        - This function should return just an **NumPy 2D array of weights** for the logistic regression model.\n",
    "    - **sigmoid(linear_combination)**: takes in a NumPy 2D array and applies the sigmoid function for every value: $\\frac{1}{1 + e^{-x}}$\n",
    "    - **log_feedforward(class_features, log_train_weights)**: takes in the **class_features** dataframe and the **log_train_weights** NumPy array.\n",
    "        - Perform matrix multiplication between features (100 rows by 4 columns) and weights (4 rows by 1 column) and assign to **linear_combination**.\n",
    "        - Use the **sigmoid()** function to transform **linear_combinations** and assign the result to **log_predictions**.\n",
    "        - Convert each value in **log_predictions** to a class label:\n",
    "        - If the value is greater than or equal to 0.5, overwrite the value to 1.\n",
    "        - If the value is less than 0.5, overwrite the value to 0.\n",
    "        - Return **log_predictions**\n",
    "- Uncomment the code we have added for you and run the **log_train()** and **log_feedforward()** functions. The final predictions will be stored in **log_predictions.**"
   ]
  },
  {
   "cell_type": "code",
   "execution_count": 73,
   "metadata": {},
   "outputs": [],
   "source": [
    "from sklearn.linear_model import SGDClassifier\n",
    "from sklearn.datasets import make_classification\n",
    "\n",
    "class_data = make_classification(n_samples=100, n_features=4, random_state=1)\n",
    "class_features = class_data[0]\n",
    "class_labels = class_data[1]\n",
    "\n",
    "# put your code here\n",
    "\n",
    "# Uncomment this code when you're ready to test your functions.\n",
    "# log_train_weights = log_train(class_features, class_labels)\n",
    "# log_predictions = log_feedforward(class_features, log_train_weights)"
   ]
  },
  {
   "cell_type": "markdown",
   "metadata": {},
   "source": [
    "## Next Steps\n",
    "\n",
    "In this section, we learned about:\n",
    "\n",
    "- representing systems of equations as graphs\n",
    "- the different components of a neural network\n",
    "- how to represent linear and logistic regression models as graphs\n",
    "- In the next section, we'll dive deep into common activation functions and the role they play in neural network models."
   ]
  },
  {
   "cell_type": "markdown",
   "metadata": {
    "toc-hr-collapsed": true
   },
   "source": [
    "# Nonlinear Activation Functions"
   ]
  },
  {
   "cell_type": "markdown",
   "metadata": {},
   "source": [
    "## Introduction To Activation Functions"
   ]
  },
  {
   "cell_type": "markdown",
   "metadata": {},
   "source": [
    "In the last section, we became familiar with **computational graphs** and how **neural network** models are represented. We also became familiar with **neural network terminology** like:\n",
    "\n",
    "- forward pass\n",
    "- input neurons\n",
    "- output neurons\n",
    "\n",
    "In this section, we'll dive deeper into the role **nonlinear activation functions** play. To help motivate our exploration, let's start by reflecting on the purpose of a machine learning model.\n",
    "\n",
    "The purpose of a machine learning model is to transform training data inputs to the model (which are features) to approximate the training output values. We accomplish this by:\n",
    "\n",
    "- Selecting a specific model to use\n",
    "- Finding the right parameters for this model that work the best\n",
    "- Testing the model to understand how well it generalizes to new data\n",
    "\n",
    "### Linear Regression\n",
    "\n",
    "We use linear regression when we think that the output values can be best approximated by a linear combination of the features and the learned weights. This model is a linear system, because any change in the output value is proportional to the changes in the input values.\n",
    "\n",
    "$$\n",
    "\\hat{y} = a_0 + a_1x_1 + a_2x_2 + \\ldots + a_nx_n\n",
    "$$\n",
    "\n",
    "When the target values $y$ can be approximated by a linear combination of the features $x_1$ to $x_2$, linear regression is the ideal choice. Here's a GIF that visualizes the potential expressability of a linear regression model (by conceptually mimicking what gradient descent does):\n",
    "\n",
    "<left><img width=\"500\" alt=\"creating a repo\" src=\"https://drive.google.com/uc?export=view&id=1RPNyKITU9qXpFa7YI-69PoJquBSEH3FF\"></left>\n",
    "\n",
    "Let's now look at a situation where the output values can't be approximated effectively using a linear combination of the input values.\n",
    "\n",
    "### Logistic Regression\n",
    "\n",
    "In a binary classification problem, the target values are 0 and 1 and the relationship between the features and the target values is nonlinear. This means we need a function that can perform a **nonlinear transformation** of the input features.\n",
    "\n",
    "The sigmoid function is a good choice since all of its input values are squashed to range between 0  and 1.\n",
    "\n",
    "$$\n",
    "\\hat{y} = \\sigma(a_0 + a_1x_1 + a_2x_2 + \\ldots + a_nx_n)\n",
    "$$\n",
    "\n",
    "Adding the sigmoid transformation helps the model approximate this nonlinear relationship underlying common binary classification tasks. The following GIF shows how the shape of the logistic regression model changes as we increase the single weight (by conceptually mimicking what gradient descent does):\n",
    "\n",
    "<left><img width=\"500\" alt=\"creating a repo\" src=\"https://drive.google.com/uc?export=view&id=1fy5LEM6cKjq8n7qzBN1Trfq02GX3Idu-\"></left>\n",
    "\n",
    "### Neural Networks\n",
    "\n",
    "Logistic regression models learn a set of weights that impact the linear combination phase and then are fed through a single nonlinear function (the sigmoid function). In this section, we'll dive into the most commonly used activation functions. The three most commonly used activation functions in neural networks are:\n",
    "\n",
    "- the sigmoid function\n",
    "- the ReLU function\n",
    "- the tanh function\n",
    "\n",
    "Since we've covered the sigmoid function already, we'll focus on the latter two functions."
   ]
  },
  {
   "cell_type": "markdown",
   "metadata": {},
   "source": [
    "## ReLU Activation Function"
   ]
  },
  {
   "cell_type": "markdown",
   "metadata": {},
   "source": [
    "We'll start by introducing the **ReLU** activation function, which is a commonly used activation function in neural networks for solving **regression problems**. ReLU stands for **rectified linear unit** and is defined as follows:\n",
    "\n",
    "$$\n",
    "ReLU = max(0,x)\n",
    "$$\n",
    "\n",
    "The $max()$ function returns the maximum value between $0$ and $x$. This means that:\n",
    "\n",
    "- when $x$ is less than $0$, the value $0$ is returned\n",
    "- when $x$ is greater than $0$, the value $x$ is returned\n",
    "\n",
    "Here's a plot of the function:\n",
    "\n",
    "<left><img width=\"500\" alt=\"creating a repo\" src=\"https://drive.google.com/uc?export=view&id=1ubfxLYyI_tfMt7cGVPmDEvdNcM6X64tf\"></left>\n"
   ]
  },
  {
   "cell_type": "markdown",
   "metadata": {},
   "source": [
    "The ReLU function returns the positive component of the input value. Let's visualize the expressivity of a model that performs a linear combination of the features and weights followed by the ReLU transformation:\n",
    "\n",
    "<left><img width=\"500\" alt=\"creating a repo\" src=\"https://drive.google.com/uc?export=view&id=11aXYWLdlKJaNyIqGFjusc2SNoEcfmVLj\"></left>\n",
    "\n",
    "There are a few different ways we can implement the ReLU function in code. We'll leave it as an exercise for you to implement.\n",
    "\n",
    "**Exercise Start**\n",
    "\n",
    "<left><img width=\"100\" alt=\"creating a repo\" src=\"https://drive.google.com/uc?export=view&id=1E8tR7B9YYUXsU_rddJAyq0FrM0MSelxZ\"></left>\n",
    "\n",
    "- Define the relu() function.\n",
    "    - This function should be able to work with a single value or a list of values.\n",
    "- Call the relu() function, pass in x, and assign the returned value to **relu_y.**\n",
    "- Print both x and **relu_y**.\n",
    "- Generate a line chart with x on the x-axis and **relu_y** on the y-axis.\n"
   ]
  },
  {
   "cell_type": "code",
   "execution_count": null,
   "metadata": {},
   "outputs": [],
   "source": [
    "import matplotlib.pyplot as plt\n",
    "import numpy as np\n",
    "\n",
    "x = np.linspace(-2, 2, 20)\n",
    "\n",
    "# put your code here"
   ]
  },
  {
   "cell_type": "markdown",
   "metadata": {},
   "source": [
    "## Trigonometric Functions"
   ]
  },
  {
   "cell_type": "markdown",
   "metadata": {},
   "source": [
    "The last commonly used activation function in neural networks we'll discuss is the **tanh function** (also known as the **hyperbolic tangent function**). We'll start by reviewing some **trigonometry** by discussing the **tan** (short for tangent) function and then work our way up to the tanh function (in the next screen). While we won't provide the depth here needed to learn trigonometry from scratch, we do recommend the [Trigonometry Series on Khan Academy](https://www.khanacademy.org/math/trigonometry) if you're new to trigonometry.\n",
    "\n",
    "### What is trigonometry?\n",
    "\n",
    "Trigonometry is short for triangle geometry and provides formulas, frameworks, and mental models for reasoning about triangles. Triangles are used extensively in theoretical and applied mathematics, and build on mathematical work done over many centuries. Let's start by clearly defining what a triangle is.\n",
    "\n",
    "A triangle is a [polygon](https://en.wikipedia.org/wiki/Polygon) that has the following properties:\n",
    "\n",
    "- 3 edges\n",
    "- 3 vertices\n",
    "- angles between edges add up to 180 degrees\n",
    "\n",
    "Two main ways that triangles can be classified is by the internal angles or by the edge lengths. The following diagram outlines the three different types of triangles by their edge length properties:\n",
    "\n",
    "<left><img width=\"500\" alt=\"creating a repo\" src=\"https://drive.google.com/uc?export=view&id=189s35_SIzjsdyPAVW4OqXCwId_LhwbjM\"></left>\n",
    "\n",
    "\n",
    "An important triangle that's classified by the internal angles is the **right angle triangle**. In a right angle triangle, one of the angles is 90 degrees (also known as the right angle). The edge opposite of the right angle is called the hypotenuse.\n",
    "\n",
    "<left><img width=\"200\" alt=\"creating a repo\" src=\"https://drive.google.com/uc?export=view&id=1WOxgo3Cv2BdHyRr_AiBYbK8-zFJ3JfBZ\"></left>\n",
    "\n",
    "A trigonometric function is a function that inputs an angle value (usually represented as $\\theta$) and outputs some value. These functions compute ratios between the edge lengths. Here are the first 3 trigonometric functions:\n",
    "\n",
    "$$\n",
    "sin(\\theta) = \\frac{opposite}{hypotenuse}\\\\\n",
    "cos(\\theta) = \\frac{adjacent}{hypotenuse}\\\\\n",
    "tan(\\theta) = \\frac{opposite}{adjacent}\n",
    "$$\n",
    "\n",
    "Let's define these terms further:\n",
    "\n",
    "- Hypotenuse describes the line that isn't touching the right angle.\n",
    "- Opposite refers to the line opposite the angle.\n",
    "- Adjacent refers to the line touching the angle that isn't the hypotenuse.\n",
    "\n",
    "Here's an example of the tangent function.\n",
    "\n",
    "<left><img width=\"400\" alt=\"creating a repo\" src=\"https://drive.google.com/uc?export=view&id=15Ny3YVcsxP6Utw32rS_uZeItg8XnheSL\"></left>\n",
    "\n",
    "Now, how does all of this relate to Cartesian coordinate system? The key idea that lets us plot trigonometric functions on a traditional Cartesian coordinate system is the important relationship between right angle triangles and the **unit circle**. The unit circle is a specific type of circle where the radius is 1 (and usually centered at  (0,0). In a unit circle, any line from the center to the circle itself (in red below) forms a right angle triangle.\n",
    "\n",
    "<left><img width=\"400\" alt=\"creating a repo\" src=\"https://drive.google.com/uc?export=view&id=1Gu0SnShJXmzgnKj8U3OuX6C0Sk00W2oY\"></left>\n",
    "\n",
    "The tangent of $\\theta$ the seen above is calculated by dividing the opposite edge length by the adjacent edge length.\n",
    "\n",
    "<left><img width=\"400\" alt=\"creating a repo\" src=\"https://drive.google.com/uc?export=view&id=1mBA4sgjxtYarI-c09kAkcpW3v1lSw9L2\"></left>\n",
    "\n",
    "Linking the unit circle with the Cartesian coordinate system also has another happy byproduct. Doing so lets us reframe the sin and cos trigonometric functions as returning either the $x$ or $y$  coordinate of a point on that circle. Here's a visualization:\n",
    "\n",
    "<left><img width=\"600\" alt=\"creating a repo\" src=\"https://drive.google.com/uc?export=view&id=1TlEAQ-g-GA_CvizgbbDsxKDf646q5U-4\"></left>\n",
    "\n",
    "This means that the tan function (opposite / adjacent) is really just the ratio between the $y$ value (opposite) and the $x$ value (adjacent) for a point on the unit circle corresponding to the angle. We'll revisit the relevance of this in the next two screens.\n",
    "\n",
    "### Plotting Tan\n",
    "\n",
    "To plot the tangent function, we need to use [radians](https://en.wikipedia.org/wiki/Radian) on the x-axis instead of degrees. To describe a full trip around the circle, radians range from $0$ to $2\\pi$ while degrees range from $0$ to $360$. Wikipedia has a helpful diagram [here](https://en.wikipedia.org/wiki/Radian#/media/File:Degree-Radian_Conversion.svg).\n",
    "\n",
    "To understand how the tan function behaves, let's compute the values from $-2\\pi$ to $2\\pi$.\n",
    "\n",
    "**Exercise Start**\n",
    "\n",
    "<left><img width=\"100\" alt=\"creating a repo\" src=\"https://drive.google.com/uc?export=view&id=1E8tR7B9YYUXsU_rddJAyq0FrM0MSelxZ\"></left>\n",
    "\n",
    "- Use the [numpy.tan()](https://docs.scipy.org/doc/numpy-1.15.1/reference/generated/numpy.tan.html) function to compute the tangent of the values in x and assign the returned value to **tan_y**.\n",
    "- Print both x and **tan_y**.\n",
    "- Generate a line plot with x on the x-axis and **tan_y** on the y-axis."
   ]
  },
  {
   "cell_type": "code",
   "execution_count": 86,
   "metadata": {},
   "outputs": [],
   "source": [
    "x = np.linspace(-2*np.pi, 2*np.pi, 100)\n",
    "\n",
    "# put your code here"
   ]
  },
  {
   "cell_type": "markdown",
   "metadata": {},
   "source": [
    "## Reflecting On The Tangent Function"
   ]
  },
  {
   "cell_type": "markdown",
   "metadata": {},
   "source": [
    "The tangent function from the last section generated the following plot:\n",
    "\n",
    "<left><img width=\"400\" alt=\"creating a repo\" src=\"https://drive.google.com/uc?export=view&id=1xBxztnfguR8mryBpZbd8suQogIGOt3JD\"></left>\n",
    "\n",
    "The periodic sharp spikes that you see in the plot are known as [vertical asymptotes](https://en.wikipedia.org/wiki/Asymptote#Vertical_asymptotes). At those points, the value isn't defined but the limit approaches either negative or positive infinity (depending on which direction you're approaching the  value from).\n",
    "\n",
    "The key takeaway from the plot is how the tangent function is a repeating, **periodic function**. A periodic function is one that returns the same value at regular intervals. Let's look at a table of some values from the tangent function:\n",
    "\n",
    "| x   | tan(x) |\n",
    "|-----|--------|\n",
    "| -pi | 0      |\n",
    "| 0   | 0      |\n",
    "| pi  | 0      |\n",
    "\n",
    "The tangent function repeats itself every $\\pi$, which is known as the period. The tangent function isn't known to be used as an activation function in neural networks (or any machine learning model really) because the periodic nature isn't a pattern that's found in real datasets.\n",
    "\n",
    "While there have been some [experiments with periodic functions](https://ieeexplore.ieee.org/document/819741) as the activation function for neural networks, the general conclusion has been that period functions like tangent don't offer any unique benefits for modeling.\n",
    "\n",
    "Generally speaking, the activation functions that are used in neural networks are [monotonically increasing functions](https://en.wikipedia.org/wiki/Monotonic_function). A monotonically increasing function consists of 2 parts:\n",
    "\n",
    "- a monotonic function: a function that preserves order in both the domain ($x$ values) and the range ($f(x)$)\n",
    "- an increasing function: a function where $f(x)$ always stays the same or increases as $x$ increases\n",
    "\n",
    "All of the activation functions we've looked at (and will look at) in this mission meet this criteria."
   ]
  },
  {
   "cell_type": "markdown",
   "metadata": {},
   "source": [
    "## Hyperbolic Tangent Function"
   ]
  },
  {
   "cell_type": "markdown",
   "metadata": {},
   "source": [
    "While the tangent function describes the ratio of the $y$ and $x$ values on the unit circle, the **hyperbolic tangent function** describes the ratio of $y$ and $x$ values on the [unit hyperbola](https://en.wikipedia.org/wiki/Hyperbola). Here's a diagram of the hyperbola from Wikipedia:\n",
    "\n",
    "<left><img width=\"400\" alt=\"creating a repo\" src=\"https://drive.google.com/uc?export=view&id=1hXVYY1maOCz2BYpLEbVfr9FJ9cHEYE43\"></left>\n",
    "\n",
    "The math behind hyperbolic functions is quite involved and we won't be diving into it in this course. We highly recommend the excellent video on hyperbolic functions on [Khan Academy](https://www.youtube.com/watch?v=Wfpb-fniSSk).\n",
    "\n",
    "We'll rely instead on the [numpy.tanh()](https://docs.scipy.org/doc/numpy/reference/generated/numpy.tanh.html) function to visualize the behavior of this function.\n",
    "\n",
    "**Exercise Start**\n",
    "\n",
    "<left><img width=\"100\" alt=\"creating a repo\" src=\"https://drive.google.com/uc?export=view&id=1E8tR7B9YYUXsU_rddJAyq0FrM0MSelxZ\"></left>\n",
    "\n",
    "- Use the **numpy.tanh()** function to compute the hyperbolic tangent of the values in x and assign the returned value to **tanh_y**.\n",
    "- Print both x and **tanh_y.**\n",
    "- Generate a line plot with x on the x-axis and tanh_y on the y-axis."
   ]
  },
  {
   "cell_type": "code",
   "execution_count": 90,
   "metadata": {},
   "outputs": [],
   "source": [
    "x = np.linspace(-40, 40, 100)\n",
    "\n",
    "# put your code here"
   ]
  },
  {
   "cell_type": "markdown",
   "metadata": {},
   "source": [
    "## Reflecting On The Hyperbolic Tangent Function"
   ]
  },
  {
   "cell_type": "markdown",
   "metadata": {},
   "source": [
    "Here's the plot we generated in the last section:\n",
    "\n",
    "<left><img width=\"500\" alt=\"creating a repo\" src=\"https://drive.google.com/uc?export=view&id=1kuwLK17pDp74PLK2UYvK7lMXbJ_UKxth\"></left>\n",
    "\n",
    "You'll notice that like the **sigmoid** function, the **tanh** function has horizontal asymptotes as $x$ approaches negative or positive infinity. In addition, the **tanh** function also constrains the range ($y$) to between $-1$ and $1$. Because of this property, both the **sigmoid** and the **tanh** functions are commonly used in neural networks for **classification tasks**.\n",
    "\n",
    "The **ReLU** function, on the other hand, is known to be more effective in **regression tasks**."
   ]
  },
  {
   "cell_type": "markdown",
   "metadata": {},
   "source": [
    "## Next Steps\n",
    "\n",
    "- In this section, we learned about:\n",
    "\n",
    "    - The importance of nonlinear activation functions in increasing the complexity of patterns that can be learned.\n",
    "    - The most common nonlinear activation functions and their unique properties.\n",
    "\n",
    "In the next section, we'll dive into how adding layers of weights between the input layer and the output layer enables deep neural network models to learn more complex patterns."
   ]
  },
  {
   "cell_type": "markdown",
   "metadata": {
    "toc-hr-collapsed": true
   },
   "source": [
    "# Hidden Layers"
   ]
  },
  {
   "cell_type": "markdown",
   "metadata": {},
   "source": [
    "## Introduction"
   ]
  },
  {
   "cell_type": "markdown",
   "metadata": {},
   "source": [
    "In the last 2 sections, we worked with single layer neural networks. These networks had a single layer of neurons. To make a prediction, a single layer of neurons in these networks directly fed their results into the output neuron(s).\n",
    "\n",
    "In this section, we'll explore how **multi-layer networks** (also known as **deep neural networks**) are able to better capture nonlinearity in the data. In a deep neural network, the first layer of input neurons feeds into a second, intermediate layer of neurons. Here's a diagram representing this architecture:\n",
    "\n",
    "<left><img width=250 alt=\"creating a repo\" src=\"https://drive.google.com/uc?export=view&id=1FSVFxXoMEnX7ob1ajegGpV8NXtbgFjNI\"></left>\n",
    "\n",
    "We included both of the functions that are used to compute each hidden neuron and output neuron to help clear up any confusion. You'll notice that the number of neurons in the second layer was more than those in the input layer. **Choosing the number of neurons in this layer is a bit of an art** form and not quite a science yet in neural network literature. We can actually add more intermediate layers, and this often leads to improved model accuracy (because of an increased capability in learning nonlinearity).\n",
    "\n",
    "<left><img width=450 alt=\"creating a repo\" src=\"https://drive.google.com/uc?export=view&id=1TyF5tUpJeORG737eAsoXG1SrVsyAMnSg\"></left>\n",
    "\n",
    "The intermediate layers are known as **hidden layers**, because they aren't directly represented in the input data or the output predictions. Instead, we can think of each hidden layer as intermediate features that are learned during the training process.\n",
    "\n",
    "### Comparison With Decision Tree Models\n",
    "\n",
    "This is actually very similar to how decision trees are structured. The branches and splits represent some intermediate features that are useful for making predictions and are analogous to the hidden layers in a neural network:\n",
    "\n",
    "<left><img width=650 alt=\"creating a repo\" src=\"https://drive.google.com/uc?export=view&id=1hY9s1zM5Ky-sAfK9U-NM48topA6X-Zc4\"></left>\n",
    "\n",
    "Each of these hidden layers has it's own set of weights and biases, which are discovered during the training process. In decision tree models, the intermediate features in the model represented something more concrete we can understand (feature ranges).\n",
    "\n",
    "Decision tree models are referred to as **white box** models because they can be observed and understood but not easily altered. After we train a decision tree model, we can visualize the tree, interpret it, and have new ideas for tweaking the model. Neural networks, on the other hand, are much closer to being a **black box**. In a black box model, we can understand the inputs and the outputs but the intermediate features are actually difficult to interpret and understand. Even harder and perhaps more importantly, it's difficult to understand how to tweak a neural network based on these intermediate features.\n",
    "\n",
    "In this section, we'll learn how adding more layers to a network and adding more neurons in the hidden layers can improve the model's ability to learn more complex relationships."
   ]
  },
  {
   "cell_type": "markdown",
   "metadata": {},
   "source": [
    "## Generating Data That Contains Nonlinearity"
   ]
  },
  {
   "cell_type": "markdown",
   "metadata": {},
   "source": [
    "To generate data with nonlinearity in the features (both between the features and between the features and the target column), we can use the [make_moons()](http://scikit-learn.org/stable/modules/generated/sklearn.datasets.make_moons.html#sklearn.datasets.make_moons) function from scikit-learn:\n",
    "\n",
    "\n"
   ]
  },
  {
   "cell_type": "code",
   "execution_count": 94,
   "metadata": {},
   "outputs": [
    {
     "data": {
      "text/plain": [
       "tuple"
      ]
     },
     "execution_count": 94,
     "metadata": {},
     "output_type": "execute_result"
    }
   ],
   "source": [
    "from sklearn.datasets import make_moons\n",
    "data = make_moons()\n",
    "\n",
    "type(data)"
   ]
  },
  {
   "cell_type": "code",
   "execution_count": 99,
   "metadata": {},
   "outputs": [
    {
     "data": {
      "text/plain": [
       "(100, 2)"
      ]
     },
     "execution_count": 99,
     "metadata": {},
     "output_type": "execute_result"
    }
   ],
   "source": [
    "data[0].shape"
   ]
  },
  {
   "cell_type": "code",
   "execution_count": 100,
   "metadata": {},
   "outputs": [
    {
     "data": {
      "text/plain": [
       "(100,)"
      ]
     },
     "execution_count": 100,
     "metadata": {},
     "output_type": "execute_result"
    }
   ],
   "source": [
    "data[1].shape"
   ]
  },
  {
   "cell_type": "markdown",
   "metadata": {},
   "source": [
    "By default, make_moons() will generate 100 rows of data with 2 features. Here's a plot that visualizes one feature against the other:\n",
    "\n",
    "<left><img width=350 alt=\"creating a repo\" src=\"https://drive.google.com/uc?export=view&id=1Dw-iNlbp6_JHxwuh1bHH5MhoFA8k3T2H\"></left>\n",
    "\n",
    "To make things interesting, let's add some Gaussian noise to the data. Gaussian noise is a kind of statistical noise that follows the [Gaussian distribution](https://en.wikipedia.org/wiki/Gaussian_noise), and it's a common way to try to recreate the noise that's often found in real world data.\n",
    "\n",
    "We can use the **noise** parameter to specify the standard deviation of the Gaussian noise we want added to the data. Let's also set the **random_state** to 3 so the generated data can be recreated:\n",
    "\n",
    "```python\n",
    "data = make_moons(random_state = 3, noise=0.04)\n",
    "```\n",
    "\n",
    "Just like in a previous mission, we can separate the resulting NumPy object into 2 pandas dataframes:"
   ]
  },
  {
   "cell_type": "code",
   "execution_count": 103,
   "metadata": {},
   "outputs": [],
   "source": [
    "features = pd.DataFrame(data[0])\n",
    "labels = pd.Series(data[1])"
   ]
  },
  {
   "cell_type": "code",
   "execution_count": 104,
   "metadata": {},
   "outputs": [
    {
     "data": {
      "text/plain": [
       "0    0\n",
       "1    0\n",
       "2    0\n",
       "3    1\n",
       "4    0\n",
       "dtype: int64"
      ]
     },
     "execution_count": 104,
     "metadata": {},
     "output_type": "execute_result"
    }
   ],
   "source": [
    "labels.head()"
   ]
  },
  {
   "cell_type": "code",
   "execution_count": 105,
   "metadata": {},
   "outputs": [
    {
     "data": {
      "text/html": [
       "<div>\n",
       "<style scoped>\n",
       "    .dataframe tbody tr th:only-of-type {\n",
       "        vertical-align: middle;\n",
       "    }\n",
       "\n",
       "    .dataframe tbody tr th {\n",
       "        vertical-align: top;\n",
       "    }\n",
       "\n",
       "    .dataframe thead th {\n",
       "        text-align: right;\n",
       "    }\n",
       "</style>\n",
       "<table border=\"1\" class=\"dataframe\">\n",
       "  <thead>\n",
       "    <tr style=\"text-align: right;\">\n",
       "      <th></th>\n",
       "      <th>0</th>\n",
       "      <th>1</th>\n",
       "    </tr>\n",
       "  </thead>\n",
       "  <tbody>\n",
       "    <tr>\n",
       "      <th>0</th>\n",
       "      <td>-0.623490</td>\n",
       "      <td>0.781831</td>\n",
       "    </tr>\n",
       "    <tr>\n",
       "      <th>1</th>\n",
       "      <td>0.801414</td>\n",
       "      <td>0.598111</td>\n",
       "    </tr>\n",
       "    <tr>\n",
       "      <th>2</th>\n",
       "      <td>0.991790</td>\n",
       "      <td>0.127877</td>\n",
       "    </tr>\n",
       "    <tr>\n",
       "      <th>3</th>\n",
       "      <td>1.981559</td>\n",
       "      <td>0.308841</td>\n",
       "    </tr>\n",
       "    <tr>\n",
       "      <th>4</th>\n",
       "      <td>0.926917</td>\n",
       "      <td>0.375267</td>\n",
       "    </tr>\n",
       "  </tbody>\n",
       "</table>\n",
       "</div>"
      ],
      "text/plain": [
       "          0         1\n",
       "0 -0.623490  0.781831\n",
       "1  0.801414  0.598111\n",
       "2  0.991790  0.127877\n",
       "3  1.981559  0.308841\n",
       "4  0.926917  0.375267"
      ]
     },
     "execution_count": 105,
     "metadata": {},
     "output_type": "execute_result"
    }
   ],
   "source": [
    "features.head()"
   ]
  },
  {
   "cell_type": "markdown",
   "metadata": {},
   "source": [
    "**Exercise Start**\n",
    "\n",
    "<left><img width=\"100\" alt=\"creating a repo\" src=\"https://drive.google.com/uc?export=view&id=1E8tR7B9YYUXsU_rddJAyq0FrM0MSelxZ\"></left>\n",
    "\n",
    "\n",
    "- Use the **make_moons()** function to generate data with nonlinearity:\n",
    "    - Generate 100 values.\n",
    "    - Set the random seed to 3.\n",
    "    - Set the noise parameter to 0.04.\n",
    "- Convert the NumPy array of generated features into a pandas dataframe and assign to **features**.\n",
    "- Convert the NumPy array of generated labels into a pandas series and assign to **labels**.\n",
    "- Generate a 3d scatter plot of the data:\n",
    "    - Create a matplotlib figure object and set to figsize to (8,8) (**plt.figure()**).\n",
    "    - Create and attach single axes object to this figure using the 3d projection: **ax = fig.add_subplot(111, projection='3d')**\n",
    "    - Generate a 3d scatter plot with the first column from features on the x-axis and the second column from features.\n"
   ]
  },
  {
   "cell_type": "code",
   "execution_count": 107,
   "metadata": {},
   "outputs": [],
   "source": [
    "from mpl_toolkits.mplot3d import Axes3D\n",
    "from sklearn.datasets import make_moons\n",
    "import pandas as pd\n",
    "import matplotlib.pyplot as plt\n",
    "\n",
    "# put your code here"
   ]
  },
  {
   "cell_type": "markdown",
   "metadata": {},
   "source": [
    "## Hidden Layer With A Single Neuron"
   ]
  },
  {
   "cell_type": "markdown",
   "metadata": {},
   "source": [
    "In the sections 1 and 2, we learned how adding a nonlinear activation function expanded the range of patterns that a model could try to learn. The following GIF demonstrates how adding the sigmoid function enables a logistic regression model to capture nonlinearity more effectively:\n",
    "\n",
    "<left><img width=\"400\" alt=\"creating a repo\" src=\"https://drive.google.com/uc?export=view&id=1z2BLfw6XHL3RbphDHAmgXxLhNplXHmml\"></left>\n",
    "\n",
    "We can think of a logistic regression model as a neural network with an activation function but no hidden layers. To make predictions, a linear combination of the features and weights is performed followed by a single sigmoid transformation.\n",
    "\n",
    "<left><img width=\"200\" alt=\"creating a repo\" src=\"https://drive.google.com/uc?export=view&id=1vBUzJo11X6uybCfRIYKIZO2JCt1T_Jsq\"></left>\n",
    "\n",
    "To improve the expressive power, we can add a hidden layer of neurons in between the input layer and the output layer. Here's an example where we've added a single hidden layer with a single neuron in between the input layer and the output layer:\n",
    "\n",
    "<left><img width=\"500\" alt=\"creating a repo\" src=\"https://drive.google.com/uc?export=view&id=15eTYAknKzI2SMWu-8NbSjlJYV5r3uxiB\"></left>\n",
    "\n",
    "This network contains two sets of weights that are learned during the training phase:\n",
    "\n",
    "- 4 weights between the input layer and the hidden layer\n",
    "- 1 weight between the hidden layer and the output layer\n",
    "\n",
    "In the next section, we'll learn how to train a neural network with a hidden layer using scikit-learn. We'll compare this model with a logistic regression model."
   ]
  },
  {
   "cell_type": "markdown",
   "metadata": {},
   "source": [
    "## Training A Neural Network Using Scikit-learn"
   ]
  },
  {
   "cell_type": "markdown",
   "metadata": {},
   "source": [
    "Scikit-learn contains two classes for working with neural networks:\n",
    "\n",
    "- [MLPClassifier](http://scikit-learn.org/stable/modules/generated/sklearn.neural_network.MLPClassifier.html)\n",
    "- [MLPRegressor](http://scikit-learn.org/stable/modules/generated/sklearn.neural_network.MLPRegressor.html)\n",
    "\n",
    "Let's focus on the **MLPClassifier** class. As with all of the model classes in scikit-learn, MLPClassifier follows the standard model.fit() and model.predict() pattern:\n",
    "\n",
    "```python\n",
    "from sklearn.neural_network import MLPClassifier\n",
    "mlp = MLPClassifier()\n",
    "mlp.fit(X_train, y_train)\n",
    "predictions = mlp.predict(X_test)\n",
    "```\n",
    "\n",
    "We can specify the number of hidden neurons we want to use in each layer using the **hidden_layer_sizes** parameter. This parameter accepts a tuple where the index value corresponds to the number of neurons in that hidden layer. The parameter is set to the tuple (100,) by default, which corresponds to a hundred neurons in a single hidden layer. The following code specifies a hidden layer of six neurons:\n",
    "\n",
    "```python\n",
    "mlp = MLPClassifier(hidden_layer_sizes=(6,))\n",
    "```\n",
    "\n",
    "We can specify the **activation function** we want used in all layers using the activation parameter. This parameter accepts only the following string values:\n",
    "\n",
    "- **'identity'**: the identity function\n",
    "- **'logistic'**: the sigmoid function\n",
    "- **'tanh'**: the hyperbolic tangent (tanh) function\n",
    "- **'relu'**: the ReLU function\n",
    "\n",
    "\n",
    "Here's a model instantiated with the sigmoid activation function:\n",
    "\n",
    "```python\n",
    "mlp = MLPClassifier(hidden_layer_sizes=(6,), activation='logistic')\n",
    "```\n",
    "\n",
    "While scikit-learn is friendly to use when learning new concepts, it has a few limitations when it comes to working with neural networks in production.\n",
    "\n",
    "- At the time of writing, scikit-learn only supports using the same activation function for all layers.\n",
    "Scikit-learn also struggles to scale to larger datasets.\n",
    "- Libraries like [Theano](http://deeplearning.net/software/theano/) and [TensorFlow](https://www.tensorflow.org/) support offloading some computation to the GPU to overcome bottlenecks.\n",
    "\n",
    "**Exercise Start**\n",
    "\n",
    "<left><img width=\"100\" alt=\"creating a repo\" src=\"https://drive.google.com/uc?export=view&id=1E8tR7B9YYUXsU_rddJAyq0FrM0MSelxZ\"></left>\n",
    "\n",
    "- Train two different models using scikit-learn on the training set:\n",
    "    - A standard logistic regression model\n",
    "    - A neural network with:\n",
    "        - A single hidden layer\n",
    "        - A single neuron in the hidden layer\n",
    "        - The sigmoid activation function\n",
    "        - evaluate differents **iter_max** values\n",
    "- Make predictions on the test set using the logistic regression model and assign to **log_predictions**\n",
    "- Make predictions on the test set using the neural network model and assign to **nn_predictions.**\n",
    "- Compute the [accuracy score](https://scikit-learn.org/stable/modules/generated/sklearn.metrics.accuracy_score.html) for **log_predictions** and assign to **log_accuracy.**\n",
    "- Compute the **accuracy score** for **nn_predictions** and assign to **nn_accuracy.**\n",
    "- Print both **log_accuracy** and **nn_accuracy**."
   ]
  },
  {
   "cell_type": "code",
   "execution_count": 109,
   "metadata": {},
   "outputs": [],
   "source": [
    "from sklearn.neural_network import MLPClassifier\n",
    "from sklearn.linear_model import LogisticRegression\n",
    "from sklearn.metrics import accuracy_score\n",
    "from sklearn.model_selection import train_test_split\n",
    "\n",
    "data = make_moons(1000, random_state=3, noise=0.04)\n",
    "features = pd.DataFrame(data[0])\n",
    "labels = pd.Series(data[1])\n",
    "features[\"bias\"] = 1\n",
    "\n",
    "train_x, test_x, train_y, test_y = train_test_split(features,\n",
    "                                                    labels,\n",
    "                                                    test_size=0.30, \n",
    "                                                    random_state=42)\n",
    "\n",
    "# put your code here"
   ]
  },
  {
   "cell_type": "markdown",
   "metadata": {},
   "source": [
    "## Hidden Layer With Multiple Neurons"
   ]
  },
  {
   "cell_type": "markdown",
   "metadata": {},
   "source": [
    "In the previous section, the neural network and logistic regression models produced the same accuracy score. While we don't recommend using the accuracy score to benchmark classification models, they can helpful when we're learning and experimenting because they are easy to understand.\n",
    "\n",
    "Let's take a look at a network with a single hidden layer of multiple neurons:\n",
    "\n",
    "<left><img width=\"400\" alt=\"creating a repo\" src=\"https://drive.google.com/uc?export=view&id=1LET7Oz3hfTOFY2uqGRqleWNCZXHjsWmD\"></left>\n",
    "\n",
    "This network has 3 input neurons, 6 neurons in the single hidden layer, and 1 output neuron. You'll notice that there's an arrow between every input neuron and every hidden neuron (3 x 6 = 18 connections), representing a weight that needs to be learned during the training process. You'll notice that there's also a weight that needs to be learned between every hidden neuron and the final output neuron (6 x 1 = 6 connections).\n",
    "\n",
    "Because every neuron has a connection between itself and the next layer of neurons, this is known as a **fully connected network**. Lastly, because the computation flows from left (input layer) to right (hidden layer then to output layer), we can call this network a **fully connected, feedforward network**.\n",
    "\n",
    "There are two weight matrices ($\\alpha_1$ and $\\alpha_2$) that need to be learned during the training process, one for each stage of the computation. Let's look at the linear algebra representation of this network.\n",
    "\n",
    "<left><img width=\"600\" alt=\"creating a repo\" src=\"https://drive.google.com/uc?export=view&id=1nAT3aFvxw9qI4VWwldvOi0u3RTdMJ5eP\"></left>\n",
    "\n",
    "While we've discussed different architectures in this course, a deep neural network boils down to a series of matrix multiplications paired with nonlinear transformations! These are the key ideas that underlie all neural network architectures. Take a look at this conceptual diagram from the **Asimov Institute** that demonstrates a variety of neural network architectures:\n",
    "\n",
    "<left><img width=\"600\" alt=\"creating a repo\" src=\"https://drive.google.com/uc?export=view&id=1anN1gmLL7ttnD8shF4IXM15kKgDpVwE0\"></left>\n",
    "\n",
    "Let's experimenting with adding more neurons to the hidden layer in the neural network from the last screen and see how the accuracy changes.\n",
    "\n",
    "**Exercise Start**\n",
    "\n",
    "<left><img width=\"100\" alt=\"creating a repo\" src=\"https://drive.google.com/uc?export=view&id=1E8tR7B9YYUXsU_rddJAyq0FrM0MSelxZ\"></left>\n",
    "\n",
    "- Create a the following list of neuron counts and assign to **neurons: [1, 5, 10, 15, 20, 25]**\n",
    "- Create an empty list named **accuracies**.\n",
    "- For each value in neurons:\n",
    "    - Train a neural network:\n",
    "        - with the number of neurons in the hidden layer set to the current value\n",
    "        - using the sigmoid activation function\n",
    "    - Make predictions on the test set and compute the accuracy value.\n",
    "    - Append the accuracy value to **accuracies.**\n",
    "- Print **accuracies.**"
   ]
  },
  {
   "cell_type": "code",
   "execution_count": null,
   "metadata": {},
   "outputs": [],
   "source": [
    "from sklearn.neural_network import MLPClassifier\n",
    "from sklearn.linear_model import LogisticRegression\n",
    "from sklearn.metrics import accuracy_score\n",
    "from sklearn.model_selection import train_test_split\n",
    "\n",
    "data = make_moons(1000, random_state=3, noise=0.04)\n",
    "features = pd.DataFrame(data[0])\n",
    "labels = pd.Series(data[1])\n",
    "features[\"bias\"] = 1\n",
    "\n",
    "train_x, test_x, train_y, test_y = train_test_split(features,\n",
    "                                                    labels,\n",
    "                                                    test_size=0.30, \n",
    "                                                    random_state=42)\n",
    "\n",
    "# put your code here"
   ]
  },
  {
   "cell_type": "markdown",
   "metadata": {},
   "source": [
    "## Multiple Hidden Layers"
   ]
  },
  {
   "cell_type": "markdown",
   "metadata": {},
   "source": [
    "It seems like the test set prediction accuracy improved to 0.88 when using ten neurons in the hidden layer. In general, the accuracy didn't vastly improve between the models:\n",
    "\n",
    "```python\n",
    "print(accuracies)\n",
    "[0.5, 0.8766666666666667, 0.88, 0.88, 0.88, 0.88]\n",
    "```\n",
    "\n",
    "Next, we can try increasing the number of hidden layers to see if that helps improve the accuracy of the network. Here's a diagram representing a neural network with six neurons in the first hidden layer and four neurons in the second hidden layer:\n",
    "\n",
    "<left><img width=\"400\" alt=\"creating a repo\" src=\"https://drive.google.com/uc?export=view&id=11pXUHkxYlsExuoRNfbBSM7A00SaYi0Xq\"></left>\n",
    "\n",
    "To determine the number of weights between the layers, multiply the number of neurons between those two layers. Remember that these weights will be represented as weight matrices.\n",
    "\n",
    "To specify the number of hidden layers and the number of neurons in each hidden layer, we change the tuple we pass in to the hidden_layer_sizes parameter:\n",
    "\n",
    "```python\n",
    "mlp = MLPClassifier(hidden_layer_sizes=(n,k))\n",
    "```\n",
    "\n",
    "**Exercise Start**\n",
    "\n",
    "<left><img width=\"100\" alt=\"creating a repo\" src=\"https://drive.google.com/uc?export=view&id=1E8tR7B9YYUXsU_rddJAyq0FrM0MSelxZ\"></left>\n",
    "\n",
    "- Create a the following list of neuron counts and assign to **neurons: [1, 5, 10, 15, 20, 25]**\n",
    "- Create an empty list named **nn_accuracies.**\n",
    "- For each value in **neurons:**\n",
    "    - Train a neural network:\n",
    "        - with two hidden layers, each containing the same number of neurons (the current value in neurons)\n",
    "        - using the sigmoid activation function\n",
    "    - Make predictions on the test set and compute the accuracy value.\n",
    "    - Append the accuracy value to **nn_accuracies.**\n",
    "- Print nn_accuracies."
   ]
  },
  {
   "cell_type": "code",
   "execution_count": null,
   "metadata": {},
   "outputs": [],
   "source": [
    "from sklearn.neural_network import MLPClassifier\n",
    "from sklearn.linear_model import LogisticRegression\n",
    "from sklearn.metrics import accuracy_score\n",
    "from sklearn.model_selection import train_test_split\n",
    "\n",
    "data = make_moons(1000, random_state=3, noise=0.04)\n",
    "features = pd.DataFrame(data[0])\n",
    "labels = pd.Series(data[1])\n",
    "features[\"bias\"] = 1\n",
    "\n",
    "train_x, test_x, train_y, test_y = train_test_split(features,\n",
    "                                                    labels,\n",
    "                                                    test_size=0.30, \n",
    "                                                    random_state=42)\n",
    "\n",
    "# put your code here"
   ]
  },
  {
   "cell_type": "markdown",
   "metadata": {},
   "source": [
    "## Next Steps"
   ]
  },
  {
   "cell_type": "markdown",
   "metadata": {},
   "source": [
    "It looks like the accuracy didn't increase with two hidden layers.\n",
    "\n",
    "```python\n",
    "[0.5, 0.88, 0.8833333333333333, 0.88, 0.88, 0.88]\n",
    "```\n",
    "\n",
    "Adding more layers can cause the network to overfit, which may have happened here. Let's shift our attention to a problem where neural networks are known to shine.\n",
    "\n",
    "Next, and last in this lesson, is a few steps where you'll build deep neural networks to classify handwritten digits. Neural networks have known to excel at image classification tasks, so this will be an exciting real-world problem for you to work on."
   ]
  },
  {
   "cell_type": "markdown",
   "metadata": {
    "toc-hr-collapsed": true
   },
   "source": [
    "# Case Study: Building A Handwritten Digits Classifier"
   ]
  },
  {
   "cell_type": "markdown",
   "metadata": {},
   "source": [
    "## Introduction"
   ]
  },
  {
   "cell_type": "markdown",
   "metadata": {},
   "source": [
    "In the last section, we learned how adding hidden layers of neurons to a neural network can improve its ability to capture nonlinearity in the data. We tested different neural networks models on a dataset that we generated with deliberate nonlinearity.\n",
    "\n",
    "Now, in this section we'll:\n",
    "\n",
    "- explore why image classification is a hard task\n",
    "- observe the limitations of traditional machine learning models for image classification\n",
    "- train, test, and improve a few different deep neural networks for image classification\n",
    "\n",
    "\n",
    "As we mentioned in the first section in this lesson, deep neural networks have been used to reach state-of-the-art performance on **image classification** tasks in the last decade. For some image classification tasks, deep neural networks actually perform as well as or slightly better than the human benchmark. You can read about the history of deep neural networks [here](https://arxiv.org/pdf/1803.01164.pdf).\n",
    "\n",
    "To end this lesson, we'll build models that can classify handwritten digits. Before the year 2000, institutions like the United States Post Office used handwriting recognition software to read addresses, zip codes, and more. One of their approaches, which consists of pre-processing handwritten images then feeding to a neural network model is detailed in this [paper](http://citeseerx.ist.psu.edu/viewdoc/download?doi=10.1.1.852.5499&rep=rep1&type=pdf).\n",
    "\n",
    "### Why is image classifcation a hard task?\n",
    "\n",
    "Within the field of machine learning and pattern recognition, image classification (especially for handwritten text) is towards the difficult end of the spectrum. There are a few reasons for this.\n",
    "\n",
    "First, each image in a training set is high dimensional. Each pixel in an image is a feature and a separate column. This means that a 128 x 128 image has 16384 features.\n",
    "\n",
    "Second, images are often downsampled to lower resolutions and transformed to grayscale (no color). This is a limitation of compute power unfortunately. The resolution of a 8 megapixel photo has 3264 by 2448 pixels, for a total of 7,990,272 features (or about 8 million). Images of this resolution are usually scaled down to between 128 and 512 pixels in either direction for significantly faster processing. This often results in a loss of detail that's available for training and pattern matching.\n",
    "\n",
    "Third, the features in an image don't have an obvious linear or nonlinear relationship that can be learned with a model like linear or logistic regression. In grayscale, each pixel is just represented as a brightness value ranging from 0 to 256.\n",
    "\n",
    "Here's an example of how an image is represented across the different abstractions we care about:\n",
    "\n",
    "<left><img width=\"600\" alt=\"creating a repo\" src=\"https://drive.google.com/uc?export=view&id=1TEFvHIvnBTJevVGDhMlRvu-0_0jSxfVb\"></left>\n",
    "\n",
    "### Why is deep learning effective in image classification?\n",
    "\n",
    "Deep learning is effective in image classification because of the models' **ability to learn hierarchical representations**. At a high level, an effective deep learning model learns intermediate representations at each layer in the model and uses them in the prediction process. Here's a diagram that visualizes what the weights represent at each layer of a **convolutional neural network**, a type of network that's often used in image classification and unfortunately out of scope for this lesson, which was trained to identify faces.\n",
    "\n",
    "<left><img width=\"600\" alt=\"creating a repo\" src=\"https://drive.google.com/uc?export=view&id=1Rd4p4C9Xg75FZ9IPaTWQq56sIhGEQpm-\"></left>\n",
    "\n",
    "You'll notice in the first hidden layer the network learned to represent edges and specific features of faces. In the second hidden layer, the weights seemed to represent higher level facial features like eyes and noses. Finally, the weights in the last hidden layer resemble faces that could be matched against. Each successive layer uses weights from previous layers to try to learn more complex representations.\n"
   ]
  },
  {
   "cell_type": "markdown",
   "metadata": {},
   "source": [
    "## Working With Image Data"
   ]
  },
  {
   "cell_type": "markdown",
   "metadata": {},
   "source": [
    "Because dataframes are a tabular representation of data, each image is represented as a row of pixel values. To visualize an image from the dataframe, we need to reshape the image back to its original dimensions (28 x 28 pixels). To visualize the image, we need to reshape these pixel values back into the 28 by 28 and plot them on a coordinate grid.\n",
    "\n",
    "To reshape the image, we need to convert a training example to a numpy array (excluding the label column) and pass the result into that into the [numpy.reshape()](https://docs.scipy.org/doc/numpy/reference/generated/numpy.reshape.html) function:\n",
    "\n",
    "```python\n",
    "first_image = train.iloc[0]\n",
    "first_image = first_image.drop('label', axis=1)\n",
    "np_image = first_image.values\n",
    "np_image = np_image.reshape(28,28)\n",
    "```\n",
    "\n",
    "Now that the data is in the right shape, we can visualize it using [pyplot.imshow()](https://matplotlib.org/api/_as_gen/matplotlib.pyplot.imshow.html?highlight=matplotlib%20pyplot%20imshow#matplotlib.pyplot.imshow) function:\n",
    "\n",
    "```python\n",
    "plt.imshow(np_image, cmap='gray_r')\n",
    "```\n",
    "\n",
    "To display multiple images in one matplotlib figure, we can use the equivalent [axes.imshow()](https://matplotlib.org/api/_as_gen/matplotlib.axes.Axes.imshow.html#matplotlib.axes.Axes.imshow) function. Let's use what we've learned to display images from both classes.\n",
    "\n",
    "```python\n",
    "f, ax = plt.subplots(1, 2)\n",
    "\n",
    "axarr[0, 0].imshow(data.iloc[0].values.reshape(28,28), cmap='gray_r')\n",
    "axarr[0, 1].imshow(data.iloc[100].values.reshape(28,28), cmap='gray_r')\n",
    "```\n",
    "\n",
    "**Exercise Start**\n",
    "\n",
    "<left><img width=\"100\" alt=\"creating a repo\" src=\"https://drive.google.com/uc?export=view&id=1E8tR7B9YYUXsU_rddJAyq0FrM0MSelxZ\"></left>\n",
    "\n",
    "- Import **load_digits()** from the **sklearn.datasets** package. This function load and return the digits dataset (classification). Each datapoint is a 8x8 image of a digit.\n",
    "- Run **load_digits()** function and store the result to **digits**. \n",
    "- Transform the NumPy 2D array (**digits[\"data\"]**) into the dataframe **df_digits**.\n",
    "- Transform the Numpy 1D array (**digits[\"target\"]**) into the serie **label**.\n",
    "- Use matplotlib to visualize some of the images in the dataset.\n",
    "    - Generate a subplot grid, with 2 rows and 4 columns.\n",
    "    - In the first row:\n",
    "        - Display the images corresponding to rows 0, 100, 200, and 300.\n",
    "    - In the second row:\n",
    "        - Display the images corresponding to rows 1000, 1100, 1200, and 1300."
   ]
  },
  {
   "cell_type": "code",
   "execution_count": 1,
   "metadata": {},
   "outputs": [],
   "source": [
    "# put your code here"
   ]
  },
  {
   "cell_type": "markdown",
   "metadata": {},
   "source": [
    "## K-Nearest Neighbors Model"
   ]
  },
  {
   "cell_type": "markdown",
   "metadata": {},
   "source": [
    "While **linear** and **logistic regression** models make assumptions about the linearity between the features and the output labels, the **k-nearest neighbors** algorithm make no such assumption. This allows them to capture nonlinearity in the data. If you recall, k-nearest neighbors don't have a specific model representation (hence why it's referred to as an algorithm and not a model).\n",
    "\n",
    "The k-nearest neighbors algorithm compares every unseen observation in the test set to all (or many, as some implementations constrain the search space) training observations to look for similar (or the \"nearest\") observations. Then, the algorithm finds the label with the most nearby observations and assigns that as the prediction for the unseen observation.\n",
    "\n",
    "Recall that you can use the [KNeighborsClassifier](http://scikit-learn.org/stable/modules/generated/sklearn.neighbors.KNeighborsClassifier.html) package to train and test k-nearest neighbors models.\n",
    "\n",
    "**Exercise Start**\n",
    "\n",
    "<left><img width=\"100\" alt=\"creating a repo\" src=\"https://drive.google.com/uc?export=view&id=1E8tR7B9YYUXsU_rddJAyq0FrM0MSelxZ\"></left>\n",
    "\n",
    "- Create a plot to evaluate the relation between mean accuracy of models and the number of neigbors"
   ]
  },
  {
   "cell_type": "code",
   "execution_count": 36,
   "metadata": {},
   "outputs": [
    {
     "data": {
      "text/plain": [
       "0.9627183865379857"
      ]
     },
     "execution_count": 36,
     "metadata": {},
     "output_type": "execute_result"
    }
   ],
   "source": [
    "from sklearn.neighbors import KNeighborsClassifier\n",
    "from sklearn.model_selection import KFold\n",
    "from sklearn.metrics import accuracy_score\n",
    "\n",
    "# number of neighbors\n",
    "neighbors = 3\n",
    "\n",
    "# store the accuracy results\n",
    "fold_accuracies = []\n",
    "\n",
    "# k-fold validation\n",
    "# df_digits is our original data\n",
    "kf = KFold(n_splits = 4, random_state=2)\n",
    "\n",
    "for train_index, test_index in kf.split(df_digits):\n",
    "    \n",
    "    # split each fold into train and test\n",
    "    train_features, test_features = df_digits.loc[train_index], df_digits.loc[test_index]\n",
    "    train_labels, test_labels = labels.loc[train_index], labels.loc[test_index]\n",
    "    \n",
    "    # create a knn classifier model\n",
    "    knn = KNeighborsClassifier(n_neighbors = neighbors)\n",
    "    knn.fit(train_features, train_labels)\n",
    "    \n",
    "    # make predictions\n",
    "    predictions = knn.predict(test_features)\n",
    "    \n",
    "    # evaluate accuracy\n",
    "    overall_accuracy = accuracy_score(test_labels, predictions)\n",
    "    fold_accuracies.append(overall_accuracy)\n",
    "\n",
    "np.mean(fold_accuracies)"
   ]
  },
  {
   "cell_type": "markdown",
   "metadata": {},
   "source": [
    "## Neural Network With One Hidden Layer"
   ]
  },
  {
   "cell_type": "markdown",
   "metadata": {},
   "source": [
    "There are a few downsides to using k-nearest neighbors:\n",
    "\n",
    "- high memory usage (for each new unseen observation, many comparisons need to be made to seen observations)\n",
    "- no model representation to debug and explore\n",
    "\n",
    "Let's now try a neural network with a single hidden layer. Use the [MLPClassifier](http://scikit-learn.org/stable/modules/generated/sklearn.neural_network.MLPClassifier.html) package from scikit-learn.\n",
    "\n",
    "**Exercise Start**\n",
    "\n",
    "<left><img width=\"100\" alt=\"creating a repo\" src=\"https://drive.google.com/uc?export=view&id=1E8tR7B9YYUXsU_rddJAyq0FrM0MSelxZ\"></left>\n",
    "\n",
    "Display the **accuracy values**, **ROC curves**, the **AUC values** for each of the following models:\n",
    "\n",
    "- Train and test a neural network model using a single hidden layer of 8 neurons.\n",
    "- Train and test a neural network model using a single hidden layer of 16 neurons.\n",
    "- Train and test a neural network model using a single hidden layer of 32 neurons.\n",
    "- Train and test a neural network model using a single hidden layer of 64 neurons.\n",
    "- Train and test a neural network model using a single hidden layer of 128 neurons.\n",
    "- Train and test a neural network model using a single hidden layer of 256 neurons.\n",
    "\n",
    "Create a new Markdown cell summarizing what you saw.\n",
    "\n",
    "- Rank the performance of the models by simple measures first like accuracy and AUC."
   ]
  },
  {
   "cell_type": "code",
   "execution_count": 35,
   "metadata": {},
   "outputs": [],
   "source": [
    "# put your code here"
   ]
  },
  {
   "cell_type": "markdown",
   "metadata": {},
   "source": [
    "## Neural Network With Two Hidden Layers"
   ]
  },
  {
   "cell_type": "markdown",
   "metadata": {},
   "source": [
    "\n",
    "It looks like adding more neurons to the single hidden layer helped massively improved simple accuracy from approximately 88% to approximately 95%. Simple accuracy computes the number of correct classifications the model made, but doesn't tell us anything about false or true positives or false or true negatives.\n",
    "\n",
    "Given that k-nearest neighbors achieved approximately 96% accuracy, there doesn't seem to be any advantages to using a single hidden layer neural network for this problem.\n",
    "\n",
    "Let's try using two hidden layers and continue to increase the number of neurons in each layer.\n",
    "\n",
    "**Exercise Start**\n",
    "\n",
    "<left><img width=\"100\" alt=\"creating a repo\" src=\"https://drive.google.com/uc?export=view&id=1E8tR7B9YYUXsU_rddJAyq0FrM0MSelxZ\"></left>\n",
    "\n",
    "\n",
    "- Modify the neural network training pipeline to use 2 hidden layers instead in the network.\n",
    "- Train a neural network model using 2 hidden layers:\n",
    "    - 64 neurons in the first hidden layer.\n",
    "    - 64 neurons in the second hidden layer.\n",
    "- Train a neural network model using 2 hidden layers:\n",
    "    - 128 neurons in the first hidden layer.\n",
    "    - 128 neurons in the second hidden layer.\n",
    "- Train a neural network model using 2 hidden layers:\n",
    "    - 256 neurons in the first hidden layer.\n",
    "    - 256 neurons in the second hidden layer.\n",
    "- Create a new Markdown cell summarizing what you saw."
   ]
  },
  {
   "cell_type": "code",
   "execution_count": 45,
   "metadata": {},
   "outputs": [],
   "source": [
    "# put your code here"
   ]
  },
  {
   "cell_type": "markdown",
   "metadata": {},
   "source": [
    "## Neural Network With Two Hidden Layers"
   ]
  },
  {
   "cell_type": "markdown",
   "metadata": {},
   "source": [
    "Using two hidden layers instead of one definitely improved the classification accuracy. Using three layers will also improve classification accuracy, but you need to be very careful about overfitting. Let's increase the number of folds to 6 while testing 3 layer networks.\n",
    "\n",
    "**Exercise Start**\n",
    "\n",
    "<left><img width=\"100\" alt=\"creating a repo\" src=\"https://drive.google.com/uc?export=view&id=1E8tR7B9YYUXsU_rddJAyq0FrM0MSelxZ\"></left>\n",
    "\n",
    "- Modify the neural network training pipeline to use 6 fold cross validation instead.\n",
    "- Train a neural network model using 3 hidden layers:\n",
    "    - 10 neurons in the first hidden layer.\n",
    "    - 10 neurons in the second hidden layer.\n",
    "    - 10 neurons in the third hidden layer.\n",
    "- Train a neural network model using 3 hidden layers:\n",
    "    - 64 neurons in the first hidden layer.\n",
    "    - 64 neurons in the second hidden layer.\n",
    "    - 64 neurons in the third hidden layer.\n",
    "- Train a neural network model using 3 hidden layers:\n",
    "    - 128 neurons in the first hidden layer.\n",
    "    - 128 neurons in the second hidden layer.\n",
    "    - 128 neurons in the third hidden layer.\n",
    "- Create a new Markdown cell summarizing what you saw."
   ]
  },
  {
   "cell_type": "code",
   "execution_count": null,
   "metadata": {},
   "outputs": [],
   "source": [
    "# put your code here"
   ]
  },
  {
   "cell_type": "markdown",
   "metadata": {},
   "source": [
    "## Next Steps"
   ]
  },
  {
   "cell_type": "markdown",
   "metadata": {},
   "source": [
    "Here are some next steps to try:\n",
    "\n",
    "- Use the existing pipeline you've built to try other machine learning models:\n",
    "    - Decision Tree Models\n",
    "    - Random Forest Models\n",
    "- Write up a summary of the effectiveness of the different models you tried, with data to back up your conclusions."
   ]
  }
 ],
 "metadata": {
  "kernelspec": {
   "display_name": "Python 3",
   "language": "python",
   "name": "python3"
  },
  "language_info": {
   "codemirror_mode": {
    "name": "ipython",
    "version": 3
   },
   "file_extension": ".py",
   "mimetype": "text/x-python",
   "name": "python",
   "nbconvert_exporter": "python",
   "pygments_lexer": "ipython3",
   "version": "3.6.5"
  }
 },
 "nbformat": 4,
 "nbformat_minor": 2
}
